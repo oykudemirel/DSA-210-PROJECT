{
  "cells": [
    {
      "cell_type": "markdown",
      "metadata": {
        "id": "view-in-github",
        "colab_type": "text"
      },
      "source": [
        "<a href=\"https://colab.research.google.com/github/oykudemirel/DSA-210-PROJECT/blob/main/dsa210project_with_ml.ipynb\" target=\"_parent\"><img src=\"https://colab.research.google.com/assets/colab-badge.svg\" alt=\"Open In Colab\"/></a>"
      ]
    },
    {
      "cell_type": "code",
      "execution_count": 1,
      "metadata": {
        "colab": {
          "base_uri": "https://localhost:8080/"
        },
        "id": "lKuGr7sMd8Po",
        "outputId": "3ef67e94-873c-447d-f132-6d57685cff36"
      },
      "outputs": [
        {
          "output_type": "stream",
          "name": "stdout",
          "text": [
            "Processing year: 2016\n",
            "Processing year: 2017\n",
            "Processing year: 2018\n",
            "Processing year: 2019\n",
            "Processing year: 2020\n",
            "             Title  Release Year  Release Month Release Date\n",
            "0   The Accountant          2016             10   2016-10-13\n",
            "1         Zootopia          2016              2   2016-02-11\n",
            "2   Wild Awakening          2016             10   2016-10-23\n",
            "3  The Conjuring 2          2016              6   2016-06-08\n",
            "4    Hacksaw Ridge          2016             10   2016-10-07\n"
          ]
        }
      ],
      "source": [
        "#Get the tmdb list which has all the movies\n",
        "\n",
        "import requests\n",
        "import time\n",
        "import pandas as pd\n",
        "\n",
        "API_KEY = '823fecbf63a8e7692fe9329ead448aac'\n",
        "base_url = \"https://api.themoviedb.org/3/discover/movie\"\n",
        "\n",
        "all_movies = []\n",
        "\n",
        "for year in range(2016, 2021):\n",
        "    print(f\"Processing year: {year}\")\n",
        "    page = 1\n",
        "\n",
        "    while True:\n",
        "        params = {\n",
        "    \"api_key\": API_KEY,\n",
        "    \"primary_release_year\": year,\n",
        "    \"sort_by\": \"popularity.desc\",  # Sort results so we get the most relevant\n",
        "    \"vote_count.gte\": 10,          # Only include movies with at least 10 votes\n",
        "    \"page\": page\n",
        "}\n",
        "\n",
        "\n",
        "        response = requests.get(base_url, params=params)\n",
        "        data = response.json()\n",
        "\n",
        "        if 'results' not in data or len(data['results']) == 0:\n",
        "            print(\"No results, stopping...\")\n",
        "            break\n",
        "\n",
        "        for movie in data['results']:\n",
        "            title = movie.get('title', '')\n",
        "            release_date = movie.get('release_date', '')\n",
        "\n",
        "            if release_date:\n",
        "                year_part = int(release_date.split('-')[0])\n",
        "                month_part = int(release_date.split('-')[1])\n",
        "            else:\n",
        "                year_part = year\n",
        "                month_part = None\n",
        "\n",
        "            all_movies.append({\n",
        "                \"Title\": title,\n",
        "                \"Release Year\": year_part,\n",
        "                \"Release Month\": month_part,\n",
        "                \"Release Date\": release_date\n",
        "            })\n",
        "\n",
        "        if page >= data.get('total_pages', 1):\n",
        "            break\n",
        "        page += 1\n",
        "        time.sleep(0.3)\n",
        "\n",
        "\n",
        "df = pd.DataFrame(all_movies)\n",
        "df.to_csv(\"tmdb_movies_2016_2020.csv\", index=False)\n",
        "print(df.head())\n",
        "\n"
      ]
    },
    {
      "cell_type": "code",
      "execution_count": 2,
      "metadata": {
        "colab": {
          "base_uri": "https://localhost:8080/"
        },
        "id": "fQZ08GUfhXsH",
        "outputId": "d3e8ced6-7b28-45c2-e037-37f427a161d2"
      },
      "outputs": [
        {
          "output_type": "stream",
          "name": "stdout",
          "text": [
            "             Title  Release Year  Release Month      Release Season\n",
            "0   The Accountant          2016             10       Awards Season\n",
            "1         Zootopia          2016              2       Awards Season\n",
            "2   Wild Awakening          2016             10       Awards Season\n",
            "3  The Conjuring 2          2016              6  Summer Blockbuster\n",
            "4    Hacksaw Ridge          2016             10       Awards Season\n"
          ]
        }
      ],
      "source": [
        "# Categorize the seasons\n",
        "def categorize_season(month):\n",
        "    if month in [11, 12]:\n",
        "        return 'Holiday Season'\n",
        "    elif month in [1, 2, 9, 10]:\n",
        "        return 'Awards Season'\n",
        "    elif month in [6, 7, 8]:\n",
        "        return 'Summer Blockbuster'\n",
        "    elif month in [3, 4, 5]:\n",
        "        return 'Spring'\n",
        "    else:\n",
        "        return 'Other'  # For missing or weird months\n",
        "\n",
        "df['Release Season'] = df['Release Month'].apply(categorize_season)\n",
        "\n",
        "\n",
        "print(df[['Title', 'Release Year', 'Release Month', 'Release Season']].head())\n"
      ]
    },
    {
      "cell_type": "code",
      "execution_count": 3,
      "metadata": {
        "colab": {
          "base_uri": "https://localhost:8080/",
          "height": 672
        },
        "id": "cEG2OYYvhnh3",
        "outputId": "61abf277-ac6a-491a-aae4-366c2e593897"
      },
      "outputs": [
        {
          "output_type": "stream",
          "name": "stdout",
          "text": [
            "Release Season\n",
            "Awards Season         6091\n",
            "Spring                3676\n",
            "Summer Blockbuster    3455\n",
            "Holiday Season        2877\n",
            "Name: count, dtype: int64\n"
          ]
        },
        {
          "output_type": "display_data",
          "data": {
            "text/plain": [
              "<Figure size 640x480 with 1 Axes>"
            ],
            "image/png": "[encoded data removed]"
          },
          "metadata": {}
        }
      ],
      "source": [
        "# Movies per Release Season\n",
        "season_counts = df['Release Season'].value_counts()\n",
        "print(season_counts)\n",
        "\n",
        "\n",
        "import matplotlib.pyplot as plt\n",
        "\n",
        "season_counts.plot(kind='bar', color='skyblue')\n",
        "plt.title('Number of Movies per Release Season (2016-2020)')\n",
        "plt.ylabel('Number of Movies')\n",
        "plt.xlabel('Release Season')\n",
        "plt.xticks(rotation=45)\n",
        "plt.show()\n"
      ]
    },
    {
      "cell_type": "code",
      "execution_count": 4,
      "metadata": {
        "colab": {
          "base_uri": "https://localhost:8080/"
        },
        "id": "4gH8sWQehpch",
        "outputId": "c4e3278c-36c0-4e85-f191-bf8814a4b98b"
      },
      "outputs": [
        {
          "output_type": "stream",
          "name": "stdout",
          "text": [
            "Processing year: 2016\n",
            "Processing year: 2017\n",
            "Processing year: 2018\n",
            "Processing year: 2019\n",
            "Processing year: 2020\n",
            "   Year                 Release Group  Worldwide Gross\n",
            "0  2016    Captain America: Civil War       1153296293\n",
            "1  2016  Rogue One: A Star Wars Story       1056057273\n",
            "2  2016                  Finding Dory       1028570889\n",
            "3  2016                      Zootopia       1023784195\n",
            "4  2016               The Jungle Book        966550600\n"
          ]
        }
      ],
      "source": [
        "#Web scraped the website Box Office Mojo to get the box office numbers\n",
        "import requests\n",
        "from bs4 import BeautifulSoup\n",
        "import pandas as pd\n",
        "import time\n",
        "\n",
        "pd.set_option('display.float_format', '{:.0f}'.format)\n",
        "\n",
        "years = list(range(2016, 2021))\n",
        "\n",
        "base_url = \"https://www.boxofficemojo.com/year/world/{year}/\"\n",
        "\n",
        "\n",
        "all_data = []\n",
        "\n",
        "headers = {\n",
        "    \"User-Agent\": \"Mozilla/5.0 (Windows NT 10.0; Win64; x64)\"\n",
        "}\n",
        "\n",
        "for year in years:\n",
        "    print(f\"Processing year: {year}\")\n",
        "    url = base_url.format(year=year)\n",
        "    try:\n",
        "        response = requests.get(url, headers=headers)\n",
        "        response.raise_for_status()\n",
        "    except requests.exceptions.RequestException as e:\n",
        "        print(f\"Failed to retrieve data for {year}: {e}\")\n",
        "        continue\n",
        "\n",
        "    soup = BeautifulSoup(response.text, 'html.parser')\n",
        "\n",
        "    # Find the table containing the box office data\n",
        "    table = soup.find('table')\n",
        "    if not table:\n",
        "        print(f\"No table found for {year}\")\n",
        "        continue\n",
        "\n",
        "    # Extract table rows, skip header row,\n",
        "    rows = table.find_all('tr')[1:]\n",
        "\n",
        "    for row in rows:\n",
        "        cols = row.find_all('td')\n",
        "        if len(cols) < 3:\n",
        "            continue  # Skip rows that don't have enough columns\n",
        "        release_group = cols[1].get_text(strip=True)\n",
        "        worldwide_gross = cols[2].get_text(strip=True)\n",
        "        all_data.append({\n",
        "            'Year': year,\n",
        "            'Release Group': release_group,\n",
        "            'Worldwide Gross': worldwide_gross\n",
        "        })\n",
        "\n",
        "\n",
        "    time.sleep(1)\n",
        "\n",
        "\n",
        "df_box_office = pd.DataFrame(all_data)\n",
        "\n",
        "\n",
        "\n",
        "# Remove dollar signs and commas and convert to numeric\n",
        "df_box_office['Worldwide Gross'] = df_box_office['Worldwide Gross'].replace('[\\$,]', '', regex=True).astype(float)\n",
        "\n",
        "\n",
        "print(df_box_office.head())\n"
      ]
    },
    {
      "cell_type": "code",
      "execution_count": 5,
      "metadata": {
        "colab": {
          "base_uri": "https://localhost:8080/"
        },
        "id": "K5vGLhlcmuoY",
        "outputId": "78fd1b66-eb8a-4cd4-8d1e-699b58dc5c5a"
      },
      "outputs": [
        {
          "output_type": "stream",
          "name": "stdout",
          "text": [
            "             Title  Release Year  Release Month      Release Season  \\\n",
            "0   The Accountant          2016             10       Awards Season   \n",
            "1         Zootopia          2016              2       Awards Season   \n",
            "2   Wild Awakening          2016             10       Awards Season   \n",
            "3  The Conjuring 2          2016              6  Summer Blockbuster   \n",
            "4    Hacksaw Ridge          2016             10       Awards Season   \n",
            "\n",
            "   Worldwide Gross  \n",
            "0        155560045  \n",
            "1       1023784195  \n",
            "2              NaN  \n",
            "3        321370008  \n",
            "4        180563636  \n"
          ]
        }
      ],
      "source": [
        "#Normalize titles\n",
        "def normalize_title(title):\n",
        "    if pd.isnull(title):\n",
        "        return \"\"\n",
        "    return title.lower().strip()\n",
        "\n",
        "\n",
        "df['normalized_title'] = df['Title'].apply(normalize_title)\n",
        "df_box_office['normalized_title'] = df_box_office['Release Group'].apply(normalize_title)\n",
        "\n",
        "#Merge on normalized titles and year\n",
        "merged_df = pd.merge(\n",
        "    df,\n",
        "    df_box_office,\n",
        "    left_on=['normalized_title', 'Release Year'],\n",
        "    right_on=['normalized_title', 'Year'],\n",
        "    how='left'\n",
        ")\n",
        "\n",
        "#Fix the _x and _y\n",
        "def clean_merge_columns(df, prefer='_x'):\n",
        "\n",
        "    for col in df.columns:\n",
        "        if col.endswith(prefer):\n",
        "            base = col[:-2]  # remove _x or _y\n",
        "            other = base + ('_y' if prefer == '_x' else '_x')\n",
        "            if other in df.columns:\n",
        "                df = df.drop(columns=[other])\n",
        "            df = df.rename(columns={col: base})\n",
        "    return df\n",
        "\n",
        "merged_df = clean_merge_columns(merged_df)\n",
        "\n",
        "merged_df.drop(columns=['normalized_title', 'Year'], errors='ignore', inplace=True)\n",
        "\n",
        "print(merged_df[['Title', 'Release Year', 'Release Month', 'Release Season', 'Worldwide Gross']].head())\n"
      ]
    },
    {
      "cell_type": "code",
      "execution_count": 6,
      "metadata": {
        "colab": {
          "base_uri": "https://localhost:8080/",
          "height": 86
        },
        "id": "Hu4vE2FwnLfS",
        "outputId": "c4a5da80-c6d5-408f-dadc-a041964c37f3"
      },
      "outputs": [
        {
          "output_type": "display_data",
          "data": {
            "text/plain": [
              "<IPython.core.display.HTML object>"
            ],
            "text/html": [
              "\n",
              "     <input type=\"file\" id=\"files-4883e7f5-5b52-4cd3-b200-12594b16d12e\" name=\"files[]\" multiple disabled\n",
              "        style=\"border:none\" />\n",
              "     <output id=\"result-4883e7f5-5b52-4cd3-b200-12594b16d12e\">\n",
              "      Upload widget is only available when the cell has been executed in the\n",
              "      current browser session. Please rerun this cell to enable.\n",
              "      </output>\n",
              "      <script>// Copyright 2017 Google LLC\n",
              "//\n",
              "// Licensed under the Apache License, Version 2.0 (the \"License\");\n",
              "// you may not use this file except in compliance with the License.\n",
              "// You may obtain a copy of the License at\n",
              "//\n",
              "//      http://www.apache.org/licenses/LICENSE-2.0\n",
              "//\n",
              "// Unless required by applicable law or agreed to in writing, software\n",
              "// distributed under the License is distributed on an \"AS IS\" BASIS,\n",
              "// WITHOUT WARRANTIES OR CONDITIONS OF ANY KIND, either express or implied.\n",
              "// See the License for the specific language governing permissions and\n",
              "// limitations under the License.\n",
              "\n",
              "/**\n",
              " * @fileoverview Helpers for google.colab Python module.\n",
              " */\n",
              "(function(scope) {\n",
              "function span(text, styleAttributes = {}) {\n",
              "  const element = document.createElement('span');\n",
              "  element.textContent = text;\n",
              "  for (const key of Object.keys(styleAttributes)) {\n",
              "    element.style[key] = styleAttributes[key];\n",
              "  }\n",
              "  return element;\n",
              "}\n",
              "\n",
              "// Max number of bytes which will be uploaded at a time.\n",
              "const MAX_PAYLOAD_SIZE = 100 * 1024;\n",
              "\n",
              "function _uploadFiles(inputId, outputId) {\n",
              "  const steps = uploadFilesStep(inputId, outputId);\n",
              "  const outputElement = document.getElementById(outputId);\n",
              "  // Cache steps on the outputElement to make it available for the next call\n",
              "  // to uploadFilesContinue from Python.\n",
              "  outputElement.steps = steps;\n",
              "\n",
              "  return _uploadFilesContinue(outputId);\n",
              "}\n",
              "\n",
              "// This is roughly an async generator (not supported in the browser yet),\n",
              "// where there are multiple asynchronous steps and the Python side is going\n",
              "// to poll for completion of each step.\n",
              "// This uses a Promise to block the python side on completion of each step,\n",
              "// then passes the result of the previous step as the input to the next step.\n",
              "function _uploadFilesContinue(outputId) {\n",
              "  const outputElement = document.getElementById(outputId);\n",
              "  const steps = outputElement.steps;\n",
              "\n",
              "  const next = steps.next(outputElement.lastPromiseValue);\n",
              "  return Promise.resolve(next.value.promise).then((value) => {\n",
              "    // Cache the last promise value to make it available to the next\n",
              "    // step of the generator.\n",
              "    outputElement.lastPromiseValue = value;\n",
              "    return next.value.response;\n",
              "  });\n",
              "}\n",
              "\n",
              "/**\n",
              " * Generator function which is called between each async step of the upload\n",
              " * process.\n",
              " * @param {string} inputId Element ID of the input file picker element.\n",
              " * @param {string} outputId Element ID of the output display.\n",
              " * @return {!Iterable<!Object>} Iterable of next steps.\n",
              " */\n",
              "function* uploadFilesStep(inputId, outputId) {\n",
              "  const inputElement = document.getElementById(inputId);\n",
              "  inputElement.disabled = false;\n",
              "\n",
              "  const outputElement = document.getElementById(outputId);\n",
              "  outputElement.innerHTML = '';\n",
              "\n",
              "  const pickedPromise = new Promise((resolve) => {\n",
              "    inputElement.addEventListener('change', (e) => {\n",
              "      resolve(e.target.files);\n",
              "    });\n",
              "  });\n",
              "\n",
              "  const cancel = document.createElement('button');\n",
              "  inputElement.parentElement.appendChild(cancel);\n",
              "  cancel.textContent = 'Cancel upload';\n",
              "  const cancelPromise = new Promise((resolve) => {\n",
              "    cancel.onclick = () => {\n",
              "      resolve(null);\n",
              "    };\n",
              "  });\n",
              "\n",
              "  // Wait for the user to pick the files.\n",
              "  const files = yield {\n",
              "    promise: Promise.race([pickedPromise, cancelPromise]),\n",
              "    response: {\n",
              "      action: 'starting',\n",
              "    }\n",
              "  };\n",
              "\n",
              "  cancel.remove();\n",
              "\n",
              "  // Disable the input element since further picks are not allowed.\n",
              "  inputElement.disabled = true;\n",
              "\n",
              "  if (!files) {\n",
              "    return {\n",
              "      response: {\n",
              "        action: 'complete',\n",
              "      }\n",
              "    };\n",
              "  }\n",
              "\n",
              "  for (const file of files) {\n",
              "    const li = document.createElement('li');\n",
              "    li.append(span(file.name, {fontWeight: 'bold'}));\n",
              "    li.append(span(\n",
              "        `(${file.type || 'n/a'}) - ${file.size} bytes, ` +\n",
              "        `last modified: ${\n",
              "            file.lastModifiedDate ? file.lastModifiedDate.toLocaleDateString() :\n",
              "                                    'n/a'} - `));\n",
              "    const percent = span('0% done');\n",
              "    li.appendChild(percent);\n",
              "\n",
              "    outputElement.appendChild(li);\n",
              "\n",
              "    const fileDataPromise = new Promise((resolve) => {\n",
              "      const reader = new FileReader();\n",
              "      reader.onload = (e) => {\n",
              "        resolve(e.target.result);\n",
              "      };\n",
              "      reader.readAsArrayBuffer(file);\n",
              "    });\n",
              "    // Wait for the data to be ready.\n",
              "    let fileData = yield {\n",
              "      promise: fileDataPromise,\n",
              "      response: {\n",
              "        action: 'continue',\n",
              "      }\n",
              "    };\n",
              "\n",
              "    // Use a chunked sending to avoid message size limits. See b/62115660.\n",
              "    let position = 0;\n",
              "    do {\n",
              "      const length = Math.min(fileData.byteLength - position, MAX_PAYLOAD_SIZE);\n",
              "      const chunk = new Uint8Array(fileData, position, length);\n",
              "      position += length;\n",
              "\n",
              "      const base64 = btoa(String.fromCharCode.apply(null, chunk));\n",
              "      yield {\n",
              "        response: {\n",
              "          action: 'append',\n",
              "          file: file.name,\n",
              "          data: base64,\n",
              "        },\n",
              "      };\n",
              "\n",
              "      let percentDone = fileData.byteLength === 0 ?\n",
              "          100 :\n",
              "          Math.round((position / fileData.byteLength) * 100);\n",
              "      percent.textContent = `${percentDone}% done`;\n",
              "\n",
              "    } while (position < fileData.byteLength);\n",
              "  }\n",
              "\n",
              "  // All done.\n",
              "  yield {\n",
              "    response: {\n",
              "      action: 'complete',\n",
              "    }\n",
              "  };\n",
              "}\n",
              "\n",
              "scope.google = scope.google || {};\n",
              "scope.google.colab = scope.google.colab || {};\n",
              "scope.google.colab._files = {\n",
              "  _uploadFiles,\n",
              "  _uploadFilesContinue,\n",
              "};\n",
              "})(self);\n",
              "</script> "
            ]
          },
          "metadata": {}
        },
        {
          "output_type": "stream",
          "name": "stdout",
          "text": [
            "Saving kaggle.json to kaggle.json\n"
          ]
        },
        {
          "output_type": "execute_result",
          "data": {
            "text/plain": [
              "{'kaggle.json': b'{\"username\":\"oykudemirell\",\"key\":\"b41ccc22de14a9a86f326e961286b890\"}'}"
            ]
          },
          "metadata": {},
          "execution_count": 6
        }
      ],
      "source": [
        "! pip install -q kaggle\n",
        "from google.colab import files\n",
        "files.upload()"
      ]
    },
    {
      "cell_type": "code",
      "execution_count": 7,
      "metadata": {
        "id": "nDO4ufb0om78"
      },
      "outputs": [],
      "source": [
        "!mkdir -p ~/.kaggle\n",
        "!cp kaggle.json ~/.kaggle/\n",
        "!chmod 600 ~/.kaggle/kaggle.json\n"
      ]
    },
    {
      "cell_type": "code",
      "execution_count": 8,
      "metadata": {
        "colab": {
          "base_uri": "https://localhost:8080/"
        },
        "id": "gH5mEOJNooCb",
        "outputId": "ef7188ee-ac50-44ee-f543-6740b813c698"
      },
      "outputs": [
        {
          "output_type": "stream",
          "name": "stdout",
          "text": [
            "Dataset URL: https://www.kaggle.com/datasets/unanimad/bafta-awards\n",
            "License(s): CC0-1.0\n",
            "Downloading bafta-awards.zip to /content\n",
            "  0% 0.00/74.5k [00:00<?, ?B/s]\n",
            "100% 74.5k/74.5k [00:00<00:00, 194MB/s]\n",
            "Archive:  bafta-awards.zip\n",
            "  inflating: bafta_films.csv         \n",
            "bafta-awards.zip  kaggle.json  tmdb_movies_2016_2020.csv\n",
            "bafta_films.csv   sample_data\n"
          ]
        }
      ],
      "source": [
        "!kaggle datasets download -d unanimad/bafta-awards\n",
        "\n",
        "!unzip -o bafta-awards.zip\n",
        "!ls"
      ]
    },
    {
      "cell_type": "code",
      "execution_count": 9,
      "metadata": {
        "colab": {
          "base_uri": "https://localhost:8080/",
          "height": 204
        },
        "id": "wv1ty4Tdoq50",
        "outputId": "e4e0d249-4d08-47e1-aff3-1f9703d12e72"
      },
      "outputs": [
        {
          "output_type": "execute_result",
          "data": {
            "text/plain": [
              "      year        nominee  winner\n",
              "3575  2016  The Big Short    True\n",
              "3576  2016       Brooklyn   False\n",
              "3577  2016          Carol   False\n",
              "3578  2016           Room   False\n",
              "3579  2016     Steve Jobs   False"
            ],
            "text/html": [
              "\n",
              "  <div id=\"df-841268a2-9c92-4cb9-b9d0-7f3d3360dee3\" class=\"colab-df-container\">\n",
              "    <div>\n",
              "<style scoped>\n",
              "    .dataframe tbody tr th:only-of-type {\n",
              "        vertical-align: middle;\n",
              "    }\n",
              "\n",
              "    .dataframe tbody tr th {\n",
              "        vertical-align: top;\n",
              "    }\n",
              "\n",
              "    .dataframe thead th {\n",
              "        text-align: right;\n",
              "    }\n",
              "</style>\n",
              "<table border=\"1\" class=\"dataframe\">\n",
              "  <thead>\n",
              "    <tr style=\"text-align: right;\">\n",
              "      <th></th>\n",
              "      <th>year</th>\n",
              "      <th>nominee</th>\n",
              "      <th>winner</th>\n",
              "    </tr>\n",
              "  </thead>\n",
              "  <tbody>\n",
              "    <tr>\n",
              "      <th>3575</th>\n",
              "      <td>2016</td>\n",
              "      <td>The Big Short</td>\n",
              "      <td>True</td>\n",
              "    </tr>\n",
              "    <tr>\n",
              "      <th>3576</th>\n",
              "      <td>2016</td>\n",
              "      <td>Brooklyn</td>\n",
              "      <td>False</td>\n",
              "    </tr>\n",
              "    <tr>\n",
              "      <th>3577</th>\n",
              "      <td>2016</td>\n",
              "      <td>Carol</td>\n",
              "      <td>False</td>\n",
              "    </tr>\n",
              "    <tr>\n",
              "      <th>3578</th>\n",
              "      <td>2016</td>\n",
              "      <td>Room</td>\n",
              "      <td>False</td>\n",
              "    </tr>\n",
              "    <tr>\n",
              "      <th>3579</th>\n",
              "      <td>2016</td>\n",
              "      <td>Steve Jobs</td>\n",
              "      <td>False</td>\n",
              "    </tr>\n",
              "  </tbody>\n",
              "</table>\n",
              "</div>\n",
              "    <div class=\"colab-df-buttons\">\n",
              "\n",
              "  <div class=\"colab-df-container\">\n",
              "    <button class=\"colab-df-convert\" onclick=\"convertToInteractive('df-841268a2-9c92-4cb9-b9d0-7f3d3360dee3')\"\n",
              "            title=\"Convert this dataframe to an interactive table.\"\n",
              "            style=\"display:none;\">\n",
              "\n",
              "  <svg xmlns=\"http://www.w3.org/2000/svg\" height=\"24px\" viewBox=\"0 -960 960 960\">\n",
              "    <path d=\"M120-120v-720h720v720H120Zm60-500h600v-160H180v160Zm220 220h160v-160H400v160Zm0 220h160v-160H400v160ZM180-400h160v-160H180v160Zm440 0h160v-160H620v160ZM180-180h160v-160H180v160Zm440 0h160v-160H620v160Z\"/>\n",
              "  </svg>\n",
              "    </button>\n",
              "\n",
              "  <style>\n",
              "    .colab-df-container {\n",
              "      display:flex;\n",
              "      gap: 12px;\n",
              "    }\n",
              "\n",
              "    .colab-df-convert {\n",
              "      background-color: #E8F0FE;\n",
              "      border: none;\n",
              "      border-radius: 50%;\n",
              "      cursor: pointer;\n",
              "      display: none;\n",
              "      fill: #1967D2;\n",
              "      height: 32px;\n",
              "      padding: 0 0 0 0;\n",
              "      width: 32px;\n",
              "    }\n",
              "\n",
              "    .colab-df-convert:hover {\n",
              "      background-color: #E2EBFA;\n",
              "      box-shadow: 0px 1px 2px rgba(60, 64, 67, 0.3), 0px 1px 3px 1px rgba(60, 64, 67, 0.15);\n",
              "      fill: #174EA6;\n",
              "    }\n",
              "\n",
              "    .colab-df-buttons div {\n",
              "      margin-bottom: 4px;\n",
              "    }\n",
              "\n",
              "    [theme=dark] .colab-df-convert {\n",
              "      background-color: #3B4455;\n",
              "      fill: #D2E3FC;\n",
              "    }\n",
              "\n",
              "    [theme=dark] .colab-df-convert:hover {\n",
              "      background-color: #434B5C;\n",
              "      box-shadow: 0px 1px 3px 1px rgba(0, 0, 0, 0.15);\n",
              "      filter: drop-shadow(0px 1px 2px rgba(0, 0, 0, 0.3));\n",
              "      fill: #FFFFFF;\n",
              "    }\n",
              "  </style>\n",
              "\n",
              "    <script>\n",
              "      const buttonEl =\n",
              "        document.querySelector('#df-841268a2-9c92-4cb9-b9d0-7f3d3360dee3 button.colab-df-convert');\n",
              "      buttonEl.style.display =\n",
              "        google.colab.kernel.accessAllowed ? 'block' : 'none';\n",
              "\n",
              "      async function convertToInteractive(key) {\n",
              "        const element = document.querySelector('#df-841268a2-9c92-4cb9-b9d0-7f3d3360dee3');\n",
              "        const dataTable =\n",
              "          await google.colab.kernel.invokeFunction('convertToInteractive',\n",
              "                                                    [key], {});\n",
              "        if (!dataTable) return;\n",
              "\n",
              "        const docLinkHtml = 'Like what you see? Visit the ' +\n",
              "          '<a target=\"_blank\" href=https://colab.research.google.com/notebooks/data_table.ipynb>data table notebook</a>'\n",
              "          + ' to learn more about interactive tables.';\n",
              "        element.innerHTML = '';\n",
              "        dataTable['output_type'] = 'display_data';\n",
              "        await google.colab.output.renderOutput(dataTable, element);\n",
              "        const docLink = document.createElement('div');\n",
              "        docLink.innerHTML = docLinkHtml;\n",
              "        element.appendChild(docLink);\n",
              "      }\n",
              "    </script>\n",
              "  </div>\n",
              "\n",
              "\n",
              "    <div id=\"df-2a32bb4c-e0df-4861-8a6f-fa099fb6a16a\">\n",
              "      <button class=\"colab-df-quickchart\" onclick=\"quickchart('df-2a32bb4c-e0df-4861-8a6f-fa099fb6a16a')\"\n",
              "                title=\"Suggest charts\"\n",
              "                style=\"display:none;\">\n",
              "\n",
              "<svg xmlns=\"http://www.w3.org/2000/svg\" height=\"24px\"viewBox=\"0 0 24 24\"\n",
              "     width=\"24px\">\n",
              "    <g>\n",
              "        <path d=\"M19 3H5c-1.1 0-2 .9-2 2v14c0 1.1.9 2 2 2h14c1.1 0 2-.9 2-2V5c0-1.1-.9-2-2-2zM9 17H7v-7h2v7zm4 0h-2V7h2v10zm4 0h-2v-4h2v4z\"/>\n",
              "    </g>\n",
              "</svg>\n",
              "      </button>\n",
              "\n",
              "<style>\n",
              "  .colab-df-quickchart {\n",
              "      --bg-color: #E8F0FE;\n",
              "      --fill-color: #1967D2;\n",
              "      --hover-bg-color: #E2EBFA;\n",
              "      --hover-fill-color: #174EA6;\n",
              "      --disabled-fill-color: #AAA;\n",
              "      --disabled-bg-color: #DDD;\n",
              "  }\n",
              "\n",
              "  [theme=dark] .colab-df-quickchart {\n",
              "      --bg-color: #3B4455;\n",
              "      --fill-color: #D2E3FC;\n",
              "      --hover-bg-color: #434B5C;\n",
              "      --hover-fill-color: #FFFFFF;\n",
              "      --disabled-bg-color: #3B4455;\n",
              "      --disabled-fill-color: #666;\n",
              "  }\n",
              "\n",
              "  .colab-df-quickchart {\n",
              "    background-color: var(--bg-color);\n",
              "    border: none;\n",
              "    border-radius: 50%;\n",
              "    cursor: pointer;\n",
              "    display: none;\n",
              "    fill: var(--fill-color);\n",
              "    height: 32px;\n",
              "    padding: 0;\n",
              "    width: 32px;\n",
              "  }\n",
              "\n",
              "  .colab-df-quickchart:hover {\n",
              "    background-color: var(--hover-bg-color);\n",
              "    box-shadow: 0 1px 2px rgba(60, 64, 67, 0.3), 0 1px 3px 1px rgba(60, 64, 67, 0.15);\n",
              "    fill: var(--button-hover-fill-color);\n",
              "  }\n",
              "\n",
              "  .colab-df-quickchart-complete:disabled,\n",
              "  .colab-df-quickchart-complete:disabled:hover {\n",
              "    background-color: var(--disabled-bg-color);\n",
              "    fill: var(--disabled-fill-color);\n",
              "    box-shadow: none;\n",
              "  }\n",
              "\n",
              "  .colab-df-spinner {\n",
              "    border: 2px solid var(--fill-color);\n",
              "    border-color: transparent;\n",
              "    border-bottom-color: var(--fill-color);\n",
              "    animation:\n",
              "      spin 1s steps(1) infinite;\n",
              "  }\n",
              "\n",
              "  @keyframes spin {\n",
              "    0% {\n",
              "      border-color: transparent;\n",
              "      border-bottom-color: var(--fill-color);\n",
              "      border-left-color: var(--fill-color);\n",
              "    }\n",
              "    20% {\n",
              "      border-color: transparent;\n",
              "      border-left-color: var(--fill-color);\n",
              "      border-top-color: var(--fill-color);\n",
              "    }\n",
              "    30% {\n",
              "      border-color: transparent;\n",
              "      border-left-color: var(--fill-color);\n",
              "      border-top-color: var(--fill-color);\n",
              "      border-right-color: var(--fill-color);\n",
              "    }\n",
              "    40% {\n",
              "      border-color: transparent;\n",
              "      border-right-color: var(--fill-color);\n",
              "      border-top-color: var(--fill-color);\n",
              "    }\n",
              "    60% {\n",
              "      border-color: transparent;\n",
              "      border-right-color: var(--fill-color);\n",
              "    }\n",
              "    80% {\n",
              "      border-color: transparent;\n",
              "      border-right-color: var(--fill-color);\n",
              "      border-bottom-color: var(--fill-color);\n",
              "    }\n",
              "    90% {\n",
              "      border-color: transparent;\n",
              "      border-bottom-color: var(--fill-color);\n",
              "    }\n",
              "  }\n",
              "</style>\n",
              "\n",
              "      <script>\n",
              "        async function quickchart(key) {\n",
              "          const quickchartButtonEl =\n",
              "            document.querySelector('#' + key + ' button');\n",
              "          quickchartButtonEl.disabled = true;  // To prevent multiple clicks.\n",
              "          quickchartButtonEl.classList.add('colab-df-spinner');\n",
              "          try {\n",
              "            const charts = await google.colab.kernel.invokeFunction(\n",
              "                'suggestCharts', [key], {});\n",
              "          } catch (error) {\n",
              "            console.error('Error during call to suggestCharts:', error);\n",
              "          }\n",
              "          quickchartButtonEl.classList.remove('colab-df-spinner');\n",
              "          quickchartButtonEl.classList.add('colab-df-quickchart-complete');\n",
              "        }\n",
              "        (() => {\n",
              "          let quickchartButtonEl =\n",
              "            document.querySelector('#df-2a32bb4c-e0df-4861-8a6f-fa099fb6a16a button');\n",
              "          quickchartButtonEl.style.display =\n",
              "            google.colab.kernel.accessAllowed ? 'block' : 'none';\n",
              "        })();\n",
              "      </script>\n",
              "    </div>\n",
              "\n",
              "    </div>\n",
              "  </div>\n"
            ],
            "application/vnd.google.colaboratory.intrinsic+json": {
              "type": "dataframe",
              "variable_name": "df_b",
              "summary": "{\n  \"name\": \"df_b\",\n  \"rows\": 601,\n  \"fields\": [\n    {\n      \"column\": \"year\",\n      \"properties\": {\n        \"dtype\": \"number\",\n        \"std\": 1,\n        \"min\": 2016,\n        \"max\": 2020,\n        \"num_unique_values\": 5,\n        \"samples\": [\n          2017,\n          2020,\n          2018\n        ],\n        \"semantic_type\": \"\",\n        \"description\": \"\"\n      }\n    },\n    {\n      \"column\": \"nominee\",\n      \"properties\": {\n        \"dtype\": \"string\",\n        \"num_unique_values\": 352,\n        \"samples\": [\n          \"First Man\",\n          \"I, Daniel Blake\",\n          \"Star Wars: The Force Awakens\"\n        ],\n        \"semantic_type\": \"\",\n        \"description\": \"\"\n      }\n    },\n    {\n      \"column\": \"winner\",\n      \"properties\": {\n        \"dtype\": \"boolean\",\n        \"num_unique_values\": 2,\n        \"samples\": [\n          false,\n          true\n        ],\n        \"semantic_type\": \"\",\n        \"description\": \"\"\n      }\n    }\n  ]\n}"
            }
          },
          "metadata": {},
          "execution_count": 9
        }
      ],
      "source": [
        "#BAFTA Awards\n",
        "import pandas as pd\n",
        "\n",
        "df_b = pd.read_csv('bafta_films.csv')\n",
        "\n",
        "\n",
        "df_b['year'] = pd.to_numeric(df_b['year'], errors='coerce')\n",
        "\n",
        "df_b = df_b[(df_b['year'] >= 2016) & (df_b['year'] <= 2020)]\n",
        "\n",
        "#Drop unnecessary columns\n",
        "df_b = df_b.drop(columns=['category', 'workers'])\n",
        "\n",
        "df_b.head()\n"
      ]
    },
    {
      "cell_type": "code",
      "execution_count": 10,
      "metadata": {
        "colab": {
          "base_uri": "https://localhost:8080/",
          "height": 86
        },
        "id": "tlblZYuxrQRq",
        "outputId": "5a98398b-82e9-4855-9f33-67a53c65ae00"
      },
      "outputs": [
        {
          "output_type": "display_data",
          "data": {
            "text/plain": [
              "<IPython.core.display.HTML object>"
            ],
            "text/html": [
              "\n",
              "     <input type=\"file\" id=\"files-6ff05f4b-ec61-480e-bb19-ca8c14ae36c5\" name=\"files[]\" multiple disabled\n",
              "        style=\"border:none\" />\n",
              "     <output id=\"result-6ff05f4b-ec61-480e-bb19-ca8c14ae36c5\">\n",
              "      Upload widget is only available when the cell has been executed in the\n",
              "      current browser session. Please rerun this cell to enable.\n",
              "      </output>\n",
              "      <script>// Copyright 2017 Google LLC\n",
              "//\n",
              "// Licensed under the Apache License, Version 2.0 (the \"License\");\n",
              "// you may not use this file except in compliance with the License.\n",
              "// You may obtain a copy of the License at\n",
              "//\n",
              "//      http://www.apache.org/licenses/LICENSE-2.0\n",
              "//\n",
              "// Unless required by applicable law or agreed to in writing, software\n",
              "// distributed under the License is distributed on an \"AS IS\" BASIS,\n",
              "// WITHOUT WARRANTIES OR CONDITIONS OF ANY KIND, either express or implied.\n",
              "// See the License for the specific language governing permissions and\n",
              "// limitations under the License.\n",
              "\n",
              "/**\n",
              " * @fileoverview Helpers for google.colab Python module.\n",
              " */\n",
              "(function(scope) {\n",
              "function span(text, styleAttributes = {}) {\n",
              "  const element = document.createElement('span');\n",
              "  element.textContent = text;\n",
              "  for (const key of Object.keys(styleAttributes)) {\n",
              "    element.style[key] = styleAttributes[key];\n",
              "  }\n",
              "  return element;\n",
              "}\n",
              "\n",
              "// Max number of bytes which will be uploaded at a time.\n",
              "const MAX_PAYLOAD_SIZE = 100 * 1024;\n",
              "\n",
              "function _uploadFiles(inputId, outputId) {\n",
              "  const steps = uploadFilesStep(inputId, outputId);\n",
              "  const outputElement = document.getElementById(outputId);\n",
              "  // Cache steps on the outputElement to make it available for the next call\n",
              "  // to uploadFilesContinue from Python.\n",
              "  outputElement.steps = steps;\n",
              "\n",
              "  return _uploadFilesContinue(outputId);\n",
              "}\n",
              "\n",
              "// This is roughly an async generator (not supported in the browser yet),\n",
              "// where there are multiple asynchronous steps and the Python side is going\n",
              "// to poll for completion of each step.\n",
              "// This uses a Promise to block the python side on completion of each step,\n",
              "// then passes the result of the previous step as the input to the next step.\n",
              "function _uploadFilesContinue(outputId) {\n",
              "  const outputElement = document.getElementById(outputId);\n",
              "  const steps = outputElement.steps;\n",
              "\n",
              "  const next = steps.next(outputElement.lastPromiseValue);\n",
              "  return Promise.resolve(next.value.promise).then((value) => {\n",
              "    // Cache the last promise value to make it available to the next\n",
              "    // step of the generator.\n",
              "    outputElement.lastPromiseValue = value;\n",
              "    return next.value.response;\n",
              "  });\n",
              "}\n",
              "\n",
              "/**\n",
              " * Generator function which is called between each async step of the upload\n",
              " * process.\n",
              " * @param {string} inputId Element ID of the input file picker element.\n",
              " * @param {string} outputId Element ID of the output display.\n",
              " * @return {!Iterable<!Object>} Iterable of next steps.\n",
              " */\n",
              "function* uploadFilesStep(inputId, outputId) {\n",
              "  const inputElement = document.getElementById(inputId);\n",
              "  inputElement.disabled = false;\n",
              "\n",
              "  const outputElement = document.getElementById(outputId);\n",
              "  outputElement.innerHTML = '';\n",
              "\n",
              "  const pickedPromise = new Promise((resolve) => {\n",
              "    inputElement.addEventListener('change', (e) => {\n",
              "      resolve(e.target.files);\n",
              "    });\n",
              "  });\n",
              "\n",
              "  const cancel = document.createElement('button');\n",
              "  inputElement.parentElement.appendChild(cancel);\n",
              "  cancel.textContent = 'Cancel upload';\n",
              "  const cancelPromise = new Promise((resolve) => {\n",
              "    cancel.onclick = () => {\n",
              "      resolve(null);\n",
              "    };\n",
              "  });\n",
              "\n",
              "  // Wait for the user to pick the files.\n",
              "  const files = yield {\n",
              "    promise: Promise.race([pickedPromise, cancelPromise]),\n",
              "    response: {\n",
              "      action: 'starting',\n",
              "    }\n",
              "  };\n",
              "\n",
              "  cancel.remove();\n",
              "\n",
              "  // Disable the input element since further picks are not allowed.\n",
              "  inputElement.disabled = true;\n",
              "\n",
              "  if (!files) {\n",
              "    return {\n",
              "      response: {\n",
              "        action: 'complete',\n",
              "      }\n",
              "    };\n",
              "  }\n",
              "\n",
              "  for (const file of files) {\n",
              "    const li = document.createElement('li');\n",
              "    li.append(span(file.name, {fontWeight: 'bold'}));\n",
              "    li.append(span(\n",
              "        `(${file.type || 'n/a'}) - ${file.size} bytes, ` +\n",
              "        `last modified: ${\n",
              "            file.lastModifiedDate ? file.lastModifiedDate.toLocaleDateString() :\n",
              "                                    'n/a'} - `));\n",
              "    const percent = span('0% done');\n",
              "    li.appendChild(percent);\n",
              "\n",
              "    outputElement.appendChild(li);\n",
              "\n",
              "    const fileDataPromise = new Promise((resolve) => {\n",
              "      const reader = new FileReader();\n",
              "      reader.onload = (e) => {\n",
              "        resolve(e.target.result);\n",
              "      };\n",
              "      reader.readAsArrayBuffer(file);\n",
              "    });\n",
              "    // Wait for the data to be ready.\n",
              "    let fileData = yield {\n",
              "      promise: fileDataPromise,\n",
              "      response: {\n",
              "        action: 'continue',\n",
              "      }\n",
              "    };\n",
              "\n",
              "    // Use a chunked sending to avoid message size limits. See b/62115660.\n",
              "    let position = 0;\n",
              "    do {\n",
              "      const length = Math.min(fileData.byteLength - position, MAX_PAYLOAD_SIZE);\n",
              "      const chunk = new Uint8Array(fileData, position, length);\n",
              "      position += length;\n",
              "\n",
              "      const base64 = btoa(String.fromCharCode.apply(null, chunk));\n",
              "      yield {\n",
              "        response: {\n",
              "          action: 'append',\n",
              "          file: file.name,\n",
              "          data: base64,\n",
              "        },\n",
              "      };\n",
              "\n",
              "      let percentDone = fileData.byteLength === 0 ?\n",
              "          100 :\n",
              "          Math.round((position / fileData.byteLength) * 100);\n",
              "      percent.textContent = `${percentDone}% done`;\n",
              "\n",
              "    } while (position < fileData.byteLength);\n",
              "  }\n",
              "\n",
              "  // All done.\n",
              "  yield {\n",
              "    response: {\n",
              "      action: 'complete',\n",
              "    }\n",
              "  };\n",
              "}\n",
              "\n",
              "scope.google = scope.google || {};\n",
              "scope.google.colab = scope.google.colab || {};\n",
              "scope.google.colab._files = {\n",
              "  _uploadFiles,\n",
              "  _uploadFilesContinue,\n",
              "};\n",
              "})(self);\n",
              "</script> "
            ]
          },
          "metadata": {}
        },
        {
          "output_type": "stream",
          "name": "stdout",
          "text": [
            "Saving kaggle (1).json to kaggle (1).json\n"
          ]
        },
        {
          "output_type": "execute_result",
          "data": {
            "text/plain": [
              "{'kaggle (1).json': b'{\"username\":\"oykudemirell\",\"key\":\"ebf90736d0540d12a0d387475a61f434\"}'}"
            ]
          },
          "metadata": {},
          "execution_count": 10
        }
      ],
      "source": [
        "from google.colab import files\n",
        "files.upload()\n"
      ]
    },
    {
      "cell_type": "code",
      "execution_count": 11,
      "metadata": {
        "id": "K2NG7U_nrUTq"
      },
      "outputs": [],
      "source": [
        "!pip install -q kaggle\n",
        "\n",
        "!mkdir -p ~/.kaggle\n",
        "!cp \"kaggle (1).json\" ~/.kaggle/\n",
        "!chmod 600 ~/.kaggle/kaggle.json\n"
      ]
    },
    {
      "cell_type": "code",
      "execution_count": 12,
      "metadata": {
        "colab": {
          "base_uri": "https://localhost:8080/"
        },
        "id": "Xt4IVQwZrWkv",
        "outputId": "9a280b4d-dcd0-4a99-c3dd-6657b4fa0a44"
      },
      "outputs": [
        {
          "output_type": "stream",
          "name": "stdout",
          "text": [
            "Dataset URL: https://www.kaggle.com/datasets/unanimad/golden-globe-awards\n",
            "License(s): CC0-1.0\n",
            "Downloading golden-globe-awards.zip to /content\n",
            "  0% 0.00/117k [00:00<?, ?B/s]\n",
            "100% 117k/117k [00:00<00:00, 163MB/s]\n",
            "Archive:  golden-globe-awards.zip\n",
            "  inflating: golden_globe_awards.csv  \n",
            " bafta-awards.zip\t   golden-globe-awards.zip   sample_data\n",
            " bafta_films.csv\t  'kaggle (1).json'\t     tmdb_movies_2016_2020.csv\n",
            " golden_globe_awards.csv   kaggle.json\n"
          ]
        }
      ],
      "source": [
        "!kaggle datasets download -d unanimad/golden-globe-awards\n",
        "!unzip -o golden-globe-awards.zip\n",
        "!ls\n"
      ]
    },
    {
      "cell_type": "code",
      "execution_count": 13,
      "metadata": {
        "colab": {
          "base_uri": "https://localhost:8080/",
          "height": 204
        },
        "id": "doxmmFsvrZFI",
        "outputId": "e7ab74f0-8a44-499f-f916-185157cf96b9"
      },
      "outputs": [
        {
          "output_type": "execute_result",
          "data": {
            "text/plain": [
              "      year_film         film    win\n",
              "7494       2016         Elle   True\n",
              "7495       2016      Arrival  False\n",
              "7496       2016  Miss Sloane  False\n",
              "7497       2016       Loving  False\n",
              "7498       2016       Jackie  False"
            ],
            "text/html": [
              "\n",
              "  <div id=\"df-0303e6e2-9d62-4eda-b75f-41c04497db90\" class=\"colab-df-container\">\n",
              "    <div>\n",
              "<style scoped>\n",
              "    .dataframe tbody tr th:only-of-type {\n",
              "        vertical-align: middle;\n",
              "    }\n",
              "\n",
              "    .dataframe tbody tr th {\n",
              "        vertical-align: top;\n",
              "    }\n",
              "\n",
              "    .dataframe thead th {\n",
              "        text-align: right;\n",
              "    }\n",
              "</style>\n",
              "<table border=\"1\" class=\"dataframe\">\n",
              "  <thead>\n",
              "    <tr style=\"text-align: right;\">\n",
              "      <th></th>\n",
              "      <th>year_film</th>\n",
              "      <th>film</th>\n",
              "      <th>win</th>\n",
              "    </tr>\n",
              "  </thead>\n",
              "  <tbody>\n",
              "    <tr>\n",
              "      <th>7494</th>\n",
              "      <td>2016</td>\n",
              "      <td>Elle</td>\n",
              "      <td>True</td>\n",
              "    </tr>\n",
              "    <tr>\n",
              "      <th>7495</th>\n",
              "      <td>2016</td>\n",
              "      <td>Arrival</td>\n",
              "      <td>False</td>\n",
              "    </tr>\n",
              "    <tr>\n",
              "      <th>7496</th>\n",
              "      <td>2016</td>\n",
              "      <td>Miss Sloane</td>\n",
              "      <td>False</td>\n",
              "    </tr>\n",
              "    <tr>\n",
              "      <th>7497</th>\n",
              "      <td>2016</td>\n",
              "      <td>Loving</td>\n",
              "      <td>False</td>\n",
              "    </tr>\n",
              "    <tr>\n",
              "      <th>7498</th>\n",
              "      <td>2016</td>\n",
              "      <td>Jackie</td>\n",
              "      <td>False</td>\n",
              "    </tr>\n",
              "  </tbody>\n",
              "</table>\n",
              "</div>\n",
              "    <div class=\"colab-df-buttons\">\n",
              "\n",
              "  <div class=\"colab-df-container\">\n",
              "    <button class=\"colab-df-convert\" onclick=\"convertToInteractive('df-0303e6e2-9d62-4eda-b75f-41c04497db90')\"\n",
              "            title=\"Convert this dataframe to an interactive table.\"\n",
              "            style=\"display:none;\">\n",
              "\n",
              "  <svg xmlns=\"http://www.w3.org/2000/svg\" height=\"24px\" viewBox=\"0 -960 960 960\">\n",
              "    <path d=\"M120-120v-720h720v720H120Zm60-500h600v-160H180v160Zm220 220h160v-160H400v160Zm0 220h160v-160H400v160ZM180-400h160v-160H180v160Zm440 0h160v-160H620v160ZM180-180h160v-160H180v160Zm440 0h160v-160H620v160Z\"/>\n",
              "  </svg>\n",
              "    </button>\n",
              "\n",
              "  <style>\n",
              "    .colab-df-container {\n",
              "      display:flex;\n",
              "      gap: 12px;\n",
              "    }\n",
              "\n",
              "    .colab-df-convert {\n",
              "      background-color: #E8F0FE;\n",
              "      border: none;\n",
              "      border-radius: 50%;\n",
              "      cursor: pointer;\n",
              "      display: none;\n",
              "      fill: #1967D2;\n",
              "      height: 32px;\n",
              "      padding: 0 0 0 0;\n",
              "      width: 32px;\n",
              "    }\n",
              "\n",
              "    .colab-df-convert:hover {\n",
              "      background-color: #E2EBFA;\n",
              "      box-shadow: 0px 1px 2px rgba(60, 64, 67, 0.3), 0px 1px 3px 1px rgba(60, 64, 67, 0.15);\n",
              "      fill: #174EA6;\n",
              "    }\n",
              "\n",
              "    .colab-df-buttons div {\n",
              "      margin-bottom: 4px;\n",
              "    }\n",
              "\n",
              "    [theme=dark] .colab-df-convert {\n",
              "      background-color: #3B4455;\n",
              "      fill: #D2E3FC;\n",
              "    }\n",
              "\n",
              "    [theme=dark] .colab-df-convert:hover {\n",
              "      background-color: #434B5C;\n",
              "      box-shadow: 0px 1px 3px 1px rgba(0, 0, 0, 0.15);\n",
              "      filter: drop-shadow(0px 1px 2px rgba(0, 0, 0, 0.3));\n",
              "      fill: #FFFFFF;\n",
              "    }\n",
              "  </style>\n",
              "\n",
              "    <script>\n",
              "      const buttonEl =\n",
              "        document.querySelector('#df-0303e6e2-9d62-4eda-b75f-41c04497db90 button.colab-df-convert');\n",
              "      buttonEl.style.display =\n",
              "        google.colab.kernel.accessAllowed ? 'block' : 'none';\n",
              "\n",
              "      async function convertToInteractive(key) {\n",
              "        const element = document.querySelector('#df-0303e6e2-9d62-4eda-b75f-41c04497db90');\n",
              "        const dataTable =\n",
              "          await google.colab.kernel.invokeFunction('convertToInteractive',\n",
              "                                                    [key], {});\n",
              "        if (!dataTable) return;\n",
              "\n",
              "        const docLinkHtml = 'Like what you see? Visit the ' +\n",
              "          '<a target=\"_blank\" href=https://colab.research.google.com/notebooks/data_table.ipynb>data table notebook</a>'\n",
              "          + ' to learn more about interactive tables.';\n",
              "        element.innerHTML = '';\n",
              "        dataTable['output_type'] = 'display_data';\n",
              "        await google.colab.output.renderOutput(dataTable, element);\n",
              "        const docLink = document.createElement('div');\n",
              "        docLink.innerHTML = docLinkHtml;\n",
              "        element.appendChild(docLink);\n",
              "      }\n",
              "    </script>\n",
              "  </div>\n",
              "\n",
              "\n",
              "    <div id=\"df-b74019c0-5ac9-48ac-95f2-c51949e44193\">\n",
              "      <button class=\"colab-df-quickchart\" onclick=\"quickchart('df-b74019c0-5ac9-48ac-95f2-c51949e44193')\"\n",
              "                title=\"Suggest charts\"\n",
              "                style=\"display:none;\">\n",
              "\n",
              "<svg xmlns=\"http://www.w3.org/2000/svg\" height=\"24px\"viewBox=\"0 0 24 24\"\n",
              "     width=\"24px\">\n",
              "    <g>\n",
              "        <path d=\"M19 3H5c-1.1 0-2 .9-2 2v14c0 1.1.9 2 2 2h14c1.1 0 2-.9 2-2V5c0-1.1-.9-2-2-2zM9 17H7v-7h2v7zm4 0h-2V7h2v10zm4 0h-2v-4h2v4z\"/>\n",
              "    </g>\n",
              "</svg>\n",
              "      </button>\n",
              "\n",
              "<style>\n",
              "  .colab-df-quickchart {\n",
              "      --bg-color: #E8F0FE;\n",
              "      --fill-color: #1967D2;\n",
              "      --hover-bg-color: #E2EBFA;\n",
              "      --hover-fill-color: #174EA6;\n",
              "      --disabled-fill-color: #AAA;\n",
              "      --disabled-bg-color: #DDD;\n",
              "  }\n",
              "\n",
              "  [theme=dark] .colab-df-quickchart {\n",
              "      --bg-color: #3B4455;\n",
              "      --fill-color: #D2E3FC;\n",
              "      --hover-bg-color: #434B5C;\n",
              "      --hover-fill-color: #FFFFFF;\n",
              "      --disabled-bg-color: #3B4455;\n",
              "      --disabled-fill-color: #666;\n",
              "  }\n",
              "\n",
              "  .colab-df-quickchart {\n",
              "    background-color: var(--bg-color);\n",
              "    border: none;\n",
              "    border-radius: 50%;\n",
              "    cursor: pointer;\n",
              "    display: none;\n",
              "    fill: var(--fill-color);\n",
              "    height: 32px;\n",
              "    padding: 0;\n",
              "    width: 32px;\n",
              "  }\n",
              "\n",
              "  .colab-df-quickchart:hover {\n",
              "    background-color: var(--hover-bg-color);\n",
              "    box-shadow: 0 1px 2px rgba(60, 64, 67, 0.3), 0 1px 3px 1px rgba(60, 64, 67, 0.15);\n",
              "    fill: var(--button-hover-fill-color);\n",
              "  }\n",
              "\n",
              "  .colab-df-quickchart-complete:disabled,\n",
              "  .colab-df-quickchart-complete:disabled:hover {\n",
              "    background-color: var(--disabled-bg-color);\n",
              "    fill: var(--disabled-fill-color);\n",
              "    box-shadow: none;\n",
              "  }\n",
              "\n",
              "  .colab-df-spinner {\n",
              "    border: 2px solid var(--fill-color);\n",
              "    border-color: transparent;\n",
              "    border-bottom-color: var(--fill-color);\n",
              "    animation:\n",
              "      spin 1s steps(1) infinite;\n",
              "  }\n",
              "\n",
              "  @keyframes spin {\n",
              "    0% {\n",
              "      border-color: transparent;\n",
              "      border-bottom-color: var(--fill-color);\n",
              "      border-left-color: var(--fill-color);\n",
              "    }\n",
              "    20% {\n",
              "      border-color: transparent;\n",
              "      border-left-color: var(--fill-color);\n",
              "      border-top-color: var(--fill-color);\n",
              "    }\n",
              "    30% {\n",
              "      border-color: transparent;\n",
              "      border-left-color: var(--fill-color);\n",
              "      border-top-color: var(--fill-color);\n",
              "      border-right-color: var(--fill-color);\n",
              "    }\n",
              "    40% {\n",
              "      border-color: transparent;\n",
              "      border-right-color: var(--fill-color);\n",
              "      border-top-color: var(--fill-color);\n",
              "    }\n",
              "    60% {\n",
              "      border-color: transparent;\n",
              "      border-right-color: var(--fill-color);\n",
              "    }\n",
              "    80% {\n",
              "      border-color: transparent;\n",
              "      border-right-color: var(--fill-color);\n",
              "      border-bottom-color: var(--fill-color);\n",
              "    }\n",
              "    90% {\n",
              "      border-color: transparent;\n",
              "      border-bottom-color: var(--fill-color);\n",
              "    }\n",
              "  }\n",
              "</style>\n",
              "\n",
              "      <script>\n",
              "        async function quickchart(key) {\n",
              "          const quickchartButtonEl =\n",
              "            document.querySelector('#' + key + ' button');\n",
              "          quickchartButtonEl.disabled = true;  // To prevent multiple clicks.\n",
              "          quickchartButtonEl.classList.add('colab-df-spinner');\n",
              "          try {\n",
              "            const charts = await google.colab.kernel.invokeFunction(\n",
              "                'suggestCharts', [key], {});\n",
              "          } catch (error) {\n",
              "            console.error('Error during call to suggestCharts:', error);\n",
              "          }\n",
              "          quickchartButtonEl.classList.remove('colab-df-spinner');\n",
              "          quickchartButtonEl.classList.add('colab-df-quickchart-complete');\n",
              "        }\n",
              "        (() => {\n",
              "          let quickchartButtonEl =\n",
              "            document.querySelector('#df-b74019c0-5ac9-48ac-95f2-c51949e44193 button');\n",
              "          quickchartButtonEl.style.display =\n",
              "            google.colab.kernel.accessAllowed ? 'block' : 'none';\n",
              "        })();\n",
              "      </script>\n",
              "    </div>\n",
              "\n",
              "    </div>\n",
              "  </div>\n"
            ],
            "application/vnd.google.colaboratory.intrinsic+json": {
              "type": "dataframe",
              "variable_name": "df_gg",
              "summary": "{\n  \"name\": \"df_gg\",\n  \"rows\": 381,\n  \"fields\": [\n    {\n      \"column\": \"year_film\",\n      \"properties\": {\n        \"dtype\": \"number\",\n        \"std\": 1,\n        \"min\": 2016,\n        \"max\": 2019,\n        \"num_unique_values\": 4,\n        \"samples\": [\n          2017,\n          2019,\n          2016\n        ],\n        \"semantic_type\": \"\",\n        \"description\": \"\"\n      }\n    },\n    {\n      \"column\": \"film\",\n      \"properties\": {\n        \"dtype\": \"string\",\n        \"num_unique_values\": 213,\n        \"samples\": [\n          \"La La Land\",\n          \"Fosse/Verdon\",\n          \"Call Me By Your Name\"\n        ],\n        \"semantic_type\": \"\",\n        \"description\": \"\"\n      }\n    },\n    {\n      \"column\": \"win\",\n      \"properties\": {\n        \"dtype\": \"boolean\",\n        \"num_unique_values\": 2,\n        \"samples\": [\n          false,\n          true\n        ],\n        \"semantic_type\": \"\",\n        \"description\": \"\"\n      }\n    }\n  ]\n}"
            }
          },
          "metadata": {},
          "execution_count": 13
        }
      ],
      "source": [
        "#Golden Globe Awards\n",
        "import pandas as pd\n",
        "\n",
        "\n",
        "df_gg = pd.read_csv('golden_globe_awards.csv')\n",
        "\n",
        "# Filter by year and drop unnecessary columns\n",
        "df_gg['year_film'] = pd.to_numeric(df_gg['year_film'], errors='coerce')\n",
        "df_gg = df_gg[(df_gg['year_film'] >= 2016) & (df_gg['year_film'] <= 2020)]\n",
        "\n",
        "df_gg = df_gg.dropna(subset=['film'])\n",
        "\n",
        "df_gg = df_gg.drop(columns=['year_award', 'ceremony', 'category', 'nominee'])\n",
        "\n",
        "\n",
        "df_gg.head()\n"
      ]
    },
    {
      "cell_type": "code",
      "execution_count": 14,
      "metadata": {
        "colab": {
          "base_uri": "https://localhost:8080/",
          "height": 86
        },
        "id": "eJ3x8WhDtmYs",
        "outputId": "cf490959-b314-47d4-d0e1-bb68a5ee5fce"
      },
      "outputs": [
        {
          "output_type": "display_data",
          "data": {
            "text/plain": [
              "<IPython.core.display.HTML object>"
            ],
            "text/html": [
              "\n",
              "     <input type=\"file\" id=\"files-8cf76973-3e5b-46c0-99f3-0d68bd3f5cee\" name=\"files[]\" multiple disabled\n",
              "        style=\"border:none\" />\n",
              "     <output id=\"result-8cf76973-3e5b-46c0-99f3-0d68bd3f5cee\">\n",
              "      Upload widget is only available when the cell has been executed in the\n",
              "      current browser session. Please rerun this cell to enable.\n",
              "      </output>\n",
              "      <script>// Copyright 2017 Google LLC\n",
              "//\n",
              "// Licensed under the Apache License, Version 2.0 (the \"License\");\n",
              "// you may not use this file except in compliance with the License.\n",
              "// You may obtain a copy of the License at\n",
              "//\n",
              "//      http://www.apache.org/licenses/LICENSE-2.0\n",
              "//\n",
              "// Unless required by applicable law or agreed to in writing, software\n",
              "// distributed under the License is distributed on an \"AS IS\" BASIS,\n",
              "// WITHOUT WARRANTIES OR CONDITIONS OF ANY KIND, either express or implied.\n",
              "// See the License for the specific language governing permissions and\n",
              "// limitations under the License.\n",
              "\n",
              "/**\n",
              " * @fileoverview Helpers for google.colab Python module.\n",
              " */\n",
              "(function(scope) {\n",
              "function span(text, styleAttributes = {}) {\n",
              "  const element = document.createElement('span');\n",
              "  element.textContent = text;\n",
              "  for (const key of Object.keys(styleAttributes)) {\n",
              "    element.style[key] = styleAttributes[key];\n",
              "  }\n",
              "  return element;\n",
              "}\n",
              "\n",
              "// Max number of bytes which will be uploaded at a time.\n",
              "const MAX_PAYLOAD_SIZE = 100 * 1024;\n",
              "\n",
              "function _uploadFiles(inputId, outputId) {\n",
              "  const steps = uploadFilesStep(inputId, outputId);\n",
              "  const outputElement = document.getElementById(outputId);\n",
              "  // Cache steps on the outputElement to make it available for the next call\n",
              "  // to uploadFilesContinue from Python.\n",
              "  outputElement.steps = steps;\n",
              "\n",
              "  return _uploadFilesContinue(outputId);\n",
              "}\n",
              "\n",
              "// This is roughly an async generator (not supported in the browser yet),\n",
              "// where there are multiple asynchronous steps and the Python side is going\n",
              "// to poll for completion of each step.\n",
              "// This uses a Promise to block the python side on completion of each step,\n",
              "// then passes the result of the previous step as the input to the next step.\n",
              "function _uploadFilesContinue(outputId) {\n",
              "  const outputElement = document.getElementById(outputId);\n",
              "  const steps = outputElement.steps;\n",
              "\n",
              "  const next = steps.next(outputElement.lastPromiseValue);\n",
              "  return Promise.resolve(next.value.promise).then((value) => {\n",
              "    // Cache the last promise value to make it available to the next\n",
              "    // step of the generator.\n",
              "    outputElement.lastPromiseValue = value;\n",
              "    return next.value.response;\n",
              "  });\n",
              "}\n",
              "\n",
              "/**\n",
              " * Generator function which is called between each async step of the upload\n",
              " * process.\n",
              " * @param {string} inputId Element ID of the input file picker element.\n",
              " * @param {string} outputId Element ID of the output display.\n",
              " * @return {!Iterable<!Object>} Iterable of next steps.\n",
              " */\n",
              "function* uploadFilesStep(inputId, outputId) {\n",
              "  const inputElement = document.getElementById(inputId);\n",
              "  inputElement.disabled = false;\n",
              "\n",
              "  const outputElement = document.getElementById(outputId);\n",
              "  outputElement.innerHTML = '';\n",
              "\n",
              "  const pickedPromise = new Promise((resolve) => {\n",
              "    inputElement.addEventListener('change', (e) => {\n",
              "      resolve(e.target.files);\n",
              "    });\n",
              "  });\n",
              "\n",
              "  const cancel = document.createElement('button');\n",
              "  inputElement.parentElement.appendChild(cancel);\n",
              "  cancel.textContent = 'Cancel upload';\n",
              "  const cancelPromise = new Promise((resolve) => {\n",
              "    cancel.onclick = () => {\n",
              "      resolve(null);\n",
              "    };\n",
              "  });\n",
              "\n",
              "  // Wait for the user to pick the files.\n",
              "  const files = yield {\n",
              "    promise: Promise.race([pickedPromise, cancelPromise]),\n",
              "    response: {\n",
              "      action: 'starting',\n",
              "    }\n",
              "  };\n",
              "\n",
              "  cancel.remove();\n",
              "\n",
              "  // Disable the input element since further picks are not allowed.\n",
              "  inputElement.disabled = true;\n",
              "\n",
              "  if (!files) {\n",
              "    return {\n",
              "      response: {\n",
              "        action: 'complete',\n",
              "      }\n",
              "    };\n",
              "  }\n",
              "\n",
              "  for (const file of files) {\n",
              "    const li = document.createElement('li');\n",
              "    li.append(span(file.name, {fontWeight: 'bold'}));\n",
              "    li.append(span(\n",
              "        `(${file.type || 'n/a'}) - ${file.size} bytes, ` +\n",
              "        `last modified: ${\n",
              "            file.lastModifiedDate ? file.lastModifiedDate.toLocaleDateString() :\n",
              "                                    'n/a'} - `));\n",
              "    const percent = span('0% done');\n",
              "    li.appendChild(percent);\n",
              "\n",
              "    outputElement.appendChild(li);\n",
              "\n",
              "    const fileDataPromise = new Promise((resolve) => {\n",
              "      const reader = new FileReader();\n",
              "      reader.onload = (e) => {\n",
              "        resolve(e.target.result);\n",
              "      };\n",
              "      reader.readAsArrayBuffer(file);\n",
              "    });\n",
              "    // Wait for the data to be ready.\n",
              "    let fileData = yield {\n",
              "      promise: fileDataPromise,\n",
              "      response: {\n",
              "        action: 'continue',\n",
              "      }\n",
              "    };\n",
              "\n",
              "    // Use a chunked sending to avoid message size limits. See b/62115660.\n",
              "    let position = 0;\n",
              "    do {\n",
              "      const length = Math.min(fileData.byteLength - position, MAX_PAYLOAD_SIZE);\n",
              "      const chunk = new Uint8Array(fileData, position, length);\n",
              "      position += length;\n",
              "\n",
              "      const base64 = btoa(String.fromCharCode.apply(null, chunk));\n",
              "      yield {\n",
              "        response: {\n",
              "          action: 'append',\n",
              "          file: file.name,\n",
              "          data: base64,\n",
              "        },\n",
              "      };\n",
              "\n",
              "      let percentDone = fileData.byteLength === 0 ?\n",
              "          100 :\n",
              "          Math.round((position / fileData.byteLength) * 100);\n",
              "      percent.textContent = `${percentDone}% done`;\n",
              "\n",
              "    } while (position < fileData.byteLength);\n",
              "  }\n",
              "\n",
              "  // All done.\n",
              "  yield {\n",
              "    response: {\n",
              "      action: 'complete',\n",
              "    }\n",
              "  };\n",
              "}\n",
              "\n",
              "scope.google = scope.google || {};\n",
              "scope.google.colab = scope.google.colab || {};\n",
              "scope.google.colab._files = {\n",
              "  _uploadFiles,\n",
              "  _uploadFilesContinue,\n",
              "};\n",
              "})(self);\n",
              "</script> "
            ]
          },
          "metadata": {}
        },
        {
          "output_type": "stream",
          "name": "stdout",
          "text": [
            "Saving kaggle (2).json to kaggle (2).json\n"
          ]
        },
        {
          "output_type": "execute_result",
          "data": {
            "text/plain": [
              "{'kaggle (2).json': b'{\"username\":\"oykudemirell\",\"key\":\"24fc20083ed3bb7604f8159dd18baa8c\"}'}"
            ]
          },
          "metadata": {},
          "execution_count": 14
        }
      ],
      "source": [
        "from google.colab import files\n",
        "files.upload()"
      ]
    },
    {
      "cell_type": "code",
      "execution_count": 15,
      "metadata": {
        "id": "JtGjUAKUtvLJ"
      },
      "outputs": [],
      "source": [
        "!mkdir -p ~/.kaggle\n",
        "!cp \"kaggle (2).json\" ~/.kaggle/kaggle.json\n",
        "!chmod 600 ~/.kaggle/kaggle.json\n",
        "!pip install -q kaggle\n"
      ]
    },
    {
      "cell_type": "code",
      "execution_count": 16,
      "metadata": {
        "colab": {
          "base_uri": "https://localhost:8080/"
        },
        "id": "zsafgbwOt2LT",
        "outputId": "5eb0978f-f8c5-452a-8fe9-f8ebd6aed3fb"
      },
      "outputs": [
        {
          "output_type": "stream",
          "name": "stdout",
          "text": [
            "Dataset URL: https://www.kaggle.com/datasets/unanimad/the-oscar-award\n",
            "License(s): CC0-1.0\n",
            "Downloading the-oscar-award.zip to /content\n",
            "  0% 0.00/746k [00:00<?, ?B/s]\n",
            "100% 746k/746k [00:00<00:00, 686MB/s]\n",
            "Archive:  the-oscar-award.zip\n",
            "  inflating: full_data.csv           \n",
            "  inflating: the_oscar_award.csv     \n",
            " bafta-awards.zip\t   golden-globe-awards.zip   sample_data\n",
            " bafta_films.csv\t  'kaggle (1).json'\t     the_oscar_award.csv\n",
            " full_data.csv\t\t  'kaggle (2).json'\t     the-oscar-award.zip\n",
            " golden_globe_awards.csv   kaggle.json\t\t     tmdb_movies_2016_2020.csv\n"
          ]
        }
      ],
      "source": [
        "!kaggle datasets download -d unanimad/the-oscar-award\n",
        "!unzip -o the-oscar-award.zip\n",
        "!ls\n"
      ]
    },
    {
      "cell_type": "code",
      "execution_count": 17,
      "metadata": {
        "colab": {
          "base_uri": "https://localhost:8080/",
          "height": 204
        },
        "id": "kj5zSQeBumpq",
        "outputId": "1847ab3d-336c-4258-b9f5-035f9b38b814"
      },
      "outputs": [
        {
          "output_type": "execute_result",
          "data": {
            "text/plain": [
              "      year_film                   film  winner\n",
              "9984       2016  Manchester by the Sea    True\n",
              "9985       2016          Hacksaw Ridge   False\n",
              "9986       2016             La La Land   False\n",
              "9987       2016      Captain Fantastic   False\n",
              "9988       2016                 Fences   False"
            ],
            "text/html": [
              "\n",
              "  <div id=\"df-3946b0b7-16bf-48a7-88f6-9cb6766b0cad\" class=\"colab-df-container\">\n",
              "    <div>\n",
              "<style scoped>\n",
              "    .dataframe tbody tr th:only-of-type {\n",
              "        vertical-align: middle;\n",
              "    }\n",
              "\n",
              "    .dataframe tbody tr th {\n",
              "        vertical-align: top;\n",
              "    }\n",
              "\n",
              "    .dataframe thead th {\n",
              "        text-align: right;\n",
              "    }\n",
              "</style>\n",
              "<table border=\"1\" class=\"dataframe\">\n",
              "  <thead>\n",
              "    <tr style=\"text-align: right;\">\n",
              "      <th></th>\n",
              "      <th>year_film</th>\n",
              "      <th>film</th>\n",
              "      <th>winner</th>\n",
              "    </tr>\n",
              "  </thead>\n",
              "  <tbody>\n",
              "    <tr>\n",
              "      <th>9984</th>\n",
              "      <td>2016</td>\n",
              "      <td>Manchester by the Sea</td>\n",
              "      <td>True</td>\n",
              "    </tr>\n",
              "    <tr>\n",
              "      <th>9985</th>\n",
              "      <td>2016</td>\n",
              "      <td>Hacksaw Ridge</td>\n",
              "      <td>False</td>\n",
              "    </tr>\n",
              "    <tr>\n",
              "      <th>9986</th>\n",
              "      <td>2016</td>\n",
              "      <td>La La Land</td>\n",
              "      <td>False</td>\n",
              "    </tr>\n",
              "    <tr>\n",
              "      <th>9987</th>\n",
              "      <td>2016</td>\n",
              "      <td>Captain Fantastic</td>\n",
              "      <td>False</td>\n",
              "    </tr>\n",
              "    <tr>\n",
              "      <th>9988</th>\n",
              "      <td>2016</td>\n",
              "      <td>Fences</td>\n",
              "      <td>False</td>\n",
              "    </tr>\n",
              "  </tbody>\n",
              "</table>\n",
              "</div>\n",
              "    <div class=\"colab-df-buttons\">\n",
              "\n",
              "  <div class=\"colab-df-container\">\n",
              "    <button class=\"colab-df-convert\" onclick=\"convertToInteractive('df-3946b0b7-16bf-48a7-88f6-9cb6766b0cad')\"\n",
              "            title=\"Convert this dataframe to an interactive table.\"\n",
              "            style=\"display:none;\">\n",
              "\n",
              "  <svg xmlns=\"http://www.w3.org/2000/svg\" height=\"24px\" viewBox=\"0 -960 960 960\">\n",
              "    <path d=\"M120-120v-720h720v720H120Zm60-500h600v-160H180v160Zm220 220h160v-160H400v160Zm0 220h160v-160H400v160ZM180-400h160v-160H180v160Zm440 0h160v-160H620v160ZM180-180h160v-160H180v160Zm440 0h160v-160H620v160Z\"/>\n",
              "  </svg>\n",
              "    </button>\n",
              "\n",
              "  <style>\n",
              "    .colab-df-container {\n",
              "      display:flex;\n",
              "      gap: 12px;\n",
              "    }\n",
              "\n",
              "    .colab-df-convert {\n",
              "      background-color: #E8F0FE;\n",
              "      border: none;\n",
              "      border-radius: 50%;\n",
              "      cursor: pointer;\n",
              "      display: none;\n",
              "      fill: #1967D2;\n",
              "      height: 32px;\n",
              "      padding: 0 0 0 0;\n",
              "      width: 32px;\n",
              "    }\n",
              "\n",
              "    .colab-df-convert:hover {\n",
              "      background-color: #E2EBFA;\n",
              "      box-shadow: 0px 1px 2px rgba(60, 64, 67, 0.3), 0px 1px 3px 1px rgba(60, 64, 67, 0.15);\n",
              "      fill: #174EA6;\n",
              "    }\n",
              "\n",
              "    .colab-df-buttons div {\n",
              "      margin-bottom: 4px;\n",
              "    }\n",
              "\n",
              "    [theme=dark] .colab-df-convert {\n",
              "      background-color: #3B4455;\n",
              "      fill: #D2E3FC;\n",
              "    }\n",
              "\n",
              "    [theme=dark] .colab-df-convert:hover {\n",
              "      background-color: #434B5C;\n",
              "      box-shadow: 0px 1px 3px 1px rgba(0, 0, 0, 0.15);\n",
              "      filter: drop-shadow(0px 1px 2px rgba(0, 0, 0, 0.3));\n",
              "      fill: #FFFFFF;\n",
              "    }\n",
              "  </style>\n",
              "\n",
              "    <script>\n",
              "      const buttonEl =\n",
              "        document.querySelector('#df-3946b0b7-16bf-48a7-88f6-9cb6766b0cad button.colab-df-convert');\n",
              "      buttonEl.style.display =\n",
              "        google.colab.kernel.accessAllowed ? 'block' : 'none';\n",
              "\n",
              "      async function convertToInteractive(key) {\n",
              "        const element = document.querySelector('#df-3946b0b7-16bf-48a7-88f6-9cb6766b0cad');\n",
              "        const dataTable =\n",
              "          await google.colab.kernel.invokeFunction('convertToInteractive',\n",
              "                                                    [key], {});\n",
              "        if (!dataTable) return;\n",
              "\n",
              "        const docLinkHtml = 'Like what you see? Visit the ' +\n",
              "          '<a target=\"_blank\" href=https://colab.research.google.com/notebooks/data_table.ipynb>data table notebook</a>'\n",
              "          + ' to learn more about interactive tables.';\n",
              "        element.innerHTML = '';\n",
              "        dataTable['output_type'] = 'display_data';\n",
              "        await google.colab.output.renderOutput(dataTable, element);\n",
              "        const docLink = document.createElement('div');\n",
              "        docLink.innerHTML = docLinkHtml;\n",
              "        element.appendChild(docLink);\n",
              "      }\n",
              "    </script>\n",
              "  </div>\n",
              "\n",
              "\n",
              "    <div id=\"df-892c91ed-147f-4f2b-ac9b-d000afad97f3\">\n",
              "      <button class=\"colab-df-quickchart\" onclick=\"quickchart('df-892c91ed-147f-4f2b-ac9b-d000afad97f3')\"\n",
              "                title=\"Suggest charts\"\n",
              "                style=\"display:none;\">\n",
              "\n",
              "<svg xmlns=\"http://www.w3.org/2000/svg\" height=\"24px\"viewBox=\"0 0 24 24\"\n",
              "     width=\"24px\">\n",
              "    <g>\n",
              "        <path d=\"M19 3H5c-1.1 0-2 .9-2 2v14c0 1.1.9 2 2 2h14c1.1 0 2-.9 2-2V5c0-1.1-.9-2-2-2zM9 17H7v-7h2v7zm4 0h-2V7h2v10zm4 0h-2v-4h2v4z\"/>\n",
              "    </g>\n",
              "</svg>\n",
              "      </button>\n",
              "\n",
              "<style>\n",
              "  .colab-df-quickchart {\n",
              "      --bg-color: #E8F0FE;\n",
              "      --fill-color: #1967D2;\n",
              "      --hover-bg-color: #E2EBFA;\n",
              "      --hover-fill-color: #174EA6;\n",
              "      --disabled-fill-color: #AAA;\n",
              "      --disabled-bg-color: #DDD;\n",
              "  }\n",
              "\n",
              "  [theme=dark] .colab-df-quickchart {\n",
              "      --bg-color: #3B4455;\n",
              "      --fill-color: #D2E3FC;\n",
              "      --hover-bg-color: #434B5C;\n",
              "      --hover-fill-color: #FFFFFF;\n",
              "      --disabled-bg-color: #3B4455;\n",
              "      --disabled-fill-color: #666;\n",
              "  }\n",
              "\n",
              "  .colab-df-quickchart {\n",
              "    background-color: var(--bg-color);\n",
              "    border: none;\n",
              "    border-radius: 50%;\n",
              "    cursor: pointer;\n",
              "    display: none;\n",
              "    fill: var(--fill-color);\n",
              "    height: 32px;\n",
              "    padding: 0;\n",
              "    width: 32px;\n",
              "  }\n",
              "\n",
              "  .colab-df-quickchart:hover {\n",
              "    background-color: var(--hover-bg-color);\n",
              "    box-shadow: 0 1px 2px rgba(60, 64, 67, 0.3), 0 1px 3px 1px rgba(60, 64, 67, 0.15);\n",
              "    fill: var(--button-hover-fill-color);\n",
              "  }\n",
              "\n",
              "  .colab-df-quickchart-complete:disabled,\n",
              "  .colab-df-quickchart-complete:disabled:hover {\n",
              "    background-color: var(--disabled-bg-color);\n",
              "    fill: var(--disabled-fill-color);\n",
              "    box-shadow: none;\n",
              "  }\n",
              "\n",
              "  .colab-df-spinner {\n",
              "    border: 2px solid var(--fill-color);\n",
              "    border-color: transparent;\n",
              "    border-bottom-color: var(--fill-color);\n",
              "    animation:\n",
              "      spin 1s steps(1) infinite;\n",
              "  }\n",
              "\n",
              "  @keyframes spin {\n",
              "    0% {\n",
              "      border-color: transparent;\n",
              "      border-bottom-color: var(--fill-color);\n",
              "      border-left-color: var(--fill-color);\n",
              "    }\n",
              "    20% {\n",
              "      border-color: transparent;\n",
              "      border-left-color: var(--fill-color);\n",
              "      border-top-color: var(--fill-color);\n",
              "    }\n",
              "    30% {\n",
              "      border-color: transparent;\n",
              "      border-left-color: var(--fill-color);\n",
              "      border-top-color: var(--fill-color);\n",
              "      border-right-color: var(--fill-color);\n",
              "    }\n",
              "    40% {\n",
              "      border-color: transparent;\n",
              "      border-right-color: var(--fill-color);\n",
              "      border-top-color: var(--fill-color);\n",
              "    }\n",
              "    60% {\n",
              "      border-color: transparent;\n",
              "      border-right-color: var(--fill-color);\n",
              "    }\n",
              "    80% {\n",
              "      border-color: transparent;\n",
              "      border-right-color: var(--fill-color);\n",
              "      border-bottom-color: var(--fill-color);\n",
              "    }\n",
              "    90% {\n",
              "      border-color: transparent;\n",
              "      border-bottom-color: var(--fill-color);\n",
              "    }\n",
              "  }\n",
              "</style>\n",
              "\n",
              "      <script>\n",
              "        async function quickchart(key) {\n",
              "          const quickchartButtonEl =\n",
              "            document.querySelector('#' + key + ' button');\n",
              "          quickchartButtonEl.disabled = true;  // To prevent multiple clicks.\n",
              "          quickchartButtonEl.classList.add('colab-df-spinner');\n",
              "          try {\n",
              "            const charts = await google.colab.kernel.invokeFunction(\n",
              "                'suggestCharts', [key], {});\n",
              "          } catch (error) {\n",
              "            console.error('Error during call to suggestCharts:', error);\n",
              "          }\n",
              "          quickchartButtonEl.classList.remove('colab-df-spinner');\n",
              "          quickchartButtonEl.classList.add('colab-df-quickchart-complete');\n",
              "        }\n",
              "        (() => {\n",
              "          let quickchartButtonEl =\n",
              "            document.querySelector('#df-892c91ed-147f-4f2b-ac9b-d000afad97f3 button');\n",
              "          quickchartButtonEl.style.display =\n",
              "            google.colab.kernel.accessAllowed ? 'block' : 'none';\n",
              "        })();\n",
              "      </script>\n",
              "    </div>\n",
              "\n",
              "    </div>\n",
              "  </div>\n"
            ],
            "application/vnd.google.colaboratory.intrinsic+json": {
              "type": "dataframe",
              "variable_name": "df_oscar",
              "summary": "{\n  \"name\": \"df_oscar\",\n  \"rows\": 628,\n  \"fields\": [\n    {\n      \"column\": \"year_film\",\n      \"properties\": {\n        \"dtype\": \"number\",\n        \"std\": 1,\n        \"min\": 2016,\n        \"max\": 2020,\n        \"num_unique_values\": 5,\n        \"samples\": [\n          2017,\n          2020,\n          2018\n        ],\n        \"semantic_type\": \"\",\n        \"description\": \"\"\n      }\n    },\n    {\n      \"column\": \"film\",\n      \"properties\": {\n        \"dtype\": \"category\",\n        \"num_unique_values\": 283,\n        \"samples\": [\n          \"Elle\",\n          \"News of the World\",\n          \"Never Look Away\"\n        ],\n        \"semantic_type\": \"\",\n        \"description\": \"\"\n      }\n    },\n    {\n      \"column\": \"winner\",\n      \"properties\": {\n        \"dtype\": \"boolean\",\n        \"num_unique_values\": 2,\n        \"samples\": [\n          false,\n          true\n        ],\n        \"semantic_type\": \"\",\n        \"description\": \"\"\n      }\n    }\n  ]\n}"
            }
          },
          "metadata": {},
          "execution_count": 17
        }
      ],
      "source": [
        "#Oscar Awards\n",
        "import pandas as pd\n",
        "\n",
        "df_oscar = pd.read_csv('the_oscar_award.csv')\n",
        "\n",
        "df_oscar = df_oscar.drop(columns=['year_ceremony', 'ceremony', 'category', 'canon_category', 'name'], errors='ignore')\n",
        "\n",
        "\n",
        "df_oscar = df_oscar[(df_oscar['year_film'] >= 2016) & (df_oscar['year_film'] <= 2020)]\n",
        "\n",
        "df_oscar.head()\n"
      ]
    },
    {
      "cell_type": "code",
      "execution_count": 18,
      "metadata": {
        "colab": {
          "base_uri": "https://localhost:8080/"
        },
        "id": "w4mqTCVs297e",
        "outputId": "22dabd25-0d7d-4540-a8c5-51f61675d7bf"
      },
      "outputs": [
        {
          "output_type": "stream",
          "name": "stdout",
          "text": [
            "Index(['year_film', 'film', 'winner'], dtype='object')\n",
            "Index(['year_film', 'film', 'win'], dtype='object')\n",
            "Index(['year', 'nominee', 'winner'], dtype='object')\n"
          ]
        }
      ],
      "source": [
        "print(df_oscar.columns)\n",
        "print(df_gg.columns)\n",
        "print(df_b.columns)\n"
      ]
    },
    {
      "cell_type": "code",
      "execution_count": 19,
      "metadata": {
        "id": "nyxoW87u3Q1H"
      },
      "outputs": [],
      "source": [
        "# Standardize columns\n",
        "\n",
        "# Oscars\n",
        "df_oscar = df_oscar.rename(columns={\n",
        "    'film': 'Title',\n",
        "    'year_film': 'Release Year'\n",
        "})\n",
        "\n",
        "# Golden Globes\n",
        "df_gg = df_gg.rename(columns={\n",
        "    'film': 'Title',\n",
        "    'year_film': 'Release Year'\n",
        "})\n",
        "\n",
        "# BAFTA\n",
        "df_b = df_b.rename(columns={\n",
        "    'nominee': 'Title',\n",
        "    'year': 'Release Year'\n",
        "})\n",
        "\n"
      ]
    },
    {
      "cell_type": "code",
      "execution_count": 20,
      "metadata": {
        "colab": {
          "base_uri": "https://localhost:8080/"
        },
        "id": "Ye4ps3UOATu9",
        "outputId": "413b05d9-1744-4a40-8b97-e633d1e9bb0f"
      },
      "outputs": [
        {
          "output_type": "stream",
          "name": "stdout",
          "text": [
            "Index(['Release Year', 'Title', 'winner'], dtype='object')\n",
            "Index(['Release Year', 'Title', 'win'], dtype='object')\n",
            "Index(['Release Year', 'Title', 'winner'], dtype='object')\n"
          ]
        }
      ],
      "source": [
        "print(df_oscar.columns)\n",
        "print(df_gg.columns)\n",
        "print(df_b.columns)\n"
      ]
    },
    {
      "cell_type": "code",
      "execution_count": 21,
      "metadata": {
        "colab": {
          "base_uri": "https://localhost:8080/"
        },
        "id": "GjRAdUw0HSA5",
        "outputId": "2a834946-f742-40ab-c102-3f1f75b7bd8b"
      },
      "outputs": [
        {
          "output_type": "stream",
          "name": "stdout",
          "text": [
            "                                       Title  Release Year  Oscar_Win  GG_Win  \\\n",
            "0  13 Hours: The Secret Soldiers of Benghazi          2016          1       0   \n",
            "1                                       13th          2016          1       0   \n",
            "2                                       1917          2019         10       2   \n",
            "3                                       1917          2019         10       2   \n",
            "4                                       1917          2019         10       2   \n",
            "\n",
            "   BAFTA_Win  Total_Awards_Won  \n",
            "0          0                 1  \n",
            "1          1                 2  \n",
            "2          9                21  \n",
            "3          9                21  \n",
            "4          9                21  \n"
          ]
        }
      ],
      "source": [
        "\n",
        "def normalize_title(title):\n",
        "    if pd.isna(title):\n",
        "        return ''\n",
        "    return title.lower().strip()\n",
        "\n",
        "df_oscar['normalized_title'] = df_oscar['Title'].apply(normalize_title)\n",
        "df_gg['normalized_title'] = df_gg['Title'].apply(normalize_title)\n",
        "df_b['normalized_title'] = df_b['Title'].apply(normalize_title)\n",
        "\n",
        "#Count how many wins each movie had per award show\n",
        "df_oscar_counts = df_oscar.groupby('normalized_title').size().reset_index(name='Oscar_Win')\n",
        "df_gg_counts = df_gg.groupby('normalized_title').size().reset_index(name='GG_Win')\n",
        "df_b_counts = df_b.groupby('normalized_title').size().reset_index(name='BAFTA_Win')\n",
        "\n",
        "#Merge\n",
        "merged_df2 = df_oscar_counts.merge(df_gg_counts, on='normalized_title', how='outer')\n",
        "merged_df2 = merged_df2.merge(df_b_counts, on='normalized_title', how='outer')\n",
        "\n",
        "#Fill missing values with 0\n",
        "merged_df2[['Oscar_Win', 'GG_Win', 'BAFTA_Win']] = merged_df2[['Oscar_Win', 'GG_Win', 'BAFTA_Win']].fillna(0).astype(int)\n",
        "\n",
        "#Calculate the total number of awards won\n",
        "merged_df2['Total_Awards_Won'] = merged_df2[['Oscar_Win', 'GG_Win', 'BAFTA_Win']].sum(axis=1)\n",
        "\n",
        "\n",
        "merged_df2 = merged_df2.merge(df_oscar[['normalized_title', 'Title', 'Release Year']], on='normalized_title', how='left')\n",
        "\n",
        "\n",
        "merged_df2 = merged_df2.dropna(subset=['Title']).reset_index(drop=True)\n",
        "\n",
        "print(merged_df2[['Title', 'Release Year', 'Oscar_Win', 'GG_Win', 'BAFTA_Win', 'Total_Awards_Won']].head())\n"
      ]
    },
    {
      "cell_type": "code",
      "execution_count": 22,
      "metadata": {
        "colab": {
          "base_uri": "https://localhost:8080/"
        },
        "id": "2f4R9n8J-CO5",
        "outputId": "afb090d2-8ec1-48e2-a7ce-0176fa8b4ab6"
      },
      "outputs": [
        {
          "output_type": "stream",
          "name": "stdout",
          "text": [
            "Index(['normalized_title', 'Oscar_Win', 'GG_Win', 'BAFTA_Win',\n",
            "       'Total_Awards_Won', 'Title', 'Release Year'],\n",
            "      dtype='object')\n"
          ]
        }
      ],
      "source": [
        "print(merged_df2.columns)\n"
      ]
    },
    {
      "cell_type": "code",
      "execution_count": 23,
      "metadata": {
        "colab": {
          "base_uri": "https://localhost:8080/"
        },
        "id": "cZzHt1sd_HqA",
        "outputId": "ba9142e0-3071-4410-d83e-3193fa6455df"
      },
      "outputs": [
        {
          "output_type": "stream",
          "name": "stdout",
          "text": [
            "Index(['Title', 'Release Year', 'Release Month', 'Release Date',\n",
            "       'Release Season', 'Release Group', 'Worldwide Gross'],\n",
            "      dtype='object')\n"
          ]
        }
      ],
      "source": [
        "print(merged_df.columns)\n"
      ]
    },
    {
      "cell_type": "code",
      "execution_count": 24,
      "metadata": {
        "colab": {
          "base_uri": "https://localhost:8080/"
        },
        "id": "gHKg5FEwAQDV",
        "outputId": "93fb5f7a-c886-4ef5-ec1e-15f4520165f2"
      },
      "outputs": [
        {
          "output_type": "stream",
          "name": "stdout",
          "text": [
            "             Title  Release Year  Release Month Release Date  \\\n",
            "0   The Accountant          2016             10   2016-10-13   \n",
            "1         Zootopia          2016              2   2016-02-11   \n",
            "2   Wild Awakening          2016             10   2016-10-23   \n",
            "3  The Conjuring 2          2016              6   2016-06-08   \n",
            "4    Hacksaw Ridge          2016             10   2016-10-07   \n",
            "\n",
            "       Release Season    Release Group  Worldwide Gross  Oscar_Win  GG_Win  \\\n",
            "0       Awards Season   The Accountant        155560045        NaN     NaN   \n",
            "1       Awards Season         Zootopia       1023784195          1       0   \n",
            "2       Awards Season              NaN              NaN        NaN     NaN   \n",
            "3  Summer Blockbuster  The Conjuring 2        321370008        NaN     NaN   \n",
            "4       Awards Season    Hacksaw Ridge        180563636          6       2   \n",
            "\n",
            "   BAFTA_Win  Total_Awards_Won  \n",
            "0        NaN               NaN  \n",
            "1          0                 1  \n",
            "2        NaN               NaN  \n",
            "3        NaN               NaN  \n",
            "4          4                12  \n"
          ]
        }
      ],
      "source": [
        "# Merge the clean movies/box office data (merged_df) with awards data (merged_df2)\n",
        "final_df = pd.merge(\n",
        "    merged_df,\n",
        "    merged_df2[['Title', 'Release Year', 'Oscar_Win', 'GG_Win', 'BAFTA_Win', 'Total_Awards_Won']],\n",
        "    on=['Title', 'Release Year'],\n",
        "    how='left'\n",
        ")\n",
        "\n",
        "print(final_df.head())\n"
      ]
    },
    {
      "cell_type": "code",
      "execution_count": 25,
      "metadata": {
        "colab": {
          "base_uri": "https://localhost:8080/"
        },
        "id": "cm46GLRyIJSq",
        "outputId": "3b1e869c-c535-469f-e59d-0f858706258b"
      },
      "outputs": [
        {
          "output_type": "stream",
          "name": "stdout",
          "text": [
            "             Title  Release Year  Release Month Release Date  \\\n",
            "0   The Accountant          2016             10   2016-10-13   \n",
            "1         Zootopia          2016              2   2016-02-11   \n",
            "2   Wild Awakening          2016             10   2016-10-23   \n",
            "3  The Conjuring 2          2016              6   2016-06-08   \n",
            "4    Hacksaw Ridge          2016             10   2016-10-07   \n",
            "\n",
            "       Release Season  Worldwide Gross  Oscar_Win  GG_Win  BAFTA_Win  \\\n",
            "0       Awards Season        155560045          0       0          0   \n",
            "1       Awards Season       1023784195          1       0          0   \n",
            "2       Awards Season              NaN          0       0          0   \n",
            "3  Summer Blockbuster        321370008          0       0          0   \n",
            "4       Awards Season        180563636          6       2          4   \n",
            "\n",
            "   Total_Awards_Won  \n",
            "0                 0  \n",
            "1                 1  \n",
            "2                 0  \n",
            "3                 0  \n",
            "4                12  \n"
          ]
        }
      ],
      "source": [
        "# Fill NaN award counts with 0\n",
        "award_cols = ['Oscar_Win', 'GG_Win', 'BAFTA_Win', 'Total_Awards_Won']\n",
        "final_df[award_cols] = final_df[award_cols].fillna(0).astype(int)\n",
        "\n",
        "\n",
        "final_df = final_df.drop(columns=['Release Group'])\n",
        "\n",
        "print(final_df.head())\n",
        "\n"
      ]
    },
    {
      "cell_type": "code",
      "source": [
        "# Filter the DataFrame to include only movies with Total_Awards_Won > 0\n",
        "award_winning_movies_df = final_df[final_df['Total_Awards_Won'] > 0].copy()\n",
        "\n",
        "print(f\"Original number of movies: {len(final_df)}\")\n",
        "print(f\"Number of award-winning movies: {len(award_winning_movies_df)}\")\n",
        "print(award_winning_movies_df.head())"
      ],
      "metadata": {
        "colab": {
          "base_uri": "https://localhost:8080/"
        },
        "id": "7QUW0F7tGil_",
        "outputId": "9621f0ea-c02f-47b3-be5b-de9b63475b7e"
      },
      "execution_count": 43,
      "outputs": [
        {
          "output_type": "stream",
          "name": "stdout",
          "text": [
            "Original number of movies: 16397\n",
            "Number of award-winning movies: 537\n",
            "           Title  Release Year  Release Month Release Date Release Season  \\\n",
            "1       Zootopia          2016              2   2016-02-11  Awards Season   \n",
            "4  Hacksaw Ridge          2016             10   2016-10-07  Awards Season   \n",
            "5  Hacksaw Ridge          2016             10   2016-10-07  Awards Season   \n",
            "6  Hacksaw Ridge          2016             10   2016-10-07  Awards Season   \n",
            "7  Hacksaw Ridge          2016             10   2016-10-07  Awards Season   \n",
            "\n",
            "   Worldwide Gross  Oscar_Win  GG_Win  BAFTA_Win  Total_Awards_Won  Won_Award  \\\n",
            "1       1023784195          1       0          0                 1       True   \n",
            "4        180563636          6       2          4                12       True   \n",
            "5        180563636          6       2          4                12       True   \n",
            "6        180563636          6       2          4                12       True   \n",
            "7        180563636          6       2          4                12       True   \n",
            "\n",
            "   Is_High_Gross  \n",
            "1           True  \n",
            "4          False  \n",
            "5          False  \n",
            "6          False  \n",
            "7          False  \n"
          ]
        }
      ]
    },
    {
      "cell_type": "code",
      "source": [
        "import numpy as np\n",
        "import matplotlib.pyplot as plt\n",
        "import seaborn as sns\n",
        "\n",
        "\n",
        "df_plot = award_winning_movies_df[['Release Month', 'Total_Awards_Won']].dropna()\n",
        "\n",
        "# Convert Release Month to integer\n",
        "df_plot['Release Month'] = df_plot['Release Month'].astype(int)\n",
        "\n",
        "# Sort months for better visualization\n",
        "df_plot = df_plot.sort_values(by='Release Month')\n",
        "\n",
        "# Plot\n",
        "plt.figure(figsize=(12,6))\n",
        "sns.barplot(\n",
        "    data=df_plot,\n",
        "    x='Release Month',\n",
        "    y='Total_Awards_Won',\n",
        "    estimator=np.mean,\n",
        "    errorbar=None, # Fix for ci=None deprecation\n",
        "    palette=\"viridis\", # Fix for FutureWarning by adding hue\n",
        "    hue='Release Month',\n",
        "    legend=False\n",
        ")\n",
        "plt.title('Average Awards Won by Release Month (Award-Winning Movies)', fontsize=14)\n",
        "plt.ylabel('Average Awards Won', fontsize=12)\n",
        "plt.xlabel('Release Month (1 = Jan, 12 = Dec)', fontsize=12)\n",
        "plt.xticks(rotation=0)\n",
        "plt.tight_layout()\n",
        "plt.show()"
      ],
      "metadata": {
        "colab": {
          "base_uri": "https://localhost:8080/",
          "height": 607
        },
        "id": "H5UyTyc_HH8B",
        "outputId": "cc4a91bb-8ed2-4902-fc8e-df986232d3b1"
      },
      "execution_count": 44,
      "outputs": [
        {
          "output_type": "display_data",
          "data": {
            "text/plain": [
              "<Figure size 1200x600 with 1 Axes>"
            ],
            "image/png": "[encoded data removed]"
          },
          "metadata": {}
        }
      ]
    },
    {
      "cell_type": "markdown",
      "source": [
        "There's variability in the average number of awards won among award-winning movies across different months.\n",
        "Months typically associated with Awards Season (like October, November, and December) seem to have higher average award counts among the award-winning films."
      ],
      "metadata": {
        "id": "5ewy5oGXHPxI"
      }
    },
    {
      "cell_type": "code",
      "source": [
        "import matplotlib.pyplot as plt\n",
        "import seaborn as sns\n",
        "\n",
        "plt.figure(figsize=(12,6))\n",
        "sns.scatterplot(data=award_winning_movies_df, x='Worldwide Gross', y='Total_Awards_Won')\n",
        "plt.title('Box Office Revenue vs Total Awards Won (Award-Winning Movies)')\n",
        "plt.xlabel('Box Office Revenue ($)')\n",
        "plt.ylabel('Total Awards Won')\n",
        "plt.xscale('log')  # Use a log scale for the x-axis due to large range in gross values\n",
        "plt.show()"
      ],
      "metadata": {
        "colab": {
          "base_uri": "https://localhost:8080/",
          "height": 569
        },
        "id": "q0IKGE2P9p_o",
        "outputId": "8996ac63-ca0e-4c07-a743-067b95a77f80"
      },
      "execution_count": 46,
      "outputs": [
        {
          "output_type": "display_data",
          "data": {
            "text/plain": [
              "<Figure size 1200x600 with 1 Axes>"
            ],
            "image/png": "[encoded data removed]"
          },
          "metadata": {}
        }
      ]
    },
    {
      "cell_type": "markdown",
      "source": [
        "There doesn't appear to be a very strong, tight linear relationship between worldwide gross and the number of awards won, even among award-winning films. While there might be a general trend where movies with higher gross tend to win more awards, there are many award-winning movies with moderate gross and a high number of awards, and some very high-grossing movies with a relatively low number of awards"
      ],
      "metadata": {
        "id": "HXSGaXPlH04W"
      }
    },
    {
      "cell_type": "code",
      "source": [
        "import matplotlib.pyplot as plt\n",
        "import seaborn as sns\n",
        "\n",
        "sns.set_style('whitegrid')\n",
        "\n",
        "fig, axes = plt.subplots(1, 2, figsize=(16,6))\n",
        "\n",
        "# Plot 1: Box Office performance by Release Season (Award-Winning Movies)\n",
        "sns.boxplot(x='Release Season', y='Worldwide Gross', data=award_winning_movies_df, ax=axes[0])\n",
        "axes[0].set_title('Box Office Performance by Release Season (Award-Winning Movies)')\n",
        "axes[0].set_ylabel('Worldwide Gross ($)')\n",
        "axes[0].set_xlabel('Release Season')\n",
        "axes[0].tick_params(axis='x', rotation=45)\n",
        "\n",
        "# Plot 2: Award success by Release Season (Award-Winning Movies)\n",
        "sns.boxplot(x='Release Season', y='Total_Awards_Won', data=award_winning_movies_df, ax=axes[1])\n",
        "axes[1].set_title('Award Success by Release Season (Award-Winning Movies)')\n",
        "axes[1].set_ylabel('Total Awards Won')\n",
        "axes[1].set_xlabel('Release Season')\n",
        "axes[1].tick_params(axis='x', rotation=45)\n",
        "\n",
        "plt.tight_layout()\n",
        "plt.show()"
      ],
      "metadata": {
        "colab": {
          "base_uri": "https://localhost:8080/",
          "height": 503
        },
        "id": "Bn4ifsR-J_Mw",
        "outputId": "05c6432c-6339-41e6-8588-9bdb2423ea0a"
      },
      "execution_count": 49,
      "outputs": [
        {
          "output_type": "display_data",
          "data": {
            "text/plain": [
              "<Figure size 1600x600 with 2 Axes>"
            ],
            "image/png": "[encoded data removed]"
          },
          "metadata": {}
        }
      ]
    },
    {
      "cell_type": "markdown",
      "source": [
        "Box Office Performance by Release Season (Left Plot):\n",
        "\n",
        "Similar to the plot with all movies, the median worldwide gross for award-winning movies doesn't vary drastically by season.\n",
        "However, the Holiday Season and Summer Blockbuster seasons still show some of the highest outliers in terms of worldwide gross, even within this group of award winners. This suggests that while award success can happen in any season, the massive box office hits that also win awards are more likely to be released in these traditional blockbuster periods.\n",
        "Award Success by Release Season (Right Plot):\n",
        "\n",
        "This plot is particularly insightful. While all movies in this dataset won at least one award, the Awards Season and Holiday Season clearly show higher medians and upper quartiles for the total number of awards won.\n",
        "Movies released in Awards Season show the highest median and the largest spread, with many outliers winning a significant number of awards.\n",
        "Holiday Season award winners also tend to win more awards on average than those from Spring or Summer.\n",
        "Spring and Summer Blockbuster award winners tend to win fewer awards overall, even if they were recognized at least once.\n"
      ],
      "metadata": {
        "id": "S7_UZMvBJGM0"
      }
    },
    {
      "cell_type": "code",
      "source": [
        "import statsmodels.api as sm\n",
        "from statsmodels.formula.api import ols\n",
        "import pandas as pd\n",
        "\n",
        "# Ensure 'Is_High_Gross' column exists from previous analysis\n",
        "if 'Is_High_Gross' not in final_df.columns:\n",
        "\n",
        "    threshold = final_df['Worldwide Gross'].quantile(0.75)\n",
        "    final_df['Is_High_Gross'] = final_df['Worldwide Gross'] >= threshold\n",
        "\n",
        "# Prepare the data for ANOVA\n",
        "# Need to drop rows with NaN in the columns used for ANOVA\n",
        "anova_df = final_df[['Release Season', 'Is_High_Gross', 'Total_Awards_Won']].dropna().rename(columns={'Release Season': 'Release_Season'})\n",
        "\n",
        "\n",
        "# Perform Two-Way ANOVA\n",
        "\n",
        "model = ols('Total_Awards_Won ~ C(Release_Season) + C(Is_High_Gross) + C(Release_Season):C(Is_High_Gross)', data=anova_df).fit()\n",
        "\n",
        "# Get the ANOVA table\n",
        "anova_table = sm.stats.anova_lm(model, typ=2)\n",
        "\n",
        "print(anova_table)"
      ],
      "metadata": {
        "colab": {
          "base_uri": "https://localhost:8080/"
        },
        "id": "PmPkGfVMAEux",
        "outputId": "cc8c6030-3116-454c-8232-00ed425de658"
      },
      "execution_count": 37,
      "outputs": [
        {
          "output_type": "stream",
          "name": "stdout",
          "text": [
            "                                    sum_sq    df    F  PR(>F)\n",
            "C(Release_Season)                     1285     3  124       0\n",
            "C(Is_High_Gross)                     10735     1 3114       0\n",
            "C(Release_Season):C(Is_High_Gross)    2824     3  273       0\n",
            "Residual                             56498 16389  NaN     NaN\n"
          ]
        }
      ]
    },
    {
      "cell_type": "markdown",
      "source": [
        "Based on the Two-Way ANOVA results, we reject null hypothesis (H₀) and support alternative hypothesis (H1). Both a movie's release timing and its box office success (specifically, whether it is high-grossing or not) have a statistically significant impact on its likelihood of receiving award season nominations or wins."
      ],
      "metadata": {
        "id": "flAkpBbBAF-8"
      }
    },
    {
      "cell_type": "code",
      "source": [
        "# Group by season and calculate the mean number of awards\n",
        "season_awards = final_df.groupby('Release Season')['Total_Awards_Won'].mean().sort_values(ascending=False)\n",
        "\n",
        "\n",
        "print(season_awards)\n",
        "\n",
        "#Plot for better visualization\n",
        "import seaborn as sns\n",
        "import matplotlib.pyplot as plt\n",
        "\n",
        "plt.figure(figsize=(10,6))\n",
        "sns.barplot(x=season_awards.index, y=season_awards.values, palette=\"viridis\")\n",
        "plt.title('Average Awards Won by Release Season', fontsize=16)\n",
        "plt.xlabel('Release Season', fontsize=14)\n",
        "plt.ylabel('Average Awards Won', fontsize=14)\n",
        "plt.xticks(rotation=45)\n",
        "plt.show()"
      ],
      "metadata": {
        "colab": {
          "base_uri": "https://localhost:8080/",
          "height": 772
        },
        "id": "cYjGgatXgkNv",
        "outputId": "e51c935c-a5eb-466d-98cc-d4c1d40b8826"
      },
      "execution_count": 60,
      "outputs": [
        {
          "output_type": "stream",
          "name": "stdout",
          "text": [
            "Release Season\n",
            "Holiday Season       1\n",
            "Awards Season        0\n",
            "Summer Blockbuster   0\n",
            "Spring               0\n",
            "Name: Total_Awards_Won, dtype: float64\n"
          ]
        },
        {
          "output_type": "display_data",
          "data": {
            "text/plain": [
              "<Figure size 1000x600 with 1 Axes>"
            ],
            "image/png": "[encoded data removed]"
          },
          "metadata": {}
        }
      ]
    },
    {
      "cell_type": "markdown",
      "source": [
        "The Holiday Season has the highest average number of awards won (around 1).\n",
        "The Awards Season, Summer Blockbuster, and Spring seasons have much lower average award counts (closer to 0)."
      ],
      "metadata": {
        "id": "vdONyqAcgl5S"
      }
    },
    {
      "cell_type": "code",
      "source": [
        "import matplotlib.pyplot as plt\n",
        "import seaborn as sns\n",
        "\n",
        "sns.lmplot(x='Worldwide Gross', y='Total_Awards_Won', data=final_df)\n",
        "plt.title('Worldwide Gross vs Total Awards Won (with Trendline)')\n",
        "plt.show()"
      ],
      "metadata": {
        "colab": {
          "base_uri": "https://localhost:8080/",
          "height": 529
        },
        "id": "aZIc-zQWhDQa",
        "outputId": "d6e08b53-d1ab-4bd3-a563-89e982b6336f"
      },
      "execution_count": 62,
      "outputs": [
        {
          "output_type": "display_data",
          "data": {
            "text/plain": [
              "<Figure size 500x500 with 1 Axes>"
            ],
            "image/png": "[encoded data removed]"
          },
          "metadata": {}
        }
      ]
    },
    {
      "cell_type": "markdown",
      "source": [
        "While the trendline shows a general upward slope, movies with higher worldwide gross tend to win more awards, the points are very scattered around the line. Some movies with relatively lower worldwide gross still managed to win a moderate number of awards (points further up on the left side)."
      ],
      "metadata": {
        "id": "h_ADgaPHhE5J"
      }
    },
    {
      "cell_type": "code",
      "source": [
        "import pandas as pd\n",
        "from scipy.stats import chi2_contingency\n",
        "\n",
        "# Ensure 'Is_High_Gross' and 'Won_Award' columns exist\n",
        "if 'Is_High_Gross' not in final_df.columns:\n",
        "    threshold = final_df['Worldwide Gross'].quantile(0.75)\n",
        "    final_df['Is_High_Gross'] = final_df['Worldwide Gross'] >= threshold\n",
        "\n",
        "if 'Won_Award' not in final_df.columns:\n",
        "     final_df['Won_Award'] = final_df['Total_Awards_Won'] > 0\n",
        "\n",
        "\n",
        "# Create a contingency table\n",
        "gross_award_crosstab = pd.crosstab(final_df['Is_High_Gross'], final_df['Won_Award'])\n",
        "print(\"Contingency Table (Is_High_Gross vs. Won_Award):\")\n",
        "print(gross_award_crosstab)\n",
        "\n",
        "# Perform Chi-Square test\n",
        "chi2, p, dof, expected = chi2_contingency(gross_award_crosstab)\n",
        "\n",
        "print(f\"\\nChi-Square Test Results:\")\n",
        "print(f\"  Chi-Square statistic: {chi2:.3f}\")\n",
        "print(f\"  p-value: {p:.5f}\") # Use more decimal places for very small p-values\n",
        "print(f\"  Degrees of freedom: {dof}\")\n",
        "\n",
        "# Calculate proportions for context\n",
        "proportion_award_winners = gross_award_crosstab.div(gross_award_crosstab.sum(axis=1), axis=0)\n",
        "print(\"\\nProportion of Movies that Won Awards by High Gross Status:\")\n",
        "print(proportion_award_winners)"
      ],
      "metadata": {
        "colab": {
          "base_uri": "https://localhost:8080/"
        },
        "id": "QRX180Vjho3w",
        "outputId": "c6c62c47-8967-4f1d-b84c-b302f56c0088"
      },
      "execution_count": 64,
      "outputs": [
        {
          "output_type": "stream",
          "name": "stdout",
          "text": [
            "Contingency Table (Is_High_Gross vs. Won_Award):\n",
            "Won_Award      False  True \n",
            "Is_High_Gross              \n",
            "False          15737    382\n",
            "True             123    155\n",
            "\n",
            "Chi-Square Test Results:\n",
            "  Chi-Square statistic: 2441.940\n",
            "  p-value: 0.00000\n",
            "  Degrees of freedom: 1\n",
            "\n",
            "Proportion of Movies that Won Awards by High Gross Status:\n",
            "Won_Award      False  True \n",
            "Is_High_Gross              \n",
            "False              1      0\n",
            "True               0      1\n"
          ]
        }
      ]
    },
    {
      "cell_type": "markdown",
      "source": [
        "To test if high-grossing movies are significantly more likely to win awards than low-grossing movies, we can use a Chi-Square test of independence between the 'Is_High_Gross' (high vs. low) and 'Won_Award' (yes vs. no) variables."
      ],
      "metadata": {
        "id": "BiIdRFk-hw7X"
      }
    },
    {
      "cell_type": "markdown",
      "source": [
        "This table shows the counts of movies in each category. Notice that a much larger proportion of 'True' values (award winners) are in the 'True' row for 'Is_High_Gross'.\n",
        "\n",
        "Chi-Square Test Results:\n",
        "\n",
        "Chi-Square statistic (2441.940): A large value, suggesting a strong association.\n",
        "p-value (0.00000): This p-value is extremely small (much less than 0.05)."
      ],
      "metadata": {
        "id": "_YGlW42Khy_K"
      }
    },
    {
      "cell_type": "markdown",
      "source": [
        "For movies that are not high-grossing ('False' for Is_High_Gross), the proportion that won an award is very low (around 0.024)\n",
        "For movies that are high-grossing ('True' for Is_High_Gross), the proportion that won an award is significantly higher (around 0.558)"
      ],
      "metadata": {
        "id": "kQiGGH4CiIhC"
      }
    },
    {
      "cell_type": "code",
      "execution_count": null,
      "metadata": {
        "colab": {
          "base_uri": "https://localhost:8080/"
        },
        "id": "Wt2HgEdvSnOb",
        "outputId": "6a43106a-f1a2-4a49-9714-1d830a415df9"
      },
      "outputs": [
        {
          "output_type": "stream",
          "name": "stdout",
          "text": [
            "                                    sum_sq    df    F  PR(>F)\n",
            "C(Release_Season)                     1333     3  132       0\n",
            "C(Is_High_Gross)                     11281     1 3341       0\n",
            "C(Release_Season):C(Is_High_Gross)    3154     3  311       0\n",
            "Residual                             55312 16384  NaN     NaN\n"
          ]
        }
      ],
      "source": [
        "import statsmodels.api as sm\n",
        "from statsmodels.formula.api import ols\n",
        "\n",
        "anova_df = final_df[['Release Season', 'Is_High_Gross', 'Total_Awards_Won']].dropna().rename(columns={'Release Season': 'Release_Season'})\n",
        "\n",
        "\n",
        "#Two-Way ANOVA\n",
        "\n",
        "\n",
        "model = ols('Total_Awards_Won ~ C(Release_Season) + C(Is_High_Gross) + C(Release_Season):C(Is_High_Gross)', data=anova_df).fit()\n",
        "anova_table = sm.stats.anova_lm(model, typ=2)\n",
        "print(anova_table)\n",
        "\n"
      ]
    },
    {
      "cell_type": "markdown",
      "metadata": {
        "id": "sM6zytVTG64F"
      },
      "source": [
        "A Two-Way ANOVA confirms that both Release Season and Box Office Performance significantly affect a film’s award success. More importantly, their interaction is also significant, suggesting that commercial success influences award outcomes differently depending on when a film is released. This reinforces the hypothesis that both strategic timing and financial success play critical roles in maximizing award potential."
      ]
    },
    {
      "cell_type": "markdown",
      "source": [
        "The model achieved an overall accuracy of 0.81. For predicting \"High Award\" movies (class 1), the precision was 0.72 (meaning 72% of movies predicted as High Award were actually High Award), and the recall was 0.79 (meaning the model correctly identified 79% of the actual High Award movies). The F1-score, which balances precision and recall, was 0.75.\n",
        "For predicting \"Low Award\" movies (class 0), the precision was 0.87, and the recall was 0.82. The F1-score was 0.85."
      ],
      "metadata": {
        "id": "qkm3FT9cThNz"
      }
    },
    {
      "cell_type": "markdown",
      "source": [
        "The confusion matrix shows 117 True Negatives (correctly predicted Low Award), 63 True Positives (correctly predicted High Award), 25 False Positives (predicted High Award but were Low Award), and 17 False Negatives (predicted Low Award but were High Award)."
      ],
      "metadata": {
        "id": "466dLDhuUPJ3"
      }
    },
    {
      "cell_type": "markdown",
      "source": [
        "Is there a significant linear relationship between 'Worldwide Gross' and 'Total_Awards_Won' for award-winning movies?"
      ],
      "metadata": {
        "id": "4TnnIrymI_u9"
      }
    },
    {
      "cell_type": "markdown",
      "source": [],
      "metadata": {
        "id": "2WIaGc09P4qy"
      }
    },
    {
      "cell_type": "code",
      "metadata": {
        "colab": {
          "base_uri": "https://localhost:8080/"
        },
        "id": "4adc995f",
        "outputId": "f8e384a0-9a61-412b-9c22-0a166a65eec4"
      },
      "source": [
        "import statsmodels.api as sm\n",
        "import pandas as pd\n",
        "\n",
        "# Prepare data for regression - ensure no NaNs in the columns used\n",
        "regression_df = award_winning_movies_df[['Worldwide Gross', 'Total_Awards_Won']].dropna()\n",
        "\n",
        "# Define dependent variable (y) and independent variable (x)\n",
        "y = regression_df['Total_Awards_Won']\n",
        "x = regression_df['Worldwide Gross']\n",
        "\n",
        "# Add a constant to the independent variable for the intercept\n",
        "x = sm.add_constant(x)\n",
        "\n",
        "# Fit the OLS model\n",
        "model = sm.OLS(y, x).fit()\n",
        "\n",
        "# Print just the R-squared value\n",
        "print(f\"R-squared: {model.rsquared:.3f}\")"
      ],
      "execution_count": 56,
      "outputs": [
        {
          "output_type": "stream",
          "name": "stdout",
          "text": [
            "R-squared: 0.003\n"
          ]
        }
      ]
    },
    {
      "cell_type": "markdown",
      "source": [
        "This confirms the very weak linear relationship between Worldwide Gross and the total number of awards won among award-winning movies in this dataset."
      ],
      "metadata": {
        "id": "B5xwhgIkfTFN"
      }
    },
    {
      "cell_type": "code",
      "metadata": {
        "colab": {
          "base_uri": "https://localhost:8080/"
        },
        "id": "2bb00ee5",
        "outputId": "8f93c7bd-491a-4ba1-91a8-8c35033f06a3"
      },
      "source": [
        "import pandas as pd\n",
        "from sklearn.model_selection import train_test_split\n",
        "from sklearn.preprocessing import OneHotEncoder\n",
        "from sklearn.compose import ColumnTransformer\n",
        "from sklearn.pipeline import Pipeline\n",
        "import numpy as np\n",
        "\n",
        "# 1. Define the target variable 'Is_High_Award'\n",
        "# Define 'High Award' as winning at least one award (Total_Awards_Won > 0)\n",
        "final_df['Is_High_Award'] = (final_df['Total_Awards_Won'] > 0).astype(int) # Changed threshold to > 0\n",
        "\n",
        "# Check the distribution of the target variable\n",
        "print(\"Distribution of 'Is_High_Award':\")\n",
        "print(final_df['Is_High_Award'].value_counts())\n",
        "\n",
        "\n",
        "# 2. Select Features (X) and Target (y)\n",
        "features = ['Release Season', 'Worldwide Gross']\n",
        "target = 'Is_High_Award'\n",
        "\n",
        "X = final_df[features].copy()\n",
        "y = final_df[target].copy()\n",
        "\n",
        "# Handle missing values in 'Worldwide Gross' - fill with median or mean\n",
        "# Using median to be less sensitive to outliers\n",
        "X['Worldwide Gross'].fillna(X['Worldwide Gross'].median(), inplace=True)\n",
        "\n",
        "\n",
        "# 3. Handle Categorical Features (One-Hot Encoding for 'Release Season')\n",
        "# Define preprocessing steps\n",
        "preprocessor = ColumnTransformer(\n",
        "    transformers=[\n",
        "        ('onehot', OneHotEncoder(handle_unknown='ignore'), ['Release Season'])\n",
        "    ],\n",
        "    remainder='passthrough' # Keep other columns ('Worldwide Gross')\n",
        ")\n",
        "\n",
        "\n",
        "# 4. Split the data into training and testing sets\n",
        "X_train, X_test, y_train, y_test = train_test_split(X, y, test_size=0.25, random_state=42, stratify=y)\n",
        "\n",
        "print(f\"\\nTraining data shape: {X_train.shape}\")\n",
        "print(f\"Testing data shape: {X_test.shape}\")\n",
        "print(f\"Target distribution in training set:\\n{y_train.value_counts(normalize=True)}\")\n",
        "print(f\"Target distribution in testing set:\\n{y_test.value_counts(normalize=True)}\")"
      ],
      "execution_count": 68,
      "outputs": [
        {
          "output_type": "stream",
          "name": "stdout",
          "text": [
            "Distribution of 'Is_High_Award':\n",
            "Is_High_Award\n",
            "0    15860\n",
            "1      537\n",
            "Name: count, dtype: int64\n",
            "\n",
            "Training data shape: (12297, 2)\n",
            "Testing data shape: (4100, 2)\n",
            "Target distribution in training set:\n",
            "Is_High_Award\n",
            "0   1\n",
            "1   0\n",
            "Name: proportion, dtype: float64\n",
            "Target distribution in testing set:\n",
            "Is_High_Award\n",
            "0   1\n",
            "1   0\n",
            "Name: proportion, dtype: float64\n"
          ]
        }
      ]
    },
    {
      "cell_type": "code",
      "metadata": {
        "colab": {
          "base_uri": "https://localhost:8080/"
        },
        "id": "1753d589",
        "outputId": "8e91139b-ce35-4df5-e28b-34703542de0e"
      },
      "source": [
        "from sklearn.neighbors import KNeighborsClassifier\n",
        "from sklearn.pipeline import Pipeline\n",
        "from sklearn.preprocessing import StandardScaler # Import StandardScaler\n",
        "from sklearn.compose import ColumnTransformer\n",
        "from sklearn.model_selection import train_test_split\n",
        "import pandas as pd\n",
        "import numpy as np\n",
        "\n",
        "# Re-define preprocessor to include scaling for numerical features\n",
        "# Identify numerical and categorical features\n",
        "categorical_features = ['Release Season']\n",
        "numerical_features = ['Worldwide Gross'] # Add Worldwide Gross as a numerical feature\n",
        "\n",
        "preprocessor = ColumnTransformer(\n",
        "    transformers=[\n",
        "        ('onehot', OneHotEncoder(handle_unknown='ignore'), categorical_features),\n",
        "        ('scaler', StandardScaler(), numerical_features) # Add StandardScaler for numerical features\n",
        "    ],\n",
        "    remainder='passthrough' # Keep other columns - though none here after selection\n",
        ")\n",
        "\n",
        "# Define the k-NN model\n",
        "# You can adjust the number of neighbors (n_neighbors) later\n",
        "knn_model = KNeighborsClassifier(n_neighbors=5)\n",
        "\n",
        "# Create the pipeline\n",
        "pipeline = Pipeline(steps=[('preprocessor', preprocessor),\n",
        "                           ('classifier', knn_model)])\n",
        "\n",
        "# Train the model\n",
        "pipeline.fit(X_train, y_train)\n",
        "\n",
        "print(\"k-Nearest Neighbors model trained successfully!\")"
      ],
      "execution_count": 69,
      "outputs": [
        {
          "output_type": "stream",
          "name": "stdout",
          "text": [
            "k-Nearest Neighbors model trained successfully!\n"
          ]
        }
      ]
    },
    {
      "cell_type": "code",
      "metadata": {
        "colab": {
          "base_uri": "https://localhost:8080/"
        },
        "id": "8078296d",
        "outputId": "5cc8cd01-213f-452c-b378-6013d9379cec"
      },
      "source": [
        "from sklearn.metrics import classification_report, confusion_matrix, accuracy_score\n",
        "\n",
        "# Make predictions on the test set\n",
        "y_pred = pipeline.predict(X_test)\n",
        "\n",
        "# Evaluate the model\n",
        "print(\"k-Nearest Neighbors Model Evaluation:\")\n",
        "print(\"\\nAccuracy:\", accuracy_score(y_test, y_pred))\n",
        "print(\"\\nConfusion Matrix:\\n\", confusion_matrix(y_test, y_pred))\n",
        "print(\"\\nClassification Report:\\n\", classification_report(y_test, y_pred))"
      ],
      "execution_count": 70,
      "outputs": [
        {
          "output_type": "stream",
          "name": "stdout",
          "text": [
            "k-Nearest Neighbors Model Evaluation:\n",
            "\n",
            "Accuracy: 0.9758536585365853\n",
            "\n",
            "Confusion Matrix:\n",
            " [[3931   35]\n",
            " [  64   70]]\n",
            "\n",
            "Classification Report:\n",
            "               precision    recall  f1-score   support\n",
            "\n",
            "           0       0.98      0.99      0.99      3966\n",
            "           1       0.67      0.52      0.59       134\n",
            "\n",
            "    accuracy                           0.98      4100\n",
            "   macro avg       0.83      0.76      0.79      4100\n",
            "weighted avg       0.97      0.98      0.97      4100\n",
            "\n"
          ]
        }
      ]
    },
    {
      "cell_type": "markdown",
      "source": [
        "The model performs very well at identifying movies that are not High Award (class 0), which is expected given the large number of movies in this category.\n",
        "\n",
        "However, its performance on the minority class ('High Award', class 1) is less strong. It correctly identifies about 52% of the actual High Award movies (Recall), and when it predicts a movie is High Award, it's correct about 67% of the time (Precision). The F1-score of 0.59 provides a balanced view of its performance on the 'High Award' class.\n",
        "\n",
        "This suggests that while the model has some ability to identify movies likely to win a high number of awards based on release season and worldwide gross, there is room for improvement, especially in correctly identifying all the actual High Award movies."
      ],
      "metadata": {
        "id": "jDD2uYkXmX4K"
      }
    },
    {
      "cell_type": "code",
      "source": [],
      "metadata": {
        "id": "hPFN1cgPmZ9_"
      },
      "execution_count": null,
      "outputs": []
    },
    {
      "cell_type": "code",
      "metadata": {
        "colab": {
          "base_uri": "https://localhost:8080/"
        },
        "id": "d0d34b41",
        "outputId": "a51fe07a-c704-47e6-f8b7-94a616665f1d"
      },
      "source": [
        "from sklearn.tree import DecisionTreeClassifier\n",
        "from sklearn.pipeline import Pipeline\n",
        "from sklearn.preprocessing import StandardScaler, OneHotEncoder\n",
        "from sklearn.compose import ColumnTransformer\n",
        "from sklearn.model_selection import train_test_split\n",
        "from sklearn.metrics import classification_report, confusion_matrix, accuracy_score\n",
        "import pandas as pd\n",
        "import numpy as np\n",
        "\n",
        "# Assuming X_train, X_test, y_train, y_test are already defined and preprocessed setup is available\n",
        "# If not, you would need to include the data loading and preprocessing steps here again.\n",
        "# For now, we'll assume the previous data preparation cell has been run.\n",
        "\n",
        "# Re-define preprocessor if needed (or ensure it's in the current session's memory)\n",
        "categorical_features = ['Release Season']\n",
        "numerical_features = ['Worldwide Gross']\n",
        "\n",
        "# Ensure preprocessor is defined - include StandardScaler again for consistency\n",
        "preprocessor = ColumnTransformer(\n",
        "    transformers=[\n",
        "        ('onehot', OneHotEncoder(handle_unknown='ignore'), categorical_features),\n",
        "        ('scaler', StandardScaler(), numerical_features)\n",
        "    ],\n",
        "    remainder='passthrough'\n",
        ")\n",
        "\n",
        "\n",
        "# Define the Decision Tree model\n",
        "# You can adjust hyperparameters like max_depth later\n",
        "dt_model = DecisionTreeClassifier(random_state=42)\n",
        "\n",
        "# Create the pipeline\n",
        "pipeline_dt = Pipeline(steps=[('preprocessor', preprocessor),\n",
        "                              ('classifier', dt_model)])\n",
        "\n",
        "# Train the model\n",
        "pipeline_dt.fit(X_train, y_train)\n",
        "\n",
        "print(\"Decision Tree Classifier model trained successfully!\")\n",
        "\n",
        "# Make predictions on the test set\n",
        "y_pred_dt = pipeline_dt.predict(X_test)\n",
        "\n",
        "# Evaluate the model\n",
        "print(\"\\nDecision Tree Classifier Model Evaluation:\")\n",
        "print(\"\\nAccuracy:\", accuracy_score(y_test, y_pred_dt))\n",
        "print(\"\\nConfusion Matrix:\\n\", confusion_matrix(y_test, y_pred_dt))\n",
        "print(\"\\nClassification Report:\\n\", classification_report(y_test, y_pred_dt))"
      ],
      "execution_count": 71,
      "outputs": [
        {
          "output_type": "stream",
          "name": "stdout",
          "text": [
            "Decision Tree Classifier model trained successfully!\n",
            "\n",
            "Decision Tree Classifier Model Evaluation:\n",
            "\n",
            "Accuracy: 0.9795121951219512\n",
            "\n",
            "Confusion Matrix:\n",
            " [[3934   32]\n",
            " [  52   82]]\n",
            "\n",
            "Classification Report:\n",
            "               precision    recall  f1-score   support\n",
            "\n",
            "           0       0.99      0.99      0.99      3966\n",
            "           1       0.72      0.61      0.66       134\n",
            "\n",
            "    accuracy                           0.98      4100\n",
            "   macro avg       0.85      0.80      0.83      4100\n",
            "weighted avg       0.98      0.98      0.98      4100\n",
            "\n"
          ]
        }
      ]
    },
    {
      "cell_type": "markdown",
      "source": [
        "The Decision Tree Classifier shows slightly better performance on the minority class ('High Award') compared to the k-Nearest Neighbors model. It has higher precision, recall, and F1-score for class 1. This means it's better at identifying actual High Award movies and is more accurate when it predicts a movie will be High Award.\n",
        "\n",
        "While the performance on the minority class is improved, there are still a significant number of false negatives (movies that were High Award but predicted as Low Award - 52)."
      ],
      "metadata": {
        "id": "qIjXGalrmrN5"
      }
    },
    {
      "cell_type": "code",
      "metadata": {
        "colab": {
          "base_uri": "https://localhost:8080/"
        },
        "id": "31edc22f",
        "outputId": "fb3bab52-8a91-4b99-ae2f-d928c0ee022a"
      },
      "source": [
        "from sklearn.ensemble import RandomForestClassifier\n",
        "from sklearn.pipeline import Pipeline\n",
        "from sklearn.preprocessing import StandardScaler, OneHotEncoder\n",
        "from sklearn.compose import ColumnTransformer\n",
        "from sklearn.model_selection import train_test_split\n",
        "from sklearn.metrics import classification_report, confusion_matrix, accuracy_score\n",
        "import pandas as pd\n",
        "import numpy as np\n",
        "\n",
        "# Assuming X_train, X_test, y_train, y_test are already defined and preprocessed setup is available\n",
        "\n",
        "# Ensure preprocessor is defined\n",
        "categorical_features = ['Release Season']\n",
        "numerical_features = ['Worldwide Gross']\n",
        "\n",
        "preprocessor = ColumnTransformer(\n",
        "    transformers=[\n",
        "        ('onehot', OneHotEncoder(handle_unknown='ignore'), categorical_features),\n",
        "        ('scaler', StandardScaler(), numerical_features)\n",
        "    ],\n",
        "    remainder='passthrough'\n",
        ")\n",
        "\n",
        "# Define the Random Forest model\n",
        "# Add class_weight='balanced' to handle class imbalance\n",
        "rf_model = RandomForestClassifier(random_state=42, class_weight='balanced') # Added class_weight\n",
        "\n",
        "# Create the pipeline\n",
        "pipeline_rf = Pipeline(steps=[('preprocessor', preprocessor),\n",
        "                               ('classifier', rf_model)])\n",
        "\n",
        "# Train the model\n",
        "pipeline_rf.fit(X_train, y_train)\n",
        "\n",
        "print(\"Random Forest Classifier model (with class_weight='balanced') trained successfully!\")\n",
        "\n",
        "# Make predictions on the test set\n",
        "y_pred_rf = pipeline_rf.predict(X_test)\n",
        "\n",
        "# Evaluate the model\n",
        "print(\"\\nRandom Forest Classifier Model Evaluation (with class_weight='balanced'):\")\n",
        "print(\"\\nAccuracy:\", accuracy_score(y_test, y_pred_rf))\n",
        "print(\"\\nConfusion Matrix:\\n\", confusion_matrix(y_test, y_pred_rf))\n",
        "print(\"\\nClassification Report:\\n\", classification_report(y_test, y_pred_rf))"
      ],
      "execution_count": 73,
      "outputs": [
        {
          "output_type": "stream",
          "name": "stdout",
          "text": [
            "Random Forest Classifier model (with class_weight='balanced') trained successfully!\n",
            "\n",
            "Random Forest Classifier Model Evaluation (with class_weight='balanced'):\n",
            "\n",
            "Accuracy: 0.978780487804878\n",
            "\n",
            "Confusion Matrix:\n",
            " [[3934   32]\n",
            " [  55   79]]\n",
            "\n",
            "Classification Report:\n",
            "               precision    recall  f1-score   support\n",
            "\n",
            "           0       0.99      0.99      0.99      3966\n",
            "           1       0.71      0.59      0.64       134\n",
            "\n",
            "    accuracy                           0.98      4100\n",
            "   macro avg       0.85      0.79      0.82      4100\n",
            "weighted avg       0.98      0.98      0.98      4100\n",
            "\n"
          ]
        }
      ]
    },
    {
      "cell_type": "markdown",
      "source": [
        "The Random Forest Classifier performs quite similarly to the Decision Tree on the minority class ('High Award'), with slightly different trade-offs between precision and recall. Both the Decision Tree and Random Forest models show better performance on the minority class compared to the k-NN model, as indicated by their higher precision, recall, and F1-scores for class 1."
      ],
      "metadata": {
        "id": "nRYTaC4SnZZa"
      }
    }
  ],
  "metadata": {
    "colab": {
      "provenance": [],
      "include_colab_link": true
    },
    "kernelspec": {
      "display_name": "Python 3",
      "name": "python3"
    },
    "language_info": {
      "name": "python"
    }
  },
  "nbformat": 4,
  "nbformat_minor": 0
}