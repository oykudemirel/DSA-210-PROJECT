{
  "nbformat": 4,
  "nbformat_minor": 0,
  "metadata": {
    "colab": {
      "provenance": [],
      "authorship_tag": "ABX9TyNsY2KRR807hnPWhizykV1q",
      "include_colab_link": true
    },
    "kernelspec": {
      "name": "python3",
      "display_name": "Python 3"
    },
    "language_info": {
      "name": "python"
    }
  },
  "cells": [
    {
      "cell_type": "markdown",
      "metadata": {
        "id": "view-in-github",
        "colab_type": "text"
      },
      "source": [
        "<a href=\"https://colab.research.google.com/github/oykudemirel/DSA-210-PROJECT/blob/main/dsa210project.ipynb\" target=\"_parent\"><img src=\"https://colab.research.google.com/assets/colab-badge.svg\" alt=\"Open In Colab\"/></a>"
      ]
    },
    {
      "cell_type": "code",
      "source": [
        "#Get the tmdb list which has all the movies\n",
        "\n",
        "import requests\n",
        "import time\n",
        "import pandas as pd\n",
        "\n",
        "API_KEY = '823fecbf63a8e7692fe9329ead448aac'\n",
        "base_url = \"https://api.themoviedb.org/3/discover/movie\"\n",
        "\n",
        "all_movies = []\n",
        "\n",
        "for year in range(2016, 2021):\n",
        "    print(f\"Processing year: {year}\")\n",
        "    page = 1\n",
        "\n",
        "    while True:\n",
        "        params = {\n",
        "    \"api_key\": API_KEY,\n",
        "    \"primary_release_year\": year,\n",
        "    \"sort_by\": \"popularity.desc\",  # Sort results so we get the most relevant\n",
        "    \"vote_count.gte\": 10,          # Only include movies with at least 10 votes\n",
        "    \"page\": page\n",
        "}\n",
        "\n",
        "\n",
        "        response = requests.get(base_url, params=params)\n",
        "        data = response.json()\n",
        "\n",
        "        if 'results' not in data or len(data['results']) == 0:\n",
        "            print(\"No results, stopping...\")\n",
        "            break\n",
        "\n",
        "        for movie in data['results']:\n",
        "            title = movie.get('title', '')\n",
        "            release_date = movie.get('release_date', '')\n",
        "\n",
        "            if release_date:\n",
        "                year_part = int(release_date.split('-')[0])\n",
        "                month_part = int(release_date.split('-')[1])\n",
        "            else:\n",
        "                year_part = year\n",
        "                month_part = None\n",
        "\n",
        "            all_movies.append({\n",
        "                \"Title\": title,\n",
        "                \"Release Year\": year_part,\n",
        "                \"Release Month\": month_part,\n",
        "                \"Release Date\": release_date\n",
        "            })\n",
        "\n",
        "        if page >= data.get('total_pages', 1):\n",
        "            break\n",
        "        page += 1\n",
        "        time.sleep(0.3)\n",
        "\n",
        "\n",
        "df = pd.DataFrame(all_movies)\n",
        "df.to_csv(\"tmdb_movies_2016_2020.csv\", index=False)\n",
        "print(df.head())\n",
        "\n"
      ],
      "metadata": {
        "colab": {
          "base_uri": "https://localhost:8080/"
        },
        "id": "lKuGr7sMd8Po",
        "outputId": "3905d4f3-27b4-432c-80b1-023eacc7e35b"
      },
      "execution_count": null,
      "outputs": [
        {
          "output_type": "stream",
          "name": "stdout",
          "text": [
            "Processing year: 2016\n",
            "Processing year: 2017\n",
            "Processing year: 2018\n",
            "Processing year: 2019\n",
            "Processing year: 2020\n",
            "                                Title  Release Year  Release Month  \\\n",
            "0  Batman v Superman: Dawn of Justice          2016              3   \n",
            "1               The Girl on the Train          2016             10   \n",
            "2                      The Accountant          2016             10   \n",
            "3              Underworld: Blood Wars          2016             11   \n",
            "4                           Moonlight          2016             10   \n",
            "\n",
            "  Release Date  \n",
            "0   2016-03-23  \n",
            "1   2016-10-05  \n",
            "2   2016-10-13  \n",
            "3   2016-11-24  \n",
            "4   2016-10-21  \n"
          ]
        }
      ]
    },
    {
      "cell_type": "code",
      "source": [
        "# Categorize the seasons\n",
        "def categorize_season(month):\n",
        "    if month in [11, 12]:\n",
        "        return 'Holiday Season'\n",
        "    elif month in [1, 2, 9, 10]:\n",
        "        return 'Awards Season'\n",
        "    elif month in [6, 7, 8]:\n",
        "        return 'Summer Blockbuster'\n",
        "    elif month in [3, 4, 5]:\n",
        "        return 'Spring'\n",
        "    else:\n",
        "        return 'Other'  # For missing or weird months\n",
        "\n",
        "df['Release Season'] = df['Release Month'].apply(categorize_season)\n",
        "\n",
        "\n",
        "print(df[['Title', 'Release Year', 'Release Month', 'Release Season']].head())\n"
      ],
      "metadata": {
        "colab": {
          "base_uri": "https://localhost:8080/"
        },
        "id": "fQZ08GUfhXsH",
        "outputId": "81d97ea5-ef09-4711-cf85-199fabd5fb5c"
      },
      "execution_count": null,
      "outputs": [
        {
          "output_type": "stream",
          "name": "stdout",
          "text": [
            "                                Title  Release Year  Release Month  \\\n",
            "0  Batman v Superman: Dawn of Justice          2016              3   \n",
            "1               The Girl on the Train          2016             10   \n",
            "2                      The Accountant          2016             10   \n",
            "3              Underworld: Blood Wars          2016             11   \n",
            "4                           Moonlight          2016             10   \n",
            "\n",
            "   Release Season  \n",
            "0          Spring  \n",
            "1   Awards Season  \n",
            "2   Awards Season  \n",
            "3  Holiday Season  \n",
            "4   Awards Season  \n"
          ]
        }
      ]
    },
    {
      "cell_type": "code",
      "source": [
        "# Movies per Release Season\n",
        "season_counts = df['Release Season'].value_counts()\n",
        "print(season_counts)\n",
        "\n",
        "\n",
        "import matplotlib.pyplot as plt\n",
        "\n",
        "season_counts.plot(kind='bar', color='skyblue')\n",
        "plt.title('Number of Movies per Release Season (2016-2020)')\n",
        "plt.ylabel('Number of Movies')\n",
        "plt.xlabel('Release Season')\n",
        "plt.xticks(rotation=45)\n",
        "plt.show()\n"
      ],
      "metadata": {
        "colab": {
          "base_uri": "https://localhost:8080/",
          "height": 677
        },
        "id": "cEG2OYYvhnh3",
        "outputId": "8bb63ce6-66ca-4c10-a830-220f8f1d5e04"
      },
      "execution_count": null,
      "outputs": [
        {
          "output_type": "stream",
          "name": "stdout",
          "text": [
            "Release Season\n",
            "Awards Season         6060\n",
            "Spring                3653\n",
            "Summer Blockbuster    3427\n",
            "Holiday Season        2856\n",
            "Name: count, dtype: int64\n"
          ]
        },
        {
          "output_type": "display_data",
          "data": {
            "text/plain": [
              "<Figure size 640x480 with 1 Axes>"
            ],
            "image/png": "[encoded data removed]"
          },
          "metadata": {}
        }
      ]
    },
    {
      "cell_type": "code",
      "source": [
        "#Web scraped the website Box Office Mojo to get the box office numbers\n",
        "import requests\n",
        "from bs4 import BeautifulSoup\n",
        "import pandas as pd\n",
        "import time\n",
        "\n",
        "pd.set_option('display.float_format', '{:.0f}'.format)\n",
        "\n",
        "years = list(range(2016, 2021))\n",
        "\n",
        "base_url = \"https://www.boxofficemojo.com/year/world/{year}/\"\n",
        "\n",
        "\n",
        "all_data = []\n",
        "\n",
        "headers = {\n",
        "    \"User-Agent\": \"Mozilla/5.0 (Windows NT 10.0; Win64; x64)\"\n",
        "}\n",
        "\n",
        "for year in years:\n",
        "    print(f\"Processing year: {year}\")\n",
        "    url = base_url.format(year=year)\n",
        "    try:\n",
        "        response = requests.get(url, headers=headers)\n",
        "        response.raise_for_status()\n",
        "    except requests.exceptions.RequestException as e:\n",
        "        print(f\"Failed to retrieve data for {year}: {e}\")\n",
        "        continue\n",
        "\n",
        "    soup = BeautifulSoup(response.text, 'html.parser')\n",
        "\n",
        "    # Find the table containing the box office data\n",
        "    table = soup.find('table')\n",
        "    if not table:\n",
        "        print(f\"No table found for {year}\")\n",
        "        continue\n",
        "\n",
        "    # Extract table rows, skip header row,\n",
        "    rows = table.find_all('tr')[1:]\n",
        "\n",
        "    for row in rows:\n",
        "        cols = row.find_all('td')\n",
        "        if len(cols) < 3:\n",
        "            continue  # Skip rows that don't have enough columns\n",
        "        release_group = cols[1].get_text(strip=True)\n",
        "        worldwide_gross = cols[2].get_text(strip=True)\n",
        "        all_data.append({\n",
        "            'Year': year,\n",
        "            'Release Group': release_group,\n",
        "            'Worldwide Gross': worldwide_gross\n",
        "        })\n",
        "\n",
        "\n",
        "    time.sleep(1)\n",
        "\n",
        "\n",
        "df_box_office = pd.DataFrame(all_data)\n",
        "\n",
        "\n",
        "\n",
        "# Remove dollar signs and commas and convert to numeric\n",
        "df_box_office['Worldwide Gross'] = df_box_office['Worldwide Gross'].replace('[\\$,]', '', regex=True).astype(float)\n",
        "\n",
        "\n",
        "print(df_box_office.head())\n"
      ],
      "metadata": {
        "colab": {
          "base_uri": "https://localhost:8080/"
        },
        "id": "4gH8sWQehpch",
        "outputId": "44a3aa36-436e-4730-ad6e-2e77b9bb4f55"
      },
      "execution_count": null,
      "outputs": [
        {
          "output_type": "stream",
          "name": "stdout",
          "text": [
            "Processing year: 2016\n",
            "Processing year: 2017\n",
            "Processing year: 2018\n",
            "Processing year: 2019\n",
            "Processing year: 2020\n",
            "   Year                 Release Group  Worldwide Gross\n",
            "0  2016    Captain America: Civil War       1153296293\n",
            "1  2016  Rogue One: A Star Wars Story       1056057273\n",
            "2  2016                  Finding Dory       1028570889\n",
            "3  2016                      Zootopia       1023784195\n",
            "4  2016               The Jungle Book        966550600\n"
          ]
        }
      ]
    },
    {
      "cell_type": "code",
      "source": [
        "#Normalize titles\n",
        "def normalize_title(title):\n",
        "    if pd.isnull(title):\n",
        "        return \"\"\n",
        "    return title.lower().strip()\n",
        "\n",
        "\n",
        "df['normalized_title'] = df['Title'].apply(normalize_title)\n",
        "df_box_office['normalized_title'] = df_box_office['Release Group'].apply(normalize_title)\n",
        "\n",
        "#Merge on normalized titles and year\n",
        "merged_df = pd.merge(\n",
        "    df,\n",
        "    df_box_office,\n",
        "    left_on=['normalized_title', 'Release Year'],\n",
        "    right_on=['normalized_title', 'Year'],\n",
        "    how='left'\n",
        ")\n",
        "\n",
        "#Fix the _x and _y\n",
        "def clean_merge_columns(df, prefer='_x'):\n",
        "\n",
        "    for col in df.columns:\n",
        "        if col.endswith(prefer):\n",
        "            base = col[:-2]  # remove _x or _y\n",
        "            other = base + ('_y' if prefer == '_x' else '_x')\n",
        "            if other in df.columns:\n",
        "                df = df.drop(columns=[other])\n",
        "            df = df.rename(columns={col: base})\n",
        "    return df\n",
        "\n",
        "merged_df = clean_merge_columns(merged_df)\n",
        "\n",
        "merged_df.drop(columns=['normalized_title', 'Year'], errors='ignore', inplace=True)\n",
        "\n",
        "print(merged_df[['Title', 'Release Year', 'Release Month', 'Release Season', 'Worldwide Gross']].head())\n"
      ],
      "metadata": {
        "colab": {
          "base_uri": "https://localhost:8080/"
        },
        "id": "K5vGLhlcmuoY",
        "outputId": "0ea7dcf1-357f-414c-807a-5c7a3acb634d"
      },
      "execution_count": null,
      "outputs": [
        {
          "output_type": "stream",
          "name": "stdout",
          "text": [
            "                                Title  Release Year  Release Month  \\\n",
            "0  Batman v Superman: Dawn of Justice          2016              3   \n",
            "1               The Girl on the Train          2016             10   \n",
            "2                      The Accountant          2016             10   \n",
            "3              Underworld: Blood Wars          2016             11   \n",
            "4                           Moonlight          2016             10   \n",
            "\n",
            "   Release Season  Worldwide Gross  \n",
            "0          Spring        874360194  \n",
            "1   Awards Season        173185859  \n",
            "2   Awards Season        155560045  \n",
            "3  Holiday Season         81093313  \n",
            "4   Awards Season         65172611  \n"
          ]
        }
      ]
    },
    {
      "cell_type": "code",
      "source": [
        "! pip install -q kaggle\n",
        "from google.colab import files\n",
        "files.upload()"
      ],
      "metadata": {
        "colab": {
          "base_uri": "https://localhost:8080/",
          "height": 92
        },
        "id": "Hu4vE2FwnLfS",
        "outputId": "9734d0e2-73ad-499e-d4ab-c079f064a3c0"
      },
      "execution_count": null,
      "outputs": [
        {
          "output_type": "display_data",
          "data": {
            "text/plain": [
              "<IPython.core.display.HTML object>"
            ],
            "text/html": [
              "\n",
              "     <input type=\"file\" id=\"files-bd643bfb-2b90-4010-a284-831b31e79f2c\" name=\"files[]\" multiple disabled\n",
              "        style=\"border:none\" />\n",
              "     <output id=\"result-bd643bfb-2b90-4010-a284-831b31e79f2c\">\n",
              "      Upload widget is only available when the cell has been executed in the\n",
              "      current browser session. Please rerun this cell to enable.\n",
              "      </output>\n",
              "      <script>// Copyright 2017 Google LLC\n",
              "//\n",
              "// Licensed under the Apache License, Version 2.0 (the \"License\");\n",
              "// you may not use this file except in compliance with the License.\n",
              "// You may obtain a copy of the License at\n",
              "//\n",
              "//      http://www.apache.org/licenses/LICENSE-2.0\n",
              "//\n",
              "// Unless required by applicable law or agreed to in writing, software\n",
              "// distributed under the License is distributed on an \"AS IS\" BASIS,\n",
              "// WITHOUT WARRANTIES OR CONDITIONS OF ANY KIND, either express or implied.\n",
              "// See the License for the specific language governing permissions and\n",
              "// limitations under the License.\n",
              "\n",
              "/**\n",
              " * @fileoverview Helpers for google.colab Python module.\n",
              " */\n",
              "(function(scope) {\n",
              "function span(text, styleAttributes = {}) {\n",
              "  const element = document.createElement('span');\n",
              "  element.textContent = text;\n",
              "  for (const key of Object.keys(styleAttributes)) {\n",
              "    element.style[key] = styleAttributes[key];\n",
              "  }\n",
              "  return element;\n",
              "}\n",
              "\n",
              "// Max number of bytes which will be uploaded at a time.\n",
              "const MAX_PAYLOAD_SIZE = 100 * 1024;\n",
              "\n",
              "function _uploadFiles(inputId, outputId) {\n",
              "  const steps = uploadFilesStep(inputId, outputId);\n",
              "  const outputElement = document.getElementById(outputId);\n",
              "  // Cache steps on the outputElement to make it available for the next call\n",
              "  // to uploadFilesContinue from Python.\n",
              "  outputElement.steps = steps;\n",
              "\n",
              "  return _uploadFilesContinue(outputId);\n",
              "}\n",
              "\n",
              "// This is roughly an async generator (not supported in the browser yet),\n",
              "// where there are multiple asynchronous steps and the Python side is going\n",
              "// to poll for completion of each step.\n",
              "// This uses a Promise to block the python side on completion of each step,\n",
              "// then passes the result of the previous step as the input to the next step.\n",
              "function _uploadFilesContinue(outputId) {\n",
              "  const outputElement = document.getElementById(outputId);\n",
              "  const steps = outputElement.steps;\n",
              "\n",
              "  const next = steps.next(outputElement.lastPromiseValue);\n",
              "  return Promise.resolve(next.value.promise).then((value) => {\n",
              "    // Cache the last promise value to make it available to the next\n",
              "    // step of the generator.\n",
              "    outputElement.lastPromiseValue = value;\n",
              "    return next.value.response;\n",
              "  });\n",
              "}\n",
              "\n",
              "/**\n",
              " * Generator function which is called between each async step of the upload\n",
              " * process.\n",
              " * @param {string} inputId Element ID of the input file picker element.\n",
              " * @param {string} outputId Element ID of the output display.\n",
              " * @return {!Iterable<!Object>} Iterable of next steps.\n",
              " */\n",
              "function* uploadFilesStep(inputId, outputId) {\n",
              "  const inputElement = document.getElementById(inputId);\n",
              "  inputElement.disabled = false;\n",
              "\n",
              "  const outputElement = document.getElementById(outputId);\n",
              "  outputElement.innerHTML = '';\n",
              "\n",
              "  const pickedPromise = new Promise((resolve) => {\n",
              "    inputElement.addEventListener('change', (e) => {\n",
              "      resolve(e.target.files);\n",
              "    });\n",
              "  });\n",
              "\n",
              "  const cancel = document.createElement('button');\n",
              "  inputElement.parentElement.appendChild(cancel);\n",
              "  cancel.textContent = 'Cancel upload';\n",
              "  const cancelPromise = new Promise((resolve) => {\n",
              "    cancel.onclick = () => {\n",
              "      resolve(null);\n",
              "    };\n",
              "  });\n",
              "\n",
              "  // Wait for the user to pick the files.\n",
              "  const files = yield {\n",
              "    promise: Promise.race([pickedPromise, cancelPromise]),\n",
              "    response: {\n",
              "      action: 'starting',\n",
              "    }\n",
              "  };\n",
              "\n",
              "  cancel.remove();\n",
              "\n",
              "  // Disable the input element since further picks are not allowed.\n",
              "  inputElement.disabled = true;\n",
              "\n",
              "  if (!files) {\n",
              "    return {\n",
              "      response: {\n",
              "        action: 'complete',\n",
              "      }\n",
              "    };\n",
              "  }\n",
              "\n",
              "  for (const file of files) {\n",
              "    const li = document.createElement('li');\n",
              "    li.append(span(file.name, {fontWeight: 'bold'}));\n",
              "    li.append(span(\n",
              "        `(${file.type || 'n/a'}) - ${file.size} bytes, ` +\n",
              "        `last modified: ${\n",
              "            file.lastModifiedDate ? file.lastModifiedDate.toLocaleDateString() :\n",
              "                                    'n/a'} - `));\n",
              "    const percent = span('0% done');\n",
              "    li.appendChild(percent);\n",
              "\n",
              "    outputElement.appendChild(li);\n",
              "\n",
              "    const fileDataPromise = new Promise((resolve) => {\n",
              "      const reader = new FileReader();\n",
              "      reader.onload = (e) => {\n",
              "        resolve(e.target.result);\n",
              "      };\n",
              "      reader.readAsArrayBuffer(file);\n",
              "    });\n",
              "    // Wait for the data to be ready.\n",
              "    let fileData = yield {\n",
              "      promise: fileDataPromise,\n",
              "      response: {\n",
              "        action: 'continue',\n",
              "      }\n",
              "    };\n",
              "\n",
              "    // Use a chunked sending to avoid message size limits. See b/62115660.\n",
              "    let position = 0;\n",
              "    do {\n",
              "      const length = Math.min(fileData.byteLength - position, MAX_PAYLOAD_SIZE);\n",
              "      const chunk = new Uint8Array(fileData, position, length);\n",
              "      position += length;\n",
              "\n",
              "      const base64 = btoa(String.fromCharCode.apply(null, chunk));\n",
              "      yield {\n",
              "        response: {\n",
              "          action: 'append',\n",
              "          file: file.name,\n",
              "          data: base64,\n",
              "        },\n",
              "      };\n",
              "\n",
              "      let percentDone = fileData.byteLength === 0 ?\n",
              "          100 :\n",
              "          Math.round((position / fileData.byteLength) * 100);\n",
              "      percent.textContent = `${percentDone}% done`;\n",
              "\n",
              "    } while (position < fileData.byteLength);\n",
              "  }\n",
              "\n",
              "  // All done.\n",
              "  yield {\n",
              "    response: {\n",
              "      action: 'complete',\n",
              "    }\n",
              "  };\n",
              "}\n",
              "\n",
              "scope.google = scope.google || {};\n",
              "scope.google.colab = scope.google.colab || {};\n",
              "scope.google.colab._files = {\n",
              "  _uploadFiles,\n",
              "  _uploadFilesContinue,\n",
              "};\n",
              "})(self);\n",
              "</script> "
            ]
          },
          "metadata": {}
        },
        {
          "output_type": "stream",
          "name": "stdout",
          "text": [
            "Saving kaggle.json to kaggle.json\n"
          ]
        },
        {
          "output_type": "execute_result",
          "data": {
            "text/plain": [
              "{'kaggle.json': b'{\"username\":\"oykudemirell\",\"key\":\"b41ccc22de14a9a86f326e961286b890\"}'}"
            ]
          },
          "metadata": {},
          "execution_count": 7
        }
      ]
    },
    {
      "cell_type": "code",
      "source": [
        "!mkdir -p ~/.kaggle\n",
        "!cp kaggle.json ~/.kaggle/\n",
        "!chmod 600 ~/.kaggle/kaggle.json\n"
      ],
      "metadata": {
        "id": "nDO4ufb0om78"
      },
      "execution_count": null,
      "outputs": []
    },
    {
      "cell_type": "code",
      "source": [
        "!kaggle datasets download -d unanimad/bafta-awards\n",
        "\n",
        "!unzip -o bafta-awards.zip\n",
        "!ls"
      ],
      "metadata": {
        "colab": {
          "base_uri": "https://localhost:8080/"
        },
        "id": "gH5mEOJNooCb",
        "outputId": "eb4a8176-b542-4233-e712-2aa6a512f475"
      },
      "execution_count": null,
      "outputs": [
        {
          "output_type": "stream",
          "name": "stdout",
          "text": [
            "Dataset URL: https://www.kaggle.com/datasets/unanimad/bafta-awards\n",
            "License(s): CC0-1.0\n",
            "Archive:  bafta-awards.zip\n",
            "  inflating: bafta_films.csv         \n",
            "bafta-awards.zip  kaggle.json  tmdb_movies_2016_2020.csv\n",
            "bafta_films.csv   sample_data\n"
          ]
        }
      ]
    },
    {
      "cell_type": "code",
      "source": [
        "#BAFTA Awards\n",
        "import pandas as pd\n",
        "\n",
        "df_b = pd.read_csv('bafta_films.csv')\n",
        "\n",
        "\n",
        "df_b['year'] = pd.to_numeric(df_b['year'], errors='coerce')\n",
        "\n",
        "df_b = df_b[(df_b['year'] >= 2016) & (df_b['year'] <= 2020)]\n",
        "\n",
        "#Drop unnecessary columns\n",
        "df_b = df_b.drop(columns=['category', 'workers'])\n",
        "\n",
        "df_b.head()\n"
      ],
      "metadata": {
        "colab": {
          "base_uri": "https://localhost:8080/",
          "height": 206
        },
        "id": "wv1ty4Tdoq50",
        "outputId": "0c288451-cbdb-4302-9b38-b5e95adcd261"
      },
      "execution_count": null,
      "outputs": [
        {
          "output_type": "execute_result",
          "data": {
            "text/plain": [
              "      year        nominee  winner\n",
              "3575  2016  The Big Short    True\n",
              "3576  2016       Brooklyn   False\n",
              "3577  2016          Carol   False\n",
              "3578  2016           Room   False\n",
              "3579  2016     Steve Jobs   False"
            ],
            "text/html": [
              "\n",
              "  <div id=\"df-12165ace-7764-4317-bf9e-7e3f5366befd\" class=\"colab-df-container\">\n",
              "    <div>\n",
              "<style scoped>\n",
              "    .dataframe tbody tr th:only-of-type {\n",
              "        vertical-align: middle;\n",
              "    }\n",
              "\n",
              "    .dataframe tbody tr th {\n",
              "        vertical-align: top;\n",
              "    }\n",
              "\n",
              "    .dataframe thead th {\n",
              "        text-align: right;\n",
              "    }\n",
              "</style>\n",
              "<table border=\"1\" class=\"dataframe\">\n",
              "  <thead>\n",
              "    <tr style=\"text-align: right;\">\n",
              "      <th></th>\n",
              "      <th>year</th>\n",
              "      <th>nominee</th>\n",
              "      <th>winner</th>\n",
              "    </tr>\n",
              "  </thead>\n",
              "  <tbody>\n",
              "    <tr>\n",
              "      <th>3575</th>\n",
              "      <td>2016</td>\n",
              "      <td>The Big Short</td>\n",
              "      <td>True</td>\n",
              "    </tr>\n",
              "    <tr>\n",
              "      <th>3576</th>\n",
              "      <td>2016</td>\n",
              "      <td>Brooklyn</td>\n",
              "      <td>False</td>\n",
              "    </tr>\n",
              "    <tr>\n",
              "      <th>3577</th>\n",
              "      <td>2016</td>\n",
              "      <td>Carol</td>\n",
              "      <td>False</td>\n",
              "    </tr>\n",
              "    <tr>\n",
              "      <th>3578</th>\n",
              "      <td>2016</td>\n",
              "      <td>Room</td>\n",
              "      <td>False</td>\n",
              "    </tr>\n",
              "    <tr>\n",
              "      <th>3579</th>\n",
              "      <td>2016</td>\n",
              "      <td>Steve Jobs</td>\n",
              "      <td>False</td>\n",
              "    </tr>\n",
              "  </tbody>\n",
              "</table>\n",
              "</div>\n",
              "    <div class=\"colab-df-buttons\">\n",
              "\n",
              "  <div class=\"colab-df-container\">\n",
              "    <button class=\"colab-df-convert\" onclick=\"convertToInteractive('df-12165ace-7764-4317-bf9e-7e3f5366befd')\"\n",
              "            title=\"Convert this dataframe to an interactive table.\"\n",
              "            style=\"display:none;\">\n",
              "\n",
              "  <svg xmlns=\"http://www.w3.org/2000/svg\" height=\"24px\" viewBox=\"0 -960 960 960\">\n",
              "    <path d=\"M120-120v-720h720v720H120Zm60-500h600v-160H180v160Zm220 220h160v-160H400v160Zm0 220h160v-160H400v160ZM180-400h160v-160H180v160Zm440 0h160v-160H620v160ZM180-180h160v-160H180v160Zm440 0h160v-160H620v160Z\"/>\n",
              "  </svg>\n",
              "    </button>\n",
              "\n",
              "  <style>\n",
              "    .colab-df-container {\n",
              "      display:flex;\n",
              "      gap: 12px;\n",
              "    }\n",
              "\n",
              "    .colab-df-convert {\n",
              "      background-color: #E8F0FE;\n",
              "      border: none;\n",
              "      border-radius: 50%;\n",
              "      cursor: pointer;\n",
              "      display: none;\n",
              "      fill: #1967D2;\n",
              "      height: 32px;\n",
              "      padding: 0 0 0 0;\n",
              "      width: 32px;\n",
              "    }\n",
              "\n",
              "    .colab-df-convert:hover {\n",
              "      background-color: #E2EBFA;\n",
              "      box-shadow: 0px 1px 2px rgba(60, 64, 67, 0.3), 0px 1px 3px 1px rgba(60, 64, 67, 0.15);\n",
              "      fill: #174EA6;\n",
              "    }\n",
              "\n",
              "    .colab-df-buttons div {\n",
              "      margin-bottom: 4px;\n",
              "    }\n",
              "\n",
              "    [theme=dark] .colab-df-convert {\n",
              "      background-color: #3B4455;\n",
              "      fill: #D2E3FC;\n",
              "    }\n",
              "\n",
              "    [theme=dark] .colab-df-convert:hover {\n",
              "      background-color: #434B5C;\n",
              "      box-shadow: 0px 1px 3px 1px rgba(0, 0, 0, 0.15);\n",
              "      filter: drop-shadow(0px 1px 2px rgba(0, 0, 0, 0.3));\n",
              "      fill: #FFFFFF;\n",
              "    }\n",
              "  </style>\n",
              "\n",
              "    <script>\n",
              "      const buttonEl =\n",
              "        document.querySelector('#df-12165ace-7764-4317-bf9e-7e3f5366befd button.colab-df-convert');\n",
              "      buttonEl.style.display =\n",
              "        google.colab.kernel.accessAllowed ? 'block' : 'none';\n",
              "\n",
              "      async function convertToInteractive(key) {\n",
              "        const element = document.querySelector('#df-12165ace-7764-4317-bf9e-7e3f5366befd');\n",
              "        const dataTable =\n",
              "          await google.colab.kernel.invokeFunction('convertToInteractive',\n",
              "                                                    [key], {});\n",
              "        if (!dataTable) return;\n",
              "\n",
              "        const docLinkHtml = 'Like what you see? Visit the ' +\n",
              "          '<a target=\"_blank\" href=https://colab.research.google.com/notebooks/data_table.ipynb>data table notebook</a>'\n",
              "          + ' to learn more about interactive tables.';\n",
              "        element.innerHTML = '';\n",
              "        dataTable['output_type'] = 'display_data';\n",
              "        await google.colab.output.renderOutput(dataTable, element);\n",
              "        const docLink = document.createElement('div');\n",
              "        docLink.innerHTML = docLinkHtml;\n",
              "        element.appendChild(docLink);\n",
              "      }\n",
              "    </script>\n",
              "  </div>\n",
              "\n",
              "\n",
              "    <div id=\"df-31b88876-f118-48f7-92ba-2090526cde52\">\n",
              "      <button class=\"colab-df-quickchart\" onclick=\"quickchart('df-31b88876-f118-48f7-92ba-2090526cde52')\"\n",
              "                title=\"Suggest charts\"\n",
              "                style=\"display:none;\">\n",
              "\n",
              "<svg xmlns=\"http://www.w3.org/2000/svg\" height=\"24px\"viewBox=\"0 0 24 24\"\n",
              "     width=\"24px\">\n",
              "    <g>\n",
              "        <path d=\"M19 3H5c-1.1 0-2 .9-2 2v14c0 1.1.9 2 2 2h14c1.1 0 2-.9 2-2V5c0-1.1-.9-2-2-2zM9 17H7v-7h2v7zm4 0h-2V7h2v10zm4 0h-2v-4h2v4z\"/>\n",
              "    </g>\n",
              "</svg>\n",
              "      </button>\n",
              "\n",
              "<style>\n",
              "  .colab-df-quickchart {\n",
              "      --bg-color: #E8F0FE;\n",
              "      --fill-color: #1967D2;\n",
              "      --hover-bg-color: #E2EBFA;\n",
              "      --hover-fill-color: #174EA6;\n",
              "      --disabled-fill-color: #AAA;\n",
              "      --disabled-bg-color: #DDD;\n",
              "  }\n",
              "\n",
              "  [theme=dark] .colab-df-quickchart {\n",
              "      --bg-color: #3B4455;\n",
              "      --fill-color: #D2E3FC;\n",
              "      --hover-bg-color: #434B5C;\n",
              "      --hover-fill-color: #FFFFFF;\n",
              "      --disabled-bg-color: #3B4455;\n",
              "      --disabled-fill-color: #666;\n",
              "  }\n",
              "\n",
              "  .colab-df-quickchart {\n",
              "    background-color: var(--bg-color);\n",
              "    border: none;\n",
              "    border-radius: 50%;\n",
              "    cursor: pointer;\n",
              "    display: none;\n",
              "    fill: var(--fill-color);\n",
              "    height: 32px;\n",
              "    padding: 0;\n",
              "    width: 32px;\n",
              "  }\n",
              "\n",
              "  .colab-df-quickchart:hover {\n",
              "    background-color: var(--hover-bg-color);\n",
              "    box-shadow: 0 1px 2px rgba(60, 64, 67, 0.3), 0 1px 3px 1px rgba(60, 64, 67, 0.15);\n",
              "    fill: var(--button-hover-fill-color);\n",
              "  }\n",
              "\n",
              "  .colab-df-quickchart-complete:disabled,\n",
              "  .colab-df-quickchart-complete:disabled:hover {\n",
              "    background-color: var(--disabled-bg-color);\n",
              "    fill: var(--disabled-fill-color);\n",
              "    box-shadow: none;\n",
              "  }\n",
              "\n",
              "  .colab-df-spinner {\n",
              "    border: 2px solid var(--fill-color);\n",
              "    border-color: transparent;\n",
              "    border-bottom-color: var(--fill-color);\n",
              "    animation:\n",
              "      spin 1s steps(1) infinite;\n",
              "  }\n",
              "\n",
              "  @keyframes spin {\n",
              "    0% {\n",
              "      border-color: transparent;\n",
              "      border-bottom-color: var(--fill-color);\n",
              "      border-left-color: var(--fill-color);\n",
              "    }\n",
              "    20% {\n",
              "      border-color: transparent;\n",
              "      border-left-color: var(--fill-color);\n",
              "      border-top-color: var(--fill-color);\n",
              "    }\n",
              "    30% {\n",
              "      border-color: transparent;\n",
              "      border-left-color: var(--fill-color);\n",
              "      border-top-color: var(--fill-color);\n",
              "      border-right-color: var(--fill-color);\n",
              "    }\n",
              "    40% {\n",
              "      border-color: transparent;\n",
              "      border-right-color: var(--fill-color);\n",
              "      border-top-color: var(--fill-color);\n",
              "    }\n",
              "    60% {\n",
              "      border-color: transparent;\n",
              "      border-right-color: var(--fill-color);\n",
              "    }\n",
              "    80% {\n",
              "      border-color: transparent;\n",
              "      border-right-color: var(--fill-color);\n",
              "      border-bottom-color: var(--fill-color);\n",
              "    }\n",
              "    90% {\n",
              "      border-color: transparent;\n",
              "      border-bottom-color: var(--fill-color);\n",
              "    }\n",
              "  }\n",
              "</style>\n",
              "\n",
              "      <script>\n",
              "        async function quickchart(key) {\n",
              "          const quickchartButtonEl =\n",
              "            document.querySelector('#' + key + ' button');\n",
              "          quickchartButtonEl.disabled = true;  // To prevent multiple clicks.\n",
              "          quickchartButtonEl.classList.add('colab-df-spinner');\n",
              "          try {\n",
              "            const charts = await google.colab.kernel.invokeFunction(\n",
              "                'suggestCharts', [key], {});\n",
              "          } catch (error) {\n",
              "            console.error('Error during call to suggestCharts:', error);\n",
              "          }\n",
              "          quickchartButtonEl.classList.remove('colab-df-spinner');\n",
              "          quickchartButtonEl.classList.add('colab-df-quickchart-complete');\n",
              "        }\n",
              "        (() => {\n",
              "          let quickchartButtonEl =\n",
              "            document.querySelector('#df-31b88876-f118-48f7-92ba-2090526cde52 button');\n",
              "          quickchartButtonEl.style.display =\n",
              "            google.colab.kernel.accessAllowed ? 'block' : 'none';\n",
              "        })();\n",
              "      </script>\n",
              "    </div>\n",
              "\n",
              "    </div>\n",
              "  </div>\n"
            ],
            "application/vnd.google.colaboratory.intrinsic+json": {
              "type": "dataframe",
              "variable_name": "df_b",
              "summary": "{\n  \"name\": \"df_b\",\n  \"rows\": 601,\n  \"fields\": [\n    {\n      \"column\": \"year\",\n      \"properties\": {\n        \"dtype\": \"number\",\n        \"std\": 1,\n        \"min\": 2016,\n        \"max\": 2020,\n        \"num_unique_values\": 5,\n        \"samples\": [\n          2017,\n          2020,\n          2018\n        ],\n        \"semantic_type\": \"\",\n        \"description\": \"\"\n      }\n    },\n    {\n      \"column\": \"nominee\",\n      \"properties\": {\n        \"dtype\": \"string\",\n        \"num_unique_values\": 352,\n        \"samples\": [\n          \"First Man\",\n          \"I, Daniel Blake\",\n          \"Star Wars: The Force Awakens\"\n        ],\n        \"semantic_type\": \"\",\n        \"description\": \"\"\n      }\n    },\n    {\n      \"column\": \"winner\",\n      \"properties\": {\n        \"dtype\": \"boolean\",\n        \"num_unique_values\": 2,\n        \"samples\": [\n          false,\n          true\n        ],\n        \"semantic_type\": \"\",\n        \"description\": \"\"\n      }\n    }\n  ]\n}"
            }
          },
          "metadata": {},
          "execution_count": 10
        }
      ]
    },
    {
      "cell_type": "code",
      "source": [
        "from google.colab import files\n",
        "files.upload()\n"
      ],
      "metadata": {
        "colab": {
          "base_uri": "https://localhost:8080/",
          "height": 92
        },
        "id": "tlblZYuxrQRq",
        "outputId": "ce18f030-d6f0-4de1-f673-70470242f27d"
      },
      "execution_count": null,
      "outputs": [
        {
          "output_type": "display_data",
          "data": {
            "text/plain": [
              "<IPython.core.display.HTML object>"
            ],
            "text/html": [
              "\n",
              "     <input type=\"file\" id=\"files-11a364e3-26a8-4750-a5a4-012b5c7b423c\" name=\"files[]\" multiple disabled\n",
              "        style=\"border:none\" />\n",
              "     <output id=\"result-11a364e3-26a8-4750-a5a4-012b5c7b423c\">\n",
              "      Upload widget is only available when the cell has been executed in the\n",
              "      current browser session. Please rerun this cell to enable.\n",
              "      </output>\n",
              "      <script>// Copyright 2017 Google LLC\n",
              "//\n",
              "// Licensed under the Apache License, Version 2.0 (the \"License\");\n",
              "// you may not use this file except in compliance with the License.\n",
              "// You may obtain a copy of the License at\n",
              "//\n",
              "//      http://www.apache.org/licenses/LICENSE-2.0\n",
              "//\n",
              "// Unless required by applicable law or agreed to in writing, software\n",
              "// distributed under the License is distributed on an \"AS IS\" BASIS,\n",
              "// WITHOUT WARRANTIES OR CONDITIONS OF ANY KIND, either express or implied.\n",
              "// See the License for the specific language governing permissions and\n",
              "// limitations under the License.\n",
              "\n",
              "/**\n",
              " * @fileoverview Helpers for google.colab Python module.\n",
              " */\n",
              "(function(scope) {\n",
              "function span(text, styleAttributes = {}) {\n",
              "  const element = document.createElement('span');\n",
              "  element.textContent = text;\n",
              "  for (const key of Object.keys(styleAttributes)) {\n",
              "    element.style[key] = styleAttributes[key];\n",
              "  }\n",
              "  return element;\n",
              "}\n",
              "\n",
              "// Max number of bytes which will be uploaded at a time.\n",
              "const MAX_PAYLOAD_SIZE = 100 * 1024;\n",
              "\n",
              "function _uploadFiles(inputId, outputId) {\n",
              "  const steps = uploadFilesStep(inputId, outputId);\n",
              "  const outputElement = document.getElementById(outputId);\n",
              "  // Cache steps on the outputElement to make it available for the next call\n",
              "  // to uploadFilesContinue from Python.\n",
              "  outputElement.steps = steps;\n",
              "\n",
              "  return _uploadFilesContinue(outputId);\n",
              "}\n",
              "\n",
              "// This is roughly an async generator (not supported in the browser yet),\n",
              "// where there are multiple asynchronous steps and the Python side is going\n",
              "// to poll for completion of each step.\n",
              "// This uses a Promise to block the python side on completion of each step,\n",
              "// then passes the result of the previous step as the input to the next step.\n",
              "function _uploadFilesContinue(outputId) {\n",
              "  const outputElement = document.getElementById(outputId);\n",
              "  const steps = outputElement.steps;\n",
              "\n",
              "  const next = steps.next(outputElement.lastPromiseValue);\n",
              "  return Promise.resolve(next.value.promise).then((value) => {\n",
              "    // Cache the last promise value to make it available to the next\n",
              "    // step of the generator.\n",
              "    outputElement.lastPromiseValue = value;\n",
              "    return next.value.response;\n",
              "  });\n",
              "}\n",
              "\n",
              "/**\n",
              " * Generator function which is called between each async step of the upload\n",
              " * process.\n",
              " * @param {string} inputId Element ID of the input file picker element.\n",
              " * @param {string} outputId Element ID of the output display.\n",
              " * @return {!Iterable<!Object>} Iterable of next steps.\n",
              " */\n",
              "function* uploadFilesStep(inputId, outputId) {\n",
              "  const inputElement = document.getElementById(inputId);\n",
              "  inputElement.disabled = false;\n",
              "\n",
              "  const outputElement = document.getElementById(outputId);\n",
              "  outputElement.innerHTML = '';\n",
              "\n",
              "  const pickedPromise = new Promise((resolve) => {\n",
              "    inputElement.addEventListener('change', (e) => {\n",
              "      resolve(e.target.files);\n",
              "    });\n",
              "  });\n",
              "\n",
              "  const cancel = document.createElement('button');\n",
              "  inputElement.parentElement.appendChild(cancel);\n",
              "  cancel.textContent = 'Cancel upload';\n",
              "  const cancelPromise = new Promise((resolve) => {\n",
              "    cancel.onclick = () => {\n",
              "      resolve(null);\n",
              "    };\n",
              "  });\n",
              "\n",
              "  // Wait for the user to pick the files.\n",
              "  const files = yield {\n",
              "    promise: Promise.race([pickedPromise, cancelPromise]),\n",
              "    response: {\n",
              "      action: 'starting',\n",
              "    }\n",
              "  };\n",
              "\n",
              "  cancel.remove();\n",
              "\n",
              "  // Disable the input element since further picks are not allowed.\n",
              "  inputElement.disabled = true;\n",
              "\n",
              "  if (!files) {\n",
              "    return {\n",
              "      response: {\n",
              "        action: 'complete',\n",
              "      }\n",
              "    };\n",
              "  }\n",
              "\n",
              "  for (const file of files) {\n",
              "    const li = document.createElement('li');\n",
              "    li.append(span(file.name, {fontWeight: 'bold'}));\n",
              "    li.append(span(\n",
              "        `(${file.type || 'n/a'}) - ${file.size} bytes, ` +\n",
              "        `last modified: ${\n",
              "            file.lastModifiedDate ? file.lastModifiedDate.toLocaleDateString() :\n",
              "                                    'n/a'} - `));\n",
              "    const percent = span('0% done');\n",
              "    li.appendChild(percent);\n",
              "\n",
              "    outputElement.appendChild(li);\n",
              "\n",
              "    const fileDataPromise = new Promise((resolve) => {\n",
              "      const reader = new FileReader();\n",
              "      reader.onload = (e) => {\n",
              "        resolve(e.target.result);\n",
              "      };\n",
              "      reader.readAsArrayBuffer(file);\n",
              "    });\n",
              "    // Wait for the data to be ready.\n",
              "    let fileData = yield {\n",
              "      promise: fileDataPromise,\n",
              "      response: {\n",
              "        action: 'continue',\n",
              "      }\n",
              "    };\n",
              "\n",
              "    // Use a chunked sending to avoid message size limits. See b/62115660.\n",
              "    let position = 0;\n",
              "    do {\n",
              "      const length = Math.min(fileData.byteLength - position, MAX_PAYLOAD_SIZE);\n",
              "      const chunk = new Uint8Array(fileData, position, length);\n",
              "      position += length;\n",
              "\n",
              "      const base64 = btoa(String.fromCharCode.apply(null, chunk));\n",
              "      yield {\n",
              "        response: {\n",
              "          action: 'append',\n",
              "          file: file.name,\n",
              "          data: base64,\n",
              "        },\n",
              "      };\n",
              "\n",
              "      let percentDone = fileData.byteLength === 0 ?\n",
              "          100 :\n",
              "          Math.round((position / fileData.byteLength) * 100);\n",
              "      percent.textContent = `${percentDone}% done`;\n",
              "\n",
              "    } while (position < fileData.byteLength);\n",
              "  }\n",
              "\n",
              "  // All done.\n",
              "  yield {\n",
              "    response: {\n",
              "      action: 'complete',\n",
              "    }\n",
              "  };\n",
              "}\n",
              "\n",
              "scope.google = scope.google || {};\n",
              "scope.google.colab = scope.google.colab || {};\n",
              "scope.google.colab._files = {\n",
              "  _uploadFiles,\n",
              "  _uploadFilesContinue,\n",
              "};\n",
              "})(self);\n",
              "</script> "
            ]
          },
          "metadata": {}
        },
        {
          "output_type": "stream",
          "name": "stdout",
          "text": [
            "Saving kaggle (1).json to kaggle (1).json\n"
          ]
        },
        {
          "output_type": "execute_result",
          "data": {
            "text/plain": [
              "{'kaggle (1).json': b'{\"username\":\"oykudemirell\",\"key\":\"ebf90736d0540d12a0d387475a61f434\"}'}"
            ]
          },
          "metadata": {},
          "execution_count": 11
        }
      ]
    },
    {
      "cell_type": "code",
      "source": [
        "!pip install -q kaggle\n",
        "\n",
        "!mkdir -p ~/.kaggle\n",
        "!cp \"kaggle (1).json\" ~/.kaggle/\n",
        "!chmod 600 ~/.kaggle/kaggle.json\n"
      ],
      "metadata": {
        "id": "K2NG7U_nrUTq"
      },
      "execution_count": null,
      "outputs": []
    },
    {
      "cell_type": "code",
      "source": [
        "!kaggle datasets download -d unanimad/golden-globe-awards\n",
        "!unzip -o golden-globe-awards.zip\n",
        "!ls\n"
      ],
      "metadata": {
        "colab": {
          "base_uri": "https://localhost:8080/"
        },
        "id": "Xt4IVQwZrWkv",
        "outputId": "d94a46f3-dab9-458f-8aa5-754e64995012"
      },
      "execution_count": null,
      "outputs": [
        {
          "output_type": "stream",
          "name": "stdout",
          "text": [
            "Dataset URL: https://www.kaggle.com/datasets/unanimad/golden-globe-awards\n",
            "License(s): CC0-1.0\n",
            "Archive:  golden-globe-awards.zip\n",
            "  inflating: golden_globe_awards.csv  \n",
            " bafta-awards.zip\t   golden-globe-awards.zip   sample_data\n",
            " bafta_films.csv\t  'kaggle (1).json'\t     tmdb_movies_2016_2020.csv\n",
            " golden_globe_awards.csv   kaggle.json\n"
          ]
        }
      ]
    },
    {
      "cell_type": "code",
      "source": [
        "#Golden Globe Awards\n",
        "import pandas as pd\n",
        "\n",
        "\n",
        "df_gg = pd.read_csv('golden_globe_awards.csv')\n",
        "\n",
        "# Filter by year and drop unnecessary columns\n",
        "df_gg['year_film'] = pd.to_numeric(df_gg['year_film'], errors='coerce')\n",
        "df_gg = df_gg[(df_gg['year_film'] >= 2016) & (df_gg['year_film'] <= 2020)]\n",
        "\n",
        "df_gg = df_gg.dropna(subset=['film'])\n",
        "\n",
        "df_gg = df_gg.drop(columns=['year_award', 'ceremony', 'category', 'nominee'])\n",
        "\n",
        "\n",
        "df_gg.head()\n"
      ],
      "metadata": {
        "colab": {
          "base_uri": "https://localhost:8080/",
          "height": 206
        },
        "id": "doxmmFsvrZFI",
        "outputId": "74873ac2-0e48-4a9e-bb20-45d3d63f0a4a"
      },
      "execution_count": null,
      "outputs": [
        {
          "output_type": "execute_result",
          "data": {
            "text/plain": [
              "      year_film         film    win\n",
              "7494       2016         Elle   True\n",
              "7495       2016      Arrival  False\n",
              "7496       2016  Miss Sloane  False\n",
              "7497       2016       Loving  False\n",
              "7498       2016       Jackie  False"
            ],
            "text/html": [
              "\n",
              "  <div id=\"df-6105f7da-ef71-46a8-ac3c-89366e21b7cc\" class=\"colab-df-container\">\n",
              "    <div>\n",
              "<style scoped>\n",
              "    .dataframe tbody tr th:only-of-type {\n",
              "        vertical-align: middle;\n",
              "    }\n",
              "\n",
              "    .dataframe tbody tr th {\n",
              "        vertical-align: top;\n",
              "    }\n",
              "\n",
              "    .dataframe thead th {\n",
              "        text-align: right;\n",
              "    }\n",
              "</style>\n",
              "<table border=\"1\" class=\"dataframe\">\n",
              "  <thead>\n",
              "    <tr style=\"text-align: right;\">\n",
              "      <th></th>\n",
              "      <th>year_film</th>\n",
              "      <th>film</th>\n",
              "      <th>win</th>\n",
              "    </tr>\n",
              "  </thead>\n",
              "  <tbody>\n",
              "    <tr>\n",
              "      <th>7494</th>\n",
              "      <td>2016</td>\n",
              "      <td>Elle</td>\n",
              "      <td>True</td>\n",
              "    </tr>\n",
              "    <tr>\n",
              "      <th>7495</th>\n",
              "      <td>2016</td>\n",
              "      <td>Arrival</td>\n",
              "      <td>False</td>\n",
              "    </tr>\n",
              "    <tr>\n",
              "      <th>7496</th>\n",
              "      <td>2016</td>\n",
              "      <td>Miss Sloane</td>\n",
              "      <td>False</td>\n",
              "    </tr>\n",
              "    <tr>\n",
              "      <th>7497</th>\n",
              "      <td>2016</td>\n",
              "      <td>Loving</td>\n",
              "      <td>False</td>\n",
              "    </tr>\n",
              "    <tr>\n",
              "      <th>7498</th>\n",
              "      <td>2016</td>\n",
              "      <td>Jackie</td>\n",
              "      <td>False</td>\n",
              "    </tr>\n",
              "  </tbody>\n",
              "</table>\n",
              "</div>\n",
              "    <div class=\"colab-df-buttons\">\n",
              "\n",
              "  <div class=\"colab-df-container\">\n",
              "    <button class=\"colab-df-convert\" onclick=\"convertToInteractive('df-6105f7da-ef71-46a8-ac3c-89366e21b7cc')\"\n",
              "            title=\"Convert this dataframe to an interactive table.\"\n",
              "            style=\"display:none;\">\n",
              "\n",
              "  <svg xmlns=\"http://www.w3.org/2000/svg\" height=\"24px\" viewBox=\"0 -960 960 960\">\n",
              "    <path d=\"M120-120v-720h720v720H120Zm60-500h600v-160H180v160Zm220 220h160v-160H400v160Zm0 220h160v-160H400v160ZM180-400h160v-160H180v160Zm440 0h160v-160H620v160ZM180-180h160v-160H180v160Zm440 0h160v-160H620v160Z\"/>\n",
              "  </svg>\n",
              "    </button>\n",
              "\n",
              "  <style>\n",
              "    .colab-df-container {\n",
              "      display:flex;\n",
              "      gap: 12px;\n",
              "    }\n",
              "\n",
              "    .colab-df-convert {\n",
              "      background-color: #E8F0FE;\n",
              "      border: none;\n",
              "      border-radius: 50%;\n",
              "      cursor: pointer;\n",
              "      display: none;\n",
              "      fill: #1967D2;\n",
              "      height: 32px;\n",
              "      padding: 0 0 0 0;\n",
              "      width: 32px;\n",
              "    }\n",
              "\n",
              "    .colab-df-convert:hover {\n",
              "      background-color: #E2EBFA;\n",
              "      box-shadow: 0px 1px 2px rgba(60, 64, 67, 0.3), 0px 1px 3px 1px rgba(60, 64, 67, 0.15);\n",
              "      fill: #174EA6;\n",
              "    }\n",
              "\n",
              "    .colab-df-buttons div {\n",
              "      margin-bottom: 4px;\n",
              "    }\n",
              "\n",
              "    [theme=dark] .colab-df-convert {\n",
              "      background-color: #3B4455;\n",
              "      fill: #D2E3FC;\n",
              "    }\n",
              "\n",
              "    [theme=dark] .colab-df-convert:hover {\n",
              "      background-color: #434B5C;\n",
              "      box-shadow: 0px 1px 3px 1px rgba(0, 0, 0, 0.15);\n",
              "      filter: drop-shadow(0px 1px 2px rgba(0, 0, 0, 0.3));\n",
              "      fill: #FFFFFF;\n",
              "    }\n",
              "  </style>\n",
              "\n",
              "    <script>\n",
              "      const buttonEl =\n",
              "        document.querySelector('#df-6105f7da-ef71-46a8-ac3c-89366e21b7cc button.colab-df-convert');\n",
              "      buttonEl.style.display =\n",
              "        google.colab.kernel.accessAllowed ? 'block' : 'none';\n",
              "\n",
              "      async function convertToInteractive(key) {\n",
              "        const element = document.querySelector('#df-6105f7da-ef71-46a8-ac3c-89366e21b7cc');\n",
              "        const dataTable =\n",
              "          await google.colab.kernel.invokeFunction('convertToInteractive',\n",
              "                                                    [key], {});\n",
              "        if (!dataTable) return;\n",
              "\n",
              "        const docLinkHtml = 'Like what you see? Visit the ' +\n",
              "          '<a target=\"_blank\" href=https://colab.research.google.com/notebooks/data_table.ipynb>data table notebook</a>'\n",
              "          + ' to learn more about interactive tables.';\n",
              "        element.innerHTML = '';\n",
              "        dataTable['output_type'] = 'display_data';\n",
              "        await google.colab.output.renderOutput(dataTable, element);\n",
              "        const docLink = document.createElement('div');\n",
              "        docLink.innerHTML = docLinkHtml;\n",
              "        element.appendChild(docLink);\n",
              "      }\n",
              "    </script>\n",
              "  </div>\n",
              "\n",
              "\n",
              "    <div id=\"df-c78b2238-67a3-422c-874a-595357920581\">\n",
              "      <button class=\"colab-df-quickchart\" onclick=\"quickchart('df-c78b2238-67a3-422c-874a-595357920581')\"\n",
              "                title=\"Suggest charts\"\n",
              "                style=\"display:none;\">\n",
              "\n",
              "<svg xmlns=\"http://www.w3.org/2000/svg\" height=\"24px\"viewBox=\"0 0 24 24\"\n",
              "     width=\"24px\">\n",
              "    <g>\n",
              "        <path d=\"M19 3H5c-1.1 0-2 .9-2 2v14c0 1.1.9 2 2 2h14c1.1 0 2-.9 2-2V5c0-1.1-.9-2-2-2zM9 17H7v-7h2v7zm4 0h-2V7h2v10zm4 0h-2v-4h2v4z\"/>\n",
              "    </g>\n",
              "</svg>\n",
              "      </button>\n",
              "\n",
              "<style>\n",
              "  .colab-df-quickchart {\n",
              "      --bg-color: #E8F0FE;\n",
              "      --fill-color: #1967D2;\n",
              "      --hover-bg-color: #E2EBFA;\n",
              "      --hover-fill-color: #174EA6;\n",
              "      --disabled-fill-color: #AAA;\n",
              "      --disabled-bg-color: #DDD;\n",
              "  }\n",
              "\n",
              "  [theme=dark] .colab-df-quickchart {\n",
              "      --bg-color: #3B4455;\n",
              "      --fill-color: #D2E3FC;\n",
              "      --hover-bg-color: #434B5C;\n",
              "      --hover-fill-color: #FFFFFF;\n",
              "      --disabled-bg-color: #3B4455;\n",
              "      --disabled-fill-color: #666;\n",
              "  }\n",
              "\n",
              "  .colab-df-quickchart {\n",
              "    background-color: var(--bg-color);\n",
              "    border: none;\n",
              "    border-radius: 50%;\n",
              "    cursor: pointer;\n",
              "    display: none;\n",
              "    fill: var(--fill-color);\n",
              "    height: 32px;\n",
              "    padding: 0;\n",
              "    width: 32px;\n",
              "  }\n",
              "\n",
              "  .colab-df-quickchart:hover {\n",
              "    background-color: var(--hover-bg-color);\n",
              "    box-shadow: 0 1px 2px rgba(60, 64, 67, 0.3), 0 1px 3px 1px rgba(60, 64, 67, 0.15);\n",
              "    fill: var(--button-hover-fill-color);\n",
              "  }\n",
              "\n",
              "  .colab-df-quickchart-complete:disabled,\n",
              "  .colab-df-quickchart-complete:disabled:hover {\n",
              "    background-color: var(--disabled-bg-color);\n",
              "    fill: var(--disabled-fill-color);\n",
              "    box-shadow: none;\n",
              "  }\n",
              "\n",
              "  .colab-df-spinner {\n",
              "    border: 2px solid var(--fill-color);\n",
              "    border-color: transparent;\n",
              "    border-bottom-color: var(--fill-color);\n",
              "    animation:\n",
              "      spin 1s steps(1) infinite;\n",
              "  }\n",
              "\n",
              "  @keyframes spin {\n",
              "    0% {\n",
              "      border-color: transparent;\n",
              "      border-bottom-color: var(--fill-color);\n",
              "      border-left-color: var(--fill-color);\n",
              "    }\n",
              "    20% {\n",
              "      border-color: transparent;\n",
              "      border-left-color: var(--fill-color);\n",
              "      border-top-color: var(--fill-color);\n",
              "    }\n",
              "    30% {\n",
              "      border-color: transparent;\n",
              "      border-left-color: var(--fill-color);\n",
              "      border-top-color: var(--fill-color);\n",
              "      border-right-color: var(--fill-color);\n",
              "    }\n",
              "    40% {\n",
              "      border-color: transparent;\n",
              "      border-right-color: var(--fill-color);\n",
              "      border-top-color: var(--fill-color);\n",
              "    }\n",
              "    60% {\n",
              "      border-color: transparent;\n",
              "      border-right-color: var(--fill-color);\n",
              "    }\n",
              "    80% {\n",
              "      border-color: transparent;\n",
              "      border-right-color: var(--fill-color);\n",
              "      border-bottom-color: var(--fill-color);\n",
              "    }\n",
              "    90% {\n",
              "      border-color: transparent;\n",
              "      border-bottom-color: var(--fill-color);\n",
              "    }\n",
              "  }\n",
              "</style>\n",
              "\n",
              "      <script>\n",
              "        async function quickchart(key) {\n",
              "          const quickchartButtonEl =\n",
              "            document.querySelector('#' + key + ' button');\n",
              "          quickchartButtonEl.disabled = true;  // To prevent multiple clicks.\n",
              "          quickchartButtonEl.classList.add('colab-df-spinner');\n",
              "          try {\n",
              "            const charts = await google.colab.kernel.invokeFunction(\n",
              "                'suggestCharts', [key], {});\n",
              "          } catch (error) {\n",
              "            console.error('Error during call to suggestCharts:', error);\n",
              "          }\n",
              "          quickchartButtonEl.classList.remove('colab-df-spinner');\n",
              "          quickchartButtonEl.classList.add('colab-df-quickchart-complete');\n",
              "        }\n",
              "        (() => {\n",
              "          let quickchartButtonEl =\n",
              "            document.querySelector('#df-c78b2238-67a3-422c-874a-595357920581 button');\n",
              "          quickchartButtonEl.style.display =\n",
              "            google.colab.kernel.accessAllowed ? 'block' : 'none';\n",
              "        })();\n",
              "      </script>\n",
              "    </div>\n",
              "\n",
              "    </div>\n",
              "  </div>\n"
            ],
            "application/vnd.google.colaboratory.intrinsic+json": {
              "type": "dataframe",
              "variable_name": "df_gg",
              "summary": "{\n  \"name\": \"df_gg\",\n  \"rows\": 381,\n  \"fields\": [\n    {\n      \"column\": \"year_film\",\n      \"properties\": {\n        \"dtype\": \"number\",\n        \"std\": 1,\n        \"min\": 2016,\n        \"max\": 2019,\n        \"num_unique_values\": 4,\n        \"samples\": [\n          2017,\n          2019,\n          2016\n        ],\n        \"semantic_type\": \"\",\n        \"description\": \"\"\n      }\n    },\n    {\n      \"column\": \"film\",\n      \"properties\": {\n        \"dtype\": \"string\",\n        \"num_unique_values\": 213,\n        \"samples\": [\n          \"La La Land\",\n          \"Fosse/Verdon\",\n          \"Call Me By Your Name\"\n        ],\n        \"semantic_type\": \"\",\n        \"description\": \"\"\n      }\n    },\n    {\n      \"column\": \"win\",\n      \"properties\": {\n        \"dtype\": \"boolean\",\n        \"num_unique_values\": 2,\n        \"samples\": [\n          false,\n          true\n        ],\n        \"semantic_type\": \"\",\n        \"description\": \"\"\n      }\n    }\n  ]\n}"
            }
          },
          "metadata": {},
          "execution_count": 14
        }
      ]
    },
    {
      "cell_type": "code",
      "source": [
        "from google.colab import files\n",
        "files.upload()"
      ],
      "metadata": {
        "colab": {
          "base_uri": "https://localhost:8080/",
          "height": 92
        },
        "id": "eJ3x8WhDtmYs",
        "outputId": "8f046732-d12e-4acf-99e2-e02f8e2fdccc"
      },
      "execution_count": null,
      "outputs": [
        {
          "output_type": "display_data",
          "data": {
            "text/plain": [
              "<IPython.core.display.HTML object>"
            ],
            "text/html": [
              "\n",
              "     <input type=\"file\" id=\"files-77734c89-c8f7-4d14-8065-211a8e685ebf\" name=\"files[]\" multiple disabled\n",
              "        style=\"border:none\" />\n",
              "     <output id=\"result-77734c89-c8f7-4d14-8065-211a8e685ebf\">\n",
              "      Upload widget is only available when the cell has been executed in the\n",
              "      current browser session. Please rerun this cell to enable.\n",
              "      </output>\n",
              "      <script>// Copyright 2017 Google LLC\n",
              "//\n",
              "// Licensed under the Apache License, Version 2.0 (the \"License\");\n",
              "// you may not use this file except in compliance with the License.\n",
              "// You may obtain a copy of the License at\n",
              "//\n",
              "//      http://www.apache.org/licenses/LICENSE-2.0\n",
              "//\n",
              "// Unless required by applicable law or agreed to in writing, software\n",
              "// distributed under the License is distributed on an \"AS IS\" BASIS,\n",
              "// WITHOUT WARRANTIES OR CONDITIONS OF ANY KIND, either express or implied.\n",
              "// See the License for the specific language governing permissions and\n",
              "// limitations under the License.\n",
              "\n",
              "/**\n",
              " * @fileoverview Helpers for google.colab Python module.\n",
              " */\n",
              "(function(scope) {\n",
              "function span(text, styleAttributes = {}) {\n",
              "  const element = document.createElement('span');\n",
              "  element.textContent = text;\n",
              "  for (const key of Object.keys(styleAttributes)) {\n",
              "    element.style[key] = styleAttributes[key];\n",
              "  }\n",
              "  return element;\n",
              "}\n",
              "\n",
              "// Max number of bytes which will be uploaded at a time.\n",
              "const MAX_PAYLOAD_SIZE = 100 * 1024;\n",
              "\n",
              "function _uploadFiles(inputId, outputId) {\n",
              "  const steps = uploadFilesStep(inputId, outputId);\n",
              "  const outputElement = document.getElementById(outputId);\n",
              "  // Cache steps on the outputElement to make it available for the next call\n",
              "  // to uploadFilesContinue from Python.\n",
              "  outputElement.steps = steps;\n",
              "\n",
              "  return _uploadFilesContinue(outputId);\n",
              "}\n",
              "\n",
              "// This is roughly an async generator (not supported in the browser yet),\n",
              "// where there are multiple asynchronous steps and the Python side is going\n",
              "// to poll for completion of each step.\n",
              "// This uses a Promise to block the python side on completion of each step,\n",
              "// then passes the result of the previous step as the input to the next step.\n",
              "function _uploadFilesContinue(outputId) {\n",
              "  const outputElement = document.getElementById(outputId);\n",
              "  const steps = outputElement.steps;\n",
              "\n",
              "  const next = steps.next(outputElement.lastPromiseValue);\n",
              "  return Promise.resolve(next.value.promise).then((value) => {\n",
              "    // Cache the last promise value to make it available to the next\n",
              "    // step of the generator.\n",
              "    outputElement.lastPromiseValue = value;\n",
              "    return next.value.response;\n",
              "  });\n",
              "}\n",
              "\n",
              "/**\n",
              " * Generator function which is called between each async step of the upload\n",
              " * process.\n",
              " * @param {string} inputId Element ID of the input file picker element.\n",
              " * @param {string} outputId Element ID of the output display.\n",
              " * @return {!Iterable<!Object>} Iterable of next steps.\n",
              " */\n",
              "function* uploadFilesStep(inputId, outputId) {\n",
              "  const inputElement = document.getElementById(inputId);\n",
              "  inputElement.disabled = false;\n",
              "\n",
              "  const outputElement = document.getElementById(outputId);\n",
              "  outputElement.innerHTML = '';\n",
              "\n",
              "  const pickedPromise = new Promise((resolve) => {\n",
              "    inputElement.addEventListener('change', (e) => {\n",
              "      resolve(e.target.files);\n",
              "    });\n",
              "  });\n",
              "\n",
              "  const cancel = document.createElement('button');\n",
              "  inputElement.parentElement.appendChild(cancel);\n",
              "  cancel.textContent = 'Cancel upload';\n",
              "  const cancelPromise = new Promise((resolve) => {\n",
              "    cancel.onclick = () => {\n",
              "      resolve(null);\n",
              "    };\n",
              "  });\n",
              "\n",
              "  // Wait for the user to pick the files.\n",
              "  const files = yield {\n",
              "    promise: Promise.race([pickedPromise, cancelPromise]),\n",
              "    response: {\n",
              "      action: 'starting',\n",
              "    }\n",
              "  };\n",
              "\n",
              "  cancel.remove();\n",
              "\n",
              "  // Disable the input element since further picks are not allowed.\n",
              "  inputElement.disabled = true;\n",
              "\n",
              "  if (!files) {\n",
              "    return {\n",
              "      response: {\n",
              "        action: 'complete',\n",
              "      }\n",
              "    };\n",
              "  }\n",
              "\n",
              "  for (const file of files) {\n",
              "    const li = document.createElement('li');\n",
              "    li.append(span(file.name, {fontWeight: 'bold'}));\n",
              "    li.append(span(\n",
              "        `(${file.type || 'n/a'}) - ${file.size} bytes, ` +\n",
              "        `last modified: ${\n",
              "            file.lastModifiedDate ? file.lastModifiedDate.toLocaleDateString() :\n",
              "                                    'n/a'} - `));\n",
              "    const percent = span('0% done');\n",
              "    li.appendChild(percent);\n",
              "\n",
              "    outputElement.appendChild(li);\n",
              "\n",
              "    const fileDataPromise = new Promise((resolve) => {\n",
              "      const reader = new FileReader();\n",
              "      reader.onload = (e) => {\n",
              "        resolve(e.target.result);\n",
              "      };\n",
              "      reader.readAsArrayBuffer(file);\n",
              "    });\n",
              "    // Wait for the data to be ready.\n",
              "    let fileData = yield {\n",
              "      promise: fileDataPromise,\n",
              "      response: {\n",
              "        action: 'continue',\n",
              "      }\n",
              "    };\n",
              "\n",
              "    // Use a chunked sending to avoid message size limits. See b/62115660.\n",
              "    let position = 0;\n",
              "    do {\n",
              "      const length = Math.min(fileData.byteLength - position, MAX_PAYLOAD_SIZE);\n",
              "      const chunk = new Uint8Array(fileData, position, length);\n",
              "      position += length;\n",
              "\n",
              "      const base64 = btoa(String.fromCharCode.apply(null, chunk));\n",
              "      yield {\n",
              "        response: {\n",
              "          action: 'append',\n",
              "          file: file.name,\n",
              "          data: base64,\n",
              "        },\n",
              "      };\n",
              "\n",
              "      let percentDone = fileData.byteLength === 0 ?\n",
              "          100 :\n",
              "          Math.round((position / fileData.byteLength) * 100);\n",
              "      percent.textContent = `${percentDone}% done`;\n",
              "\n",
              "    } while (position < fileData.byteLength);\n",
              "  }\n",
              "\n",
              "  // All done.\n",
              "  yield {\n",
              "    response: {\n",
              "      action: 'complete',\n",
              "    }\n",
              "  };\n",
              "}\n",
              "\n",
              "scope.google = scope.google || {};\n",
              "scope.google.colab = scope.google.colab || {};\n",
              "scope.google.colab._files = {\n",
              "  _uploadFiles,\n",
              "  _uploadFilesContinue,\n",
              "};\n",
              "})(self);\n",
              "</script> "
            ]
          },
          "metadata": {}
        },
        {
          "output_type": "stream",
          "name": "stdout",
          "text": [
            "Saving kaggle (2).json to kaggle (2).json\n"
          ]
        },
        {
          "output_type": "execute_result",
          "data": {
            "text/plain": [
              "{'kaggle (2).json': b'{\"username\":\"oykudemirell\",\"key\":\"24fc20083ed3bb7604f8159dd18baa8c\"}'}"
            ]
          },
          "metadata": {},
          "execution_count": 15
        }
      ]
    },
    {
      "cell_type": "code",
      "source": [
        "!mkdir -p ~/.kaggle\n",
        "!cp \"kaggle (2).json\" ~/.kaggle/kaggle.json\n",
        "!chmod 600 ~/.kaggle/kaggle.json\n",
        "!pip install -q kaggle\n"
      ],
      "metadata": {
        "id": "JtGjUAKUtvLJ"
      },
      "execution_count": null,
      "outputs": []
    },
    {
      "cell_type": "code",
      "source": [
        "!kaggle datasets download -d unanimad/the-oscar-award\n",
        "!unzip -o the-oscar-award.zip\n",
        "!ls\n"
      ],
      "metadata": {
        "colab": {
          "base_uri": "https://localhost:8080/"
        },
        "id": "zsafgbwOt2LT",
        "outputId": "836ca05b-72a9-42e3-c2cb-5161ae785fb1"
      },
      "execution_count": null,
      "outputs": [
        {
          "output_type": "stream",
          "name": "stdout",
          "text": [
            "Dataset URL: https://www.kaggle.com/datasets/unanimad/the-oscar-award\n",
            "License(s): CC0-1.0\n",
            "Archive:  the-oscar-award.zip\n",
            "  inflating: full_data.csv           \n",
            "  inflating: the_oscar_award.csv     \n",
            " bafta-awards.zip\t   golden-globe-awards.zip   sample_data\n",
            " bafta_films.csv\t  'kaggle (1).json'\t     the_oscar_award.csv\n",
            " full_data.csv\t\t  'kaggle (2).json'\t     the-oscar-award.zip\n",
            " golden_globe_awards.csv   kaggle.json\t\t     tmdb_movies_2016_2020.csv\n"
          ]
        }
      ]
    },
    {
      "cell_type": "code",
      "source": [
        "#Oscar Awards\n",
        "import pandas as pd\n",
        "\n",
        "df_oscar = pd.read_csv('the_oscar_award.csv')\n",
        "\n",
        "df_oscar = df_oscar.drop(columns=['year_ceremony', 'ceremony', 'category', 'canon_category', 'name'], errors='ignore')\n",
        "\n",
        "\n",
        "df_oscar = df_oscar[(df_oscar['year_film'] >= 2016) & (df_oscar['year_film'] <= 2020)]\n",
        "\n",
        "df_oscar.head()\n"
      ],
      "metadata": {
        "colab": {
          "base_uri": "https://localhost:8080/",
          "height": 206
        },
        "id": "kj5zSQeBumpq",
        "outputId": "7bb7c5b3-5c0c-4257-d94e-8d4738fd634f"
      },
      "execution_count": null,
      "outputs": [
        {
          "output_type": "execute_result",
          "data": {
            "text/plain": [
              "      year_film                   film  winner\n",
              "9984       2016  Manchester by the Sea    True\n",
              "9985       2016          Hacksaw Ridge   False\n",
              "9986       2016             La La Land   False\n",
              "9987       2016      Captain Fantastic   False\n",
              "9988       2016                 Fences   False"
            ],
            "text/html": [
              "\n",
              "  <div id=\"df-1444a42e-6c70-43d6-ac94-b9e1c8d9b45e\" class=\"colab-df-container\">\n",
              "    <div>\n",
              "<style scoped>\n",
              "    .dataframe tbody tr th:only-of-type {\n",
              "        vertical-align: middle;\n",
              "    }\n",
              "\n",
              "    .dataframe tbody tr th {\n",
              "        vertical-align: top;\n",
              "    }\n",
              "\n",
              "    .dataframe thead th {\n",
              "        text-align: right;\n",
              "    }\n",
              "</style>\n",
              "<table border=\"1\" class=\"dataframe\">\n",
              "  <thead>\n",
              "    <tr style=\"text-align: right;\">\n",
              "      <th></th>\n",
              "      <th>year_film</th>\n",
              "      <th>film</th>\n",
              "      <th>winner</th>\n",
              "    </tr>\n",
              "  </thead>\n",
              "  <tbody>\n",
              "    <tr>\n",
              "      <th>9984</th>\n",
              "      <td>2016</td>\n",
              "      <td>Manchester by the Sea</td>\n",
              "      <td>True</td>\n",
              "    </tr>\n",
              "    <tr>\n",
              "      <th>9985</th>\n",
              "      <td>2016</td>\n",
              "      <td>Hacksaw Ridge</td>\n",
              "      <td>False</td>\n",
              "    </tr>\n",
              "    <tr>\n",
              "      <th>9986</th>\n",
              "      <td>2016</td>\n",
              "      <td>La La Land</td>\n",
              "      <td>False</td>\n",
              "    </tr>\n",
              "    <tr>\n",
              "      <th>9987</th>\n",
              "      <td>2016</td>\n",
              "      <td>Captain Fantastic</td>\n",
              "      <td>False</td>\n",
              "    </tr>\n",
              "    <tr>\n",
              "      <th>9988</th>\n",
              "      <td>2016</td>\n",
              "      <td>Fences</td>\n",
              "      <td>False</td>\n",
              "    </tr>\n",
              "  </tbody>\n",
              "</table>\n",
              "</div>\n",
              "    <div class=\"colab-df-buttons\">\n",
              "\n",
              "  <div class=\"colab-df-container\">\n",
              "    <button class=\"colab-df-convert\" onclick=\"convertToInteractive('df-1444a42e-6c70-43d6-ac94-b9e1c8d9b45e')\"\n",
              "            title=\"Convert this dataframe to an interactive table.\"\n",
              "            style=\"display:none;\">\n",
              "\n",
              "  <svg xmlns=\"http://www.w3.org/2000/svg\" height=\"24px\" viewBox=\"0 -960 960 960\">\n",
              "    <path d=\"M120-120v-720h720v720H120Zm60-500h600v-160H180v160Zm220 220h160v-160H400v160Zm0 220h160v-160H400v160ZM180-400h160v-160H180v160Zm440 0h160v-160H620v160ZM180-180h160v-160H180v160Zm440 0h160v-160H620v160Z\"/>\n",
              "  </svg>\n",
              "    </button>\n",
              "\n",
              "  <style>\n",
              "    .colab-df-container {\n",
              "      display:flex;\n",
              "      gap: 12px;\n",
              "    }\n",
              "\n",
              "    .colab-df-convert {\n",
              "      background-color: #E8F0FE;\n",
              "      border: none;\n",
              "      border-radius: 50%;\n",
              "      cursor: pointer;\n",
              "      display: none;\n",
              "      fill: #1967D2;\n",
              "      height: 32px;\n",
              "      padding: 0 0 0 0;\n",
              "      width: 32px;\n",
              "    }\n",
              "\n",
              "    .colab-df-convert:hover {\n",
              "      background-color: #E2EBFA;\n",
              "      box-shadow: 0px 1px 2px rgba(60, 64, 67, 0.3), 0px 1px 3px 1px rgba(60, 64, 67, 0.15);\n",
              "      fill: #174EA6;\n",
              "    }\n",
              "\n",
              "    .colab-df-buttons div {\n",
              "      margin-bottom: 4px;\n",
              "    }\n",
              "\n",
              "    [theme=dark] .colab-df-convert {\n",
              "      background-color: #3B4455;\n",
              "      fill: #D2E3FC;\n",
              "    }\n",
              "\n",
              "    [theme=dark] .colab-df-convert:hover {\n",
              "      background-color: #434B5C;\n",
              "      box-shadow: 0px 1px 3px 1px rgba(0, 0, 0, 0.15);\n",
              "      filter: drop-shadow(0px 1px 2px rgba(0, 0, 0, 0.3));\n",
              "      fill: #FFFFFF;\n",
              "    }\n",
              "  </style>\n",
              "\n",
              "    <script>\n",
              "      const buttonEl =\n",
              "        document.querySelector('#df-1444a42e-6c70-43d6-ac94-b9e1c8d9b45e button.colab-df-convert');\n",
              "      buttonEl.style.display =\n",
              "        google.colab.kernel.accessAllowed ? 'block' : 'none';\n",
              "\n",
              "      async function convertToInteractive(key) {\n",
              "        const element = document.querySelector('#df-1444a42e-6c70-43d6-ac94-b9e1c8d9b45e');\n",
              "        const dataTable =\n",
              "          await google.colab.kernel.invokeFunction('convertToInteractive',\n",
              "                                                    [key], {});\n",
              "        if (!dataTable) return;\n",
              "\n",
              "        const docLinkHtml = 'Like what you see? Visit the ' +\n",
              "          '<a target=\"_blank\" href=https://colab.research.google.com/notebooks/data_table.ipynb>data table notebook</a>'\n",
              "          + ' to learn more about interactive tables.';\n",
              "        element.innerHTML = '';\n",
              "        dataTable['output_type'] = 'display_data';\n",
              "        await google.colab.output.renderOutput(dataTable, element);\n",
              "        const docLink = document.createElement('div');\n",
              "        docLink.innerHTML = docLinkHtml;\n",
              "        element.appendChild(docLink);\n",
              "      }\n",
              "    </script>\n",
              "  </div>\n",
              "\n",
              "\n",
              "    <div id=\"df-62479a60-12ba-49b7-94ad-997d37ad0d38\">\n",
              "      <button class=\"colab-df-quickchart\" onclick=\"quickchart('df-62479a60-12ba-49b7-94ad-997d37ad0d38')\"\n",
              "                title=\"Suggest charts\"\n",
              "                style=\"display:none;\">\n",
              "\n",
              "<svg xmlns=\"http://www.w3.org/2000/svg\" height=\"24px\"viewBox=\"0 0 24 24\"\n",
              "     width=\"24px\">\n",
              "    <g>\n",
              "        <path d=\"M19 3H5c-1.1 0-2 .9-2 2v14c0 1.1.9 2 2 2h14c1.1 0 2-.9 2-2V5c0-1.1-.9-2-2-2zM9 17H7v-7h2v7zm4 0h-2V7h2v10zm4 0h-2v-4h2v4z\"/>\n",
              "    </g>\n",
              "</svg>\n",
              "      </button>\n",
              "\n",
              "<style>\n",
              "  .colab-df-quickchart {\n",
              "      --bg-color: #E8F0FE;\n",
              "      --fill-color: #1967D2;\n",
              "      --hover-bg-color: #E2EBFA;\n",
              "      --hover-fill-color: #174EA6;\n",
              "      --disabled-fill-color: #AAA;\n",
              "      --disabled-bg-color: #DDD;\n",
              "  }\n",
              "\n",
              "  [theme=dark] .colab-df-quickchart {\n",
              "      --bg-color: #3B4455;\n",
              "      --fill-color: #D2E3FC;\n",
              "      --hover-bg-color: #434B5C;\n",
              "      --hover-fill-color: #FFFFFF;\n",
              "      --disabled-bg-color: #3B4455;\n",
              "      --disabled-fill-color: #666;\n",
              "  }\n",
              "\n",
              "  .colab-df-quickchart {\n",
              "    background-color: var(--bg-color);\n",
              "    border: none;\n",
              "    border-radius: 50%;\n",
              "    cursor: pointer;\n",
              "    display: none;\n",
              "    fill: var(--fill-color);\n",
              "    height: 32px;\n",
              "    padding: 0;\n",
              "    width: 32px;\n",
              "  }\n",
              "\n",
              "  .colab-df-quickchart:hover {\n",
              "    background-color: var(--hover-bg-color);\n",
              "    box-shadow: 0 1px 2px rgba(60, 64, 67, 0.3), 0 1px 3px 1px rgba(60, 64, 67, 0.15);\n",
              "    fill: var(--button-hover-fill-color);\n",
              "  }\n",
              "\n",
              "  .colab-df-quickchart-complete:disabled,\n",
              "  .colab-df-quickchart-complete:disabled:hover {\n",
              "    background-color: var(--disabled-bg-color);\n",
              "    fill: var(--disabled-fill-color);\n",
              "    box-shadow: none;\n",
              "  }\n",
              "\n",
              "  .colab-df-spinner {\n",
              "    border: 2px solid var(--fill-color);\n",
              "    border-color: transparent;\n",
              "    border-bottom-color: var(--fill-color);\n",
              "    animation:\n",
              "      spin 1s steps(1) infinite;\n",
              "  }\n",
              "\n",
              "  @keyframes spin {\n",
              "    0% {\n",
              "      border-color: transparent;\n",
              "      border-bottom-color: var(--fill-color);\n",
              "      border-left-color: var(--fill-color);\n",
              "    }\n",
              "    20% {\n",
              "      border-color: transparent;\n",
              "      border-left-color: var(--fill-color);\n",
              "      border-top-color: var(--fill-color);\n",
              "    }\n",
              "    30% {\n",
              "      border-color: transparent;\n",
              "      border-left-color: var(--fill-color);\n",
              "      border-top-color: var(--fill-color);\n",
              "      border-right-color: var(--fill-color);\n",
              "    }\n",
              "    40% {\n",
              "      border-color: transparent;\n",
              "      border-right-color: var(--fill-color);\n",
              "      border-top-color: var(--fill-color);\n",
              "    }\n",
              "    60% {\n",
              "      border-color: transparent;\n",
              "      border-right-color: var(--fill-color);\n",
              "    }\n",
              "    80% {\n",
              "      border-color: transparent;\n",
              "      border-right-color: var(--fill-color);\n",
              "      border-bottom-color: var(--fill-color);\n",
              "    }\n",
              "    90% {\n",
              "      border-color: transparent;\n",
              "      border-bottom-color: var(--fill-color);\n",
              "    }\n",
              "  }\n",
              "</style>\n",
              "\n",
              "      <script>\n",
              "        async function quickchart(key) {\n",
              "          const quickchartButtonEl =\n",
              "            document.querySelector('#' + key + ' button');\n",
              "          quickchartButtonEl.disabled = true;  // To prevent multiple clicks.\n",
              "          quickchartButtonEl.classList.add('colab-df-spinner');\n",
              "          try {\n",
              "            const charts = await google.colab.kernel.invokeFunction(\n",
              "                'suggestCharts', [key], {});\n",
              "          } catch (error) {\n",
              "            console.error('Error during call to suggestCharts:', error);\n",
              "          }\n",
              "          quickchartButtonEl.classList.remove('colab-df-spinner');\n",
              "          quickchartButtonEl.classList.add('colab-df-quickchart-complete');\n",
              "        }\n",
              "        (() => {\n",
              "          let quickchartButtonEl =\n",
              "            document.querySelector('#df-62479a60-12ba-49b7-94ad-997d37ad0d38 button');\n",
              "          quickchartButtonEl.style.display =\n",
              "            google.colab.kernel.accessAllowed ? 'block' : 'none';\n",
              "        })();\n",
              "      </script>\n",
              "    </div>\n",
              "\n",
              "    </div>\n",
              "  </div>\n"
            ],
            "application/vnd.google.colaboratory.intrinsic+json": {
              "type": "dataframe",
              "variable_name": "df_oscar",
              "summary": "{\n  \"name\": \"df_oscar\",\n  \"rows\": 628,\n  \"fields\": [\n    {\n      \"column\": \"year_film\",\n      \"properties\": {\n        \"dtype\": \"number\",\n        \"std\": 1,\n        \"min\": 2016,\n        \"max\": 2020,\n        \"num_unique_values\": 5,\n        \"samples\": [\n          2017,\n          2020,\n          2018\n        ],\n        \"semantic_type\": \"\",\n        \"description\": \"\"\n      }\n    },\n    {\n      \"column\": \"film\",\n      \"properties\": {\n        \"dtype\": \"category\",\n        \"num_unique_values\": 283,\n        \"samples\": [\n          \"Elle\",\n          \"News of the World\",\n          \"Never Look Away\"\n        ],\n        \"semantic_type\": \"\",\n        \"description\": \"\"\n      }\n    },\n    {\n      \"column\": \"winner\",\n      \"properties\": {\n        \"dtype\": \"boolean\",\n        \"num_unique_values\": 2,\n        \"samples\": [\n          false,\n          true\n        ],\n        \"semantic_type\": \"\",\n        \"description\": \"\"\n      }\n    }\n  ]\n}"
            }
          },
          "metadata": {},
          "execution_count": 18
        }
      ]
    },
    {
      "cell_type": "code",
      "source": [
        "print(df_oscar.columns)\n",
        "print(df_gg.columns)\n",
        "print(df_b.columns)\n"
      ],
      "metadata": {
        "colab": {
          "base_uri": "https://localhost:8080/"
        },
        "id": "w4mqTCVs297e",
        "outputId": "7c8a5f68-233c-410f-8b29-3cc5f62f2cf1"
      },
      "execution_count": null,
      "outputs": [
        {
          "output_type": "stream",
          "name": "stdout",
          "text": [
            "Index(['year_film', 'film', 'winner'], dtype='object')\n",
            "Index(['year_film', 'film', 'win'], dtype='object')\n",
            "Index(['year', 'nominee', 'winner'], dtype='object')\n"
          ]
        }
      ]
    },
    {
      "cell_type": "code",
      "source": [
        "# Standardize columns\n",
        "\n",
        "# Oscars\n",
        "df_oscar = df_oscar.rename(columns={\n",
        "    'film': 'Title',\n",
        "    'year_film': 'Release Year'\n",
        "})\n",
        "\n",
        "# Golden Globes\n",
        "df_gg = df_gg.rename(columns={\n",
        "    'film': 'Title',\n",
        "    'year_film': 'Release Year'\n",
        "})\n",
        "\n",
        "# BAFTA\n",
        "df_b = df_b.rename(columns={\n",
        "    'nominee': 'Title',\n",
        "    'year': 'Release Year'\n",
        "})\n",
        "\n"
      ],
      "metadata": {
        "id": "nyxoW87u3Q1H"
      },
      "execution_count": null,
      "outputs": []
    },
    {
      "cell_type": "code",
      "source": [
        "print(df_oscar.columns)\n",
        "print(df_gg.columns)\n",
        "print(df_b.columns)\n"
      ],
      "metadata": {
        "colab": {
          "base_uri": "https://localhost:8080/"
        },
        "id": "Ye4ps3UOATu9",
        "outputId": "cd5e5ee3-d815-4c8a-958c-423f11988388"
      },
      "execution_count": null,
      "outputs": [
        {
          "output_type": "stream",
          "name": "stdout",
          "text": [
            "Index(['Release Year', 'Title', 'winner'], dtype='object')\n",
            "Index(['Release Year', 'Title', 'win'], dtype='object')\n",
            "Index(['Release Year', 'Title', 'winner'], dtype='object')\n"
          ]
        }
      ]
    },
    {
      "cell_type": "code",
      "source": [
        "\n",
        "def normalize_title(title):\n",
        "    if pd.isna(title):\n",
        "        return ''\n",
        "    return title.lower().strip()\n",
        "\n",
        "df_oscar['normalized_title'] = df_oscar['Title'].apply(normalize_title)\n",
        "df_gg['normalized_title'] = df_gg['Title'].apply(normalize_title)\n",
        "df_b['normalized_title'] = df_b['Title'].apply(normalize_title)\n",
        "\n",
        "#Count how many wins each movie had per award show\n",
        "df_oscar_counts = df_oscar.groupby('normalized_title').size().reset_index(name='Oscar_Win')\n",
        "df_gg_counts = df_gg.groupby('normalized_title').size().reset_index(name='GG_Win')\n",
        "df_b_counts = df_b.groupby('normalized_title').size().reset_index(name='BAFTA_Win')\n",
        "\n",
        "#Merge\n",
        "merged_df2 = df_oscar_counts.merge(df_gg_counts, on='normalized_title', how='outer')\n",
        "merged_df2 = merged_df2.merge(df_b_counts, on='normalized_title', how='outer')\n",
        "\n",
        "#Fill missing values with 0\n",
        "merged_df2[['Oscar_Win', 'GG_Win', 'BAFTA_Win']] = merged_df2[['Oscar_Win', 'GG_Win', 'BAFTA_Win']].fillna(0).astype(int)\n",
        "\n",
        "#Calculate the total number of awards won\n",
        "merged_df2['Total_Awards_Won'] = merged_df2[['Oscar_Win', 'GG_Win', 'BAFTA_Win']].sum(axis=1)\n",
        "\n",
        "\n",
        "merged_df2 = merged_df2.merge(df_oscar[['normalized_title', 'Title', 'Release Year']], on='normalized_title', how='left')\n",
        "\n",
        "\n",
        "merged_df2 = merged_df2.dropna(subset=['Title']).reset_index(drop=True)\n",
        "\n",
        "print(merged_df2[['Title', 'Release Year', 'Oscar_Win', 'GG_Win', 'BAFTA_Win', 'Total_Awards_Won']].head())\n"
      ],
      "metadata": {
        "colab": {
          "base_uri": "https://localhost:8080/"
        },
        "id": "GjRAdUw0HSA5",
        "outputId": "bd9df4fa-fa1b-442f-bfb0-8575f86a62cd"
      },
      "execution_count": null,
      "outputs": [
        {
          "output_type": "stream",
          "name": "stdout",
          "text": [
            "                                       Title  Release Year  Oscar_Win  GG_Win  \\\n",
            "0  13 Hours: The Secret Soldiers of Benghazi          2016          1       0   \n",
            "1                                       13th          2016          1       0   \n",
            "2                                       1917          2019          1       1   \n",
            "3                         20th Century Women          2016          1       1   \n",
            "4                                  4.1 Miles          2016          1       0   \n",
            "\n",
            "   BAFTA_Win  Total_Awards_Won  \n",
            "0          0                 1  \n",
            "1          1                 2  \n",
            "2          1                 3  \n",
            "3          0                 2  \n",
            "4          0                 1  \n"
          ]
        },
        {
          "output_type": "stream",
          "name": "stderr",
          "text": [
            "<ipython-input-24-4deb32b13d51>:6: SettingWithCopyWarning: \n",
            "A value is trying to be set on a copy of a slice from a DataFrame.\n",
            "Try using .loc[row_indexer,col_indexer] = value instead\n",
            "\n",
            "See the caveats in the documentation: https://pandas.pydata.org/pandas-docs/stable/user_guide/indexing.html#returning-a-view-versus-a-copy\n",
            "  df_oscar['normalized_title'] = df_oscar['Title'].apply(normalize_title)\n"
          ]
        }
      ]
    },
    {
      "cell_type": "code",
      "source": [
        "print(merged_df2.columns)\n"
      ],
      "metadata": {
        "colab": {
          "base_uri": "https://localhost:8080/"
        },
        "id": "2f4R9n8J-CO5",
        "outputId": "c15602c6-9a5a-4e74-eee0-322edd641af1"
      },
      "execution_count": null,
      "outputs": [
        {
          "output_type": "stream",
          "name": "stdout",
          "text": [
            "Index(['normalized_title', 'Oscar_Win', 'GG_Win', 'BAFTA_Win',\n",
            "       'Total_Awards_Won', 'Title', 'Release Year'],\n",
            "      dtype='object')\n"
          ]
        }
      ]
    },
    {
      "cell_type": "code",
      "source": [
        "print(merged_df.columns)\n"
      ],
      "metadata": {
        "colab": {
          "base_uri": "https://localhost:8080/"
        },
        "id": "cZzHt1sd_HqA",
        "outputId": "79a766ee-cb06-4b4b-bcf8-d655c3c235c2"
      },
      "execution_count": null,
      "outputs": [
        {
          "output_type": "stream",
          "name": "stdout",
          "text": [
            "Index(['Title', 'Release Year', 'Release Month', 'Release Date',\n",
            "       'Release Season', 'Release Group', 'Worldwide Gross'],\n",
            "      dtype='object')\n"
          ]
        }
      ]
    },
    {
      "cell_type": "code",
      "source": [
        "# Merge the clean movies/box office data (merged_df) with awards data (merged_df2)\n",
        "final_df = pd.merge(\n",
        "    merged_df,\n",
        "    merged_df2[['Title', 'Release Year', 'Oscar_Win', 'GG_Win', 'BAFTA_Win', 'Total_Awards_Won']],\n",
        "    on=['Title', 'Release Year'],\n",
        "    how='left'\n",
        ")\n",
        "\n",
        "print(final_df.head())\n"
      ],
      "metadata": {
        "colab": {
          "base_uri": "https://localhost:8080/"
        },
        "id": "gHKg5FEwAQDV",
        "outputId": "c30642f6-67a0-42a8-bfa3-f82bc6f8d7ce"
      },
      "execution_count": null,
      "outputs": [
        {
          "output_type": "stream",
          "name": "stdout",
          "text": [
            "                                Title  Release Year  Release Month  \\\n",
            "0  Batman v Superman: Dawn of Justice          2016              3   \n",
            "1               The Girl on the Train          2016             10   \n",
            "2                      The Accountant          2016             10   \n",
            "3              Underworld: Blood Wars          2016             11   \n",
            "4                           Moonlight          2016             10   \n",
            "\n",
            "  Release Date  Release Season                       Release Group  \\\n",
            "0   2016-03-23          Spring  Batman v Superman: Dawn of Justice   \n",
            "1   2016-10-05   Awards Season               The Girl on the Train   \n",
            "2   2016-10-13   Awards Season                      The Accountant   \n",
            "3   2016-11-24  Holiday Season              Underworld: Blood Wars   \n",
            "4   2016-10-21   Awards Season                           Moonlight   \n",
            "\n",
            "   Worldwide Gross  Oscar_Win  GG_Win  BAFTA_Win  Total_Awards_Won  \n",
            "0        874360194        NaN     NaN        NaN               NaN  \n",
            "1        173185859        NaN     NaN        NaN               NaN  \n",
            "2        155560045        NaN     NaN        NaN               NaN  \n",
            "3         81093313        NaN     NaN        NaN               NaN  \n",
            "4         65172611          1       1          1                 3  \n"
          ]
        }
      ]
    },
    {
      "cell_type": "code",
      "source": [
        "# Fill NaN award counts with 0\n",
        "award_cols = ['Oscar_Win', 'GG_Win', 'BAFTA_Win', 'Total_Awards_Won']\n",
        "final_df[award_cols] = final_df[award_cols].fillna(0).astype(int)\n",
        "\n",
        "\n",
        "final_df = final_df.drop(columns=['Release Group'])\n",
        "\n",
        "print(final_df.head())\n",
        "\n"
      ],
      "metadata": {
        "colab": {
          "base_uri": "https://localhost:8080/"
        },
        "id": "cm46GLRyIJSq",
        "outputId": "248ef303-066e-42e8-b0ce-7be55b3bd52d"
      },
      "execution_count": null,
      "outputs": [
        {
          "output_type": "stream",
          "name": "stdout",
          "text": [
            "                                Title  Release Year  Release Month  \\\n",
            "0  Batman v Superman: Dawn of Justice          2016              3   \n",
            "1               The Girl on the Train          2016             10   \n",
            "2                      The Accountant          2016             10   \n",
            "3              Underworld: Blood Wars          2016             11   \n",
            "4                           Moonlight          2016             10   \n",
            "\n",
            "  Release Date  Release Season  Worldwide Gross  Oscar_Win  GG_Win  BAFTA_Win  \\\n",
            "0   2016-03-23          Spring        874360194          0       0          0   \n",
            "1   2016-10-05   Awards Season        173185859          0       0          0   \n",
            "2   2016-10-13   Awards Season        155560045          0       0          0   \n",
            "3   2016-11-24  Holiday Season         81093313          0       0          0   \n",
            "4   2016-10-21   Awards Season         65172611          1       1          1   \n",
            "\n",
            "   Total_Awards_Won  \n",
            "0                 0  \n",
            "1                 0  \n",
            "2                 0  \n",
            "3                 0  \n",
            "4                 3  \n"
          ]
        }
      ]
    },
    {
      "cell_type": "code",
      "source": [
        "final_df.to_csv('final_dataset.csv', index=False)\n"
      ],
      "metadata": {
        "id": "70jNMHm_BGeU"
      },
      "execution_count": null,
      "outputs": []
    },
    {
      "cell_type": "code",
      "source": [
        "from google.colab import files\n",
        "files.download('final_dataset.csv')\n"
      ],
      "metadata": {
        "colab": {
          "base_uri": "https://localhost:8080/",
          "height": 17
        },
        "id": "DYjRR6g-BQAO",
        "outputId": "5cbaca69-2143-4a8c-dfc3-1ed07250910c"
      },
      "execution_count": null,
      "outputs": [
        {
          "output_type": "display_data",
          "data": {
            "text/plain": [
              "<IPython.core.display.Javascript object>"
            ],
            "application/javascript": [
              "\n",
              "    async function download(id, filename, size) {\n",
              "      if (!google.colab.kernel.accessAllowed) {\n",
              "        return;\n",
              "      }\n",
              "      const div = document.createElement('div');\n",
              "      const label = document.createElement('label');\n",
              "      label.textContent = `Downloading \"${filename}\": `;\n",
              "      div.appendChild(label);\n",
              "      const progress = document.createElement('progress');\n",
              "      progress.max = size;\n",
              "      div.appendChild(progress);\n",
              "      document.body.appendChild(div);\n",
              "\n",
              "      const buffers = [];\n",
              "      let downloaded = 0;\n",
              "\n",
              "      const channel = await google.colab.kernel.comms.open(id);\n",
              "      // Send a message to notify the kernel that we're ready.\n",
              "      channel.send({})\n",
              "\n",
              "      for await (const message of channel.messages) {\n",
              "        // Send a message to notify the kernel that we're ready.\n",
              "        channel.send({})\n",
              "        if (message.buffers) {\n",
              "          for (const buffer of message.buffers) {\n",
              "            buffers.push(buffer);\n",
              "            downloaded += buffer.byteLength;\n",
              "            progress.value = downloaded;\n",
              "          }\n",
              "        }\n",
              "      }\n",
              "      const blob = new Blob(buffers, {type: 'application/binary'});\n",
              "      const a = document.createElement('a');\n",
              "      a.href = window.URL.createObjectURL(blob);\n",
              "      a.download = filename;\n",
              "      div.appendChild(a);\n",
              "      a.click();\n",
              "      div.remove();\n",
              "    }\n",
              "  "
            ]
          },
          "metadata": {}
        },
        {
          "output_type": "display_data",
          "data": {
            "text/plain": [
              "<IPython.core.display.Javascript object>"
            ],
            "application/javascript": [
              "download(\"download_d9b70136-f62d-49a5-b96c-b7735134e746\", \"final_dataset.csv\", 951469)"
            ]
          },
          "metadata": {}
        }
      ]
    },
    {
      "cell_type": "code",
      "source": [
        "print(final_df.columns)\n",
        "\n"
      ],
      "metadata": {
        "colab": {
          "base_uri": "https://localhost:8080/"
        },
        "id": "LCiKBlaNI6Cg",
        "outputId": "3de9a16d-c8c2-438d-8748-1eca6b5a89aa"
      },
      "execution_count": null,
      "outputs": [
        {
          "output_type": "stream",
          "name": "stdout",
          "text": [
            "Index(['Title', 'Release Year', 'Release Month', 'Release Date',\n",
            "       'Release Season', 'Worldwide Gross', 'Oscar_Win', 'GG_Win', 'BAFTA_Win',\n",
            "       'Total_Awards_Won'],\n",
            "      dtype='object')\n"
          ]
        }
      ]
    },
    {
      "cell_type": "code",
      "source": [
        "import numpy as np\n",
        "\n",
        "plt.figure(figsize=(12,6))\n",
        "sns.barplot(data=final_df, x='Release Month', y='Total_Awards_Won', estimator=np.mean, ci=None, palette=\"viridis\")\n",
        "plt.title('Average Awards Won by Release Month')\n",
        "plt.ylabel('Average Awards Won')\n",
        "plt.xlabel('Release Month')\n",
        "plt.xticks(rotation=45)\n",
        "plt.show()\n"
      ],
      "metadata": {
        "colab": {
          "base_uri": "https://localhost:8080/",
          "height": 772
        },
        "id": "uxYV_oIRExfp",
        "outputId": "1541e7f0-6928-433e-bb1b-b39e79ea8dff"
      },
      "execution_count": 41,
      "outputs": [
        {
          "output_type": "stream",
          "name": "stderr",
          "text": [
            "<ipython-input-41-3cbfaef5cc92>:4: FutureWarning: \n",
            "\n",
            "The `ci` parameter is deprecated. Use `errorbar=None` for the same effect.\n",
            "\n",
            "  sns.barplot(data=final_df, x='Release Month', y='Total_Awards_Won', estimator=np.mean, ci=None, palette=\"viridis\")\n",
            "<ipython-input-41-3cbfaef5cc92>:4: FutureWarning: \n",
            "\n",
            "Passing `palette` without assigning `hue` is deprecated and will be removed in v0.14.0. Assign the `x` variable to `hue` and set `legend=False` for the same effect.\n",
            "\n",
            "  sns.barplot(data=final_df, x='Release Month', y='Total_Awards_Won', estimator=np.mean, ci=None, palette=\"viridis\")\n"
          ]
        },
        {
          "output_type": "display_data",
          "data": {
            "text/plain": [
              "<Figure size 1200x600 with 1 Axes>"
            ],
            "image/png": "[encoded data removed]"
          },
          "metadata": {}
        }
      ]
    },
    {
      "cell_type": "markdown",
      "source": [
        "The bar plot shows that movies released later in the year (November and December) tend to win more awards on average than movies released earlier. December releases have the highest average awards won, suggesting an advantage. In contrast, movies released between January and August tend to win fewer awards on average, indicating that early-year releases are less likely to become award-season favorites."
      ],
      "metadata": {
        "id": "5TVLZXGoFcmf"
      }
    },
    {
      "cell_type": "code",
      "source": [
        "plt.figure(figsize=(12,6))\n",
        "sns.scatterplot(data=final_df, x='Worldwide Gross', y='Total_Awards_Won')\n",
        "plt.title('Box Office Revenue vs Total Awards Won')\n",
        "plt.xlabel('Box Office Revenue ($)')\n",
        "plt.ylabel('Total Awards Won')\n",
        "plt.xscale('log')  # because box office values vary a lot\n",
        "plt.show()\n"
      ],
      "metadata": {
        "colab": {
          "base_uri": "https://localhost:8080/",
          "height": 569
        },
        "id": "Gs1HbixxH4k_",
        "outputId": "b0e25a38-3871-4121-cdc2-a967f02c6534"
      },
      "execution_count": 43,
      "outputs": [
        {
          "output_type": "display_data",
          "data": {
            "text/plain": [
              "<Figure size 1200x600 with 1 Axes>"
            ],
            "image/png": "[encoded data removed]"
          },
          "metadata": {}
        }
      ]
    },
    {
      "cell_type": "markdown",
      "source": [
        "There isn’t a strong relationship between box office revenue and total awards won. Many movies, even with very high revenue (over $1B), still won 0 or 1 award."
      ],
      "metadata": {
        "id": "3mztscfsKZaj"
      }
    },
    {
      "cell_type": "code",
      "source": [
        "# Drop rows with NaNs\n",
        "clean_df = final_df[['Worldwide Gross', 'Total_Awards_Won']].dropna()\n",
        "\n",
        "\n",
        "pearson_corr, pearson_p = pearsonr(clean_df['Worldwide Gross'], clean_df['Total_Awards_Won'])\n",
        "spearman_corr, spearman_p = spearmanr(clean_df['Worldwide Gross'], clean_df['Total_Awards_Won'])\n",
        "\n",
        "print(f\"Pearson correlation: {pearson_corr:.3f} (p-value: {pearson_p:.3f})\")\n",
        "print(f\"Spearman correlation: {spearman_corr:.3f} (p-value: {spearman_p:.3f})\")\n"
      ],
      "metadata": {
        "colab": {
          "base_uri": "https://localhost:8080/"
        },
        "id": "VVTtQoFIKuJo",
        "outputId": "fa627d88-513b-4e1c-cb4f-948145e3698b"
      },
      "execution_count": 45,
      "outputs": [
        {
          "output_type": "stream",
          "name": "stdout",
          "text": [
            "Pearson correlation: 0.278 (p-value: 0.000)\n",
            "Spearman correlation: 0.261 (p-value: 0.000)\n"
          ]
        }
      ]
    },
    {
      "cell_type": "markdown",
      "source": [
        "While movies with higher box office revenues tend to win slightly more awards, box office success does not strongly predict award wins. Many blockbuster movies still win few or no awards, and some lower-revenue films can win big."
      ],
      "metadata": {
        "id": "KO9TB36-Qmo9"
      }
    },
    {
      "cell_type": "code",
      "source": [
        "import pandas as pd\n",
        "from scipy.stats import chi2_contingency\n",
        "\n",
        "# 1. Create a binary column for “won any award”\n",
        "final_df['Won_Award'] = final_df['Total_Awards_Won'] > 0\n",
        "\n",
        "season_award_crosstab = pd.crosstab(\n",
        "    final_df['Release Season'],\n",
        "    final_df['Won_Award']\n",
        ")\n",
        "print(season_award_crosstab)\n"
      ],
      "metadata": {
        "colab": {
          "base_uri": "https://localhost:8080/"
        },
        "id": "bARTKwimbfIQ",
        "outputId": "e795a072-eb81-4c3c-adce-0bfa6853030b"
      },
      "execution_count": 50,
      "outputs": [
        {
          "output_type": "stream",
          "name": "stdout",
          "text": [
            "Won_Award           False  True \n",
            "Release Season                  \n",
            "Awards Season        5981     79\n",
            "Holiday Season       2783     73\n",
            "Spring               3614     39\n",
            "Summer Blockbuster   3378     49\n"
          ]
        }
      ]
    },
    {
      "cell_type": "code",
      "source": [
        "# Chi-square test\n",
        "chi2, p, dof, expected = chi2_contingency(season_award_crosstab)\n",
        "\n",
        "print(f\"Chi-Square statistic: {chi2:.3f}\")\n",
        "print(f\"p-value: {p:.3f}\")\n",
        "\n"
      ],
      "metadata": {
        "colab": {
          "base_uri": "https://localhost:8080/"
        },
        "id": "xPWJmiTmbiS0",
        "outputId": "4ffcc8b7-38dd-45f2-e3f8-8ffaaff5e0d0"
      },
      "execution_count": 52,
      "outputs": [
        {
          "output_type": "stream",
          "name": "stdout",
          "text": [
            "Chi-Square statistic: 27.868\n",
            "p-value: 0.000\n"
          ]
        }
      ]
    },
    {
      "cell_type": "markdown",
      "source": [
        "Out of 6 k movies released in Awards Season, only 79 won at least one major award (%1.3). Holiday Season movies had a slightly higher success rate.\n",
        "\n",
        "p < 0.05, so we reject H₀: there is a significant association between release season and winning awards.\n",
        "The chance of winning at least one award does depend on when a movie is released.\n",
        "\n",
        "\n",
        "\n",
        "\n"
      ],
      "metadata": {
        "id": "sB8f-J4uc40B"
      }
    },
    {
      "cell_type": "code",
      "source": [
        "from scipy.stats import ttest_ind\n",
        "\n",
        "\n",
        "winners = final_df[ final_df['Won_Award'] ]['Worldwide Gross']\n",
        "losers  = final_df[~final_df['Won_Award'] ]['Worldwide Gross']\n",
        "\n",
        "# T-test\n",
        "t_stat, p_val = ttest_ind(winners, losers, equal_var=False)\n",
        "\n",
        "print(f\"t-statistic: {t_stat:.3f}\")\n",
        "print(f\"p-value: {p_val:.3f}\")\n"
      ],
      "metadata": {
        "colab": {
          "base_uri": "https://localhost:8080/"
        },
        "id": "y0pqf60KlcpO",
        "outputId": "522bb082-4bdf-47f0-c90d-d936ddf99354"
      },
      "execution_count": 63,
      "outputs": [
        {
          "output_type": "stream",
          "name": "stdout",
          "text": [
            "t-statistic: nan\n",
            "p-value: nan\n"
          ]
        }
      ]
    },
    {
      "cell_type": "code",
      "source": [
        "#Average Awards Won by Release Season\n",
        "season_awards = final_df.groupby('Release Season')['Total_Awards_Won'].mean().sort_values(ascending=False)\n",
        "\n",
        "\n",
        "plt.figure(figsize=(8,5))\n",
        "sns.barplot(x=season_awards.index, y=season_awards.values)\n",
        "plt.title('Average Awards Won by Release Season')\n",
        "plt.xlabel('Release Season')\n",
        "plt.ylabel('Average Total Awards Won')\n",
        "plt.xticks(rotation=45)\n",
        "plt.show()\n"
      ],
      "metadata": {
        "colab": {
          "base_uri": "https://localhost:8080/",
          "height": 586
        },
        "id": "YDFQCRO_K6UT",
        "outputId": "5a73ba30-1548-4957-8637-3ef3830fc5a1"
      },
      "execution_count": 54,
      "outputs": [
        {
          "output_type": "display_data",
          "data": {
            "text/plain": [
              "<Figure size 800x500 with 1 Axes>"
            ],
            "image/png": "[encoded data removed]"
          },
          "metadata": {}
        }
      ]
    },
    {
      "cell_type": "code",
      "source": [
        "\n",
        "sns.set_style('whitegrid')\n",
        "\n",
        "\n",
        "fig, axes = plt.subplots(1, 2, figsize=(16,6))\n",
        "\n",
        "# Plot 1: Box Office performance by Release Season\n",
        "sns.boxplot(x='Release Season', y='Worldwide Gross', data=final_df, ax=axes[0])\n",
        "axes[0].set_title('Box Office Performance by Release Season')\n",
        "axes[0].set_ylabel('Worldwide Gross ($)')\n",
        "axes[0].set_xlabel('Release Season')\n",
        "axes[0].tick_params(axis='x', rotation=45)\n",
        "\n",
        "# Plot 2: Award success by Release Season\n",
        "sns.boxplot(x='Release Season', y='Total_Awards_Won', data=final_df, ax=axes[1])\n",
        "axes[1].set_title('Award Success by Release Season')\n",
        "axes[1].set_ylabel('Total Awards Won')\n",
        "axes[1].set_xlabel('Release Season')\n",
        "axes[1].tick_params(axis='x', rotation=45)\n",
        "\n",
        "\n",
        "plt.tight_layout()\n",
        "plt.show()\n"
      ],
      "metadata": {
        "colab": {
          "base_uri": "https://localhost:8080/",
          "height": 517
        },
        "id": "-YU60PIOL8cp",
        "outputId": "08f81004-7690-48df-d98e-d71234160d2e"
      },
      "execution_count": 55,
      "outputs": [
        {
          "output_type": "display_data",
          "data": {
            "text/plain": [
              "<Figure size 1600x600 with 2 Axes>"
            ],
            "image/png": "[encoded data removed]"
          },
          "metadata": {}
        }
      ]
    },
    {
      "cell_type": "code",
      "source": [
        "sns.lmplot(x='Worldwide Gross', y='Total_Awards_Won', data=final_df)\n",
        "plt.title('Worldwide Gross vs Total Awards Won (with Trendline)')\n",
        "plt.show()\n"
      ],
      "metadata": {
        "colab": {
          "base_uri": "https://localhost:8080/",
          "height": 529
        },
        "id": "-5MDUq4PM2-g",
        "outputId": "c1511c48-92f3-4f2d-bc07-fd313bfeb4cf"
      },
      "execution_count": null,
      "outputs": [
        {
          "output_type": "display_data",
          "data": {
            "text/plain": [
              "<Figure size 500x500 with 1 Axes>"
            ],
            "image/png": "[encoded data removed]"
          },
          "metadata": {}
        }
      ]
    },
    {
      "cell_type": "code",
      "source": [
        "#Do high-grossing movies have better chances of winning awards, regardless of release timing?\n",
        "\n",
        "threshold = final_df['Worldwide Gross'].quantile(0.75)\n",
        "\n",
        "final_df['Is_High_Gross'] = final_df['Worldwide Gross'] >= threshold\n",
        "\n",
        "# Boxplot to compare\n",
        "plt.figure(figsize=(8,6))\n",
        "sns.boxplot(x='Is_High_Gross', y='Total_Awards_Won', data=final_df)\n",
        "plt.title('Awards Won: High Grossing vs Low Grossing Movies')\n",
        "plt.xlabel('High Grossing Movie?')\n",
        "plt.ylabel('Total Awards Won')\n",
        "plt.show()\n",
        "\n",
        "\n",
        "mean_awards_gross = final_df.groupby('Is_High_Gross')['Total_Awards_Won'].mean()\n",
        "print(mean_awards_gross)\n",
        "\n",
        "\n",
        "#High box office success is correlated with winning more awards.\n",
        "#High-grossing movies tend to win more awards regardless of release season.\n"
      ],
      "metadata": {
        "colab": {
          "base_uri": "https://localhost:8080/",
          "height": 635
        },
        "id": "rg1J4LMKN06V",
        "outputId": "20c1b2d4-076f-4493-f833-46a9e45a090b"
      },
      "execution_count": 58,
      "outputs": [
        {
          "output_type": "display_data",
          "data": {
            "text/plain": [
              "<Figure size 800x600 with 1 Axes>"
            ],
            "image/png": "[encoded data removed]"
          },
          "metadata": {}
        },
        {
          "output_type": "stream",
          "name": "stdout",
          "text": [
            "Is_High_Gross\n",
            "False   0\n",
            "True    1\n",
            "Name: Total_Awards_Won, dtype: float64\n"
          ]
        }
      ]
    },
    {
      "cell_type": "code",
      "source": [
        "# Check basic statistics and how many movies won 0 awards\n",
        "print(final_df['Total_Awards_Won'].describe())\n",
        "\n",
        "zero_awards = (final_df['Total_Awards_Won'] == 0).sum()\n",
        "print(f\"Movies with 0 awards: {zero_awards} out of {len(final_df)}\")\n"
      ],
      "metadata": {
        "colab": {
          "base_uri": "https://localhost:8080/"
        },
        "id": "h8hn08bEOE9x",
        "outputId": "4581b3f6-3bd6-4ba9-f8fd-c0ee054d0e63"
      },
      "execution_count": 59,
      "outputs": [
        {
          "output_type": "stream",
          "name": "stdout",
          "text": [
            "count   15996\n",
            "mean        0\n",
            "std         0\n",
            "min         0\n",
            "25%         0\n",
            "50%         0\n",
            "75%         0\n",
            "max         3\n",
            "Name: Total_Awards_Won, dtype: float64\n",
            "Movies with 0 awards: 15756 out of 15996\n"
          ]
        }
      ]
    },
    {
      "cell_type": "code",
      "source": [
        "from scipy.stats import ttest_ind\n",
        "\n",
        "# Separate groups\n",
        "high_gross_awards = final_df[final_df['Is_High_Gross'] == True]['Total_Awards_Won']\n",
        "low_gross_awards = final_df[final_df['Is_High_Gross'] == False]['Total_Awards_Won']\n",
        "\n",
        "# Perform t-test\n",
        "t_stat, p_value = ttest_ind(high_gross_awards, low_gross_awards, equal_var=False)\n",
        "\n",
        "print(f\"T-statistic: {t_stat:.3f}\")\n",
        "print(f\"P-value: {p_value:.5f}\")\n"
      ],
      "metadata": {
        "colab": {
          "base_uri": "https://localhost:8080/"
        },
        "id": "bSNqf2AYOvdl",
        "outputId": "8ba257a4-b878-4c02-cbfb-8f7676bb9050"
      },
      "execution_count": 60,
      "outputs": [
        {
          "output_type": "stream",
          "name": "stdout",
          "text": [
            "T-statistic: 8.073\n",
            "P-value: 0.00000\n"
          ]
        }
      ]
    },
    {
      "cell_type": "code",
      "source": [
        "# Group by season and calculate the mean number of awards\n",
        "season_awards = final_df.groupby('Release Season')['Total_Awards_Won'].mean().sort_values(ascending=False)\n",
        "\n",
        "\n",
        "print(season_awards)\n",
        "\n",
        "#Plot for better visualization\n",
        "import seaborn as sns\n",
        "import matplotlib.pyplot as plt\n",
        "\n",
        "plt.figure(figsize=(10,6))\n",
        "sns.barplot(x=season_awards.index, y=season_awards.values, palette=\"viridis\")\n",
        "plt.title('Average Awards Won by Release Season', fontsize=16)\n",
        "plt.xlabel('Release Season', fontsize=14)\n",
        "plt.ylabel('Average Awards Won', fontsize=14)\n",
        "plt.xticks(rotation=45)\n",
        "plt.show()\n"
      ],
      "metadata": {
        "colab": {
          "base_uri": "https://localhost:8080/",
          "height": 886
        },
        "id": "jo3gVHXGPoh7",
        "outputId": "41c4a933-079e-4cad-ac47-1f1f0bc5d371"
      },
      "execution_count": null,
      "outputs": [
        {
          "output_type": "stream",
          "name": "stdout",
          "text": [
            "Release Season\n",
            "Holiday Season       1\n",
            "Awards Season        0\n",
            "Summer Blockbuster   0\n",
            "Spring               0\n",
            "Name: Total_Awards_Won, dtype: float64\n"
          ]
        },
        {
          "output_type": "stream",
          "name": "stderr",
          "text": [
            "<ipython-input-48-1dba417c3eb5>:14: FutureWarning: \n",
            "\n",
            "Passing `palette` without assigning `hue` is deprecated and will be removed in v0.14.0. Assign the `x` variable to `hue` and set `legend=False` for the same effect.\n",
            "\n",
            "  sns.barplot(x=season_awards.index, y=season_awards.values, palette=\"viridis\")\n"
          ]
        },
        {
          "output_type": "display_data",
          "data": {
            "text/plain": [
              "<Figure size 1000x600 with 1 Axes>"
            ],
            "image/png": "[encoded data removed]"
          },
          "metadata": {}
        }
      ]
    },
    {
      "cell_type": "code",
      "source": [
        "from scipy.stats import f_oneway\n",
        "\n",
        "# Separate the awards data by season\n",
        "holiday_awards = final_df[final_df['Release Season'] == 'Holiday Season']['Total_Awards_Won']\n",
        "awards_season_awards = final_df[final_df['Release Season'] == 'Awards Season']['Total_Awards_Won']\n",
        "summer_awards = final_df[final_df['Release Season'] == 'Summer Blockbuster']['Total_Awards_Won']\n",
        "spring_awards = final_df[final_df['Release Season'] == 'Spring']['Total_Awards_Won']\n",
        "\n",
        "#One-way ANOVA\n",
        "f_stat, p_value = f_oneway(holiday_awards, awards_season_awards, summer_awards, spring_awards)\n",
        "\n",
        "print(f\"F-statistic: {f_stat:.3f}\")\n",
        "print(f\"P-value: {p_value:.5f}\")\n"
      ],
      "metadata": {
        "colab": {
          "base_uri": "https://localhost:8080/"
        },
        "id": "xzG_acKZQEpp",
        "outputId": "6896d574-1822-4532-a9af-191d0c912282"
      },
      "execution_count": null,
      "outputs": [
        {
          "output_type": "stream",
          "name": "stdout",
          "text": [
            "F-statistic: 131.126\n",
            "P-value: 0.00000\n"
          ]
        }
      ]
    },
    {
      "cell_type": "code",
      "source": [
        "print(final_df.columns)\n"
      ],
      "metadata": {
        "colab": {
          "base_uri": "https://localhost:8080/"
        },
        "id": "G4K_LiKhSC5t",
        "outputId": "1fad3cd3-2942-46e8-a90b-143e875a2ac3"
      },
      "execution_count": null,
      "outputs": [
        {
          "output_type": "stream",
          "name": "stdout",
          "text": [
            "Index(['Title', 'Release Year', 'Release Month', 'Release Date',\n",
            "       'Release Season', 'Worldwide Gross', 'Oscar_Win', 'GG_Win', 'BAFTA_Win',\n",
            "       'Total_Awards_Won', 'Is_Awards_Season', 'Is_High_Gross'],\n",
            "      dtype='object')\n"
          ]
        }
      ]
    },
    {
      "cell_type": "code",
      "source": [
        "import statsmodels.api as sm\n",
        "from statsmodels.formula.api import ols\n",
        "\n",
        "anova_df = final_df[['Release Season', 'Is_High_Gross', 'Total_Awards_Won']].dropna().rename(columns={'Release Season': 'Release_Season'})\n",
        "\n",
        "\n",
        "#Two-Way ANOVA\n",
        "\n",
        "\n",
        "model = ols('Total_Awards_Won ~ C(Release_Season) + C(Is_High_Gross) + C(Release_Season):C(Is_High_Gross)', data=anova_df).fit()\n",
        "anova_table = sm.stats.anova_lm(model, typ=2)\n",
        "print(anova_table)\n",
        "\n"
      ],
      "metadata": {
        "colab": {
          "base_uri": "https://localhost:8080/"
        },
        "id": "Wt2HgEdvSnOb",
        "outputId": "acf185b8-4f0d-42e4-99ea-1ee1d5dcb522"
      },
      "execution_count": null,
      "outputs": [
        {
          "output_type": "stream",
          "name": "stdout",
          "text": [
            "                                    sum_sq    df    F  PR(>F)\n",
            "C(Release_Season)                     1340     3  131       0\n",
            "C(Is_High_Gross)                     11191     1 3283       0\n",
            "C(Release_Season):C(Is_High_Gross)    3025     3  296       0\n",
            "Residual                             55508 16286  NaN     NaN\n"
          ]
        }
      ]
    }
  ]
}