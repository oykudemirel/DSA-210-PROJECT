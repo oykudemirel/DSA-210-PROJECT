{
  "nbformat": 4,
  "nbformat_minor": 0,
  "metadata": {
    "colab": {
      "provenance": [],
      "authorship_tag": "ABX9TyNNdkZtYEi2RiD89TlOdlnb",
      "include_colab_link": true
    },
    "kernelspec": {
      "name": "python3",
      "display_name": "Python 3"
    },
    "language_info": {
      "name": "python"
    }
  },
  "cells": [
    {
      "cell_type": "markdown",
      "metadata": {
        "id": "view-in-github",
        "colab_type": "text"
      },
      "source": [
        "<a href=\"https://colab.research.google.com/github/oykudemirel/DSA-210-PROJECT/blob/main/dsa210projectnew.ipynb\" target=\"_parent\"><img src=\"https://colab.research.google.com/assets/colab-badge.svg\" alt=\"Open In Colab\"/></a>"
      ]
    },
    {
      "cell_type": "code",
      "source": [
        "#Get the tmdb list which has all the movies\n",
        "\n",
        "import requests\n",
        "import time\n",
        "import pandas as pd\n",
        "\n",
        "API_KEY = '823fecbf63a8e7692fe9329ead448aac'\n",
        "base_url = \"https://api.themoviedb.org/3/discover/movie\"\n",
        "\n",
        "all_movies = []\n",
        "\n",
        "for year in range(2016, 2021):\n",
        "    print(f\"Processing year: {year}\")\n",
        "    page = 1\n",
        "\n",
        "    while True:\n",
        "        params = {\n",
        "    \"api_key\": API_KEY,\n",
        "    \"primary_release_year\": year,\n",
        "    \"sort_by\": \"popularity.desc\",  # Sort results so we get the most relevant\n",
        "    \"vote_count.gte\": 10,          # Only include movies with at least 10 votes\n",
        "    \"page\": page\n",
        "}\n",
        "\n",
        "\n",
        "        response = requests.get(base_url, params=params)\n",
        "        data = response.json()\n",
        "\n",
        "        if 'results' not in data or len(data['results']) == 0:\n",
        "            print(\"No results, stopping...\")\n",
        "            break\n",
        "\n",
        "        for movie in data['results']:\n",
        "            title = movie.get('title', '')\n",
        "            release_date = movie.get('release_date', '')\n",
        "\n",
        "            if release_date:\n",
        "                year_part = int(release_date.split('-')[0])\n",
        "                month_part = int(release_date.split('-')[1])\n",
        "            else:\n",
        "                year_part = year\n",
        "                month_part = None\n",
        "\n",
        "            all_movies.append({\n",
        "                \"Title\": title,\n",
        "                \"Release Year\": year_part,\n",
        "                \"Release Month\": month_part,\n",
        "                \"Release Date\": release_date\n",
        "            })\n",
        "\n",
        "        if page >= data.get('total_pages', 1):\n",
        "            break\n",
        "        page += 1\n",
        "        time.sleep(0.3)\n",
        "\n",
        "\n",
        "df = pd.DataFrame(all_movies)\n",
        "df.to_csv(\"tmdb_movies_2016_2020.csv\", index=False)\n",
        "print(df.head())\n",
        "\n"
      ],
      "metadata": {
        "colab": {
          "base_uri": "https://localhost:8080/"
        },
        "id": "lKuGr7sMd8Po",
        "outputId": "a6807c30-357e-44d0-bae8-a708095ff731"
      },
      "execution_count": 1,
      "outputs": [
        {
          "output_type": "stream",
          "name": "stdout",
          "text": [
            "Processing year: 2016\n",
            "Processing year: 2017\n",
            "Processing year: 2018\n",
            "Processing year: 2019\n",
            "Processing year: 2020\n",
            "             Title  Release Year  Release Month Release Date\n",
            "0         Zootopia          2016              2   2016-02-11\n",
            "1   The Accountant          2016             10   2016-10-13\n",
            "2  The Conjuring 2          2016              6   2016-06-08\n",
            "3   Train to Busan          2016              7   2016-07-20\n",
            "4   Wild Awakening          2016             10   2016-10-23\n"
          ]
        }
      ]
    },
    {
      "cell_type": "code",
      "source": [
        "# Categorize the seasons\n",
        "def categorize_season(month):\n",
        "    if month in [11, 12]:\n",
        "        return 'Holiday Season'\n",
        "    elif month in [1, 2, 9, 10]:\n",
        "        return 'Awards Season'\n",
        "    elif month in [6, 7, 8]:\n",
        "        return 'Summer Blockbuster'\n",
        "    elif month in [3, 4, 5]:\n",
        "        return 'Spring'\n",
        "    else:\n",
        "        return 'Other'  # For missing or weird months\n",
        "\n",
        "df['Release Season'] = df['Release Month'].apply(categorize_season)\n",
        "\n",
        "\n",
        "print(df[['Title', 'Release Year', 'Release Month', 'Release Season']].head())\n"
      ],
      "metadata": {
        "colab": {
          "base_uri": "https://localhost:8080/"
        },
        "id": "fQZ08GUfhXsH",
        "outputId": "1b3d1903-e16c-4504-88dd-8cf07bad9fbc"
      },
      "execution_count": 2,
      "outputs": [
        {
          "output_type": "stream",
          "name": "stdout",
          "text": [
            "             Title  Release Year  Release Month      Release Season\n",
            "0         Zootopia          2016              2       Awards Season\n",
            "1   The Accountant          2016             10       Awards Season\n",
            "2  The Conjuring 2          2016              6  Summer Blockbuster\n",
            "3   Train to Busan          2016              7  Summer Blockbuster\n",
            "4   Wild Awakening          2016             10       Awards Season\n"
          ]
        }
      ]
    },
    {
      "cell_type": "code",
      "source": [
        "# Movies per Release Season\n",
        "season_counts = df['Release Season'].value_counts()\n",
        "print(season_counts)\n",
        "\n",
        "\n",
        "import matplotlib.pyplot as plt\n",
        "\n",
        "season_counts.plot(kind='bar', color='skyblue')\n",
        "plt.title('Number of Movies per Release Season (2016-2020)')\n",
        "plt.ylabel('Number of Movies')\n",
        "plt.xlabel('Release Season')\n",
        "plt.xticks(rotation=45)\n",
        "plt.show()\n"
      ],
      "metadata": {
        "colab": {
          "base_uri": "https://localhost:8080/",
          "height": 672
        },
        "id": "cEG2OYYvhnh3",
        "outputId": "7a2657b8-8d35-4a3a-bf1e-1884b8aefe18"
      },
      "execution_count": 3,
      "outputs": [
        {
          "output_type": "stream",
          "name": "stdout",
          "text": [
            "Release Season\n",
            "Awards Season         6092\n",
            "Spring                3674\n",
            "Summer Blockbuster    3451\n",
            "Holiday Season        2881\n",
            "Name: count, dtype: int64\n"
          ]
        },
        {
          "output_type": "display_data",
          "data": {
            "text/plain": [
              "<Figure size 640x480 with 1 Axes>"
            ],
            "image/png": "[encoded data removed]"
          },
          "metadata": {}
        }
      ]
    },
    {
      "cell_type": "code",
      "source": [
        "#Web scraped the website Box Office Mojo to get the box office numbers\n",
        "import requests\n",
        "from bs4 import BeautifulSoup\n",
        "import pandas as pd\n",
        "import time\n",
        "\n",
        "pd.set_option('display.float_format', '{:.0f}'.format)\n",
        "\n",
        "years = list(range(2016, 2021))\n",
        "\n",
        "base_url = \"https://www.boxofficemojo.com/year/world/{year}/\"\n",
        "\n",
        "\n",
        "all_data = []\n",
        "\n",
        "headers = {\n",
        "    \"User-Agent\": \"Mozilla/5.0 (Windows NT 10.0; Win64; x64)\"\n",
        "}\n",
        "\n",
        "for year in years:\n",
        "    print(f\"Processing year: {year}\")\n",
        "    url = base_url.format(year=year)\n",
        "    try:\n",
        "        response = requests.get(url, headers=headers)\n",
        "        response.raise_for_status()\n",
        "    except requests.exceptions.RequestException as e:\n",
        "        print(f\"Failed to retrieve data for {year}: {e}\")\n",
        "        continue\n",
        "\n",
        "    soup = BeautifulSoup(response.text, 'html.parser')\n",
        "\n",
        "    # Find the table containing the box office data\n",
        "    table = soup.find('table')\n",
        "    if not table:\n",
        "        print(f\"No table found for {year}\")\n",
        "        continue\n",
        "\n",
        "    # Extract table rows, skip header row,\n",
        "    rows = table.find_all('tr')[1:]\n",
        "\n",
        "    for row in rows:\n",
        "        cols = row.find_all('td')\n",
        "        if len(cols) < 3:\n",
        "            continue  # Skip rows that don't have enough columns\n",
        "        release_group = cols[1].get_text(strip=True)\n",
        "        worldwide_gross = cols[2].get_text(strip=True)\n",
        "        all_data.append({\n",
        "            'Year': year,\n",
        "            'Release Group': release_group,\n",
        "            'Worldwide Gross': worldwide_gross\n",
        "        })\n",
        "\n",
        "\n",
        "    time.sleep(1)\n",
        "\n",
        "\n",
        "df_box_office = pd.DataFrame(all_data)\n",
        "\n",
        "\n",
        "\n",
        "# Remove dollar signs and commas and convert to numeric\n",
        "df_box_office['Worldwide Gross'] = df_box_office['Worldwide Gross'].replace('[\\$,]', '', regex=True).astype(float)\n",
        "\n",
        "\n",
        "print(df_box_office.head())\n"
      ],
      "metadata": {
        "colab": {
          "base_uri": "https://localhost:8080/"
        },
        "id": "4gH8sWQehpch",
        "outputId": "b5332b8c-3458-4876-ac4f-4da133a952bc"
      },
      "execution_count": 4,
      "outputs": [
        {
          "output_type": "stream",
          "name": "stdout",
          "text": [
            "Processing year: 2016\n",
            "Processing year: 2017\n",
            "Processing year: 2018\n",
            "Processing year: 2019\n",
            "Processing year: 2020\n",
            "   Year                 Release Group  Worldwide Gross\n",
            "0  2016    Captain America: Civil War       1153296293\n",
            "1  2016  Rogue One: A Star Wars Story       1056057273\n",
            "2  2016                  Finding Dory       1028570889\n",
            "3  2016                      Zootopia       1023784195\n",
            "4  2016               The Jungle Book        966550600\n"
          ]
        }
      ]
    },
    {
      "cell_type": "code",
      "source": [
        "#Normalize titles\n",
        "def normalize_title(title):\n",
        "    if pd.isnull(title):\n",
        "        return \"\"\n",
        "    return title.lower().strip()\n",
        "\n",
        "\n",
        "df['normalized_title'] = df['Title'].apply(normalize_title)\n",
        "df_box_office['normalized_title'] = df_box_office['Release Group'].apply(normalize_title)\n",
        "\n",
        "#Merge on normalized titles and year\n",
        "merged_df = pd.merge(\n",
        "    df,\n",
        "    df_box_office,\n",
        "    left_on=['normalized_title', 'Release Year'],\n",
        "    right_on=['normalized_title', 'Year'],\n",
        "    how='left'\n",
        ")\n",
        "\n",
        "#Fix the _x and _y\n",
        "def clean_merge_columns(df, prefer='_x'):\n",
        "\n",
        "    for col in df.columns:\n",
        "        if col.endswith(prefer):\n",
        "            base = col[:-2]  # remove _x or _y\n",
        "            other = base + ('_y' if prefer == '_x' else '_x')\n",
        "            if other in df.columns:\n",
        "                df = df.drop(columns=[other])\n",
        "            df = df.rename(columns={col: base})\n",
        "    return df\n",
        "\n",
        "merged_df = clean_merge_columns(merged_df)\n",
        "\n",
        "merged_df.drop(columns=['normalized_title', 'Year'], errors='ignore', inplace=True)\n",
        "\n",
        "print(merged_df[['Title', 'Release Year', 'Release Month', 'Release Season', 'Worldwide Gross']].head())\n"
      ],
      "metadata": {
        "colab": {
          "base_uri": "https://localhost:8080/"
        },
        "id": "K5vGLhlcmuoY",
        "outputId": "28085dd4-c740-4bf6-987a-6d5393d70cb6"
      },
      "execution_count": 5,
      "outputs": [
        {
          "output_type": "stream",
          "name": "stdout",
          "text": [
            "             Title  Release Year  Release Month      Release Season  \\\n",
            "0         Zootopia          2016              2       Awards Season   \n",
            "1   The Accountant          2016             10       Awards Season   \n",
            "2  The Conjuring 2          2016              6  Summer Blockbuster   \n",
            "3   Train to Busan          2016              7  Summer Blockbuster   \n",
            "4   Wild Awakening          2016             10       Awards Season   \n",
            "\n",
            "   Worldwide Gross  \n",
            "0       1023784195  \n",
            "1        155560045  \n",
            "2        321370008  \n",
            "3         92742323  \n",
            "4              NaN  \n"
          ]
        }
      ]
    },
    {
      "cell_type": "code",
      "source": [
        "! pip install -q kaggle\n",
        "from google.colab import files\n",
        "files.upload()"
      ],
      "metadata": {
        "colab": {
          "base_uri": "https://localhost:8080/",
          "height": 86
        },
        "id": "Hu4vE2FwnLfS",
        "outputId": "46711a0c-8a77-4bbc-cec6-5888427dbc7c"
      },
      "execution_count": 7,
      "outputs": [
        {
          "output_type": "display_data",
          "data": {
            "text/plain": [
              "<IPython.core.display.HTML object>"
            ],
            "text/html": [
              "\n",
              "     <input type=\"file\" id=\"files-f03f32b4-940b-4e88-af25-8b2c58906c8e\" name=\"files[]\" multiple disabled\n",
              "        style=\"border:none\" />\n",
              "     <output id=\"result-f03f32b4-940b-4e88-af25-8b2c58906c8e\">\n",
              "      Upload widget is only available when the cell has been executed in the\n",
              "      current browser session. Please rerun this cell to enable.\n",
              "      </output>\n",
              "      <script>// Copyright 2017 Google LLC\n",
              "//\n",
              "// Licensed under the Apache License, Version 2.0 (the \"License\");\n",
              "// you may not use this file except in compliance with the License.\n",
              "// You may obtain a copy of the License at\n",
              "//\n",
              "//      http://www.apache.org/licenses/LICENSE-2.0\n",
              "//\n",
              "// Unless required by applicable law or agreed to in writing, software\n",
              "// distributed under the License is distributed on an \"AS IS\" BASIS,\n",
              "// WITHOUT WARRANTIES OR CONDITIONS OF ANY KIND, either express or implied.\n",
              "// See the License for the specific language governing permissions and\n",
              "// limitations under the License.\n",
              "\n",
              "/**\n",
              " * @fileoverview Helpers for google.colab Python module.\n",
              " */\n",
              "(function(scope) {\n",
              "function span(text, styleAttributes = {}) {\n",
              "  const element = document.createElement('span');\n",
              "  element.textContent = text;\n",
              "  for (const key of Object.keys(styleAttributes)) {\n",
              "    element.style[key] = styleAttributes[key];\n",
              "  }\n",
              "  return element;\n",
              "}\n",
              "\n",
              "// Max number of bytes which will be uploaded at a time.\n",
              "const MAX_PAYLOAD_SIZE = 100 * 1024;\n",
              "\n",
              "function _uploadFiles(inputId, outputId) {\n",
              "  const steps = uploadFilesStep(inputId, outputId);\n",
              "  const outputElement = document.getElementById(outputId);\n",
              "  // Cache steps on the outputElement to make it available for the next call\n",
              "  // to uploadFilesContinue from Python.\n",
              "  outputElement.steps = steps;\n",
              "\n",
              "  return _uploadFilesContinue(outputId);\n",
              "}\n",
              "\n",
              "// This is roughly an async generator (not supported in the browser yet),\n",
              "// where there are multiple asynchronous steps and the Python side is going\n",
              "// to poll for completion of each step.\n",
              "// This uses a Promise to block the python side on completion of each step,\n",
              "// then passes the result of the previous step as the input to the next step.\n",
              "function _uploadFilesContinue(outputId) {\n",
              "  const outputElement = document.getElementById(outputId);\n",
              "  const steps = outputElement.steps;\n",
              "\n",
              "  const next = steps.next(outputElement.lastPromiseValue);\n",
              "  return Promise.resolve(next.value.promise).then((value) => {\n",
              "    // Cache the last promise value to make it available to the next\n",
              "    // step of the generator.\n",
              "    outputElement.lastPromiseValue = value;\n",
              "    return next.value.response;\n",
              "  });\n",
              "}\n",
              "\n",
              "/**\n",
              " * Generator function which is called between each async step of the upload\n",
              " * process.\n",
              " * @param {string} inputId Element ID of the input file picker element.\n",
              " * @param {string} outputId Element ID of the output display.\n",
              " * @return {!Iterable<!Object>} Iterable of next steps.\n",
              " */\n",
              "function* uploadFilesStep(inputId, outputId) {\n",
              "  const inputElement = document.getElementById(inputId);\n",
              "  inputElement.disabled = false;\n",
              "\n",
              "  const outputElement = document.getElementById(outputId);\n",
              "  outputElement.innerHTML = '';\n",
              "\n",
              "  const pickedPromise = new Promise((resolve) => {\n",
              "    inputElement.addEventListener('change', (e) => {\n",
              "      resolve(e.target.files);\n",
              "    });\n",
              "  });\n",
              "\n",
              "  const cancel = document.createElement('button');\n",
              "  inputElement.parentElement.appendChild(cancel);\n",
              "  cancel.textContent = 'Cancel upload';\n",
              "  const cancelPromise = new Promise((resolve) => {\n",
              "    cancel.onclick = () => {\n",
              "      resolve(null);\n",
              "    };\n",
              "  });\n",
              "\n",
              "  // Wait for the user to pick the files.\n",
              "  const files = yield {\n",
              "    promise: Promise.race([pickedPromise, cancelPromise]),\n",
              "    response: {\n",
              "      action: 'starting',\n",
              "    }\n",
              "  };\n",
              "\n",
              "  cancel.remove();\n",
              "\n",
              "  // Disable the input element since further picks are not allowed.\n",
              "  inputElement.disabled = true;\n",
              "\n",
              "  if (!files) {\n",
              "    return {\n",
              "      response: {\n",
              "        action: 'complete',\n",
              "      }\n",
              "    };\n",
              "  }\n",
              "\n",
              "  for (const file of files) {\n",
              "    const li = document.createElement('li');\n",
              "    li.append(span(file.name, {fontWeight: 'bold'}));\n",
              "    li.append(span(\n",
              "        `(${file.type || 'n/a'}) - ${file.size} bytes, ` +\n",
              "        `last modified: ${\n",
              "            file.lastModifiedDate ? file.lastModifiedDate.toLocaleDateString() :\n",
              "                                    'n/a'} - `));\n",
              "    const percent = span('0% done');\n",
              "    li.appendChild(percent);\n",
              "\n",
              "    outputElement.appendChild(li);\n",
              "\n",
              "    const fileDataPromise = new Promise((resolve) => {\n",
              "      const reader = new FileReader();\n",
              "      reader.onload = (e) => {\n",
              "        resolve(e.target.result);\n",
              "      };\n",
              "      reader.readAsArrayBuffer(file);\n",
              "    });\n",
              "    // Wait for the data to be ready.\n",
              "    let fileData = yield {\n",
              "      promise: fileDataPromise,\n",
              "      response: {\n",
              "        action: 'continue',\n",
              "      }\n",
              "    };\n",
              "\n",
              "    // Use a chunked sending to avoid message size limits. See b/62115660.\n",
              "    let position = 0;\n",
              "    do {\n",
              "      const length = Math.min(fileData.byteLength - position, MAX_PAYLOAD_SIZE);\n",
              "      const chunk = new Uint8Array(fileData, position, length);\n",
              "      position += length;\n",
              "\n",
              "      const base64 = btoa(String.fromCharCode.apply(null, chunk));\n",
              "      yield {\n",
              "        response: {\n",
              "          action: 'append',\n",
              "          file: file.name,\n",
              "          data: base64,\n",
              "        },\n",
              "      };\n",
              "\n",
              "      let percentDone = fileData.byteLength === 0 ?\n",
              "          100 :\n",
              "          Math.round((position / fileData.byteLength) * 100);\n",
              "      percent.textContent = `${percentDone}% done`;\n",
              "\n",
              "    } while (position < fileData.byteLength);\n",
              "  }\n",
              "\n",
              "  // All done.\n",
              "  yield {\n",
              "    response: {\n",
              "      action: 'complete',\n",
              "    }\n",
              "  };\n",
              "}\n",
              "\n",
              "scope.google = scope.google || {};\n",
              "scope.google.colab = scope.google.colab || {};\n",
              "scope.google.colab._files = {\n",
              "  _uploadFiles,\n",
              "  _uploadFilesContinue,\n",
              "};\n",
              "})(self);\n",
              "</script> "
            ]
          },
          "metadata": {}
        },
        {
          "output_type": "stream",
          "name": "stdout",
          "text": [
            "Saving kaggle.json to kaggle.json\n"
          ]
        },
        {
          "output_type": "execute_result",
          "data": {
            "text/plain": [
              "{'kaggle.json': b'{\"username\":\"oykudemirell\",\"key\":\"b41ccc22de14a9a86f326e961286b890\"}'}"
            ]
          },
          "metadata": {},
          "execution_count": 7
        }
      ]
    },
    {
      "cell_type": "code",
      "source": [
        "!mkdir -p ~/.kaggle\n",
        "!cp kaggle.json ~/.kaggle/\n",
        "!chmod 600 ~/.kaggle/kaggle.json\n"
      ],
      "metadata": {
        "id": "nDO4ufb0om78"
      },
      "execution_count": 8,
      "outputs": []
    },
    {
      "cell_type": "code",
      "source": [
        "!kaggle datasets download -d unanimad/bafta-awards\n",
        "\n",
        "!unzip -o bafta-awards.zip\n",
        "!ls"
      ],
      "metadata": {
        "colab": {
          "base_uri": "https://localhost:8080/"
        },
        "id": "gH5mEOJNooCb",
        "outputId": "cbc5ef07-fd7a-49a5-b69a-41fbcf077d3d"
      },
      "execution_count": 9,
      "outputs": [
        {
          "output_type": "stream",
          "name": "stdout",
          "text": [
            "Dataset URL: https://www.kaggle.com/datasets/unanimad/bafta-awards\n",
            "License(s): CC0-1.0\n",
            "Downloading bafta-awards.zip to /content\n",
            "  0% 0.00/74.5k [00:00<?, ?B/s]\n",
            "100% 74.5k/74.5k [00:00<00:00, 226MB/s]\n",
            "Archive:  bafta-awards.zip\n",
            "  inflating: bafta_films.csv         \n",
            "bafta-awards.zip  kaggle.json  tmdb_movies_2016_2020.csv\n",
            "bafta_films.csv   sample_data\n"
          ]
        }
      ]
    },
    {
      "cell_type": "code",
      "source": [
        "#BAFTA Awards\n",
        "import pandas as pd\n",
        "\n",
        "df_b = pd.read_csv('bafta_films.csv')\n",
        "\n",
        "\n",
        "df_b['year'] = pd.to_numeric(df_b['year'], errors='coerce')\n",
        "\n",
        "df_b = df_b[(df_b['year'] >= 2016) & (df_b['year'] <= 2020)]\n",
        "\n",
        "#Drop unnecessary columns\n",
        "df_b = df_b.drop(columns=['category', 'workers'])\n",
        "\n",
        "df_b.head()\n"
      ],
      "metadata": {
        "colab": {
          "base_uri": "https://localhost:8080/",
          "height": 204
        },
        "id": "wv1ty4Tdoq50",
        "outputId": "dbffb702-e74b-47cd-825e-a102ddac5705"
      },
      "execution_count": 10,
      "outputs": [
        {
          "output_type": "execute_result",
          "data": {
            "text/plain": [
              "      year        nominee  winner\n",
              "3575  2016  The Big Short    True\n",
              "3576  2016       Brooklyn   False\n",
              "3577  2016          Carol   False\n",
              "3578  2016           Room   False\n",
              "3579  2016     Steve Jobs   False"
            ],
            "text/html": [
              "\n",
              "  <div id=\"df-213142bb-571b-497d-87c5-4956b89ce727\" class=\"colab-df-container\">\n",
              "    <div>\n",
              "<style scoped>\n",
              "    .dataframe tbody tr th:only-of-type {\n",
              "        vertical-align: middle;\n",
              "    }\n",
              "\n",
              "    .dataframe tbody tr th {\n",
              "        vertical-align: top;\n",
              "    }\n",
              "\n",
              "    .dataframe thead th {\n",
              "        text-align: right;\n",
              "    }\n",
              "</style>\n",
              "<table border=\"1\" class=\"dataframe\">\n",
              "  <thead>\n",
              "    <tr style=\"text-align: right;\">\n",
              "      <th></th>\n",
              "      <th>year</th>\n",
              "      <th>nominee</th>\n",
              "      <th>winner</th>\n",
              "    </tr>\n",
              "  </thead>\n",
              "  <tbody>\n",
              "    <tr>\n",
              "      <th>3575</th>\n",
              "      <td>2016</td>\n",
              "      <td>The Big Short</td>\n",
              "      <td>True</td>\n",
              "    </tr>\n",
              "    <tr>\n",
              "      <th>3576</th>\n",
              "      <td>2016</td>\n",
              "      <td>Brooklyn</td>\n",
              "      <td>False</td>\n",
              "    </tr>\n",
              "    <tr>\n",
              "      <th>3577</th>\n",
              "      <td>2016</td>\n",
              "      <td>Carol</td>\n",
              "      <td>False</td>\n",
              "    </tr>\n",
              "    <tr>\n",
              "      <th>3578</th>\n",
              "      <td>2016</td>\n",
              "      <td>Room</td>\n",
              "      <td>False</td>\n",
              "    </tr>\n",
              "    <tr>\n",
              "      <th>3579</th>\n",
              "      <td>2016</td>\n",
              "      <td>Steve Jobs</td>\n",
              "      <td>False</td>\n",
              "    </tr>\n",
              "  </tbody>\n",
              "</table>\n",
              "</div>\n",
              "    <div class=\"colab-df-buttons\">\n",
              "\n",
              "  <div class=\"colab-df-container\">\n",
              "    <button class=\"colab-df-convert\" onclick=\"convertToInteractive('df-213142bb-571b-497d-87c5-4956b89ce727')\"\n",
              "            title=\"Convert this dataframe to an interactive table.\"\n",
              "            style=\"display:none;\">\n",
              "\n",
              "  <svg xmlns=\"http://www.w3.org/2000/svg\" height=\"24px\" viewBox=\"0 -960 960 960\">\n",
              "    <path d=\"M120-120v-720h720v720H120Zm60-500h600v-160H180v160Zm220 220h160v-160H400v160Zm0 220h160v-160H400v160ZM180-400h160v-160H180v160Zm440 0h160v-160H620v160ZM180-180h160v-160H180v160Zm440 0h160v-160H620v160Z\"/>\n",
              "  </svg>\n",
              "    </button>\n",
              "\n",
              "  <style>\n",
              "    .colab-df-container {\n",
              "      display:flex;\n",
              "      gap: 12px;\n",
              "    }\n",
              "\n",
              "    .colab-df-convert {\n",
              "      background-color: #E8F0FE;\n",
              "      border: none;\n",
              "      border-radius: 50%;\n",
              "      cursor: pointer;\n",
              "      display: none;\n",
              "      fill: #1967D2;\n",
              "      height: 32px;\n",
              "      padding: 0 0 0 0;\n",
              "      width: 32px;\n",
              "    }\n",
              "\n",
              "    .colab-df-convert:hover {\n",
              "      background-color: #E2EBFA;\n",
              "      box-shadow: 0px 1px 2px rgba(60, 64, 67, 0.3), 0px 1px 3px 1px rgba(60, 64, 67, 0.15);\n",
              "      fill: #174EA6;\n",
              "    }\n",
              "\n",
              "    .colab-df-buttons div {\n",
              "      margin-bottom: 4px;\n",
              "    }\n",
              "\n",
              "    [theme=dark] .colab-df-convert {\n",
              "      background-color: #3B4455;\n",
              "      fill: #D2E3FC;\n",
              "    }\n",
              "\n",
              "    [theme=dark] .colab-df-convert:hover {\n",
              "      background-color: #434B5C;\n",
              "      box-shadow: 0px 1px 3px 1px rgba(0, 0, 0, 0.15);\n",
              "      filter: drop-shadow(0px 1px 2px rgba(0, 0, 0, 0.3));\n",
              "      fill: #FFFFFF;\n",
              "    }\n",
              "  </style>\n",
              "\n",
              "    <script>\n",
              "      const buttonEl =\n",
              "        document.querySelector('#df-213142bb-571b-497d-87c5-4956b89ce727 button.colab-df-convert');\n",
              "      buttonEl.style.display =\n",
              "        google.colab.kernel.accessAllowed ? 'block' : 'none';\n",
              "\n",
              "      async function convertToInteractive(key) {\n",
              "        const element = document.querySelector('#df-213142bb-571b-497d-87c5-4956b89ce727');\n",
              "        const dataTable =\n",
              "          await google.colab.kernel.invokeFunction('convertToInteractive',\n",
              "                                                    [key], {});\n",
              "        if (!dataTable) return;\n",
              "\n",
              "        const docLinkHtml = 'Like what you see? Visit the ' +\n",
              "          '<a target=\"_blank\" href=https://colab.research.google.com/notebooks/data_table.ipynb>data table notebook</a>'\n",
              "          + ' to learn more about interactive tables.';\n",
              "        element.innerHTML = '';\n",
              "        dataTable['output_type'] = 'display_data';\n",
              "        await google.colab.output.renderOutput(dataTable, element);\n",
              "        const docLink = document.createElement('div');\n",
              "        docLink.innerHTML = docLinkHtml;\n",
              "        element.appendChild(docLink);\n",
              "      }\n",
              "    </script>\n",
              "  </div>\n",
              "\n",
              "\n",
              "    <div id=\"df-a32ef7bf-8386-4fe1-bb35-ee9ff17b211e\">\n",
              "      <button class=\"colab-df-quickchart\" onclick=\"quickchart('df-a32ef7bf-8386-4fe1-bb35-ee9ff17b211e')\"\n",
              "                title=\"Suggest charts\"\n",
              "                style=\"display:none;\">\n",
              "\n",
              "<svg xmlns=\"http://www.w3.org/2000/svg\" height=\"24px\"viewBox=\"0 0 24 24\"\n",
              "     width=\"24px\">\n",
              "    <g>\n",
              "        <path d=\"M19 3H5c-1.1 0-2 .9-2 2v14c0 1.1.9 2 2 2h14c1.1 0 2-.9 2-2V5c0-1.1-.9-2-2-2zM9 17H7v-7h2v7zm4 0h-2V7h2v10zm4 0h-2v-4h2v4z\"/>\n",
              "    </g>\n",
              "</svg>\n",
              "      </button>\n",
              "\n",
              "<style>\n",
              "  .colab-df-quickchart {\n",
              "      --bg-color: #E8F0FE;\n",
              "      --fill-color: #1967D2;\n",
              "      --hover-bg-color: #E2EBFA;\n",
              "      --hover-fill-color: #174EA6;\n",
              "      --disabled-fill-color: #AAA;\n",
              "      --disabled-bg-color: #DDD;\n",
              "  }\n",
              "\n",
              "  [theme=dark] .colab-df-quickchart {\n",
              "      --bg-color: #3B4455;\n",
              "      --fill-color: #D2E3FC;\n",
              "      --hover-bg-color: #434B5C;\n",
              "      --hover-fill-color: #FFFFFF;\n",
              "      --disabled-bg-color: #3B4455;\n",
              "      --disabled-fill-color: #666;\n",
              "  }\n",
              "\n",
              "  .colab-df-quickchart {\n",
              "    background-color: var(--bg-color);\n",
              "    border: none;\n",
              "    border-radius: 50%;\n",
              "    cursor: pointer;\n",
              "    display: none;\n",
              "    fill: var(--fill-color);\n",
              "    height: 32px;\n",
              "    padding: 0;\n",
              "    width: 32px;\n",
              "  }\n",
              "\n",
              "  .colab-df-quickchart:hover {\n",
              "    background-color: var(--hover-bg-color);\n",
              "    box-shadow: 0 1px 2px rgba(60, 64, 67, 0.3), 0 1px 3px 1px rgba(60, 64, 67, 0.15);\n",
              "    fill: var(--button-hover-fill-color);\n",
              "  }\n",
              "\n",
              "  .colab-df-quickchart-complete:disabled,\n",
              "  .colab-df-quickchart-complete:disabled:hover {\n",
              "    background-color: var(--disabled-bg-color);\n",
              "    fill: var(--disabled-fill-color);\n",
              "    box-shadow: none;\n",
              "  }\n",
              "\n",
              "  .colab-df-spinner {\n",
              "    border: 2px solid var(--fill-color);\n",
              "    border-color: transparent;\n",
              "    border-bottom-color: var(--fill-color);\n",
              "    animation:\n",
              "      spin 1s steps(1) infinite;\n",
              "  }\n",
              "\n",
              "  @keyframes spin {\n",
              "    0% {\n",
              "      border-color: transparent;\n",
              "      border-bottom-color: var(--fill-color);\n",
              "      border-left-color: var(--fill-color);\n",
              "    }\n",
              "    20% {\n",
              "      border-color: transparent;\n",
              "      border-left-color: var(--fill-color);\n",
              "      border-top-color: var(--fill-color);\n",
              "    }\n",
              "    30% {\n",
              "      border-color: transparent;\n",
              "      border-left-color: var(--fill-color);\n",
              "      border-top-color: var(--fill-color);\n",
              "      border-right-color: var(--fill-color);\n",
              "    }\n",
              "    40% {\n",
              "      border-color: transparent;\n",
              "      border-right-color: var(--fill-color);\n",
              "      border-top-color: var(--fill-color);\n",
              "    }\n",
              "    60% {\n",
              "      border-color: transparent;\n",
              "      border-right-color: var(--fill-color);\n",
              "    }\n",
              "    80% {\n",
              "      border-color: transparent;\n",
              "      border-right-color: var(--fill-color);\n",
              "      border-bottom-color: var(--fill-color);\n",
              "    }\n",
              "    90% {\n",
              "      border-color: transparent;\n",
              "      border-bottom-color: var(--fill-color);\n",
              "    }\n",
              "  }\n",
              "</style>\n",
              "\n",
              "      <script>\n",
              "        async function quickchart(key) {\n",
              "          const quickchartButtonEl =\n",
              "            document.querySelector('#' + key + ' button');\n",
              "          quickchartButtonEl.disabled = true;  // To prevent multiple clicks.\n",
              "          quickchartButtonEl.classList.add('colab-df-spinner');\n",
              "          try {\n",
              "            const charts = await google.colab.kernel.invokeFunction(\n",
              "                'suggestCharts', [key], {});\n",
              "          } catch (error) {\n",
              "            console.error('Error during call to suggestCharts:', error);\n",
              "          }\n",
              "          quickchartButtonEl.classList.remove('colab-df-spinner');\n",
              "          quickchartButtonEl.classList.add('colab-df-quickchart-complete');\n",
              "        }\n",
              "        (() => {\n",
              "          let quickchartButtonEl =\n",
              "            document.querySelector('#df-a32ef7bf-8386-4fe1-bb35-ee9ff17b211e button');\n",
              "          quickchartButtonEl.style.display =\n",
              "            google.colab.kernel.accessAllowed ? 'block' : 'none';\n",
              "        })();\n",
              "      </script>\n",
              "    </div>\n",
              "\n",
              "    </div>\n",
              "  </div>\n"
            ],
            "application/vnd.google.colaboratory.intrinsic+json": {
              "type": "dataframe",
              "variable_name": "df_b",
              "summary": "{\n  \"name\": \"df_b\",\n  \"rows\": 601,\n  \"fields\": [\n    {\n      \"column\": \"year\",\n      \"properties\": {\n        \"dtype\": \"number\",\n        \"std\": 1,\n        \"min\": 2016,\n        \"max\": 2020,\n        \"num_unique_values\": 5,\n        \"samples\": [\n          2017,\n          2020,\n          2018\n        ],\n        \"semantic_type\": \"\",\n        \"description\": \"\"\n      }\n    },\n    {\n      \"column\": \"nominee\",\n      \"properties\": {\n        \"dtype\": \"string\",\n        \"num_unique_values\": 352,\n        \"samples\": [\n          \"First Man\",\n          \"I, Daniel Blake\",\n          \"Star Wars: The Force Awakens\"\n        ],\n        \"semantic_type\": \"\",\n        \"description\": \"\"\n      }\n    },\n    {\n      \"column\": \"winner\",\n      \"properties\": {\n        \"dtype\": \"boolean\",\n        \"num_unique_values\": 2,\n        \"samples\": [\n          false,\n          true\n        ],\n        \"semantic_type\": \"\",\n        \"description\": \"\"\n      }\n    }\n  ]\n}"
            }
          },
          "metadata": {},
          "execution_count": 10
        }
      ]
    },
    {
      "cell_type": "code",
      "source": [
        "from google.colab import files\n",
        "files.upload()\n"
      ],
      "metadata": {
        "colab": {
          "base_uri": "https://localhost:8080/",
          "height": 86
        },
        "id": "tlblZYuxrQRq",
        "outputId": "20ff63c3-66aa-4565-ffba-75c7ca43e57a"
      },
      "execution_count": 11,
      "outputs": [
        {
          "output_type": "display_data",
          "data": {
            "text/plain": [
              "<IPython.core.display.HTML object>"
            ],
            "text/html": [
              "\n",
              "     <input type=\"file\" id=\"files-78d5e63c-dcf6-4a3b-9dd3-da68bcf6dfb4\" name=\"files[]\" multiple disabled\n",
              "        style=\"border:none\" />\n",
              "     <output id=\"result-78d5e63c-dcf6-4a3b-9dd3-da68bcf6dfb4\">\n",
              "      Upload widget is only available when the cell has been executed in the\n",
              "      current browser session. Please rerun this cell to enable.\n",
              "      </output>\n",
              "      <script>// Copyright 2017 Google LLC\n",
              "//\n",
              "// Licensed under the Apache License, Version 2.0 (the \"License\");\n",
              "// you may not use this file except in compliance with the License.\n",
              "// You may obtain a copy of the License at\n",
              "//\n",
              "//      http://www.apache.org/licenses/LICENSE-2.0\n",
              "//\n",
              "// Unless required by applicable law or agreed to in writing, software\n",
              "// distributed under the License is distributed on an \"AS IS\" BASIS,\n",
              "// WITHOUT WARRANTIES OR CONDITIONS OF ANY KIND, either express or implied.\n",
              "// See the License for the specific language governing permissions and\n",
              "// limitations under the License.\n",
              "\n",
              "/**\n",
              " * @fileoverview Helpers for google.colab Python module.\n",
              " */\n",
              "(function(scope) {\n",
              "function span(text, styleAttributes = {}) {\n",
              "  const element = document.createElement('span');\n",
              "  element.textContent = text;\n",
              "  for (const key of Object.keys(styleAttributes)) {\n",
              "    element.style[key] = styleAttributes[key];\n",
              "  }\n",
              "  return element;\n",
              "}\n",
              "\n",
              "// Max number of bytes which will be uploaded at a time.\n",
              "const MAX_PAYLOAD_SIZE = 100 * 1024;\n",
              "\n",
              "function _uploadFiles(inputId, outputId) {\n",
              "  const steps = uploadFilesStep(inputId, outputId);\n",
              "  const outputElement = document.getElementById(outputId);\n",
              "  // Cache steps on the outputElement to make it available for the next call\n",
              "  // to uploadFilesContinue from Python.\n",
              "  outputElement.steps = steps;\n",
              "\n",
              "  return _uploadFilesContinue(outputId);\n",
              "}\n",
              "\n",
              "// This is roughly an async generator (not supported in the browser yet),\n",
              "// where there are multiple asynchronous steps and the Python side is going\n",
              "// to poll for completion of each step.\n",
              "// This uses a Promise to block the python side on completion of each step,\n",
              "// then passes the result of the previous step as the input to the next step.\n",
              "function _uploadFilesContinue(outputId) {\n",
              "  const outputElement = document.getElementById(outputId);\n",
              "  const steps = outputElement.steps;\n",
              "\n",
              "  const next = steps.next(outputElement.lastPromiseValue);\n",
              "  return Promise.resolve(next.value.promise).then((value) => {\n",
              "    // Cache the last promise value to make it available to the next\n",
              "    // step of the generator.\n",
              "    outputElement.lastPromiseValue = value;\n",
              "    return next.value.response;\n",
              "  });\n",
              "}\n",
              "\n",
              "/**\n",
              " * Generator function which is called between each async step of the upload\n",
              " * process.\n",
              " * @param {string} inputId Element ID of the input file picker element.\n",
              " * @param {string} outputId Element ID of the output display.\n",
              " * @return {!Iterable<!Object>} Iterable of next steps.\n",
              " */\n",
              "function* uploadFilesStep(inputId, outputId) {\n",
              "  const inputElement = document.getElementById(inputId);\n",
              "  inputElement.disabled = false;\n",
              "\n",
              "  const outputElement = document.getElementById(outputId);\n",
              "  outputElement.innerHTML = '';\n",
              "\n",
              "  const pickedPromise = new Promise((resolve) => {\n",
              "    inputElement.addEventListener('change', (e) => {\n",
              "      resolve(e.target.files);\n",
              "    });\n",
              "  });\n",
              "\n",
              "  const cancel = document.createElement('button');\n",
              "  inputElement.parentElement.appendChild(cancel);\n",
              "  cancel.textContent = 'Cancel upload';\n",
              "  const cancelPromise = new Promise((resolve) => {\n",
              "    cancel.onclick = () => {\n",
              "      resolve(null);\n",
              "    };\n",
              "  });\n",
              "\n",
              "  // Wait for the user to pick the files.\n",
              "  const files = yield {\n",
              "    promise: Promise.race([pickedPromise, cancelPromise]),\n",
              "    response: {\n",
              "      action: 'starting',\n",
              "    }\n",
              "  };\n",
              "\n",
              "  cancel.remove();\n",
              "\n",
              "  // Disable the input element since further picks are not allowed.\n",
              "  inputElement.disabled = true;\n",
              "\n",
              "  if (!files) {\n",
              "    return {\n",
              "      response: {\n",
              "        action: 'complete',\n",
              "      }\n",
              "    };\n",
              "  }\n",
              "\n",
              "  for (const file of files) {\n",
              "    const li = document.createElement('li');\n",
              "    li.append(span(file.name, {fontWeight: 'bold'}));\n",
              "    li.append(span(\n",
              "        `(${file.type || 'n/a'}) - ${file.size} bytes, ` +\n",
              "        `last modified: ${\n",
              "            file.lastModifiedDate ? file.lastModifiedDate.toLocaleDateString() :\n",
              "                                    'n/a'} - `));\n",
              "    const percent = span('0% done');\n",
              "    li.appendChild(percent);\n",
              "\n",
              "    outputElement.appendChild(li);\n",
              "\n",
              "    const fileDataPromise = new Promise((resolve) => {\n",
              "      const reader = new FileReader();\n",
              "      reader.onload = (e) => {\n",
              "        resolve(e.target.result);\n",
              "      };\n",
              "      reader.readAsArrayBuffer(file);\n",
              "    });\n",
              "    // Wait for the data to be ready.\n",
              "    let fileData = yield {\n",
              "      promise: fileDataPromise,\n",
              "      response: {\n",
              "        action: 'continue',\n",
              "      }\n",
              "    };\n",
              "\n",
              "    // Use a chunked sending to avoid message size limits. See b/62115660.\n",
              "    let position = 0;\n",
              "    do {\n",
              "      const length = Math.min(fileData.byteLength - position, MAX_PAYLOAD_SIZE);\n",
              "      const chunk = new Uint8Array(fileData, position, length);\n",
              "      position += length;\n",
              "\n",
              "      const base64 = btoa(String.fromCharCode.apply(null, chunk));\n",
              "      yield {\n",
              "        response: {\n",
              "          action: 'append',\n",
              "          file: file.name,\n",
              "          data: base64,\n",
              "        },\n",
              "      };\n",
              "\n",
              "      let percentDone = fileData.byteLength === 0 ?\n",
              "          100 :\n",
              "          Math.round((position / fileData.byteLength) * 100);\n",
              "      percent.textContent = `${percentDone}% done`;\n",
              "\n",
              "    } while (position < fileData.byteLength);\n",
              "  }\n",
              "\n",
              "  // All done.\n",
              "  yield {\n",
              "    response: {\n",
              "      action: 'complete',\n",
              "    }\n",
              "  };\n",
              "}\n",
              "\n",
              "scope.google = scope.google || {};\n",
              "scope.google.colab = scope.google.colab || {};\n",
              "scope.google.colab._files = {\n",
              "  _uploadFiles,\n",
              "  _uploadFilesContinue,\n",
              "};\n",
              "})(self);\n",
              "</script> "
            ]
          },
          "metadata": {}
        },
        {
          "output_type": "stream",
          "name": "stdout",
          "text": [
            "Saving kaggle (1).json to kaggle (1).json\n"
          ]
        },
        {
          "output_type": "execute_result",
          "data": {
            "text/plain": [
              "{'kaggle (1).json': b'{\"username\":\"oykudemirell\",\"key\":\"ebf90736d0540d12a0d387475a61f434\"}'}"
            ]
          },
          "metadata": {},
          "execution_count": 11
        }
      ]
    },
    {
      "cell_type": "code",
      "source": [
        "!pip install -q kaggle\n",
        "\n",
        "!mkdir -p ~/.kaggle\n",
        "!cp \"kaggle (1).json\" ~/.kaggle/\n",
        "!chmod 600 ~/.kaggle/kaggle.json\n"
      ],
      "metadata": {
        "id": "K2NG7U_nrUTq"
      },
      "execution_count": 12,
      "outputs": []
    },
    {
      "cell_type": "code",
      "source": [
        "!kaggle datasets download -d unanimad/golden-globe-awards\n",
        "!unzip -o golden-globe-awards.zip\n",
        "!ls\n"
      ],
      "metadata": {
        "colab": {
          "base_uri": "https://localhost:8080/"
        },
        "id": "Xt4IVQwZrWkv",
        "outputId": "feef645b-aa64-4feb-9abb-9906fe9cf1ac"
      },
      "execution_count": 13,
      "outputs": [
        {
          "output_type": "stream",
          "name": "stdout",
          "text": [
            "Dataset URL: https://www.kaggle.com/datasets/unanimad/golden-globe-awards\n",
            "License(s): CC0-1.0\n",
            "Downloading golden-globe-awards.zip to /content\n",
            "  0% 0.00/117k [00:00<?, ?B/s]\n",
            "100% 117k/117k [00:00<00:00, 246MB/s]\n",
            "Archive:  golden-globe-awards.zip\n",
            "  inflating: golden_globe_awards.csv  \n",
            " bafta-awards.zip\t   golden-globe-awards.zip   sample_data\n",
            " bafta_films.csv\t  'kaggle (1).json'\t     tmdb_movies_2016_2020.csv\n",
            " golden_globe_awards.csv   kaggle.json\n"
          ]
        }
      ]
    },
    {
      "cell_type": "code",
      "source": [
        "#Golden Globe Awards\n",
        "import pandas as pd\n",
        "\n",
        "\n",
        "df_gg = pd.read_csv('golden_globe_awards.csv')\n",
        "\n",
        "# Filter by year and drop unnecessary columns\n",
        "df_gg['year_film'] = pd.to_numeric(df_gg['year_film'], errors='coerce')\n",
        "df_gg = df_gg[(df_gg['year_film'] >= 2016) & (df_gg['year_film'] <= 2020)]\n",
        "\n",
        "df_gg = df_gg.dropna(subset=['film'])\n",
        "\n",
        "df_gg = df_gg.drop(columns=['year_award', 'ceremony', 'category', 'nominee'])\n",
        "\n",
        "\n",
        "df_gg.head()\n"
      ],
      "metadata": {
        "colab": {
          "base_uri": "https://localhost:8080/",
          "height": 204
        },
        "id": "doxmmFsvrZFI",
        "outputId": "cdc66235-4b30-48f5-aacc-1a2687f6e10a"
      },
      "execution_count": 14,
      "outputs": [
        {
          "output_type": "execute_result",
          "data": {
            "text/plain": [
              "      year_film         film    win\n",
              "7494       2016         Elle   True\n",
              "7495       2016      Arrival  False\n",
              "7496       2016  Miss Sloane  False\n",
              "7497       2016       Loving  False\n",
              "7498       2016       Jackie  False"
            ],
            "text/html": [
              "\n",
              "  <div id=\"df-0ee0ff94-05a9-43c9-8b8c-4d59ed360ed2\" class=\"colab-df-container\">\n",
              "    <div>\n",
              "<style scoped>\n",
              "    .dataframe tbody tr th:only-of-type {\n",
              "        vertical-align: middle;\n",
              "    }\n",
              "\n",
              "    .dataframe tbody tr th {\n",
              "        vertical-align: top;\n",
              "    }\n",
              "\n",
              "    .dataframe thead th {\n",
              "        text-align: right;\n",
              "    }\n",
              "</style>\n",
              "<table border=\"1\" class=\"dataframe\">\n",
              "  <thead>\n",
              "    <tr style=\"text-align: right;\">\n",
              "      <th></th>\n",
              "      <th>year_film</th>\n",
              "      <th>film</th>\n",
              "      <th>win</th>\n",
              "    </tr>\n",
              "  </thead>\n",
              "  <tbody>\n",
              "    <tr>\n",
              "      <th>7494</th>\n",
              "      <td>2016</td>\n",
              "      <td>Elle</td>\n",
              "      <td>True</td>\n",
              "    </tr>\n",
              "    <tr>\n",
              "      <th>7495</th>\n",
              "      <td>2016</td>\n",
              "      <td>Arrival</td>\n",
              "      <td>False</td>\n",
              "    </tr>\n",
              "    <tr>\n",
              "      <th>7496</th>\n",
              "      <td>2016</td>\n",
              "      <td>Miss Sloane</td>\n",
              "      <td>False</td>\n",
              "    </tr>\n",
              "    <tr>\n",
              "      <th>7497</th>\n",
              "      <td>2016</td>\n",
              "      <td>Loving</td>\n",
              "      <td>False</td>\n",
              "    </tr>\n",
              "    <tr>\n",
              "      <th>7498</th>\n",
              "      <td>2016</td>\n",
              "      <td>Jackie</td>\n",
              "      <td>False</td>\n",
              "    </tr>\n",
              "  </tbody>\n",
              "</table>\n",
              "</div>\n",
              "    <div class=\"colab-df-buttons\">\n",
              "\n",
              "  <div class=\"colab-df-container\">\n",
              "    <button class=\"colab-df-convert\" onclick=\"convertToInteractive('df-0ee0ff94-05a9-43c9-8b8c-4d59ed360ed2')\"\n",
              "            title=\"Convert this dataframe to an interactive table.\"\n",
              "            style=\"display:none;\">\n",
              "\n",
              "  <svg xmlns=\"http://www.w3.org/2000/svg\" height=\"24px\" viewBox=\"0 -960 960 960\">\n",
              "    <path d=\"M120-120v-720h720v720H120Zm60-500h600v-160H180v160Zm220 220h160v-160H400v160Zm0 220h160v-160H400v160ZM180-400h160v-160H180v160Zm440 0h160v-160H620v160ZM180-180h160v-160H180v160Zm440 0h160v-160H620v160Z\"/>\n",
              "  </svg>\n",
              "    </button>\n",
              "\n",
              "  <style>\n",
              "    .colab-df-container {\n",
              "      display:flex;\n",
              "      gap: 12px;\n",
              "    }\n",
              "\n",
              "    .colab-df-convert {\n",
              "      background-color: #E8F0FE;\n",
              "      border: none;\n",
              "      border-radius: 50%;\n",
              "      cursor: pointer;\n",
              "      display: none;\n",
              "      fill: #1967D2;\n",
              "      height: 32px;\n",
              "      padding: 0 0 0 0;\n",
              "      width: 32px;\n",
              "    }\n",
              "\n",
              "    .colab-df-convert:hover {\n",
              "      background-color: #E2EBFA;\n",
              "      box-shadow: 0px 1px 2px rgba(60, 64, 67, 0.3), 0px 1px 3px 1px rgba(60, 64, 67, 0.15);\n",
              "      fill: #174EA6;\n",
              "    }\n",
              "\n",
              "    .colab-df-buttons div {\n",
              "      margin-bottom: 4px;\n",
              "    }\n",
              "\n",
              "    [theme=dark] .colab-df-convert {\n",
              "      background-color: #3B4455;\n",
              "      fill: #D2E3FC;\n",
              "    }\n",
              "\n",
              "    [theme=dark] .colab-df-convert:hover {\n",
              "      background-color: #434B5C;\n",
              "      box-shadow: 0px 1px 3px 1px rgba(0, 0, 0, 0.15);\n",
              "      filter: drop-shadow(0px 1px 2px rgba(0, 0, 0, 0.3));\n",
              "      fill: #FFFFFF;\n",
              "    }\n",
              "  </style>\n",
              "\n",
              "    <script>\n",
              "      const buttonEl =\n",
              "        document.querySelector('#df-0ee0ff94-05a9-43c9-8b8c-4d59ed360ed2 button.colab-df-convert');\n",
              "      buttonEl.style.display =\n",
              "        google.colab.kernel.accessAllowed ? 'block' : 'none';\n",
              "\n",
              "      async function convertToInteractive(key) {\n",
              "        const element = document.querySelector('#df-0ee0ff94-05a9-43c9-8b8c-4d59ed360ed2');\n",
              "        const dataTable =\n",
              "          await google.colab.kernel.invokeFunction('convertToInteractive',\n",
              "                                                    [key], {});\n",
              "        if (!dataTable) return;\n",
              "\n",
              "        const docLinkHtml = 'Like what you see? Visit the ' +\n",
              "          '<a target=\"_blank\" href=https://colab.research.google.com/notebooks/data_table.ipynb>data table notebook</a>'\n",
              "          + ' to learn more about interactive tables.';\n",
              "        element.innerHTML = '';\n",
              "        dataTable['output_type'] = 'display_data';\n",
              "        await google.colab.output.renderOutput(dataTable, element);\n",
              "        const docLink = document.createElement('div');\n",
              "        docLink.innerHTML = docLinkHtml;\n",
              "        element.appendChild(docLink);\n",
              "      }\n",
              "    </script>\n",
              "  </div>\n",
              "\n",
              "\n",
              "    <div id=\"df-97c42a83-c3db-4eff-89a6-d06c22f5d19e\">\n",
              "      <button class=\"colab-df-quickchart\" onclick=\"quickchart('df-97c42a83-c3db-4eff-89a6-d06c22f5d19e')\"\n",
              "                title=\"Suggest charts\"\n",
              "                style=\"display:none;\">\n",
              "\n",
              "<svg xmlns=\"http://www.w3.org/2000/svg\" height=\"24px\"viewBox=\"0 0 24 24\"\n",
              "     width=\"24px\">\n",
              "    <g>\n",
              "        <path d=\"M19 3H5c-1.1 0-2 .9-2 2v14c0 1.1.9 2 2 2h14c1.1 0 2-.9 2-2V5c0-1.1-.9-2-2-2zM9 17H7v-7h2v7zm4 0h-2V7h2v10zm4 0h-2v-4h2v4z\"/>\n",
              "    </g>\n",
              "</svg>\n",
              "      </button>\n",
              "\n",
              "<style>\n",
              "  .colab-df-quickchart {\n",
              "      --bg-color: #E8F0FE;\n",
              "      --fill-color: #1967D2;\n",
              "      --hover-bg-color: #E2EBFA;\n",
              "      --hover-fill-color: #174EA6;\n",
              "      --disabled-fill-color: #AAA;\n",
              "      --disabled-bg-color: #DDD;\n",
              "  }\n",
              "\n",
              "  [theme=dark] .colab-df-quickchart {\n",
              "      --bg-color: #3B4455;\n",
              "      --fill-color: #D2E3FC;\n",
              "      --hover-bg-color: #434B5C;\n",
              "      --hover-fill-color: #FFFFFF;\n",
              "      --disabled-bg-color: #3B4455;\n",
              "      --disabled-fill-color: #666;\n",
              "  }\n",
              "\n",
              "  .colab-df-quickchart {\n",
              "    background-color: var(--bg-color);\n",
              "    border: none;\n",
              "    border-radius: 50%;\n",
              "    cursor: pointer;\n",
              "    display: none;\n",
              "    fill: var(--fill-color);\n",
              "    height: 32px;\n",
              "    padding: 0;\n",
              "    width: 32px;\n",
              "  }\n",
              "\n",
              "  .colab-df-quickchart:hover {\n",
              "    background-color: var(--hover-bg-color);\n",
              "    box-shadow: 0 1px 2px rgba(60, 64, 67, 0.3), 0 1px 3px 1px rgba(60, 64, 67, 0.15);\n",
              "    fill: var(--button-hover-fill-color);\n",
              "  }\n",
              "\n",
              "  .colab-df-quickchart-complete:disabled,\n",
              "  .colab-df-quickchart-complete:disabled:hover {\n",
              "    background-color: var(--disabled-bg-color);\n",
              "    fill: var(--disabled-fill-color);\n",
              "    box-shadow: none;\n",
              "  }\n",
              "\n",
              "  .colab-df-spinner {\n",
              "    border: 2px solid var(--fill-color);\n",
              "    border-color: transparent;\n",
              "    border-bottom-color: var(--fill-color);\n",
              "    animation:\n",
              "      spin 1s steps(1) infinite;\n",
              "  }\n",
              "\n",
              "  @keyframes spin {\n",
              "    0% {\n",
              "      border-color: transparent;\n",
              "      border-bottom-color: var(--fill-color);\n",
              "      border-left-color: var(--fill-color);\n",
              "    }\n",
              "    20% {\n",
              "      border-color: transparent;\n",
              "      border-left-color: var(--fill-color);\n",
              "      border-top-color: var(--fill-color);\n",
              "    }\n",
              "    30% {\n",
              "      border-color: transparent;\n",
              "      border-left-color: var(--fill-color);\n",
              "      border-top-color: var(--fill-color);\n",
              "      border-right-color: var(--fill-color);\n",
              "    }\n",
              "    40% {\n",
              "      border-color: transparent;\n",
              "      border-right-color: var(--fill-color);\n",
              "      border-top-color: var(--fill-color);\n",
              "    }\n",
              "    60% {\n",
              "      border-color: transparent;\n",
              "      border-right-color: var(--fill-color);\n",
              "    }\n",
              "    80% {\n",
              "      border-color: transparent;\n",
              "      border-right-color: var(--fill-color);\n",
              "      border-bottom-color: var(--fill-color);\n",
              "    }\n",
              "    90% {\n",
              "      border-color: transparent;\n",
              "      border-bottom-color: var(--fill-color);\n",
              "    }\n",
              "  }\n",
              "</style>\n",
              "\n",
              "      <script>\n",
              "        async function quickchart(key) {\n",
              "          const quickchartButtonEl =\n",
              "            document.querySelector('#' + key + ' button');\n",
              "          quickchartButtonEl.disabled = true;  // To prevent multiple clicks.\n",
              "          quickchartButtonEl.classList.add('colab-df-spinner');\n",
              "          try {\n",
              "            const charts = await google.colab.kernel.invokeFunction(\n",
              "                'suggestCharts', [key], {});\n",
              "          } catch (error) {\n",
              "            console.error('Error during call to suggestCharts:', error);\n",
              "          }\n",
              "          quickchartButtonEl.classList.remove('colab-df-spinner');\n",
              "          quickchartButtonEl.classList.add('colab-df-quickchart-complete');\n",
              "        }\n",
              "        (() => {\n",
              "          let quickchartButtonEl =\n",
              "            document.querySelector('#df-97c42a83-c3db-4eff-89a6-d06c22f5d19e button');\n",
              "          quickchartButtonEl.style.display =\n",
              "            google.colab.kernel.accessAllowed ? 'block' : 'none';\n",
              "        })();\n",
              "      </script>\n",
              "    </div>\n",
              "\n",
              "    </div>\n",
              "  </div>\n"
            ],
            "application/vnd.google.colaboratory.intrinsic+json": {
              "type": "dataframe",
              "variable_name": "df_gg",
              "summary": "{\n  \"name\": \"df_gg\",\n  \"rows\": 381,\n  \"fields\": [\n    {\n      \"column\": \"year_film\",\n      \"properties\": {\n        \"dtype\": \"number\",\n        \"std\": 1,\n        \"min\": 2016,\n        \"max\": 2019,\n        \"num_unique_values\": 4,\n        \"samples\": [\n          2017,\n          2019,\n          2016\n        ],\n        \"semantic_type\": \"\",\n        \"description\": \"\"\n      }\n    },\n    {\n      \"column\": \"film\",\n      \"properties\": {\n        \"dtype\": \"string\",\n        \"num_unique_values\": 213,\n        \"samples\": [\n          \"La La Land\",\n          \"Fosse/Verdon\",\n          \"Call Me By Your Name\"\n        ],\n        \"semantic_type\": \"\",\n        \"description\": \"\"\n      }\n    },\n    {\n      \"column\": \"win\",\n      \"properties\": {\n        \"dtype\": \"boolean\",\n        \"num_unique_values\": 2,\n        \"samples\": [\n          false,\n          true\n        ],\n        \"semantic_type\": \"\",\n        \"description\": \"\"\n      }\n    }\n  ]\n}"
            }
          },
          "metadata": {},
          "execution_count": 14
        }
      ]
    },
    {
      "cell_type": "code",
      "source": [
        "from google.colab import files\n",
        "files.upload()"
      ],
      "metadata": {
        "colab": {
          "base_uri": "https://localhost:8080/",
          "height": 86
        },
        "id": "eJ3x8WhDtmYs",
        "outputId": "58c90c37-c146-4e60-8d7b-e4096aae07fe"
      },
      "execution_count": 15,
      "outputs": [
        {
          "output_type": "display_data",
          "data": {
            "text/plain": [
              "<IPython.core.display.HTML object>"
            ],
            "text/html": [
              "\n",
              "     <input type=\"file\" id=\"files-75275f17-fad8-487a-a58c-de26075c3f2f\" name=\"files[]\" multiple disabled\n",
              "        style=\"border:none\" />\n",
              "     <output id=\"result-75275f17-fad8-487a-a58c-de26075c3f2f\">\n",
              "      Upload widget is only available when the cell has been executed in the\n",
              "      current browser session. Please rerun this cell to enable.\n",
              "      </output>\n",
              "      <script>// Copyright 2017 Google LLC\n",
              "//\n",
              "// Licensed under the Apache License, Version 2.0 (the \"License\");\n",
              "// you may not use this file except in compliance with the License.\n",
              "// You may obtain a copy of the License at\n",
              "//\n",
              "//      http://www.apache.org/licenses/LICENSE-2.0\n",
              "//\n",
              "// Unless required by applicable law or agreed to in writing, software\n",
              "// distributed under the License is distributed on an \"AS IS\" BASIS,\n",
              "// WITHOUT WARRANTIES OR CONDITIONS OF ANY KIND, either express or implied.\n",
              "// See the License for the specific language governing permissions and\n",
              "// limitations under the License.\n",
              "\n",
              "/**\n",
              " * @fileoverview Helpers for google.colab Python module.\n",
              " */\n",
              "(function(scope) {\n",
              "function span(text, styleAttributes = {}) {\n",
              "  const element = document.createElement('span');\n",
              "  element.textContent = text;\n",
              "  for (const key of Object.keys(styleAttributes)) {\n",
              "    element.style[key] = styleAttributes[key];\n",
              "  }\n",
              "  return element;\n",
              "}\n",
              "\n",
              "// Max number of bytes which will be uploaded at a time.\n",
              "const MAX_PAYLOAD_SIZE = 100 * 1024;\n",
              "\n",
              "function _uploadFiles(inputId, outputId) {\n",
              "  const steps = uploadFilesStep(inputId, outputId);\n",
              "  const outputElement = document.getElementById(outputId);\n",
              "  // Cache steps on the outputElement to make it available for the next call\n",
              "  // to uploadFilesContinue from Python.\n",
              "  outputElement.steps = steps;\n",
              "\n",
              "  return _uploadFilesContinue(outputId);\n",
              "}\n",
              "\n",
              "// This is roughly an async generator (not supported in the browser yet),\n",
              "// where there are multiple asynchronous steps and the Python side is going\n",
              "// to poll for completion of each step.\n",
              "// This uses a Promise to block the python side on completion of each step,\n",
              "// then passes the result of the previous step as the input to the next step.\n",
              "function _uploadFilesContinue(outputId) {\n",
              "  const outputElement = document.getElementById(outputId);\n",
              "  const steps = outputElement.steps;\n",
              "\n",
              "  const next = steps.next(outputElement.lastPromiseValue);\n",
              "  return Promise.resolve(next.value.promise).then((value) => {\n",
              "    // Cache the last promise value to make it available to the next\n",
              "    // step of the generator.\n",
              "    outputElement.lastPromiseValue = value;\n",
              "    return next.value.response;\n",
              "  });\n",
              "}\n",
              "\n",
              "/**\n",
              " * Generator function which is called between each async step of the upload\n",
              " * process.\n",
              " * @param {string} inputId Element ID of the input file picker element.\n",
              " * @param {string} outputId Element ID of the output display.\n",
              " * @return {!Iterable<!Object>} Iterable of next steps.\n",
              " */\n",
              "function* uploadFilesStep(inputId, outputId) {\n",
              "  const inputElement = document.getElementById(inputId);\n",
              "  inputElement.disabled = false;\n",
              "\n",
              "  const outputElement = document.getElementById(outputId);\n",
              "  outputElement.innerHTML = '';\n",
              "\n",
              "  const pickedPromise = new Promise((resolve) => {\n",
              "    inputElement.addEventListener('change', (e) => {\n",
              "      resolve(e.target.files);\n",
              "    });\n",
              "  });\n",
              "\n",
              "  const cancel = document.createElement('button');\n",
              "  inputElement.parentElement.appendChild(cancel);\n",
              "  cancel.textContent = 'Cancel upload';\n",
              "  const cancelPromise = new Promise((resolve) => {\n",
              "    cancel.onclick = () => {\n",
              "      resolve(null);\n",
              "    };\n",
              "  });\n",
              "\n",
              "  // Wait for the user to pick the files.\n",
              "  const files = yield {\n",
              "    promise: Promise.race([pickedPromise, cancelPromise]),\n",
              "    response: {\n",
              "      action: 'starting',\n",
              "    }\n",
              "  };\n",
              "\n",
              "  cancel.remove();\n",
              "\n",
              "  // Disable the input element since further picks are not allowed.\n",
              "  inputElement.disabled = true;\n",
              "\n",
              "  if (!files) {\n",
              "    return {\n",
              "      response: {\n",
              "        action: 'complete',\n",
              "      }\n",
              "    };\n",
              "  }\n",
              "\n",
              "  for (const file of files) {\n",
              "    const li = document.createElement('li');\n",
              "    li.append(span(file.name, {fontWeight: 'bold'}));\n",
              "    li.append(span(\n",
              "        `(${file.type || 'n/a'}) - ${file.size} bytes, ` +\n",
              "        `last modified: ${\n",
              "            file.lastModifiedDate ? file.lastModifiedDate.toLocaleDateString() :\n",
              "                                    'n/a'} - `));\n",
              "    const percent = span('0% done');\n",
              "    li.appendChild(percent);\n",
              "\n",
              "    outputElement.appendChild(li);\n",
              "\n",
              "    const fileDataPromise = new Promise((resolve) => {\n",
              "      const reader = new FileReader();\n",
              "      reader.onload = (e) => {\n",
              "        resolve(e.target.result);\n",
              "      };\n",
              "      reader.readAsArrayBuffer(file);\n",
              "    });\n",
              "    // Wait for the data to be ready.\n",
              "    let fileData = yield {\n",
              "      promise: fileDataPromise,\n",
              "      response: {\n",
              "        action: 'continue',\n",
              "      }\n",
              "    };\n",
              "\n",
              "    // Use a chunked sending to avoid message size limits. See b/62115660.\n",
              "    let position = 0;\n",
              "    do {\n",
              "      const length = Math.min(fileData.byteLength - position, MAX_PAYLOAD_SIZE);\n",
              "      const chunk = new Uint8Array(fileData, position, length);\n",
              "      position += length;\n",
              "\n",
              "      const base64 = btoa(String.fromCharCode.apply(null, chunk));\n",
              "      yield {\n",
              "        response: {\n",
              "          action: 'append',\n",
              "          file: file.name,\n",
              "          data: base64,\n",
              "        },\n",
              "      };\n",
              "\n",
              "      let percentDone = fileData.byteLength === 0 ?\n",
              "          100 :\n",
              "          Math.round((position / fileData.byteLength) * 100);\n",
              "      percent.textContent = `${percentDone}% done`;\n",
              "\n",
              "    } while (position < fileData.byteLength);\n",
              "  }\n",
              "\n",
              "  // All done.\n",
              "  yield {\n",
              "    response: {\n",
              "      action: 'complete',\n",
              "    }\n",
              "  };\n",
              "}\n",
              "\n",
              "scope.google = scope.google || {};\n",
              "scope.google.colab = scope.google.colab || {};\n",
              "scope.google.colab._files = {\n",
              "  _uploadFiles,\n",
              "  _uploadFilesContinue,\n",
              "};\n",
              "})(self);\n",
              "</script> "
            ]
          },
          "metadata": {}
        },
        {
          "output_type": "stream",
          "name": "stdout",
          "text": [
            "Saving kaggle (2).json to kaggle (2).json\n"
          ]
        },
        {
          "output_type": "execute_result",
          "data": {
            "text/plain": [
              "{'kaggle (2).json': b'{\"username\":\"oykudemirell\",\"key\":\"24fc20083ed3bb7604f8159dd18baa8c\"}'}"
            ]
          },
          "metadata": {},
          "execution_count": 15
        }
      ]
    },
    {
      "cell_type": "code",
      "source": [
        "!mkdir -p ~/.kaggle\n",
        "!cp \"kaggle (2).json\" ~/.kaggle/kaggle.json\n",
        "!chmod 600 ~/.kaggle/kaggle.json\n",
        "!pip install -q kaggle\n"
      ],
      "metadata": {
        "id": "JtGjUAKUtvLJ"
      },
      "execution_count": 16,
      "outputs": []
    },
    {
      "cell_type": "code",
      "source": [
        "!kaggle datasets download -d unanimad/the-oscar-award\n",
        "!unzip -o the-oscar-award.zip\n",
        "!ls\n"
      ],
      "metadata": {
        "colab": {
          "base_uri": "https://localhost:8080/"
        },
        "id": "zsafgbwOt2LT",
        "outputId": "1e226c22-2273-4a60-e77e-a15312694dd4"
      },
      "execution_count": 17,
      "outputs": [
        {
          "output_type": "stream",
          "name": "stdout",
          "text": [
            "Dataset URL: https://www.kaggle.com/datasets/unanimad/the-oscar-award\n",
            "License(s): CC0-1.0\n",
            "Downloading the-oscar-award.zip to /content\n",
            "  0% 0.00/746k [00:00<?, ?B/s]\n",
            "100% 746k/746k [00:00<00:00, 161MB/s]\n",
            "Archive:  the-oscar-award.zip\n",
            "  inflating: full_data.csv           \n",
            "  inflating: the_oscar_award.csv     \n",
            " bafta-awards.zip\t   golden-globe-awards.zip   sample_data\n",
            " bafta_films.csv\t  'kaggle (1).json'\t     the_oscar_award.csv\n",
            " full_data.csv\t\t  'kaggle (2).json'\t     the-oscar-award.zip\n",
            " golden_globe_awards.csv   kaggle.json\t\t     tmdb_movies_2016_2020.csv\n"
          ]
        }
      ]
    },
    {
      "cell_type": "code",
      "source": [
        "#Oscar Awards\n",
        "import pandas as pd\n",
        "\n",
        "df_oscar = pd.read_csv('the_oscar_award.csv')\n",
        "\n",
        "df_oscar = df_oscar.drop(columns=['year_ceremony', 'ceremony', 'category', 'canon_category', 'name'], errors='ignore')\n",
        "\n",
        "\n",
        "df_oscar = df_oscar[(df_oscar['year_film'] >= 2016) & (df_oscar['year_film'] <= 2020)]\n",
        "\n",
        "df_oscar.head()\n"
      ],
      "metadata": {
        "colab": {
          "base_uri": "https://localhost:8080/",
          "height": 204
        },
        "id": "kj5zSQeBumpq",
        "outputId": "8481241e-4ba2-4b3b-86f2-8e258e142f12"
      },
      "execution_count": 18,
      "outputs": [
        {
          "output_type": "execute_result",
          "data": {
            "text/plain": [
              "      year_film                   film  winner\n",
              "9984       2016  Manchester by the Sea    True\n",
              "9985       2016          Hacksaw Ridge   False\n",
              "9986       2016             La La Land   False\n",
              "9987       2016      Captain Fantastic   False\n",
              "9988       2016                 Fences   False"
            ],
            "text/html": [
              "\n",
              "  <div id=\"df-11ee5212-2ab0-4a73-8f35-7c97b4e41654\" class=\"colab-df-container\">\n",
              "    <div>\n",
              "<style scoped>\n",
              "    .dataframe tbody tr th:only-of-type {\n",
              "        vertical-align: middle;\n",
              "    }\n",
              "\n",
              "    .dataframe tbody tr th {\n",
              "        vertical-align: top;\n",
              "    }\n",
              "\n",
              "    .dataframe thead th {\n",
              "        text-align: right;\n",
              "    }\n",
              "</style>\n",
              "<table border=\"1\" class=\"dataframe\">\n",
              "  <thead>\n",
              "    <tr style=\"text-align: right;\">\n",
              "      <th></th>\n",
              "      <th>year_film</th>\n",
              "      <th>film</th>\n",
              "      <th>winner</th>\n",
              "    </tr>\n",
              "  </thead>\n",
              "  <tbody>\n",
              "    <tr>\n",
              "      <th>9984</th>\n",
              "      <td>2016</td>\n",
              "      <td>Manchester by the Sea</td>\n",
              "      <td>True</td>\n",
              "    </tr>\n",
              "    <tr>\n",
              "      <th>9985</th>\n",
              "      <td>2016</td>\n",
              "      <td>Hacksaw Ridge</td>\n",
              "      <td>False</td>\n",
              "    </tr>\n",
              "    <tr>\n",
              "      <th>9986</th>\n",
              "      <td>2016</td>\n",
              "      <td>La La Land</td>\n",
              "      <td>False</td>\n",
              "    </tr>\n",
              "    <tr>\n",
              "      <th>9987</th>\n",
              "      <td>2016</td>\n",
              "      <td>Captain Fantastic</td>\n",
              "      <td>False</td>\n",
              "    </tr>\n",
              "    <tr>\n",
              "      <th>9988</th>\n",
              "      <td>2016</td>\n",
              "      <td>Fences</td>\n",
              "      <td>False</td>\n",
              "    </tr>\n",
              "  </tbody>\n",
              "</table>\n",
              "</div>\n",
              "    <div class=\"colab-df-buttons\">\n",
              "\n",
              "  <div class=\"colab-df-container\">\n",
              "    <button class=\"colab-df-convert\" onclick=\"convertToInteractive('df-11ee5212-2ab0-4a73-8f35-7c97b4e41654')\"\n",
              "            title=\"Convert this dataframe to an interactive table.\"\n",
              "            style=\"display:none;\">\n",
              "\n",
              "  <svg xmlns=\"http://www.w3.org/2000/svg\" height=\"24px\" viewBox=\"0 -960 960 960\">\n",
              "    <path d=\"M120-120v-720h720v720H120Zm60-500h600v-160H180v160Zm220 220h160v-160H400v160Zm0 220h160v-160H400v160ZM180-400h160v-160H180v160Zm440 0h160v-160H620v160ZM180-180h160v-160H180v160Zm440 0h160v-160H620v160Z\"/>\n",
              "  </svg>\n",
              "    </button>\n",
              "\n",
              "  <style>\n",
              "    .colab-df-container {\n",
              "      display:flex;\n",
              "      gap: 12px;\n",
              "    }\n",
              "\n",
              "    .colab-df-convert {\n",
              "      background-color: #E8F0FE;\n",
              "      border: none;\n",
              "      border-radius: 50%;\n",
              "      cursor: pointer;\n",
              "      display: none;\n",
              "      fill: #1967D2;\n",
              "      height: 32px;\n",
              "      padding: 0 0 0 0;\n",
              "      width: 32px;\n",
              "    }\n",
              "\n",
              "    .colab-df-convert:hover {\n",
              "      background-color: #E2EBFA;\n",
              "      box-shadow: 0px 1px 2px rgba(60, 64, 67, 0.3), 0px 1px 3px 1px rgba(60, 64, 67, 0.15);\n",
              "      fill: #174EA6;\n",
              "    }\n",
              "\n",
              "    .colab-df-buttons div {\n",
              "      margin-bottom: 4px;\n",
              "    }\n",
              "\n",
              "    [theme=dark] .colab-df-convert {\n",
              "      background-color: #3B4455;\n",
              "      fill: #D2E3FC;\n",
              "    }\n",
              "\n",
              "    [theme=dark] .colab-df-convert:hover {\n",
              "      background-color: #434B5C;\n",
              "      box-shadow: 0px 1px 3px 1px rgba(0, 0, 0, 0.15);\n",
              "      filter: drop-shadow(0px 1px 2px rgba(0, 0, 0, 0.3));\n",
              "      fill: #FFFFFF;\n",
              "    }\n",
              "  </style>\n",
              "\n",
              "    <script>\n",
              "      const buttonEl =\n",
              "        document.querySelector('#df-11ee5212-2ab0-4a73-8f35-7c97b4e41654 button.colab-df-convert');\n",
              "      buttonEl.style.display =\n",
              "        google.colab.kernel.accessAllowed ? 'block' : 'none';\n",
              "\n",
              "      async function convertToInteractive(key) {\n",
              "        const element = document.querySelector('#df-11ee5212-2ab0-4a73-8f35-7c97b4e41654');\n",
              "        const dataTable =\n",
              "          await google.colab.kernel.invokeFunction('convertToInteractive',\n",
              "                                                    [key], {});\n",
              "        if (!dataTable) return;\n",
              "\n",
              "        const docLinkHtml = 'Like what you see? Visit the ' +\n",
              "          '<a target=\"_blank\" href=https://colab.research.google.com/notebooks/data_table.ipynb>data table notebook</a>'\n",
              "          + ' to learn more about interactive tables.';\n",
              "        element.innerHTML = '';\n",
              "        dataTable['output_type'] = 'display_data';\n",
              "        await google.colab.output.renderOutput(dataTable, element);\n",
              "        const docLink = document.createElement('div');\n",
              "        docLink.innerHTML = docLinkHtml;\n",
              "        element.appendChild(docLink);\n",
              "      }\n",
              "    </script>\n",
              "  </div>\n",
              "\n",
              "\n",
              "    <div id=\"df-837b3956-7bc0-4a8f-81e5-44fecf5bcddb\">\n",
              "      <button class=\"colab-df-quickchart\" onclick=\"quickchart('df-837b3956-7bc0-4a8f-81e5-44fecf5bcddb')\"\n",
              "                title=\"Suggest charts\"\n",
              "                style=\"display:none;\">\n",
              "\n",
              "<svg xmlns=\"http://www.w3.org/2000/svg\" height=\"24px\"viewBox=\"0 0 24 24\"\n",
              "     width=\"24px\">\n",
              "    <g>\n",
              "        <path d=\"M19 3H5c-1.1 0-2 .9-2 2v14c0 1.1.9 2 2 2h14c1.1 0 2-.9 2-2V5c0-1.1-.9-2-2-2zM9 17H7v-7h2v7zm4 0h-2V7h2v10zm4 0h-2v-4h2v4z\"/>\n",
              "    </g>\n",
              "</svg>\n",
              "      </button>\n",
              "\n",
              "<style>\n",
              "  .colab-df-quickchart {\n",
              "      --bg-color: #E8F0FE;\n",
              "      --fill-color: #1967D2;\n",
              "      --hover-bg-color: #E2EBFA;\n",
              "      --hover-fill-color: #174EA6;\n",
              "      --disabled-fill-color: #AAA;\n",
              "      --disabled-bg-color: #DDD;\n",
              "  }\n",
              "\n",
              "  [theme=dark] .colab-df-quickchart {\n",
              "      --bg-color: #3B4455;\n",
              "      --fill-color: #D2E3FC;\n",
              "      --hover-bg-color: #434B5C;\n",
              "      --hover-fill-color: #FFFFFF;\n",
              "      --disabled-bg-color: #3B4455;\n",
              "      --disabled-fill-color: #666;\n",
              "  }\n",
              "\n",
              "  .colab-df-quickchart {\n",
              "    background-color: var(--bg-color);\n",
              "    border: none;\n",
              "    border-radius: 50%;\n",
              "    cursor: pointer;\n",
              "    display: none;\n",
              "    fill: var(--fill-color);\n",
              "    height: 32px;\n",
              "    padding: 0;\n",
              "    width: 32px;\n",
              "  }\n",
              "\n",
              "  .colab-df-quickchart:hover {\n",
              "    background-color: var(--hover-bg-color);\n",
              "    box-shadow: 0 1px 2px rgba(60, 64, 67, 0.3), 0 1px 3px 1px rgba(60, 64, 67, 0.15);\n",
              "    fill: var(--button-hover-fill-color);\n",
              "  }\n",
              "\n",
              "  .colab-df-quickchart-complete:disabled,\n",
              "  .colab-df-quickchart-complete:disabled:hover {\n",
              "    background-color: var(--disabled-bg-color);\n",
              "    fill: var(--disabled-fill-color);\n",
              "    box-shadow: none;\n",
              "  }\n",
              "\n",
              "  .colab-df-spinner {\n",
              "    border: 2px solid var(--fill-color);\n",
              "    border-color: transparent;\n",
              "    border-bottom-color: var(--fill-color);\n",
              "    animation:\n",
              "      spin 1s steps(1) infinite;\n",
              "  }\n",
              "\n",
              "  @keyframes spin {\n",
              "    0% {\n",
              "      border-color: transparent;\n",
              "      border-bottom-color: var(--fill-color);\n",
              "      border-left-color: var(--fill-color);\n",
              "    }\n",
              "    20% {\n",
              "      border-color: transparent;\n",
              "      border-left-color: var(--fill-color);\n",
              "      border-top-color: var(--fill-color);\n",
              "    }\n",
              "    30% {\n",
              "      border-color: transparent;\n",
              "      border-left-color: var(--fill-color);\n",
              "      border-top-color: var(--fill-color);\n",
              "      border-right-color: var(--fill-color);\n",
              "    }\n",
              "    40% {\n",
              "      border-color: transparent;\n",
              "      border-right-color: var(--fill-color);\n",
              "      border-top-color: var(--fill-color);\n",
              "    }\n",
              "    60% {\n",
              "      border-color: transparent;\n",
              "      border-right-color: var(--fill-color);\n",
              "    }\n",
              "    80% {\n",
              "      border-color: transparent;\n",
              "      border-right-color: var(--fill-color);\n",
              "      border-bottom-color: var(--fill-color);\n",
              "    }\n",
              "    90% {\n",
              "      border-color: transparent;\n",
              "      border-bottom-color: var(--fill-color);\n",
              "    }\n",
              "  }\n",
              "</style>\n",
              "\n",
              "      <script>\n",
              "        async function quickchart(key) {\n",
              "          const quickchartButtonEl =\n",
              "            document.querySelector('#' + key + ' button');\n",
              "          quickchartButtonEl.disabled = true;  // To prevent multiple clicks.\n",
              "          quickchartButtonEl.classList.add('colab-df-spinner');\n",
              "          try {\n",
              "            const charts = await google.colab.kernel.invokeFunction(\n",
              "                'suggestCharts', [key], {});\n",
              "          } catch (error) {\n",
              "            console.error('Error during call to suggestCharts:', error);\n",
              "          }\n",
              "          quickchartButtonEl.classList.remove('colab-df-spinner');\n",
              "          quickchartButtonEl.classList.add('colab-df-quickchart-complete');\n",
              "        }\n",
              "        (() => {\n",
              "          let quickchartButtonEl =\n",
              "            document.querySelector('#df-837b3956-7bc0-4a8f-81e5-44fecf5bcddb button');\n",
              "          quickchartButtonEl.style.display =\n",
              "            google.colab.kernel.accessAllowed ? 'block' : 'none';\n",
              "        })();\n",
              "      </script>\n",
              "    </div>\n",
              "\n",
              "    </div>\n",
              "  </div>\n"
            ],
            "application/vnd.google.colaboratory.intrinsic+json": {
              "type": "dataframe",
              "variable_name": "df_oscar",
              "summary": "{\n  \"name\": \"df_oscar\",\n  \"rows\": 628,\n  \"fields\": [\n    {\n      \"column\": \"year_film\",\n      \"properties\": {\n        \"dtype\": \"number\",\n        \"std\": 1,\n        \"min\": 2016,\n        \"max\": 2020,\n        \"num_unique_values\": 5,\n        \"samples\": [\n          2017,\n          2020,\n          2018\n        ],\n        \"semantic_type\": \"\",\n        \"description\": \"\"\n      }\n    },\n    {\n      \"column\": \"film\",\n      \"properties\": {\n        \"dtype\": \"category\",\n        \"num_unique_values\": 283,\n        \"samples\": [\n          \"Elle\",\n          \"News of the World\",\n          \"Never Look Away\"\n        ],\n        \"semantic_type\": \"\",\n        \"description\": \"\"\n      }\n    },\n    {\n      \"column\": \"winner\",\n      \"properties\": {\n        \"dtype\": \"boolean\",\n        \"num_unique_values\": 2,\n        \"samples\": [\n          false,\n          true\n        ],\n        \"semantic_type\": \"\",\n        \"description\": \"\"\n      }\n    }\n  ]\n}"
            }
          },
          "metadata": {},
          "execution_count": 18
        }
      ]
    },
    {
      "cell_type": "code",
      "source": [
        "print(df_oscar.columns)\n",
        "print(df_gg.columns)\n",
        "print(df_b.columns)\n"
      ],
      "metadata": {
        "colab": {
          "base_uri": "https://localhost:8080/"
        },
        "id": "w4mqTCVs297e",
        "outputId": "8a717e7e-d978-40ae-9908-2f08e58867a8"
      },
      "execution_count": 19,
      "outputs": [
        {
          "output_type": "stream",
          "name": "stdout",
          "text": [
            "Index(['year_film', 'film', 'winner'], dtype='object')\n",
            "Index(['year_film', 'film', 'win'], dtype='object')\n",
            "Index(['year', 'nominee', 'winner'], dtype='object')\n"
          ]
        }
      ]
    },
    {
      "cell_type": "code",
      "source": [
        "# Standardize columns\n",
        "\n",
        "# Oscars\n",
        "df_oscar = df_oscar.rename(columns={\n",
        "    'film': 'Title',\n",
        "    'year_film': 'Release Year'\n",
        "})\n",
        "\n",
        "# Golden Globes\n",
        "df_gg = df_gg.rename(columns={\n",
        "    'film': 'Title',\n",
        "    'year_film': 'Release Year'\n",
        "})\n",
        "\n",
        "# BAFTA\n",
        "df_b = df_b.rename(columns={\n",
        "    'nominee': 'Title',\n",
        "    'year': 'Release Year'\n",
        "})\n",
        "\n"
      ],
      "metadata": {
        "id": "nyxoW87u3Q1H"
      },
      "execution_count": 20,
      "outputs": []
    },
    {
      "cell_type": "code",
      "source": [
        "print(df_oscar.columns)\n",
        "print(df_gg.columns)\n",
        "print(df_b.columns)\n"
      ],
      "metadata": {
        "colab": {
          "base_uri": "https://localhost:8080/"
        },
        "id": "Ye4ps3UOATu9",
        "outputId": "e8bee35f-aa98-4c91-a10a-a65c3d6104ab"
      },
      "execution_count": 21,
      "outputs": [
        {
          "output_type": "stream",
          "name": "stdout",
          "text": [
            "Index(['Release Year', 'Title', 'winner'], dtype='object')\n",
            "Index(['Release Year', 'Title', 'win'], dtype='object')\n",
            "Index(['Release Year', 'Title', 'winner'], dtype='object')\n"
          ]
        }
      ]
    },
    {
      "cell_type": "code",
      "source": [
        "\n",
        "def normalize_title(title):\n",
        "    if pd.isna(title):\n",
        "        return ''\n",
        "    return title.lower().strip()\n",
        "\n",
        "df_oscar['normalized_title'] = df_oscar['Title'].apply(normalize_title)\n",
        "df_gg['normalized_title'] = df_gg['Title'].apply(normalize_title)\n",
        "df_b['normalized_title'] = df_b['Title'].apply(normalize_title)\n",
        "\n",
        "#Count how many wins each movie had per award show\n",
        "df_oscar_counts = df_oscar.groupby('normalized_title').size().reset_index(name='Oscar_Win')\n",
        "df_gg_counts = df_gg.groupby('normalized_title').size().reset_index(name='GG_Win')\n",
        "df_b_counts = df_b.groupby('normalized_title').size().reset_index(name='BAFTA_Win')\n",
        "\n",
        "#Merge\n",
        "merged_df2 = df_oscar_counts.merge(df_gg_counts, on='normalized_title', how='outer')\n",
        "merged_df2 = merged_df2.merge(df_b_counts, on='normalized_title', how='outer')\n",
        "\n",
        "#Fill missing values with 0\n",
        "merged_df2[['Oscar_Win', 'GG_Win', 'BAFTA_Win']] = merged_df2[['Oscar_Win', 'GG_Win', 'BAFTA_Win']].fillna(0).astype(int)\n",
        "\n",
        "#Calculate the total number of awards won\n",
        "merged_df2['Total_Awards_Won'] = merged_df2[['Oscar_Win', 'GG_Win', 'BAFTA_Win']].sum(axis=1)\n",
        "\n",
        "\n",
        "merged_df2 = merged_df2.merge(df_oscar[['normalized_title', 'Title', 'Release Year']], on='normalized_title', how='left')\n",
        "\n",
        "\n",
        "merged_df2 = merged_df2.dropna(subset=['Title']).reset_index(drop=True)\n",
        "\n",
        "print(merged_df2[['Title', 'Release Year', 'Oscar_Win', 'GG_Win', 'BAFTA_Win', 'Total_Awards_Won']].head())\n"
      ],
      "metadata": {
        "colab": {
          "base_uri": "https://localhost:8080/"
        },
        "id": "GjRAdUw0HSA5",
        "outputId": "24b77ca1-caeb-4ffd-b6ff-7b635e5f9b1c"
      },
      "execution_count": 22,
      "outputs": [
        {
          "output_type": "stream",
          "name": "stdout",
          "text": [
            "                                       Title  Release Year  Oscar_Win  GG_Win  \\\n",
            "0  13 Hours: The Secret Soldiers of Benghazi          2016          1       0   \n",
            "1                                       13th          2016          1       0   \n",
            "2                                       1917          2019         10       2   \n",
            "3                                       1917          2019         10       2   \n",
            "4                                       1917          2019         10       2   \n",
            "\n",
            "   BAFTA_Win  Total_Awards_Won  \n",
            "0          0                 1  \n",
            "1          1                 2  \n",
            "2          9                21  \n",
            "3          9                21  \n",
            "4          9                21  \n"
          ]
        }
      ]
    },
    {
      "cell_type": "code",
      "source": [
        "print(merged_df2.columns)\n"
      ],
      "metadata": {
        "colab": {
          "base_uri": "https://localhost:8080/"
        },
        "id": "2f4R9n8J-CO5",
        "outputId": "c296ff53-4495-453b-c0ae-50a9bd9d5e76"
      },
      "execution_count": 23,
      "outputs": [
        {
          "output_type": "stream",
          "name": "stdout",
          "text": [
            "Index(['normalized_title', 'Oscar_Win', 'GG_Win', 'BAFTA_Win',\n",
            "       'Total_Awards_Won', 'Title', 'Release Year'],\n",
            "      dtype='object')\n"
          ]
        }
      ]
    },
    {
      "cell_type": "code",
      "source": [
        "print(merged_df.columns)\n"
      ],
      "metadata": {
        "colab": {
          "base_uri": "https://localhost:8080/"
        },
        "id": "cZzHt1sd_HqA",
        "outputId": "fed8eae1-6a09-497e-dde8-d7b3d5ca5765"
      },
      "execution_count": 24,
      "outputs": [
        {
          "output_type": "stream",
          "name": "stdout",
          "text": [
            "Index(['Title', 'Release Year', 'Release Month', 'Release Date',\n",
            "       'Release Season', 'Release Group', 'Worldwide Gross'],\n",
            "      dtype='object')\n"
          ]
        }
      ]
    },
    {
      "cell_type": "code",
      "source": [
        "# Merge the clean movies/box office data (merged_df) with awards data (merged_df2)\n",
        "final_df = pd.merge(\n",
        "    merged_df,\n",
        "    merged_df2[['Title', 'Release Year', 'Oscar_Win', 'GG_Win', 'BAFTA_Win', 'Total_Awards_Won']],\n",
        "    on=['Title', 'Release Year'],\n",
        "    how='left'\n",
        ")\n",
        "\n",
        "print(final_df.head())\n"
      ],
      "metadata": {
        "colab": {
          "base_uri": "https://localhost:8080/"
        },
        "id": "gHKg5FEwAQDV",
        "outputId": "d9b482ad-e6b0-45fc-b882-60447fafcba5"
      },
      "execution_count": 25,
      "outputs": [
        {
          "output_type": "stream",
          "name": "stdout",
          "text": [
            "             Title  Release Year  Release Month Release Date  \\\n",
            "0         Zootopia          2016              2   2016-02-11   \n",
            "1   The Accountant          2016             10   2016-10-13   \n",
            "2  The Conjuring 2          2016              6   2016-06-08   \n",
            "3   Train to Busan          2016              7   2016-07-20   \n",
            "4   Wild Awakening          2016             10   2016-10-23   \n",
            "\n",
            "       Release Season    Release Group  Worldwide Gross  Oscar_Win  GG_Win  \\\n",
            "0       Awards Season         Zootopia       1023784195          1       0   \n",
            "1       Awards Season   The Accountant        155560045        NaN     NaN   \n",
            "2  Summer Blockbuster  The Conjuring 2        321370008        NaN     NaN   \n",
            "3  Summer Blockbuster   Train to Busan         92742323        NaN     NaN   \n",
            "4       Awards Season              NaN              NaN        NaN     NaN   \n",
            "\n",
            "   BAFTA_Win  Total_Awards_Won  \n",
            "0          0                 1  \n",
            "1        NaN               NaN  \n",
            "2        NaN               NaN  \n",
            "3        NaN               NaN  \n",
            "4        NaN               NaN  \n"
          ]
        }
      ]
    },
    {
      "cell_type": "code",
      "source": [
        "# Fill NaN award counts with 0\n",
        "award_cols = ['Oscar_Win', 'GG_Win', 'BAFTA_Win', 'Total_Awards_Won']\n",
        "final_df[award_cols] = final_df[award_cols].fillna(0).astype(int)\n",
        "\n",
        "\n",
        "final_df = final_df.drop(columns=['Release Group'])\n",
        "\n",
        "print(final_df.head())\n",
        "\n"
      ],
      "metadata": {
        "colab": {
          "base_uri": "https://localhost:8080/"
        },
        "id": "cm46GLRyIJSq",
        "outputId": "fa89d433-294b-40ec-857b-8610fcdc9086"
      },
      "execution_count": 26,
      "outputs": [
        {
          "output_type": "stream",
          "name": "stdout",
          "text": [
            "             Title  Release Year  Release Month Release Date  \\\n",
            "0         Zootopia          2016              2   2016-02-11   \n",
            "1   The Accountant          2016             10   2016-10-13   \n",
            "2  The Conjuring 2          2016              6   2016-06-08   \n",
            "3   Train to Busan          2016              7   2016-07-20   \n",
            "4   Wild Awakening          2016             10   2016-10-23   \n",
            "\n",
            "       Release Season  Worldwide Gross  Oscar_Win  GG_Win  BAFTA_Win  \\\n",
            "0       Awards Season       1023784195          1       0          0   \n",
            "1       Awards Season        155560045          0       0          0   \n",
            "2  Summer Blockbuster        321370008          0       0          0   \n",
            "3  Summer Blockbuster         92742323          0       0          0   \n",
            "4       Awards Season              NaN          0       0          0   \n",
            "\n",
            "   Total_Awards_Won  \n",
            "0                 1  \n",
            "1                 0  \n",
            "2                 0  \n",
            "3                 0  \n",
            "4                 0  \n"
          ]
        }
      ]
    },
    {
      "cell_type": "code",
      "source": [
        "final_df.to_csv('final_dataset.csv', index=False)\n"
      ],
      "metadata": {
        "id": "70jNMHm_BGeU"
      },
      "execution_count": 27,
      "outputs": []
    },
    {
      "cell_type": "code",
      "source": [
        "from google.colab import files\n",
        "files.download('final_dataset.csv')\n"
      ],
      "metadata": {
        "colab": {
          "base_uri": "https://localhost:8080/",
          "height": 17
        },
        "id": "DYjRR6g-BQAO",
        "outputId": "95f816f3-ab3e-4a67-8445-360efbb46e51"
      },
      "execution_count": 28,
      "outputs": [
        {
          "output_type": "display_data",
          "data": {
            "text/plain": [
              "<IPython.core.display.Javascript object>"
            ],
            "application/javascript": [
              "\n",
              "    async function download(id, filename, size) {\n",
              "      if (!google.colab.kernel.accessAllowed) {\n",
              "        return;\n",
              "      }\n",
              "      const div = document.createElement('div');\n",
              "      const label = document.createElement('label');\n",
              "      label.textContent = `Downloading \"${filename}\": `;\n",
              "      div.appendChild(label);\n",
              "      const progress = document.createElement('progress');\n",
              "      progress.max = size;\n",
              "      div.appendChild(progress);\n",
              "      document.body.appendChild(div);\n",
              "\n",
              "      const buffers = [];\n",
              "      let downloaded = 0;\n",
              "\n",
              "      const channel = await google.colab.kernel.comms.open(id);\n",
              "      // Send a message to notify the kernel that we're ready.\n",
              "      channel.send({})\n",
              "\n",
              "      for await (const message of channel.messages) {\n",
              "        // Send a message to notify the kernel that we're ready.\n",
              "        channel.send({})\n",
              "        if (message.buffers) {\n",
              "          for (const buffer of message.buffers) {\n",
              "            buffers.push(buffer);\n",
              "            downloaded += buffer.byteLength;\n",
              "            progress.value = downloaded;\n",
              "          }\n",
              "        }\n",
              "      }\n",
              "      const blob = new Blob(buffers, {type: 'application/binary'});\n",
              "      const a = document.createElement('a');\n",
              "      a.href = window.URL.createObjectURL(blob);\n",
              "      a.download = filename;\n",
              "      div.appendChild(a);\n",
              "      a.click();\n",
              "      div.remove();\n",
              "    }\n",
              "  "
            ]
          },
          "metadata": {}
        },
        {
          "output_type": "display_data",
          "data": {
            "text/plain": [
              "<IPython.core.display.Javascript object>"
            ],
            "application/javascript": [
              "download(\"download_bedd5186-285f-4d82-a469-3ae27e01bf19\", \"final_dataset.csv\", 976661)"
            ]
          },
          "metadata": {}
        }
      ]
    },
    {
      "cell_type": "code",
      "source": [
        "print(final_df.columns)\n",
        "\n"
      ],
      "metadata": {
        "colab": {
          "base_uri": "https://localhost:8080/"
        },
        "id": "LCiKBlaNI6Cg",
        "outputId": "47c56f90-b348-4a74-f132-fde85d80a497"
      },
      "execution_count": 29,
      "outputs": [
        {
          "output_type": "stream",
          "name": "stdout",
          "text": [
            "Index(['Title', 'Release Year', 'Release Month', 'Release Date',\n",
            "       'Release Season', 'Worldwide Gross', 'Oscar_Win', 'GG_Win', 'BAFTA_Win',\n",
            "       'Total_Awards_Won'],\n",
            "      dtype='object')\n"
          ]
        }
      ]
    },
    {
      "cell_type": "code",
      "source": [
        "import numpy as np\n",
        "import matplotlib.pyplot as plt\n",
        "import seaborn as sns\n",
        "\n",
        "# If your dataframe is named df instead of final_df, fix the reference:\n",
        "# Assuming df is already loaded and cleaned\n",
        "df_plot = final_df[['Release Month', 'Total_Awards_Won']].dropna()\n",
        "\n",
        "# Convert Release Month to integer (if not already)\n",
        "df_plot['Release Month'] = df_plot['Release Month'].astype(int)\n",
        "\n",
        "# Sort months for better visualization\n",
        "df_plot = df_plot.sort_values(by='Release Month')\n",
        "\n",
        "# Plot\n",
        "plt.figure(figsize=(12,6))\n",
        "sns.barplot(\n",
        "    data=df_plot,\n",
        "    x='Release Month',\n",
        "    y='Total_Awards_Won',\n",
        "    estimator=np.mean,\n",
        "    ci=None,\n",
        "    palette=\"viridis\"\n",
        ")\n",
        "plt.title('Average Awards Won by Release Month', fontsize=14)\n",
        "plt.ylabel('Average Awards Won', fontsize=12)\n",
        "plt.xlabel('Release Month (1 = Jan, 12 = Dec)', fontsize=12)\n",
        "plt.xticks(rotation=0)\n",
        "plt.tight_layout()\n",
        "plt.show()"
      ],
      "metadata": {
        "colab": {
          "base_uri": "https://localhost:8080/",
          "height": 607
        },
        "id": "uxYV_oIRExfp",
        "outputId": "42688f47-15c1-47a9-f988-b91d213bf62a"
      },
      "execution_count": 34,
      "outputs": [
        {
          "output_type": "display_data",
          "data": {
            "text/plain": [
              "<Figure size 1200x600 with 1 Axes>"
            ],
            "image/png": "[encoded data removed]"
          },
          "metadata": {}
        }
      ]
    },
    {
      "cell_type": "markdown",
      "source": [
        "The bar plot shows that movies released later in the year (November and December) tend to win more awards on average than movies released earlier. December releases have the highest average awards won, suggesting an advantage. In contrast, movies released between January and August tend to win fewer awards on average, indicating that early-year releases are less likely to become award-season favorites."
      ],
      "metadata": {
        "id": "5TVLZXGoFcmf"
      }
    },
    {
      "cell_type": "code",
      "source": [
        "plt.figure(figsize=(12,6))\n",
        "sns.scatterplot(data=final_df, x='Worldwide Gross', y='Total_Awards_Won')\n",
        "plt.title('Box Office Revenue vs Total Awards Won')\n",
        "plt.xlabel('Box Office Revenue ($)')\n",
        "plt.ylabel('Total Awards Won')\n",
        "plt.xscale('log')  # because box office values vary a lot\n",
        "plt.show()\n"
      ],
      "metadata": {
        "colab": {
          "base_uri": "https://localhost:8080/",
          "height": 569
        },
        "id": "Gs1HbixxH4k_",
        "outputId": "fd9feed6-8858-4af5-9d0b-e114976dd671"
      },
      "execution_count": 36,
      "outputs": [
        {
          "output_type": "display_data",
          "data": {
            "text/plain": [
              "<Figure size 1200x600 with 1 Axes>"
            ],
            "image/png": "[encoded data removed]"
          },
          "metadata": {}
        }
      ]
    },
    {
      "cell_type": "markdown",
      "source": [
        "There isn’t a strong relationship between box office revenue and total awards won. Many movies, even with very high revenue (over $1B), still won 0 or 1 award. These are likely big-budget action, superhero, or franchise films that are financially successful but not critically acclaimed. Films that won many awards are generally located in the mid-range of box office. They are not blockbusters, but not low-budget either."
      ],
      "metadata": {
        "id": "3mztscfsKZaj"
      }
    },
    {
      "cell_type": "code",
      "source": [
        "from scipy.stats import pearsonr, spearmanr\n",
        "\n",
        "# Drop rows with NaNs\n",
        "clean_df = final_df[['Worldwide Gross', 'Total_Awards_Won']].dropna()\n",
        "\n",
        "\n",
        "pearson_corr, pearson_p = pearsonr(clean_df['Worldwide Gross'], clean_df['Total_Awards_Won'])\n",
        "spearman_corr, spearman_p = spearmanr(clean_df['Worldwide Gross'], clean_df['Total_Awards_Won'])\n",
        "\n",
        "print(f\"Pearson correlation: {pearson_corr:.3f} (p-value: {pearson_p:.3f})\")\n",
        "print(f\"Spearman correlation: {spearman_corr:.3f} (p-value: {spearman_p:.3f})\")"
      ],
      "metadata": {
        "colab": {
          "base_uri": "https://localhost:8080/"
        },
        "id": "VVTtQoFIKuJo",
        "outputId": "e25b280f-3585-414a-e73e-5eb44a0b325f"
      },
      "execution_count": 38,
      "outputs": [
        {
          "output_type": "stream",
          "name": "stdout",
          "text": [
            "Pearson correlation: 0.272 (p-value: 0.000)\n",
            "Spearman correlation: 0.386 (p-value: 0.000)\n"
          ]
        }
      ]
    },
    {
      "cell_type": "markdown",
      "source": [
        "While movies with higher box office revenues tend to win slightly more awards, box office success does not strongly predict award wins. Many blockbuster movies still win few or no awards, and some lower-revenue films can win big."
      ],
      "metadata": {
        "id": "KO9TB36-Qmo9"
      }
    },
    {
      "cell_type": "code",
      "source": [
        "import pandas as pd\n",
        "from scipy.stats import chi2_contingency\n",
        "\n",
        "# 1. Create a binary column for “won any award”\n",
        "final_df['Won_Award'] = final_df['Total_Awards_Won'] > 0\n",
        "\n",
        "season_award_crosstab = pd.crosstab(\n",
        "    final_df['Release Season'],\n",
        "    final_df['Won_Award']\n",
        ")\n",
        "print(season_award_crosstab)\n"
      ],
      "metadata": {
        "colab": {
          "base_uri": "https://localhost:8080/"
        },
        "id": "bARTKwimbfIQ",
        "outputId": "e2f83517-4c60-4aed-b060-32545a24c590"
      },
      "execution_count": 39,
      "outputs": [
        {
          "output_type": "stream",
          "name": "stdout",
          "text": [
            "Won_Award           False  True \n",
            "Release Season                  \n",
            "Awards Season        6013    157\n",
            "Holiday Season       2808    246\n",
            "Spring               3635     49\n",
            "Summer Blockbuster   3402     80\n"
          ]
        }
      ]
    },
    {
      "cell_type": "code",
      "source": [
        "# Chi-square test\n",
        "chi2, p, dof, expected = chi2_contingency(season_award_crosstab)\n",
        "\n",
        "print(f\"Chi-Square statistic: {chi2:.3f}\")\n",
        "print(f\"p-value: {p:.3f}\")\n",
        "\n"
      ],
      "metadata": {
        "colab": {
          "base_uri": "https://localhost:8080/"
        },
        "id": "xPWJmiTmbiS0",
        "outputId": "aecd1353-9bd2-4234-ab87-438eae11a6eb"
      },
      "execution_count": 40,
      "outputs": [
        {
          "output_type": "stream",
          "name": "stdout",
          "text": [
            "Chi-Square statistic: 287.594\n",
            "p-value: 0.000\n"
          ]
        }
      ]
    },
    {
      "cell_type": "markdown",
      "source": [
        "Out of 6 k movies released in Awards Season, only 79 won at least one major award (%1.3). Holiday Season movies had a slightly higher success rate.\n",
        "\n",
        "p < 0.05, so we reject H₀: there is a significant association between release season and winning awards.\n",
        "The chance of winning at least one award does depend on when a movie is released.\n",
        "\n",
        "\n",
        "\n",
        "\n"
      ],
      "metadata": {
        "id": "sB8f-J4uc40B"
      }
    },
    {
      "cell_type": "code",
      "source": [
        "from scipy.stats import ttest_ind\n",
        "\n",
        "\n",
        "winners = final_df[ final_df['Won_Award'] ]['Worldwide Gross']\n",
        "losers  = final_df[~final_df['Won_Award'] ]['Worldwide Gross']\n",
        "\n",
        "# T-test\n",
        "t_stat, p_val = ttest_ind(winners, losers, equal_var=False)\n",
        "\n",
        "print(f\"t-statistic: {t_stat:.3f}\")\n",
        "print(f\"p-value: {p_val:.3f}\")\n"
      ],
      "metadata": {
        "colab": {
          "base_uri": "https://localhost:8080/"
        },
        "id": "y0pqf60KlcpO",
        "outputId": "06ec93ba-1cf1-404e-a36e-e678a02fbf1f"
      },
      "execution_count": 41,
      "outputs": [
        {
          "output_type": "stream",
          "name": "stdout",
          "text": [
            "t-statistic: nan\n",
            "p-value: nan\n"
          ]
        }
      ]
    },
    {
      "cell_type": "code",
      "source": [
        "#Average Awards Won by Release Season\n",
        "season_awards = final_df.groupby('Release Season')['Total_Awards_Won'].mean().sort_values(ascending=False)\n",
        "\n",
        "\n",
        "plt.figure(figsize=(8,5))\n",
        "sns.barplot(x=season_awards.index, y=season_awards.values)\n",
        "plt.title('Average Awards Won by Release Season')\n",
        "plt.xlabel('Release Season')\n",
        "plt.ylabel('Average Total Awards Won')\n",
        "plt.xticks(rotation=45)\n",
        "plt.show()\n"
      ],
      "metadata": {
        "colab": {
          "base_uri": "https://localhost:8080/",
          "height": 586
        },
        "id": "YDFQCRO_K6UT",
        "outputId": "9333f067-6217-4823-aa99-d0620efa0b62"
      },
      "execution_count": 42,
      "outputs": [
        {
          "output_type": "display_data",
          "data": {
            "text/plain": [
              "<Figure size 800x500 with 1 Axes>"
            ],
            "image/png": "[encoded data removed]"
          },
          "metadata": {}
        }
      ]
    },
    {
      "cell_type": "code",
      "source": [
        "\n",
        "sns.set_style('whitegrid')\n",
        "\n",
        "\n",
        "fig, axes = plt.subplots(1, 2, figsize=(16,6))\n",
        "\n",
        "# Plot 1: Box Office performance by Release Season\n",
        "sns.boxplot(x='Release Season', y='Worldwide Gross', data=final_df, ax=axes[0])\n",
        "axes[0].set_title('Box Office Performance by Release Season')\n",
        "axes[0].set_ylabel('Worldwide Gross ($)')\n",
        "axes[0].set_xlabel('Release Season')\n",
        "axes[0].tick_params(axis='x', rotation=45)\n",
        "\n",
        "# Plot 2: Award success by Release Season\n",
        "sns.boxplot(x='Release Season', y='Total_Awards_Won', data=final_df, ax=axes[1])\n",
        "axes[1].set_title('Award Success by Release Season')\n",
        "axes[1].set_ylabel('Total Awards Won')\n",
        "axes[1].set_xlabel('Release Season')\n",
        "axes[1].tick_params(axis='x', rotation=45)\n",
        "\n",
        "\n",
        "plt.tight_layout()\n",
        "plt.show()\n"
      ],
      "metadata": {
        "colab": {
          "base_uri": "https://localhost:8080/",
          "height": 517
        },
        "id": "-YU60PIOL8cp",
        "outputId": "56497825-71d4-4794-f807-eebcc9a71fa8"
      },
      "execution_count": 43,
      "outputs": [
        {
          "output_type": "display_data",
          "data": {
            "text/plain": [
              "<Figure size 1600x600 with 2 Axes>"
            ],
            "image/png": "[encoded data removed]"
          },
          "metadata": {}
        }
      ]
    },
    {
      "cell_type": "markdown",
      "source": [
        "All seasons show a similar median box office, with a slight edge for Holiday Season and Summer Blockbuster. Spring and Awards Season have fewer extremely high-grossing outliers.\n",
        "\n",
        "Films released in Awards Season are far more likely to win awards. Holiday Season also performs well likely because it overlaps with Awards Season deadlines.\n"
      ],
      "metadata": {
        "id": "7OV_fcgVDgpc"
      }
    },
    {
      "cell_type": "code",
      "source": [
        "sns.lmplot(x='Worldwide Gross', y='Total_Awards_Won', data=final_df)\n",
        "plt.title('Worldwide Gross vs Total Awards Won (with Trendline)')\n",
        "plt.show()\n"
      ],
      "metadata": {
        "colab": {
          "base_uri": "https://localhost:8080/",
          "height": 529
        },
        "id": "-5MDUq4PM2-g",
        "outputId": "247afef7-6604-49ae-b441-a0787b182758"
      },
      "execution_count": 44,
      "outputs": [
        {
          "output_type": "display_data",
          "data": {
            "text/plain": [
              "<Figure size 500x500 with 1 Axes>"
            ],
            "image/png": "[encoded data removed]"
          },
          "metadata": {}
        }
      ]
    },
    {
      "cell_type": "markdown",
      "source": [
        "While there is a general upward trend (movies with more revenue tend to win more awards), the relationship is weak. Many award-winning films do not earn much money, and many high-grossing films win few or no awards."
      ],
      "metadata": {
        "id": "QMja3Ly6FJCm"
      }
    },
    {
      "cell_type": "code",
      "source": [
        "#Do high-grossing movies have better chances of winning awards, regardless of release timing?\n",
        "\n",
        "threshold = final_df['Worldwide Gross'].quantile(0.75)\n",
        "\n",
        "final_df['Is_High_Gross'] = final_df['Worldwide Gross'] >= threshold\n",
        "\n",
        "# Boxplot to compare\n",
        "plt.figure(figsize=(8,6))\n",
        "sns.boxplot(x='Is_High_Gross', y='Total_Awards_Won', data=final_df)\n",
        "plt.title('Awards Won: High Grossing vs Low Grossing Movies')\n",
        "plt.xlabel('High Grossing Movie?')\n",
        "plt.ylabel('Total Awards Won')\n",
        "plt.show()\n",
        "\n",
        "\n",
        "mean_awards_gross = final_df.groupby('Is_High_Gross')['Total_Awards_Won'].mean()\n",
        "print(mean_awards_gross)\n",
        "\n",
        "\n",
        "#High box office success is correlated with winning more awards.\n",
        "#High-grossing movies tend to win more awards regardless of release season.\n"
      ],
      "metadata": {
        "colab": {
          "base_uri": "https://localhost:8080/",
          "height": 632
        },
        "id": "rg1J4LMKN06V",
        "outputId": "d5d86cfb-850b-4789-e24c-1acfe5b59ea6"
      },
      "execution_count": 45,
      "outputs": [
        {
          "output_type": "display_data",
          "data": {
            "text/plain": [
              "<Figure size 800x600 with 1 Axes>"
            ],
            "image/png": "[encoded data removed]"
          },
          "metadata": {}
        },
        {
          "output_type": "stream",
          "name": "stdout",
          "text": [
            "Is_High_Gross\n",
            "False   0\n",
            "True    7\n",
            "Name: Total_Awards_Won, dtype: float64\n"
          ]
        }
      ]
    },
    {
      "cell_type": "markdown",
      "source": [
        "There is a clear positive relationship between box office success and award success. High-grossing films are far more likely to win awards.\n",
        "This finding is independent of release season, making it a crucial insight."
      ],
      "metadata": {
        "id": "c3nb5ZRLFoz8"
      }
    },
    {
      "cell_type": "code",
      "source": [
        "# Check basic statistics and how many movies won 0 awards\n",
        "print(final_df['Total_Awards_Won'].describe())\n",
        "\n",
        "zero_awards = (final_df['Total_Awards_Won'] == 0).sum()\n",
        "print(f\"Movies with 0 awards: {zero_awards} out of {len(final_df)}\")\n"
      ],
      "metadata": {
        "colab": {
          "base_uri": "https://localhost:8080/"
        },
        "id": "h8hn08bEOE9x",
        "outputId": "609aadbb-b108-4b97-8cef-d8985114aa7e"
      },
      "execution_count": 46,
      "outputs": [
        {
          "output_type": "stream",
          "name": "stdout",
          "text": [
            "count   16390\n",
            "mean        0\n",
            "std         2\n",
            "min         0\n",
            "25%         0\n",
            "50%         0\n",
            "75%         0\n",
            "max        29\n",
            "Name: Total_Awards_Won, dtype: float64\n",
            "Movies with 0 awards: 15858 out of 16390\n"
          ]
        }
      ]
    },
    {
      "cell_type": "code",
      "source": [
        "from scipy.stats import ttest_ind\n",
        "\n",
        "# Separate groups\n",
        "high_gross_awards = final_df[final_df['Is_High_Gross'] == True]['Total_Awards_Won']\n",
        "low_gross_awards = final_df[final_df['Is_High_Gross'] == False]['Total_Awards_Won']\n",
        "\n",
        "# Perform t-test\n",
        "t_stat, p_value = ttest_ind(high_gross_awards, low_gross_awards, equal_var=False)\n",
        "\n",
        "print(f\"T-statistic: {t_stat:.3f}\")\n",
        "print(f\"P-value: {p_value:.5f}\")\n"
      ],
      "metadata": {
        "colab": {
          "base_uri": "https://localhost:8080/"
        },
        "id": "bSNqf2AYOvdl",
        "outputId": "8f10505c-84e7-469f-dbe9-0633aee18e67"
      },
      "execution_count": 47,
      "outputs": [
        {
          "output_type": "stream",
          "name": "stdout",
          "text": [
            "T-statistic: 12.379\n",
            "P-value: 0.00000\n"
          ]
        }
      ]
    },
    {
      "cell_type": "code",
      "source": [
        "# Group by season and calculate the mean number of awards\n",
        "season_awards = final_df.groupby('Release Season')['Total_Awards_Won'].mean().sort_values(ascending=False)\n",
        "\n",
        "\n",
        "print(season_awards)\n",
        "\n",
        "#Plot for better visualization\n",
        "import seaborn as sns\n",
        "import matplotlib.pyplot as plt\n",
        "\n",
        "plt.figure(figsize=(10,6))\n",
        "sns.barplot(x=season_awards.index, y=season_awards.values, palette=\"viridis\")\n",
        "plt.title('Average Awards Won by Release Season', fontsize=16)\n",
        "plt.xlabel('Release Season', fontsize=14)\n",
        "plt.ylabel('Average Awards Won', fontsize=14)\n",
        "plt.xticks(rotation=45)\n",
        "plt.show()\n"
      ],
      "metadata": {
        "colab": {
          "base_uri": "https://localhost:8080/",
          "height": 877
        },
        "id": "jo3gVHXGPoh7",
        "outputId": "9cbeb88f-be5a-4cf7-ee06-04922d79f11c"
      },
      "execution_count": 48,
      "outputs": [
        {
          "output_type": "stream",
          "name": "stdout",
          "text": [
            "Release Season\n",
            "Holiday Season       1\n",
            "Awards Season        0\n",
            "Summer Blockbuster   0\n",
            "Spring               0\n",
            "Name: Total_Awards_Won, dtype: float64\n"
          ]
        },
        {
          "output_type": "stream",
          "name": "stderr",
          "text": [
            "<ipython-input-48-2f574ca882dd>:12: FutureWarning: \n",
            "\n",
            "Passing `palette` without assigning `hue` is deprecated and will be removed in v0.14.0. Assign the `x` variable to `hue` and set `legend=False` for the same effect.\n",
            "\n",
            "  sns.barplot(x=season_awards.index, y=season_awards.values, palette=\"viridis\")\n"
          ]
        },
        {
          "output_type": "display_data",
          "data": {
            "text/plain": [
              "<Figure size 1000x600 with 1 Axes>"
            ],
            "image/png": "[encoded data removed]"
          },
          "metadata": {}
        }
      ]
    },
    {
      "cell_type": "code",
      "source": [
        "from scipy.stats import f_oneway\n",
        "\n",
        "# Separate the awards data by season\n",
        "holiday_awards = final_df[final_df['Release Season'] == 'Holiday Season']['Total_Awards_Won']\n",
        "awards_season_awards = final_df[final_df['Release Season'] == 'Awards Season']['Total_Awards_Won']\n",
        "summer_awards = final_df[final_df['Release Season'] == 'Summer Blockbuster']['Total_Awards_Won']\n",
        "spring_awards = final_df[final_df['Release Season'] == 'Spring']['Total_Awards_Won']\n",
        "\n",
        "#One-way ANOVA\n",
        "f_stat, p_value = f_oneway(holiday_awards, awards_season_awards, summer_awards, spring_awards)\n",
        "\n",
        "print(f\"F-statistic: {f_stat:.3f}\")\n",
        "print(f\"P-value: {p_value:.5f}\")\n"
      ],
      "metadata": {
        "colab": {
          "base_uri": "https://localhost:8080/"
        },
        "id": "xzG_acKZQEpp",
        "outputId": "73b1036f-3aca-476b-e314-8ea2991c2c82"
      },
      "execution_count": 49,
      "outputs": [
        {
          "output_type": "stream",
          "name": "stdout",
          "text": [
            "F-statistic: 129.044\n",
            "P-value: 0.00000\n"
          ]
        }
      ]
    },
    {
      "cell_type": "code",
      "source": [
        "print(final_df.columns)\n"
      ],
      "metadata": {
        "colab": {
          "base_uri": "https://localhost:8080/"
        },
        "id": "G4K_LiKhSC5t",
        "outputId": "f3393d73-7433-421f-a44e-c5393a39647d"
      },
      "execution_count": 50,
      "outputs": [
        {
          "output_type": "stream",
          "name": "stdout",
          "text": [
            "Index(['Title', 'Release Year', 'Release Month', 'Release Date',\n",
            "       'Release Season', 'Worldwide Gross', 'Oscar_Win', 'GG_Win', 'BAFTA_Win',\n",
            "       'Total_Awards_Won', 'Won_Award', 'Is_High_Gross'],\n",
            "      dtype='object')\n"
          ]
        }
      ]
    },
    {
      "cell_type": "code",
      "source": [
        "import statsmodels.api as sm\n",
        "from statsmodels.formula.api import ols\n",
        "\n",
        "anova_df = final_df[['Release Season', 'Is_High_Gross', 'Total_Awards_Won']].dropna().rename(columns={'Release Season': 'Release_Season'})\n",
        "\n",
        "\n",
        "#Two-Way ANOVA\n",
        "\n",
        "\n",
        "model = ols('Total_Awards_Won ~ C(Release_Season) + C(Is_High_Gross) + C(Release_Season):C(Is_High_Gross)', data=anova_df).fit()\n",
        "anova_table = sm.stats.anova_lm(model, typ=2)\n",
        "print(anova_table)\n",
        "\n"
      ],
      "metadata": {
        "colab": {
          "base_uri": "https://localhost:8080/"
        },
        "id": "Wt2HgEdvSnOb",
        "outputId": "257fe6a8-bb0a-4755-bf60-a8cd41f02452"
      },
      "execution_count": 51,
      "outputs": [
        {
          "output_type": "stream",
          "name": "stdout",
          "text": [
            "                                    sum_sq    df    F  PR(>F)\n",
            "C(Release_Season)                     1326     3  131       0\n",
            "C(Is_High_Gross)                     11168     1 3302       0\n",
            "C(Release_Season):C(Is_High_Gross)    3085     3  304       0\n",
            "Residual                             55415 16382  NaN     NaN\n"
          ]
        }
      ]
    },
    {
      "cell_type": "markdown",
      "source": [
        "A Two-Way ANOVA confirms that both Release Season and Box Office Performance significantly affect a film’s award success. More importantly, their interaction is also significant, suggesting that commercial success influences award outcomes differently depending on when a film is released. This reinforces the hypothesis that both strategic timing and financial success play critical roles in maximizing award potential."
      ],
      "metadata": {
        "id": "sM6zytVTG64F"
      }
    }
  ]
}