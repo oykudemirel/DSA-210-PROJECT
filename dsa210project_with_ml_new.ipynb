{
  "cells": [
    {
      "cell_type": "markdown",
      "metadata": {
        "id": "view-in-github",
        "colab_type": "text"
      },
      "source": [
        "<a href=\"https://colab.research.google.com/github/oykudemirel/DSA-210-PROJECT/blob/main/dsa210project_with_ml_new.ipynb\" target=\"_parent\"><img src=\"https://colab.research.google.com/assets/colab-badge.svg\" alt=\"Open In Colab\"/></a>"
      ]
    },
    {
      "cell_type": "code",
      "execution_count": null,
      "metadata": {
        "colab": {
          "base_uri": "https://localhost:8080/"
        },
        "id": "lKuGr7sMd8Po",
        "outputId": "e8b92c02-bbfc-4aac-89d0-cdc86de18d53"
      },
      "outputs": [
        {
          "output_type": "stream",
          "name": "stdout",
          "text": [
            "Processing year: 2016\n",
            "Processing year: 2017\n",
            "Processing year: 2018\n",
            "Processing year: 2019\n",
            "Processing year: 2020\n",
            "            Title  Release Year  Release Month Release Date\n",
            "0  Wild Awakening          2016             10   2016-10-23\n",
            "1  The Accountant          2016             10   2016-10-13\n",
            "2      Your Name.          2016              8   2016-08-26\n",
            "3   Hacksaw Ridge          2016             10   2016-10-07\n",
            "4        Zootopia          2016              2   2016-02-11\n"
          ]
        }
      ],
      "source": [
        "#Get the tmdb list which has all the movies\n",
        "\n",
        "import requests\n",
        "import time\n",
        "import pandas as pd\n",
        "\n",
        "API_KEY = '823fecbf63a8e7692fe9329ead448aac'\n",
        "base_url = \"https://api.themoviedb.org/3/discover/movie\"\n",
        "\n",
        "all_movies = []\n",
        "\n",
        "for year in range(2016, 2021):\n",
        "    print(f\"Processing year: {year}\")\n",
        "    page = 1\n",
        "\n",
        "    while True:\n",
        "        params = {\n",
        "    \"api_key\": API_KEY,\n",
        "    \"primary_release_year\": year,\n",
        "    \"sort_by\": \"popularity.desc\",  # Sort results so we get the most relevant\n",
        "    \"vote_count.gte\": 10,          # Only include movies with at least 10 votes\n",
        "    \"page\": page\n",
        "}\n",
        "\n",
        "\n",
        "        response = requests.get(base_url, params=params)\n",
        "        data = response.json()\n",
        "\n",
        "        if 'results' not in data or len(data['results']) == 0:\n",
        "            print(\"No results, stopping...\")\n",
        "            break\n",
        "\n",
        "        for movie in data['results']:\n",
        "            title = movie.get('title', '')\n",
        "            release_date = movie.get('release_date', '')\n",
        "\n",
        "            if release_date:\n",
        "                year_part = int(release_date.split('-')[0])\n",
        "                month_part = int(release_date.split('-')[1])\n",
        "            else:\n",
        "                year_part = year\n",
        "                month_part = None\n",
        "\n",
        "            all_movies.append({\n",
        "                \"Title\": title,\n",
        "                \"Release Year\": year_part,\n",
        "                \"Release Month\": month_part,\n",
        "                \"Release Date\": release_date\n",
        "            })\n",
        "\n",
        "        if page >= data.get('total_pages', 1):\n",
        "            break\n",
        "        page += 1\n",
        "        time.sleep(0.3)\n",
        "\n",
        "\n",
        "df = pd.DataFrame(all_movies)\n",
        "df.to_csv(\"tmdb_movies_2016_2020.csv\", index=False)\n",
        "print(df.head())\n",
        "\n"
      ]
    },
    {
      "cell_type": "code",
      "execution_count": null,
      "metadata": {
        "colab": {
          "base_uri": "https://localhost:8080/"
        },
        "id": "fQZ08GUfhXsH",
        "outputId": "27ad2b87-1184-4842-d377-3831b1894007"
      },
      "outputs": [
        {
          "output_type": "stream",
          "name": "stdout",
          "text": [
            "            Title  Release Year  Release Month      Release Season\n",
            "0  Wild Awakening          2016             10       Awards Season\n",
            "1  The Accountant          2016             10       Awards Season\n",
            "2      Your Name.          2016              8  Summer Blockbuster\n",
            "3   Hacksaw Ridge          2016             10       Awards Season\n",
            "4        Zootopia          2016              2       Awards Season\n"
          ]
        }
      ],
      "source": [
        "# Categorize the seasons\n",
        "def categorize_season(month):\n",
        "    if month in [11, 12]:\n",
        "        return 'Holiday Season'\n",
        "    elif month in [1, 2, 9, 10]:\n",
        "        return 'Awards Season'\n",
        "    elif month in [6, 7, 8]:\n",
        "        return 'Summer Blockbuster'\n",
        "    elif month in [3, 4, 5]:\n",
        "        return 'Spring'\n",
        "    else:\n",
        "        return 'Other'  # For missing or weird months\n",
        "\n",
        "df['Release Season'] = df['Release Month'].apply(categorize_season)\n",
        "\n",
        "\n",
        "print(df[['Title', 'Release Year', 'Release Month', 'Release Season']].head())\n"
      ]
    },
    {
      "cell_type": "code",
      "execution_count": null,
      "metadata": {
        "colab": {
          "base_uri": "https://localhost:8080/",
          "height": 672
        },
        "id": "cEG2OYYvhnh3",
        "outputId": "70af15c8-b086-4303-a3b0-4368fb27a358"
      },
      "outputs": [
        {
          "output_type": "stream",
          "name": "stdout",
          "text": [
            "Release Season\n",
            "Awards Season         6092\n",
            "Spring                3678\n",
            "Summer Blockbuster    3453\n",
            "Holiday Season        2881\n",
            "Name: count, dtype: int64\n"
          ]
        },
        {
          "output_type": "display_data",
          "data": {
            "text/plain": [
              "<Figure size 640x480 with 1 Axes>"
            ],
            "image/png": "[encoded data removed]"
          },
          "metadata": {}
        }
      ],
      "source": [
        "# Movies per Release Season\n",
        "season_counts = df['Release Season'].value_counts()\n",
        "print(season_counts)\n",
        "\n",
        "\n",
        "import matplotlib.pyplot as plt\n",
        "\n",
        "season_counts.plot(kind='bar', color='skyblue')\n",
        "plt.title('Number of Movies per Release Season (2016-2020)')\n",
        "plt.ylabel('Number of Movies')\n",
        "plt.xlabel('Release Season')\n",
        "plt.xticks(rotation=45)\n",
        "plt.show()\n"
      ]
    },
    {
      "cell_type": "code",
      "execution_count": null,
      "metadata": {
        "colab": {
          "base_uri": "https://localhost:8080/"
        },
        "id": "4gH8sWQehpch",
        "outputId": "5813f5b3-f2df-4c00-a878-dad125876a6b"
      },
      "outputs": [
        {
          "output_type": "stream",
          "name": "stdout",
          "text": [
            "Processing year: 2016\n",
            "Processing year: 2017\n",
            "Processing year: 2018\n",
            "Processing year: 2019\n",
            "Processing year: 2020\n",
            "   Year                 Release Group  Worldwide Gross\n",
            "0  2016    Captain America: Civil War       1153296293\n",
            "1  2016  Rogue One: A Star Wars Story       1056057273\n",
            "2  2016                  Finding Dory       1028570889\n",
            "3  2016                      Zootopia       1023784195\n",
            "4  2016               The Jungle Book        966550600\n"
          ]
        }
      ],
      "source": [
        "#Web scraped the website Box Office Mojo to get the box office numbers\n",
        "import requests\n",
        "from bs4 import BeautifulSoup\n",
        "import pandas as pd\n",
        "import time\n",
        "\n",
        "pd.set_option('display.float_format', '{:.0f}'.format)\n",
        "\n",
        "years = list(range(2016, 2021))\n",
        "\n",
        "base_url = \"https://www.boxofficemojo.com/year/world/{year}/\"\n",
        "\n",
        "\n",
        "all_data = []\n",
        "\n",
        "headers = {\n",
        "    \"User-Agent\": \"Mozilla/5.0 (Windows NT 10.0; Win64; x64)\"\n",
        "}\n",
        "\n",
        "for year in years:\n",
        "    print(f\"Processing year: {year}\")\n",
        "    url = base_url.format(year=year)\n",
        "    try:\n",
        "        response = requests.get(url, headers=headers)\n",
        "        response.raise_for_status()\n",
        "    except requests.exceptions.RequestException as e:\n",
        "        print(f\"Failed to retrieve data for {year}: {e}\")\n",
        "        continue\n",
        "\n",
        "    soup = BeautifulSoup(response.text, 'html.parser')\n",
        "\n",
        "    # Find the table containing the box office data\n",
        "    table = soup.find('table')\n",
        "    if not table:\n",
        "        print(f\"No table found for {year}\")\n",
        "        continue\n",
        "\n",
        "    # Extract table rows, skip header row,\n",
        "    rows = table.find_all('tr')[1:]\n",
        "\n",
        "    for row in rows:\n",
        "        cols = row.find_all('td')\n",
        "        if len(cols) < 3:\n",
        "            continue  # Skip rows that don't have enough columns\n",
        "        release_group = cols[1].get_text(strip=True)\n",
        "        worldwide_gross = cols[2].get_text(strip=True)\n",
        "        all_data.append({\n",
        "            'Year': year,o\n",
        "            'Release Group': release_group,\n",
        "            'Worldwide Gross': worldwide_gross\n",
        "        })\n",
        "\n",
        "\n",
        "    time.sleep(1)\n",
        "\n",
        "\n",
        "df_box_office = pd.DataFrame(all_data)\n",
        "\n",
        "\n",
        "\n",
        "# Remove dollar signs and commas and convert to numeric\n",
        "df_box_office['Worldwide Gross'] = df_box_office['Worldwide Gross'].replace('[\\$,]', '', regex=True).astype(float)\n",
        "\n",
        "\n",
        "print(df_box_office.head())\n"
      ]
    },
    {
      "cell_type": "code",
      "execution_count": null,
      "metadata": {
        "colab": {
          "base_uri": "https://localhost:8080/"
        },
        "id": "K5vGLhlcmuoY",
        "outputId": "6e3a8339-1103-482f-e53e-f88c0e200d8c"
      },
      "outputs": [
        {
          "output_type": "stream",
          "name": "stdout",
          "text": [
            "            Title  Release Year  Release Month      Release Season  \\\n",
            "0  Wild Awakening          2016             10       Awards Season   \n",
            "1  The Accountant          2016             10       Awards Season   \n",
            "2      Your Name.          2016              8  Summer Blockbuster   \n",
            "3   Hacksaw Ridge          2016             10       Awards Season   \n",
            "4        Zootopia          2016              2       Awards Season   \n",
            "\n",
            "   Worldwide Gross  \n",
            "0              NaN  \n",
            "1        155560045  \n",
            "2        357986087  \n",
            "3        180563636  \n",
            "4       1023784195  \n"
          ]
        }
      ],
      "source": [
        "#Normalize titles\n",
        "def normalize_title(title):\n",
        "    if pd.isnull(title):\n",
        "        return \"\"\n",
        "    return title.lower().strip()\n",
        "\n",
        "\n",
        "df['normalized_title'] = df['Title'].apply(normalize_title)\n",
        "df_box_office['normalized_title'] = df_box_office['Release Group'].apply(normalize_title)\n",
        "\n",
        "#Merge on normalized titles and year\n",
        "merged_df = pd.merge(\n",
        "    df,\n",
        "    df_box_office,\n",
        "    left_on=['normalized_title', 'Release Year'],\n",
        "    right_on=['normalized_title', 'Year'],\n",
        "    how='left'\n",
        ")\n",
        "\n",
        "#Fix the _x and _y\n",
        "def clean_merge_columns(df, prefer='_x'):\n",
        "\n",
        "    for col in df.columns:\n",
        "        if col.endswith(prefer):\n",
        "            base = col[:-2]  # remove _x or _y\n",
        "            other = base + ('_y' if prefer == '_x' else '_x')\n",
        "            if other in df.columns:\n",
        "                df = df.drop(columns=[other])\n",
        "            df = df.rename(columns={col: base})\n",
        "    return df\n",
        "\n",
        "merged_df = clean_merge_columns(merged_df)\n",
        "\n",
        "merged_df.drop(columns=['normalized_title', 'Year'], errors='ignore', inplace=True)\n",
        "\n",
        "print(merged_df[['Title', 'Release Year', 'Release Month', 'Release Season', 'Worldwide Gross']].head())\n"
      ]
    },
    {
      "cell_type": "code",
      "execution_count": null,
      "metadata": {
        "colab": {
          "base_uri": "https://localhost:8080/",
          "height": 86
        },
        "id": "Hu4vE2FwnLfS",
        "outputId": "28f1445a-fb57-4b28-d525-5928a514762e"
      },
      "outputs": [
        {
          "output_type": "display_data",
          "data": {
            "text/plain": [
              "<IPython.core.display.HTML object>"
            ],
            "text/html": [
              "\n",
              "     <input type=\"file\" id=\"files-8490fbf8-b3f1-4fd9-ae51-96610fdc8b75\" name=\"files[]\" multiple disabled\n",
              "        style=\"border:none\" />\n",
              "     <output id=\"result-8490fbf8-b3f1-4fd9-ae51-96610fdc8b75\">\n",
              "      Upload widget is only available when the cell has been executed in the\n",
              "      current browser session. Please rerun this cell to enable.\n",
              "      </output>\n",
              "      <script>// Copyright 2017 Google LLC\n",
              "//\n",
              "// Licensed under the Apache License, Version 2.0 (the \"License\");\n",
              "// you may not use this file except in compliance with the License.\n",
              "// You may obtain a copy of the License at\n",
              "//\n",
              "//      http://www.apache.org/licenses/LICENSE-2.0\n",
              "//\n",
              "// Unless required by applicable law or agreed to in writing, software\n",
              "// distributed under the License is distributed on an \"AS IS\" BASIS,\n",
              "// WITHOUT WARRANTIES OR CONDITIONS OF ANY KIND, either express or implied.\n",
              "// See the License for the specific language governing permissions and\n",
              "// limitations under the License.\n",
              "\n",
              "/**\n",
              " * @fileoverview Helpers for google.colab Python module.\n",
              " */\n",
              "(function(scope) {\n",
              "function span(text, styleAttributes = {}) {\n",
              "  const element = document.createElement('span');\n",
              "  element.textContent = text;\n",
              "  for (const key of Object.keys(styleAttributes)) {\n",
              "    element.style[key] = styleAttributes[key];\n",
              "  }\n",
              "  return element;\n",
              "}\n",
              "\n",
              "// Max number of bytes which will be uploaded at a time.\n",
              "const MAX_PAYLOAD_SIZE = 100 * 1024;\n",
              "\n",
              "function _uploadFiles(inputId, outputId) {\n",
              "  const steps = uploadFilesStep(inputId, outputId);\n",
              "  const outputElement = document.getElementById(outputId);\n",
              "  // Cache steps on the outputElement to make it available for the next call\n",
              "  // to uploadFilesContinue from Python.\n",
              "  outputElement.steps = steps;\n",
              "\n",
              "  return _uploadFilesContinue(outputId);\n",
              "}\n",
              "\n",
              "// This is roughly an async generator (not supported in the browser yet),\n",
              "// where there are multiple asynchronous steps and the Python side is going\n",
              "// to poll for completion of each step.\n",
              "// This uses a Promise to block the python side on completion of each step,\n",
              "// then passes the result of the previous step as the input to the next step.\n",
              "function _uploadFilesContinue(outputId) {\n",
              "  const outputElement = document.getElementById(outputId);\n",
              "  const steps = outputElement.steps;\n",
              "\n",
              "  const next = steps.next(outputElement.lastPromiseValue);\n",
              "  return Promise.resolve(next.value.promise).then((value) => {\n",
              "    // Cache the last promise value to make it available to the next\n",
              "    // step of the generator.\n",
              "    outputElement.lastPromiseValue = value;\n",
              "    return next.value.response;\n",
              "  });\n",
              "}\n",
              "\n",
              "/**\n",
              " * Generator function which is called between each async step of the upload\n",
              " * process.\n",
              " * @param {string} inputId Element ID of the input file picker element.\n",
              " * @param {string} outputId Element ID of the output display.\n",
              " * @return {!Iterable<!Object>} Iterable of next steps.\n",
              " */\n",
              "function* uploadFilesStep(inputId, outputId) {\n",
              "  const inputElement = document.getElementById(inputId);\n",
              "  inputElement.disabled = false;\n",
              "\n",
              "  const outputElement = document.getElementById(outputId);\n",
              "  outputElement.innerHTML = '';\n",
              "\n",
              "  const pickedPromise = new Promise((resolve) => {\n",
              "    inputElement.addEventListener('change', (e) => {\n",
              "      resolve(e.target.files);\n",
              "    });\n",
              "  });\n",
              "\n",
              "  const cancel = document.createElement('button');\n",
              "  inputElement.parentElement.appendChild(cancel);\n",
              "  cancel.textContent = 'Cancel upload';\n",
              "  const cancelPromise = new Promise((resolve) => {\n",
              "    cancel.onclick = () => {\n",
              "      resolve(null);\n",
              "    };\n",
              "  });\n",
              "\n",
              "  // Wait for the user to pick the files.\n",
              "  const files = yield {\n",
              "    promise: Promise.race([pickedPromise, cancelPromise]),\n",
              "    response: {\n",
              "      action: 'starting',\n",
              "    }\n",
              "  };\n",
              "\n",
              "  cancel.remove();\n",
              "\n",
              "  // Disable the input element since further picks are not allowed.\n",
              "  inputElement.disabled = true;\n",
              "\n",
              "  if (!files) {\n",
              "    return {\n",
              "      response: {\n",
              "        action: 'complete',\n",
              "      }\n",
              "    };\n",
              "  }\n",
              "\n",
              "  for (const file of files) {\n",
              "    const li = document.createElement('li');\n",
              "    li.append(span(file.name, {fontWeight: 'bold'}));\n",
              "    li.append(span(\n",
              "        `(${file.type || 'n/a'}) - ${file.size} bytes, ` +\n",
              "        `last modified: ${\n",
              "            file.lastModifiedDate ? file.lastModifiedDate.toLocaleDateString() :\n",
              "                                    'n/a'} - `));\n",
              "    const percent = span('0% done');\n",
              "    li.appendChild(percent);\n",
              "\n",
              "    outputElement.appendChild(li);\n",
              "\n",
              "    const fileDataPromise = new Promise((resolve) => {\n",
              "      const reader = new FileReader();\n",
              "      reader.onload = (e) => {\n",
              "        resolve(e.target.result);\n",
              "      };\n",
              "      reader.readAsArrayBuffer(file);\n",
              "    });\n",
              "    // Wait for the data to be ready.\n",
              "    let fileData = yield {\n",
              "      promise: fileDataPromise,\n",
              "      response: {\n",
              "        action: 'continue',\n",
              "      }\n",
              "    };\n",
              "\n",
              "    // Use a chunked sending to avoid message size limits. See b/62115660.\n",
              "    let position = 0;\n",
              "    do {\n",
              "      const length = Math.min(fileData.byteLength - position, MAX_PAYLOAD_SIZE);\n",
              "      const chunk = new Uint8Array(fileData, position, length);\n",
              "      position += length;\n",
              "\n",
              "      const base64 = btoa(String.fromCharCode.apply(null, chunk));\n",
              "      yield {\n",
              "        response: {\n",
              "          action: 'append',\n",
              "          file: file.name,\n",
              "          data: base64,\n",
              "        },\n",
              "      };\n",
              "\n",
              "      let percentDone = fileData.byteLength === 0 ?\n",
              "          100 :\n",
              "          Math.round((position / fileData.byteLength) * 100);\n",
              "      percent.textContent = `${percentDone}% done`;\n",
              "\n",
              "    } while (position < fileData.byteLength);\n",
              "  }\n",
              "\n",
              "  // All done.\n",
              "  yield {\n",
              "    response: {\n",
              "      action: 'complete',\n",
              "    }\n",
              "  };\n",
              "}\n",
              "\n",
              "scope.google = scope.google || {};\n",
              "scope.google.colab = scope.google.colab || {};\n",
              "scope.google.colab._files = {\n",
              "  _uploadFiles,\n",
              "  _uploadFilesContinue,\n",
              "};\n",
              "})(self);\n",
              "</script> "
            ]
          },
          "metadata": {}
        },
        {
          "output_type": "stream",
          "name": "stdout",
          "text": [
            "Saving kaggle.json to kaggle.json\n"
          ]
        },
        {
          "output_type": "execute_result",
          "data": {
            "text/plain": [
              "{'kaggle.json': b'{\"username\":\"oykudemirell\",\"key\":\"b41ccc22de14a9a86f326e961286b890\"}'}"
            ]
          },
          "metadata": {},
          "execution_count": 6
        }
      ],
      "source": [
        "! pip install -q kaggle\n",
        "from google.colab import files\n",
        "files.upload()"
      ]
    },
    {
      "cell_type": "code",
      "execution_count": null,
      "metadata": {
        "id": "nDO4ufb0om78"
      },
      "outputs": [],
      "source": [
        "!mkdir -p ~/.kaggle\n",
        "!cp kaggle.json ~/.kaggle/\n",
        "!chmod 600 ~/.kaggle/kaggle.json\n"
      ]
    },
    {
      "cell_type": "code",
      "execution_count": null,
      "metadata": {
        "colab": {
          "base_uri": "https://localhost:8080/"
        },
        "id": "gH5mEOJNooCb",
        "outputId": "ffad6901-75aa-4ac2-b53f-a905c6148e47"
      },
      "outputs": [
        {
          "output_type": "stream",
          "name": "stdout",
          "text": [
            "Dataset URL: https://www.kaggle.com/datasets/unanimad/bafta-awards\n",
            "License(s): CC0-1.0\n",
            "Downloading bafta-awards.zip to /content\n",
            "  0% 0.00/74.5k [00:00<?, ?B/s]\n",
            "100% 74.5k/74.5k [00:00<00:00, 127MB/s]\n",
            "Archive:  bafta-awards.zip\n",
            "  inflating: bafta_films.csv         \n",
            "bafta-awards.zip  kaggle.json  tmdb_movies_2016_2020.csv\n",
            "bafta_films.csv   sample_data\n"
          ]
        }
      ],
      "source": [
        "!kaggle datasets download -d unanimad/bafta-awards\n",
        "\n",
        "!unzip -o bafta-awards.zip\n",
        "!ls"
      ]
    },
    {
      "cell_type": "code",
      "execution_count": null,
      "metadata": {
        "colab": {
          "base_uri": "https://localhost:8080/",
          "height": 204
        },
        "id": "wv1ty4Tdoq50",
        "outputId": "7feeb327-42b3-474f-9710-0c1fd8dffd20"
      },
      "outputs": [
        {
          "output_type": "execute_result",
          "data": {
            "text/plain": [
              "      year        nominee  winner\n",
              "3575  2016  The Big Short    True\n",
              "3576  2016       Brooklyn   False\n",
              "3577  2016          Carol   False\n",
              "3578  2016           Room   False\n",
              "3579  2016     Steve Jobs   False"
            ],
            "text/html": [
              "\n",
              "  <div id=\"df-9207b307-ebf3-4e85-b4ea-83b550bf077d\" class=\"colab-df-container\">\n",
              "    <div>\n",
              "<style scoped>\n",
              "    .dataframe tbody tr th:only-of-type {\n",
              "        vertical-align: middle;\n",
              "    }\n",
              "\n",
              "    .dataframe tbody tr th {\n",
              "        vertical-align: top;\n",
              "    }\n",
              "\n",
              "    .dataframe thead th {\n",
              "        text-align: right;\n",
              "    }\n",
              "</style>\n",
              "<table border=\"1\" class=\"dataframe\">\n",
              "  <thead>\n",
              "    <tr style=\"text-align: right;\">\n",
              "      <th></th>\n",
              "      <th>year</th>\n",
              "      <th>nominee</th>\n",
              "      <th>winner</th>\n",
              "    </tr>\n",
              "  </thead>\n",
              "  <tbody>\n",
              "    <tr>\n",
              "      <th>3575</th>\n",
              "      <td>2016</td>\n",
              "      <td>The Big Short</td>\n",
              "      <td>True</td>\n",
              "    </tr>\n",
              "    <tr>\n",
              "      <th>3576</th>\n",
              "      <td>2016</td>\n",
              "      <td>Brooklyn</td>\n",
              "      <td>False</td>\n",
              "    </tr>\n",
              "    <tr>\n",
              "      <th>3577</th>\n",
              "      <td>2016</td>\n",
              "      <td>Carol</td>\n",
              "      <td>False</td>\n",
              "    </tr>\n",
              "    <tr>\n",
              "      <th>3578</th>\n",
              "      <td>2016</td>\n",
              "      <td>Room</td>\n",
              "      <td>False</td>\n",
              "    </tr>\n",
              "    <tr>\n",
              "      <th>3579</th>\n",
              "      <td>2016</td>\n",
              "      <td>Steve Jobs</td>\n",
              "      <td>False</td>\n",
              "    </tr>\n",
              "  </tbody>\n",
              "</table>\n",
              "</div>\n",
              "    <div class=\"colab-df-buttons\">\n",
              "\n",
              "  <div class=\"colab-df-container\">\n",
              "    <button class=\"colab-df-convert\" onclick=\"convertToInteractive('df-9207b307-ebf3-4e85-b4ea-83b550bf077d')\"\n",
              "            title=\"Convert this dataframe to an interactive table.\"\n",
              "            style=\"display:none;\">\n",
              "\n",
              "  <svg xmlns=\"http://www.w3.org/2000/svg\" height=\"24px\" viewBox=\"0 -960 960 960\">\n",
              "    <path d=\"M120-120v-720h720v720H120Zm60-500h600v-160H180v160Zm220 220h160v-160H400v160Zm0 220h160v-160H400v160ZM180-400h160v-160H180v160Zm440 0h160v-160H620v160ZM180-180h160v-160H180v160Zm440 0h160v-160H620v160Z\"/>\n",
              "  </svg>\n",
              "    </button>\n",
              "\n",
              "  <style>\n",
              "    .colab-df-container {\n",
              "      display:flex;\n",
              "      gap: 12px;\n",
              "    }\n",
              "\n",
              "    .colab-df-convert {\n",
              "      background-color: #E8F0FE;\n",
              "      border: none;\n",
              "      border-radius: 50%;\n",
              "      cursor: pointer;\n",
              "      display: none;\n",
              "      fill: #1967D2;\n",
              "      height: 32px;\n",
              "      padding: 0 0 0 0;\n",
              "      width: 32px;\n",
              "    }\n",
              "\n",
              "    .colab-df-convert:hover {\n",
              "      background-color: #E2EBFA;\n",
              "      box-shadow: 0px 1px 2px rgba(60, 64, 67, 0.3), 0px 1px 3px 1px rgba(60, 64, 67, 0.15);\n",
              "      fill: #174EA6;\n",
              "    }\n",
              "\n",
              "    .colab-df-buttons div {\n",
              "      margin-bottom: 4px;\n",
              "    }\n",
              "\n",
              "    [theme=dark] .colab-df-convert {\n",
              "      background-color: #3B4455;\n",
              "      fill: #D2E3FC;\n",
              "    }\n",
              "\n",
              "    [theme=dark] .colab-df-convert:hover {\n",
              "      background-color: #434B5C;\n",
              "      box-shadow: 0px 1px 3px 1px rgba(0, 0, 0, 0.15);\n",
              "      filter: drop-shadow(0px 1px 2px rgba(0, 0, 0, 0.3));\n",
              "      fill: #FFFFFF;\n",
              "    }\n",
              "  </style>\n",
              "\n",
              "    <script>\n",
              "      const buttonEl =\n",
              "        document.querySelector('#df-9207b307-ebf3-4e85-b4ea-83b550bf077d button.colab-df-convert');\n",
              "      buttonEl.style.display =\n",
              "        google.colab.kernel.accessAllowed ? 'block' : 'none';\n",
              "\n",
              "      async function convertToInteractive(key) {\n",
              "        const element = document.querySelector('#df-9207b307-ebf3-4e85-b4ea-83b550bf077d');\n",
              "        const dataTable =\n",
              "          await google.colab.kernel.invokeFunction('convertToInteractive',\n",
              "                                                    [key], {});\n",
              "        if (!dataTable) return;\n",
              "\n",
              "        const docLinkHtml = 'Like what you see? Visit the ' +\n",
              "          '<a target=\"_blank\" href=https://colab.research.google.com/notebooks/data_table.ipynb>data table notebook</a>'\n",
              "          + ' to learn more about interactive tables.';\n",
              "        element.innerHTML = '';\n",
              "        dataTable['output_type'] = 'display_data';\n",
              "        await google.colab.output.renderOutput(dataTable, element);\n",
              "        const docLink = document.createElement('div');\n",
              "        docLink.innerHTML = docLinkHtml;\n",
              "        element.appendChild(docLink);\n",
              "      }\n",
              "    </script>\n",
              "  </div>\n",
              "\n",
              "\n",
              "    <div id=\"df-5661425d-3435-4983-bd37-ba5fcd8d69ab\">\n",
              "      <button class=\"colab-df-quickchart\" onclick=\"quickchart('df-5661425d-3435-4983-bd37-ba5fcd8d69ab')\"\n",
              "                title=\"Suggest charts\"\n",
              "                style=\"display:none;\">\n",
              "\n",
              "<svg xmlns=\"http://www.w3.org/2000/svg\" height=\"24px\"viewBox=\"0 0 24 24\"\n",
              "     width=\"24px\">\n",
              "    <g>\n",
              "        <path d=\"M19 3H5c-1.1 0-2 .9-2 2v14c0 1.1.9 2 2 2h14c1.1 0 2-.9 2-2V5c0-1.1-.9-2-2-2zM9 17H7v-7h2v7zm4 0h-2V7h2v10zm4 0h-2v-4h2v4z\"/>\n",
              "    </g>\n",
              "</svg>\n",
              "      </button>\n",
              "\n",
              "<style>\n",
              "  .colab-df-quickchart {\n",
              "      --bg-color: #E8F0FE;\n",
              "      --fill-color: #1967D2;\n",
              "      --hover-bg-color: #E2EBFA;\n",
              "      --hover-fill-color: #174EA6;\n",
              "      --disabled-fill-color: #AAA;\n",
              "      --disabled-bg-color: #DDD;\n",
              "  }\n",
              "\n",
              "  [theme=dark] .colab-df-quickchart {\n",
              "      --bg-color: #3B4455;\n",
              "      --fill-color: #D2E3FC;\n",
              "      --hover-bg-color: #434B5C;\n",
              "      --hover-fill-color: #FFFFFF;\n",
              "      --disabled-bg-color: #3B4455;\n",
              "      --disabled-fill-color: #666;\n",
              "  }\n",
              "\n",
              "  .colab-df-quickchart {\n",
              "    background-color: var(--bg-color);\n",
              "    border: none;\n",
              "    border-radius: 50%;\n",
              "    cursor: pointer;\n",
              "    display: none;\n",
              "    fill: var(--fill-color);\n",
              "    height: 32px;\n",
              "    padding: 0;\n",
              "    width: 32px;\n",
              "  }\n",
              "\n",
              "  .colab-df-quickchart:hover {\n",
              "    background-color: var(--hover-bg-color);\n",
              "    box-shadow: 0 1px 2px rgba(60, 64, 67, 0.3), 0 1px 3px 1px rgba(60, 64, 67, 0.15);\n",
              "    fill: var(--button-hover-fill-color);\n",
              "  }\n",
              "\n",
              "  .colab-df-quickchart-complete:disabled,\n",
              "  .colab-df-quickchart-complete:disabled:hover {\n",
              "    background-color: var(--disabled-bg-color);\n",
              "    fill: var(--disabled-fill-color);\n",
              "    box-shadow: none;\n",
              "  }\n",
              "\n",
              "  .colab-df-spinner {\n",
              "    border: 2px solid var(--fill-color);\n",
              "    border-color: transparent;\n",
              "    border-bottom-color: var(--fill-color);\n",
              "    animation:\n",
              "      spin 1s steps(1) infinite;\n",
              "  }\n",
              "\n",
              "  @keyframes spin {\n",
              "    0% {\n",
              "      border-color: transparent;\n",
              "      border-bottom-color: var(--fill-color);\n",
              "      border-left-color: var(--fill-color);\n",
              "    }\n",
              "    20% {\n",
              "      border-color: transparent;\n",
              "      border-left-color: var(--fill-color);\n",
              "      border-top-color: var(--fill-color);\n",
              "    }\n",
              "    30% {\n",
              "      border-color: transparent;\n",
              "      border-left-color: var(--fill-color);\n",
              "      border-top-color: var(--fill-color);\n",
              "      border-right-color: var(--fill-color);\n",
              "    }\n",
              "    40% {\n",
              "      border-color: transparent;\n",
              "      border-right-color: var(--fill-color);\n",
              "      border-top-color: var(--fill-color);\n",
              "    }\n",
              "    60% {\n",
              "      border-color: transparent;\n",
              "      border-right-color: var(--fill-color);\n",
              "    }\n",
              "    80% {\n",
              "      border-color: transparent;\n",
              "      border-right-color: var(--fill-color);\n",
              "      border-bottom-color: var(--fill-color);\n",
              "    }\n",
              "    90% {\n",
              "      border-color: transparent;\n",
              "      border-bottom-color: var(--fill-color);\n",
              "    }\n",
              "  }\n",
              "</style>\n",
              "\n",
              "      <script>\n",
              "        async function quickchart(key) {\n",
              "          const quickchartButtonEl =\n",
              "            document.querySelector('#' + key + ' button');\n",
              "          quickchartButtonEl.disabled = true;  // To prevent multiple clicks.\n",
              "          quickchartButtonEl.classList.add('colab-df-spinner');\n",
              "          try {\n",
              "            const charts = await google.colab.kernel.invokeFunction(\n",
              "                'suggestCharts', [key], {});\n",
              "          } catch (error) {\n",
              "            console.error('Error during call to suggestCharts:', error);\n",
              "          }\n",
              "          quickchartButtonEl.classList.remove('colab-df-spinner');\n",
              "          quickchartButtonEl.classList.add('colab-df-quickchart-complete');\n",
              "        }\n",
              "        (() => {\n",
              "          let quickchartButtonEl =\n",
              "            document.querySelector('#df-5661425d-3435-4983-bd37-ba5fcd8d69ab button');\n",
              "          quickchartButtonEl.style.display =\n",
              "            google.colab.kernel.accessAllowed ? 'block' : 'none';\n",
              "        })();\n",
              "      </script>\n",
              "    </div>\n",
              "\n",
              "    </div>\n",
              "  </div>\n"
            ],
            "application/vnd.google.colaboratory.intrinsic+json": {
              "type": "dataframe",
              "variable_name": "df_b",
              "summary": "{\n  \"name\": \"df_b\",\n  \"rows\": 601,\n  \"fields\": [\n    {\n      \"column\": \"year\",\n      \"properties\": {\n        \"dtype\": \"number\",\n        \"std\": 1,\n        \"min\": 2016,\n        \"max\": 2020,\n        \"num_unique_values\": 5,\n        \"samples\": [\n          2017,\n          2020,\n          2018\n        ],\n        \"semantic_type\": \"\",\n        \"description\": \"\"\n      }\n    },\n    {\n      \"column\": \"nominee\",\n      \"properties\": {\n        \"dtype\": \"string\",\n        \"num_unique_values\": 352,\n        \"samples\": [\n          \"First Man\",\n          \"I, Daniel Blake\",\n          \"Star Wars: The Force Awakens\"\n        ],\n        \"semantic_type\": \"\",\n        \"description\": \"\"\n      }\n    },\n    {\n      \"column\": \"winner\",\n      \"properties\": {\n        \"dtype\": \"boolean\",\n        \"num_unique_values\": 2,\n        \"samples\": [\n          false,\n          true\n        ],\n        \"semantic_type\": \"\",\n        \"description\": \"\"\n      }\n    }\n  ]\n}"
            }
          },
          "metadata": {},
          "execution_count": 9
        }
      ],
      "source": [
        "#BAFTA Awards\n",
        "import pandas as pd\n",
        "\n",
        "df_b = pd.read_csv('bafta_films.csv')\n",
        "\n",
        "\n",
        "df_b['year'] = pd.to_numeric(df_b['year'], errors='coerce')\n",
        "\n",
        "df_b = df_b[(df_b['year'] >= 2016) & (df_b['year'] <= 2020)]\n",
        "\n",
        "#Drop unnecessary columns\n",
        "df_b = df_b.drop(columns=['category', 'workers'])\n",
        "\n",
        "df_b.head()\n"
      ]
    },
    {
      "cell_type": "code",
      "execution_count": null,
      "metadata": {
        "colab": {
          "base_uri": "https://localhost:8080/",
          "height": 86
        },
        "id": "tlblZYuxrQRq",
        "outputId": "009ae584-ad82-4b26-c454-9c6a3488befe"
      },
      "outputs": [
        {
          "output_type": "display_data",
          "data": {
            "text/plain": [
              "<IPython.core.display.HTML object>"
            ],
            "text/html": [
              "\n",
              "     <input type=\"file\" id=\"files-5059e9fb-800d-4438-8d5c-8b17d301d3a9\" name=\"files[]\" multiple disabled\n",
              "        style=\"border:none\" />\n",
              "     <output id=\"result-5059e9fb-800d-4438-8d5c-8b17d301d3a9\">\n",
              "      Upload widget is only available when the cell has been executed in the\n",
              "      current browser session. Please rerun this cell to enable.\n",
              "      </output>\n",
              "      <script>// Copyright 2017 Google LLC\n",
              "//\n",
              "// Licensed under the Apache License, Version 2.0 (the \"License\");\n",
              "// you may not use this file except in compliance with the License.\n",
              "// You may obtain a copy of the License at\n",
              "//\n",
              "//      http://www.apache.org/licenses/LICENSE-2.0\n",
              "//\n",
              "// Unless required by applicable law or agreed to in writing, software\n",
              "// distributed under the License is distributed on an \"AS IS\" BASIS,\n",
              "// WITHOUT WARRANTIES OR CONDITIONS OF ANY KIND, either express or implied.\n",
              "// See the License for the specific language governing permissions and\n",
              "// limitations under the License.\n",
              "\n",
              "/**\n",
              " * @fileoverview Helpers for google.colab Python module.\n",
              " */\n",
              "(function(scope) {\n",
              "function span(text, styleAttributes = {}) {\n",
              "  const element = document.createElement('span');\n",
              "  element.textContent = text;\n",
              "  for (const key of Object.keys(styleAttributes)) {\n",
              "    element.style[key] = styleAttributes[key];\n",
              "  }\n",
              "  return element;\n",
              "}\n",
              "\n",
              "// Max number of bytes which will be uploaded at a time.\n",
              "const MAX_PAYLOAD_SIZE = 100 * 1024;\n",
              "\n",
              "function _uploadFiles(inputId, outputId) {\n",
              "  const steps = uploadFilesStep(inputId, outputId);\n",
              "  const outputElement = document.getElementById(outputId);\n",
              "  // Cache steps on the outputElement to make it available for the next call\n",
              "  // to uploadFilesContinue from Python.\n",
              "  outputElement.steps = steps;\n",
              "\n",
              "  return _uploadFilesContinue(outputId);\n",
              "}\n",
              "\n",
              "// This is roughly an async generator (not supported in the browser yet),\n",
              "// where there are multiple asynchronous steps and the Python side is going\n",
              "// to poll for completion of each step.\n",
              "// This uses a Promise to block the python side on completion of each step,\n",
              "// then passes the result of the previous step as the input to the next step.\n",
              "function _uploadFilesContinue(outputId) {\n",
              "  const outputElement = document.getElementById(outputId);\n",
              "  const steps = outputElement.steps;\n",
              "\n",
              "  const next = steps.next(outputElement.lastPromiseValue);\n",
              "  return Promise.resolve(next.value.promise).then((value) => {\n",
              "    // Cache the last promise value to make it available to the next\n",
              "    // step of the generator.\n",
              "    outputElement.lastPromiseValue = value;\n",
              "    return next.value.response;\n",
              "  });\n",
              "}\n",
              "\n",
              "/**\n",
              " * Generator function which is called between each async step of the upload\n",
              " * process.\n",
              " * @param {string} inputId Element ID of the input file picker element.\n",
              " * @param {string} outputId Element ID of the output display.\n",
              " * @return {!Iterable<!Object>} Iterable of next steps.\n",
              " */\n",
              "function* uploadFilesStep(inputId, outputId) {\n",
              "  const inputElement = document.getElementById(inputId);\n",
              "  inputElement.disabled = false;\n",
              "\n",
              "  const outputElement = document.getElementById(outputId);\n",
              "  outputElement.innerHTML = '';\n",
              "\n",
              "  const pickedPromise = new Promise((resolve) => {\n",
              "    inputElement.addEventListener('change', (e) => {\n",
              "      resolve(e.target.files);\n",
              "    });\n",
              "  });\n",
              "\n",
              "  const cancel = document.createElement('button');\n",
              "  inputElement.parentElement.appendChild(cancel);\n",
              "  cancel.textContent = 'Cancel upload';\n",
              "  const cancelPromise = new Promise((resolve) => {\n",
              "    cancel.onclick = () => {\n",
              "      resolve(null);\n",
              "    };\n",
              "  });\n",
              "\n",
              "  // Wait for the user to pick the files.\n",
              "  const files = yield {\n",
              "    promise: Promise.race([pickedPromise, cancelPromise]),\n",
              "    response: {\n",
              "      action: 'starting',\n",
              "    }\n",
              "  };\n",
              "\n",
              "  cancel.remove();\n",
              "\n",
              "  // Disable the input element since further picks are not allowed.\n",
              "  inputElement.disabled = true;\n",
              "\n",
              "  if (!files) {\n",
              "    return {\n",
              "      response: {\n",
              "        action: 'complete',\n",
              "      }\n",
              "    };\n",
              "  }\n",
              "\n",
              "  for (const file of files) {\n",
              "    const li = document.createElement('li');\n",
              "    li.append(span(file.name, {fontWeight: 'bold'}));\n",
              "    li.append(span(\n",
              "        `(${file.type || 'n/a'}) - ${file.size} bytes, ` +\n",
              "        `last modified: ${\n",
              "            file.lastModifiedDate ? file.lastModifiedDate.toLocaleDateString() :\n",
              "                                    'n/a'} - `));\n",
              "    const percent = span('0% done');\n",
              "    li.appendChild(percent);\n",
              "\n",
              "    outputElement.appendChild(li);\n",
              "\n",
              "    const fileDataPromise = new Promise((resolve) => {\n",
              "      const reader = new FileReader();\n",
              "      reader.onload = (e) => {\n",
              "        resolve(e.target.result);\n",
              "      };\n",
              "      reader.readAsArrayBuffer(file);\n",
              "    });\n",
              "    // Wait for the data to be ready.\n",
              "    let fileData = yield {\n",
              "      promise: fileDataPromise,\n",
              "      response: {\n",
              "        action: 'continue',\n",
              "      }\n",
              "    };\n",
              "\n",
              "    // Use a chunked sending to avoid message size limits. See b/62115660.\n",
              "    let position = 0;\n",
              "    do {\n",
              "      const length = Math.min(fileData.byteLength - position, MAX_PAYLOAD_SIZE);\n",
              "      const chunk = new Uint8Array(fileData, position, length);\n",
              "      position += length;\n",
              "\n",
              "      const base64 = btoa(String.fromCharCode.apply(null, chunk));\n",
              "      yield {\n",
              "        response: {\n",
              "          action: 'append',\n",
              "          file: file.name,\n",
              "          data: base64,\n",
              "        },\n",
              "      };\n",
              "\n",
              "      let percentDone = fileData.byteLength === 0 ?\n",
              "          100 :\n",
              "          Math.round((position / fileData.byteLength) * 100);\n",
              "      percent.textContent = `${percentDone}% done`;\n",
              "\n",
              "    } while (position < fileData.byteLength);\n",
              "  }\n",
              "\n",
              "  // All done.\n",
              "  yield {\n",
              "    response: {\n",
              "      action: 'complete',\n",
              "    }\n",
              "  };\n",
              "}\n",
              "\n",
              "scope.google = scope.google || {};\n",
              "scope.google.colab = scope.google.colab || {};\n",
              "scope.google.colab._files = {\n",
              "  _uploadFiles,\n",
              "  _uploadFilesContinue,\n",
              "};\n",
              "})(self);\n",
              "</script> "
            ]
          },
          "metadata": {}
        },
        {
          "output_type": "stream",
          "name": "stdout",
          "text": [
            "Saving kaggle (1).json to kaggle (1).json\n"
          ]
        },
        {
          "output_type": "execute_result",
          "data": {
            "text/plain": [
              "{'kaggle (1).json': b'{\"username\":\"oykudemirell\",\"key\":\"ebf90736d0540d12a0d387475a61f434\"}'}"
            ]
          },
          "metadata": {},
          "execution_count": 10
        }
      ],
      "source": [
        "from google.colab import files\n",
        "files.upload()\n"
      ]
    },
    {
      "cell_type": "code",
      "execution_count": null,
      "metadata": {
        "id": "K2NG7U_nrUTq"
      },
      "outputs": [],
      "source": [
        "!pip install -q kaggle\n",
        "\n",
        "!mkdir -p ~/.kaggle\n",
        "!cp \"kaggle (1).json\" ~/.kaggle/\n",
        "!chmod 600 ~/.kaggle/kaggle.json\n"
      ]
    },
    {
      "cell_type": "code",
      "execution_count": null,
      "metadata": {
        "colab": {
          "base_uri": "https://localhost:8080/"
        },
        "id": "Xt4IVQwZrWkv",
        "outputId": "376b5e7d-1a88-4bea-dc4e-5d24b9d02327"
      },
      "outputs": [
        {
          "output_type": "stream",
          "name": "stdout",
          "text": [
            "Dataset URL: https://www.kaggle.com/datasets/unanimad/golden-globe-awards\n",
            "License(s): CC0-1.0\n",
            "Downloading golden-globe-awards.zip to /content\n",
            "  0% 0.00/117k [00:00<?, ?B/s]\n",
            "100% 117k/117k [00:00<00:00, 82.6MB/s]\n",
            "Archive:  golden-globe-awards.zip\n",
            "  inflating: golden_globe_awards.csv  \n",
            " bafta-awards.zip\t   golden-globe-awards.zip   sample_data\n",
            " bafta_films.csv\t  'kaggle (1).json'\t     tmdb_movies_2016_2020.csv\n",
            " golden_globe_awards.csv   kaggle.json\n"
          ]
        }
      ],
      "source": [
        "!kaggle datasets download -d unanimad/golden-globe-awards\n",
        "!unzip -o golden-globe-awards.zip\n",
        "!ls\n"
      ]
    },
    {
      "cell_type": "code",
      "execution_count": null,
      "metadata": {
        "colab": {
          "base_uri": "https://localhost:8080/",
          "height": 204
        },
        "id": "doxmmFsvrZFI",
        "outputId": "e31b9ca1-3503-4ff3-9183-d62927c77724"
      },
      "outputs": [
        {
          "output_type": "execute_result",
          "data": {
            "text/plain": [
              "      year_film         film    win\n",
              "7494       2016         Elle   True\n",
              "7495       2016      Arrival  False\n",
              "7496       2016  Miss Sloane  False\n",
              "7497       2016       Loving  False\n",
              "7498       2016       Jackie  False"
            ],
            "text/html": [
              "\n",
              "  <div id=\"df-bdf40bca-4701-4e7f-aae5-d22b2ac46130\" class=\"colab-df-container\">\n",
              "    <div>\n",
              "<style scoped>\n",
              "    .dataframe tbody tr th:only-of-type {\n",
              "        vertical-align: middle;\n",
              "    }\n",
              "\n",
              "    .dataframe tbody tr th {\n",
              "        vertical-align: top;\n",
              "    }\n",
              "\n",
              "    .dataframe thead th {\n",
              "        text-align: right;\n",
              "    }\n",
              "</style>\n",
              "<table border=\"1\" class=\"dataframe\">\n",
              "  <thead>\n",
              "    <tr style=\"text-align: right;\">\n",
              "      <th></th>\n",
              "      <th>year_film</th>\n",
              "      <th>film</th>\n",
              "      <th>win</th>\n",
              "    </tr>\n",
              "  </thead>\n",
              "  <tbody>\n",
              "    <tr>\n",
              "      <th>7494</th>\n",
              "      <td>2016</td>\n",
              "      <td>Elle</td>\n",
              "      <td>True</td>\n",
              "    </tr>\n",
              "    <tr>\n",
              "      <th>7495</th>\n",
              "      <td>2016</td>\n",
              "      <td>Arrival</td>\n",
              "      <td>False</td>\n",
              "    </tr>\n",
              "    <tr>\n",
              "      <th>7496</th>\n",
              "      <td>2016</td>\n",
              "      <td>Miss Sloane</td>\n",
              "      <td>False</td>\n",
              "    </tr>\n",
              "    <tr>\n",
              "      <th>7497</th>\n",
              "      <td>2016</td>\n",
              "      <td>Loving</td>\n",
              "      <td>False</td>\n",
              "    </tr>\n",
              "    <tr>\n",
              "      <th>7498</th>\n",
              "      <td>2016</td>\n",
              "      <td>Jackie</td>\n",
              "      <td>False</td>\n",
              "    </tr>\n",
              "  </tbody>\n",
              "</table>\n",
              "</div>\n",
              "    <div class=\"colab-df-buttons\">\n",
              "\n",
              "  <div class=\"colab-df-container\">\n",
              "    <button class=\"colab-df-convert\" onclick=\"convertToInteractive('df-bdf40bca-4701-4e7f-aae5-d22b2ac46130')\"\n",
              "            title=\"Convert this dataframe to an interactive table.\"\n",
              "            style=\"display:none;\">\n",
              "\n",
              "  <svg xmlns=\"http://www.w3.org/2000/svg\" height=\"24px\" viewBox=\"0 -960 960 960\">\n",
              "    <path d=\"M120-120v-720h720v720H120Zm60-500h600v-160H180v160Zm220 220h160v-160H400v160Zm0 220h160v-160H400v160ZM180-400h160v-160H180v160Zm440 0h160v-160H620v160ZM180-180h160v-160H180v160Zm440 0h160v-160H620v160Z\"/>\n",
              "  </svg>\n",
              "    </button>\n",
              "\n",
              "  <style>\n",
              "    .colab-df-container {\n",
              "      display:flex;\n",
              "      gap: 12px;\n",
              "    }\n",
              "\n",
              "    .colab-df-convert {\n",
              "      background-color: #E8F0FE;\n",
              "      border: none;\n",
              "      border-radius: 50%;\n",
              "      cursor: pointer;\n",
              "      display: none;\n",
              "      fill: #1967D2;\n",
              "      height: 32px;\n",
              "      padding: 0 0 0 0;\n",
              "      width: 32px;\n",
              "    }\n",
              "\n",
              "    .colab-df-convert:hover {\n",
              "      background-color: #E2EBFA;\n",
              "      box-shadow: 0px 1px 2px rgba(60, 64, 67, 0.3), 0px 1px 3px 1px rgba(60, 64, 67, 0.15);\n",
              "      fill: #174EA6;\n",
              "    }\n",
              "\n",
              "    .colab-df-buttons div {\n",
              "      margin-bottom: 4px;\n",
              "    }\n",
              "\n",
              "    [theme=dark] .colab-df-convert {\n",
              "      background-color: #3B4455;\n",
              "      fill: #D2E3FC;\n",
              "    }\n",
              "\n",
              "    [theme=dark] .colab-df-convert:hover {\n",
              "      background-color: #434B5C;\n",
              "      box-shadow: 0px 1px 3px 1px rgba(0, 0, 0, 0.15);\n",
              "      filter: drop-shadow(0px 1px 2px rgba(0, 0, 0, 0.3));\n",
              "      fill: #FFFFFF;\n",
              "    }\n",
              "  </style>\n",
              "\n",
              "    <script>\n",
              "      const buttonEl =\n",
              "        document.querySelector('#df-bdf40bca-4701-4e7f-aae5-d22b2ac46130 button.colab-df-convert');\n",
              "      buttonEl.style.display =\n",
              "        google.colab.kernel.accessAllowed ? 'block' : 'none';\n",
              "\n",
              "      async function convertToInteractive(key) {\n",
              "        const element = document.querySelector('#df-bdf40bca-4701-4e7f-aae5-d22b2ac46130');\n",
              "        const dataTable =\n",
              "          await google.colab.kernel.invokeFunction('convertToInteractive',\n",
              "                                                    [key], {});\n",
              "        if (!dataTable) return;\n",
              "\n",
              "        const docLinkHtml = 'Like what you see? Visit the ' +\n",
              "          '<a target=\"_blank\" href=https://colab.research.google.com/notebooks/data_table.ipynb>data table notebook</a>'\n",
              "          + ' to learn more about interactive tables.';\n",
              "        element.innerHTML = '';\n",
              "        dataTable['output_type'] = 'display_data';\n",
              "        await google.colab.output.renderOutput(dataTable, element);\n",
              "        const docLink = document.createElement('div');\n",
              "        docLink.innerHTML = docLinkHtml;\n",
              "        element.appendChild(docLink);\n",
              "      }\n",
              "    </script>\n",
              "  </div>\n",
              "\n",
              "\n",
              "    <div id=\"df-4a074354-8064-4e24-bd37-6f9518e73a51\">\n",
              "      <button class=\"colab-df-quickchart\" onclick=\"quickchart('df-4a074354-8064-4e24-bd37-6f9518e73a51')\"\n",
              "                title=\"Suggest charts\"\n",
              "                style=\"display:none;\">\n",
              "\n",
              "<svg xmlns=\"http://www.w3.org/2000/svg\" height=\"24px\"viewBox=\"0 0 24 24\"\n",
              "     width=\"24px\">\n",
              "    <g>\n",
              "        <path d=\"M19 3H5c-1.1 0-2 .9-2 2v14c0 1.1.9 2 2 2h14c1.1 0 2-.9 2-2V5c0-1.1-.9-2-2-2zM9 17H7v-7h2v7zm4 0h-2V7h2v10zm4 0h-2v-4h2v4z\"/>\n",
              "    </g>\n",
              "</svg>\n",
              "      </button>\n",
              "\n",
              "<style>\n",
              "  .colab-df-quickchart {\n",
              "      --bg-color: #E8F0FE;\n",
              "      --fill-color: #1967D2;\n",
              "      --hover-bg-color: #E2EBFA;\n",
              "      --hover-fill-color: #174EA6;\n",
              "      --disabled-fill-color: #AAA;\n",
              "      --disabled-bg-color: #DDD;\n",
              "  }\n",
              "\n",
              "  [theme=dark] .colab-df-quickchart {\n",
              "      --bg-color: #3B4455;\n",
              "      --fill-color: #D2E3FC;\n",
              "      --hover-bg-color: #434B5C;\n",
              "      --hover-fill-color: #FFFFFF;\n",
              "      --disabled-bg-color: #3B4455;\n",
              "      --disabled-fill-color: #666;\n",
              "  }\n",
              "\n",
              "  .colab-df-quickchart {\n",
              "    background-color: var(--bg-color);\n",
              "    border: none;\n",
              "    border-radius: 50%;\n",
              "    cursor: pointer;\n",
              "    display: none;\n",
              "    fill: var(--fill-color);\n",
              "    height: 32px;\n",
              "    padding: 0;\n",
              "    width: 32px;\n",
              "  }\n",
              "\n",
              "  .colab-df-quickchart:hover {\n",
              "    background-color: var(--hover-bg-color);\n",
              "    box-shadow: 0 1px 2px rgba(60, 64, 67, 0.3), 0 1px 3px 1px rgba(60, 64, 67, 0.15);\n",
              "    fill: var(--button-hover-fill-color);\n",
              "  }\n",
              "\n",
              "  .colab-df-quickchart-complete:disabled,\n",
              "  .colab-df-quickchart-complete:disabled:hover {\n",
              "    background-color: var(--disabled-bg-color);\n",
              "    fill: var(--disabled-fill-color);\n",
              "    box-shadow: none;\n",
              "  }\n",
              "\n",
              "  .colab-df-spinner {\n",
              "    border: 2px solid var(--fill-color);\n",
              "    border-color: transparent;\n",
              "    border-bottom-color: var(--fill-color);\n",
              "    animation:\n",
              "      spin 1s steps(1) infinite;\n",
              "  }\n",
              "\n",
              "  @keyframes spin {\n",
              "    0% {\n",
              "      border-color: transparent;\n",
              "      border-bottom-color: var(--fill-color);\n",
              "      border-left-color: var(--fill-color);\n",
              "    }\n",
              "    20% {\n",
              "      border-color: transparent;\n",
              "      border-left-color: var(--fill-color);\n",
              "      border-top-color: var(--fill-color);\n",
              "    }\n",
              "    30% {\n",
              "      border-color: transparent;\n",
              "      border-left-color: var(--fill-color);\n",
              "      border-top-color: var(--fill-color);\n",
              "      border-right-color: var(--fill-color);\n",
              "    }\n",
              "    40% {\n",
              "      border-color: transparent;\n",
              "      border-right-color: var(--fill-color);\n",
              "      border-top-color: var(--fill-color);\n",
              "    }\n",
              "    60% {\n",
              "      border-color: transparent;\n",
              "      border-right-color: var(--fill-color);\n",
              "    }\n",
              "    80% {\n",
              "      border-color: transparent;\n",
              "      border-right-color: var(--fill-color);\n",
              "      border-bottom-color: var(--fill-color);\n",
              "    }\n",
              "    90% {\n",
              "      border-color: transparent;\n",
              "      border-bottom-color: var(--fill-color);\n",
              "    }\n",
              "  }\n",
              "</style>\n",
              "\n",
              "      <script>\n",
              "        async function quickchart(key) {\n",
              "          const quickchartButtonEl =\n",
              "            document.querySelector('#' + key + ' button');\n",
              "          quickchartButtonEl.disabled = true;  // To prevent multiple clicks.\n",
              "          quickchartButtonEl.classList.add('colab-df-spinner');\n",
              "          try {\n",
              "            const charts = await google.colab.kernel.invokeFunction(\n",
              "                'suggestCharts', [key], {});\n",
              "          } catch (error) {\n",
              "            console.error('Error during call to suggestCharts:', error);\n",
              "          }\n",
              "          quickchartButtonEl.classList.remove('colab-df-spinner');\n",
              "          quickchartButtonEl.classList.add('colab-df-quickchart-complete');\n",
              "        }\n",
              "        (() => {\n",
              "          let quickchartButtonEl =\n",
              "            document.querySelector('#df-4a074354-8064-4e24-bd37-6f9518e73a51 button');\n",
              "          quickchartButtonEl.style.display =\n",
              "            google.colab.kernel.accessAllowed ? 'block' : 'none';\n",
              "        })();\n",
              "      </script>\n",
              "    </div>\n",
              "\n",
              "    </div>\n",
              "  </div>\n"
            ],
            "application/vnd.google.colaboratory.intrinsic+json": {
              "type": "dataframe",
              "variable_name": "df_gg",
              "summary": "{\n  \"name\": \"df_gg\",\n  \"rows\": 381,\n  \"fields\": [\n    {\n      \"column\": \"year_film\",\n      \"properties\": {\n        \"dtype\": \"number\",\n        \"std\": 1,\n        \"min\": 2016,\n        \"max\": 2019,\n        \"num_unique_values\": 4,\n        \"samples\": [\n          2017,\n          2019,\n          2016\n        ],\n        \"semantic_type\": \"\",\n        \"description\": \"\"\n      }\n    },\n    {\n      \"column\": \"film\",\n      \"properties\": {\n        \"dtype\": \"string\",\n        \"num_unique_values\": 213,\n        \"samples\": [\n          \"La La Land\",\n          \"Fosse/Verdon\",\n          \"Call Me By Your Name\"\n        ],\n        \"semantic_type\": \"\",\n        \"description\": \"\"\n      }\n    },\n    {\n      \"column\": \"win\",\n      \"properties\": {\n        \"dtype\": \"boolean\",\n        \"num_unique_values\": 2,\n        \"samples\": [\n          false,\n          true\n        ],\n        \"semantic_type\": \"\",\n        \"description\": \"\"\n      }\n    }\n  ]\n}"
            }
          },
          "metadata": {},
          "execution_count": 13
        }
      ],
      "source": [
        "#Golden Globe Awards\n",
        "import pandas as pd\n",
        "\n",
        "\n",
        "df_gg = pd.read_csv('golden_globe_awards.csv')\n",
        "\n",
        "# Filter by year and drop unnecessary columns\n",
        "df_gg['year_film'] = pd.to_numeric(df_gg['year_film'], errors='coerce')\n",
        "df_gg = df_gg[(df_gg['year_film'] >= 2016) & (df_gg['year_film'] <= 2020)]\n",
        "\n",
        "df_gg = df_gg.dropna(subset=['film'])\n",
        "\n",
        "df_gg = df_gg.drop(columns=['year_award', 'ceremony', 'category', 'nominee'])\n",
        "\n",
        "\n",
        "df_gg.head()\n"
      ]
    },
    {
      "cell_type": "code",
      "execution_count": null,
      "metadata": {
        "colab": {
          "base_uri": "https://localhost:8080/",
          "height": 86
        },
        "id": "eJ3x8WhDtmYs",
        "outputId": "41a28e3c-5718-419c-8941-85dbcb38fc42"
      },
      "outputs": [
        {
          "output_type": "display_data",
          "data": {
            "text/plain": [
              "<IPython.core.display.HTML object>"
            ],
            "text/html": [
              "\n",
              "     <input type=\"file\" id=\"files-58829c1b-045d-483e-9ca6-1247b25b11cf\" name=\"files[]\" multiple disabled\n",
              "        style=\"border:none\" />\n",
              "     <output id=\"result-58829c1b-045d-483e-9ca6-1247b25b11cf\">\n",
              "      Upload widget is only available when the cell has been executed in the\n",
              "      current browser session. Please rerun this cell to enable.\n",
              "      </output>\n",
              "      <script>// Copyright 2017 Google LLC\n",
              "//\n",
              "// Licensed under the Apache License, Version 2.0 (the \"License\");\n",
              "// you may not use this file except in compliance with the License.\n",
              "// You may obtain a copy of the License at\n",
              "//\n",
              "//      http://www.apache.org/licenses/LICENSE-2.0\n",
              "//\n",
              "// Unless required by applicable law or agreed to in writing, software\n",
              "// distributed under the License is distributed on an \"AS IS\" BASIS,\n",
              "// WITHOUT WARRANTIES OR CONDITIONS OF ANY KIND, either express or implied.\n",
              "// See the License for the specific language governing permissions and\n",
              "// limitations under the License.\n",
              "\n",
              "/**\n",
              " * @fileoverview Helpers for google.colab Python module.\n",
              " */\n",
              "(function(scope) {\n",
              "function span(text, styleAttributes = {}) {\n",
              "  const element = document.createElement('span');\n",
              "  element.textContent = text;\n",
              "  for (const key of Object.keys(styleAttributes)) {\n",
              "    element.style[key] = styleAttributes[key];\n",
              "  }\n",
              "  return element;\n",
              "}\n",
              "\n",
              "// Max number of bytes which will be uploaded at a time.\n",
              "const MAX_PAYLOAD_SIZE = 100 * 1024;\n",
              "\n",
              "function _uploadFiles(inputId, outputId) {\n",
              "  const steps = uploadFilesStep(inputId, outputId);\n",
              "  const outputElement = document.getElementById(outputId);\n",
              "  // Cache steps on the outputElement to make it available for the next call\n",
              "  // to uploadFilesContinue from Python.\n",
              "  outputElement.steps = steps;\n",
              "\n",
              "  return _uploadFilesContinue(outputId);\n",
              "}\n",
              "\n",
              "// This is roughly an async generator (not supported in the browser yet),\n",
              "// where there are multiple asynchronous steps and the Python side is going\n",
              "// to poll for completion of each step.\n",
              "// This uses a Promise to block the python side on completion of each step,\n",
              "// then passes the result of the previous step as the input to the next step.\n",
              "function _uploadFilesContinue(outputId) {\n",
              "  const outputElement = document.getElementById(outputId);\n",
              "  const steps = outputElement.steps;\n",
              "\n",
              "  const next = steps.next(outputElement.lastPromiseValue);\n",
              "  return Promise.resolve(next.value.promise).then((value) => {\n",
              "    // Cache the last promise value to make it available to the next\n",
              "    // step of the generator.\n",
              "    outputElement.lastPromiseValue = value;\n",
              "    return next.value.response;\n",
              "  });\n",
              "}\n",
              "\n",
              "/**\n",
              " * Generator function which is called between each async step of the upload\n",
              " * process.\n",
              " * @param {string} inputId Element ID of the input file picker element.\n",
              " * @param {string} outputId Element ID of the output display.\n",
              " * @return {!Iterable<!Object>} Iterable of next steps.\n",
              " */\n",
              "function* uploadFilesStep(inputId, outputId) {\n",
              "  const inputElement = document.getElementById(inputId);\n",
              "  inputElement.disabled = false;\n",
              "\n",
              "  const outputElement = document.getElementById(outputId);\n",
              "  outputElement.innerHTML = '';\n",
              "\n",
              "  const pickedPromise = new Promise((resolve) => {\n",
              "    inputElement.addEventListener('change', (e) => {\n",
              "      resolve(e.target.files);\n",
              "    });\n",
              "  });\n",
              "\n",
              "  const cancel = document.createElement('button');\n",
              "  inputElement.parentElement.appendChild(cancel);\n",
              "  cancel.textContent = 'Cancel upload';\n",
              "  const cancelPromise = new Promise((resolve) => {\n",
              "    cancel.onclick = () => {\n",
              "      resolve(null);\n",
              "    };\n",
              "  });\n",
              "\n",
              "  // Wait for the user to pick the files.\n",
              "  const files = yield {\n",
              "    promise: Promise.race([pickedPromise, cancelPromise]),\n",
              "    response: {\n",
              "      action: 'starting',\n",
              "    }\n",
              "  };\n",
              "\n",
              "  cancel.remove();\n",
              "\n",
              "  // Disable the input element since further picks are not allowed.\n",
              "  inputElement.disabled = true;\n",
              "\n",
              "  if (!files) {\n",
              "    return {\n",
              "      response: {\n",
              "        action: 'complete',\n",
              "      }\n",
              "    };\n",
              "  }\n",
              "\n",
              "  for (const file of files) {\n",
              "    const li = document.createElement('li');\n",
              "    li.append(span(file.name, {fontWeight: 'bold'}));\n",
              "    li.append(span(\n",
              "        `(${file.type || 'n/a'}) - ${file.size} bytes, ` +\n",
              "        `last modified: ${\n",
              "            file.lastModifiedDate ? file.lastModifiedDate.toLocaleDateString() :\n",
              "                                    'n/a'} - `));\n",
              "    const percent = span('0% done');\n",
              "    li.appendChild(percent);\n",
              "\n",
              "    outputElement.appendChild(li);\n",
              "\n",
              "    const fileDataPromise = new Promise((resolve) => {\n",
              "      const reader = new FileReader();\n",
              "      reader.onload = (e) => {\n",
              "        resolve(e.target.result);\n",
              "      };\n",
              "      reader.readAsArrayBuffer(file);\n",
              "    });\n",
              "    // Wait for the data to be ready.\n",
              "    let fileData = yield {\n",
              "      promise: fileDataPromise,\n",
              "      response: {\n",
              "        action: 'continue',\n",
              "      }\n",
              "    };\n",
              "\n",
              "    // Use a chunked sending to avoid message size limits. See b/62115660.\n",
              "    let position = 0;\n",
              "    do {\n",
              "      const length = Math.min(fileData.byteLength - position, MAX_PAYLOAD_SIZE);\n",
              "      const chunk = new Uint8Array(fileData, position, length);\n",
              "      position += length;\n",
              "\n",
              "      const base64 = btoa(String.fromCharCode.apply(null, chunk));\n",
              "      yield {\n",
              "        response: {\n",
              "          action: 'append',\n",
              "          file: file.name,\n",
              "          data: base64,\n",
              "        },\n",
              "      };\n",
              "\n",
              "      let percentDone = fileData.byteLength === 0 ?\n",
              "          100 :\n",
              "          Math.round((position / fileData.byteLength) * 100);\n",
              "      percent.textContent = `${percentDone}% done`;\n",
              "\n",
              "    } while (position < fileData.byteLength);\n",
              "  }\n",
              "\n",
              "  // All done.\n",
              "  yield {\n",
              "    response: {\n",
              "      action: 'complete',\n",
              "    }\n",
              "  };\n",
              "}\n",
              "\n",
              "scope.google = scope.google || {};\n",
              "scope.google.colab = scope.google.colab || {};\n",
              "scope.google.colab._files = {\n",
              "  _uploadFiles,\n",
              "  _uploadFilesContinue,\n",
              "};\n",
              "})(self);\n",
              "</script> "
            ]
          },
          "metadata": {}
        },
        {
          "output_type": "stream",
          "name": "stdout",
          "text": [
            "Saving kaggle (2).json to kaggle (2).json\n"
          ]
        },
        {
          "output_type": "execute_result",
          "data": {
            "text/plain": [
              "{'kaggle (2).json': b'{\"username\":\"oykudemirell\",\"key\":\"24fc20083ed3bb7604f8159dd18baa8c\"}'}"
            ]
          },
          "metadata": {},
          "execution_count": 14
        }
      ],
      "source": [
        "from google.colab import files\n",
        "files.upload()"
      ]
    },
    {
      "cell_type": "code",
      "execution_count": null,
      "metadata": {
        "id": "JtGjUAKUtvLJ"
      },
      "outputs": [],
      "source": [
        "!mkdir -p ~/.kaggle\n",
        "!cp \"kaggle (2).json\" ~/.kaggle/kaggle.json\n",
        "!chmod 600 ~/.kaggle/kaggle.json\n",
        "!pip install -q kaggle\n"
      ]
    },
    {
      "cell_type": "code",
      "execution_count": null,
      "metadata": {
        "colab": {
          "base_uri": "https://localhost:8080/"
        },
        "id": "zsafgbwOt2LT",
        "outputId": "46052012-9c52-4967-98c8-d872911f9669"
      },
      "outputs": [
        {
          "output_type": "stream",
          "name": "stdout",
          "text": [
            "Dataset URL: https://www.kaggle.com/datasets/unanimad/the-oscar-award\n",
            "License(s): CC0-1.0\n",
            "Downloading the-oscar-award.zip to /content\n",
            "  0% 0.00/746k [00:00<?, ?B/s]\n",
            "100% 746k/746k [00:00<00:00, 657MB/s]\n",
            "Archive:  the-oscar-award.zip\n",
            "  inflating: full_data.csv           \n",
            "  inflating: the_oscar_award.csv     \n",
            " bafta-awards.zip\t   golden-globe-awards.zip   sample_data\n",
            " bafta_films.csv\t  'kaggle (1).json'\t     the_oscar_award.csv\n",
            " full_data.csv\t\t  'kaggle (2).json'\t     the-oscar-award.zip\n",
            " golden_globe_awards.csv   kaggle.json\t\t     tmdb_movies_2016_2020.csv\n"
          ]
        }
      ],
      "source": [
        "!kaggle datasets download -d unanimad/the-oscar-award\n",
        "!unzip -o the-oscar-award.zip\n",
        "!ls\n"
      ]
    },
    {
      "cell_type": "code",
      "execution_count": null,
      "metadata": {
        "colab": {
          "base_uri": "https://localhost:8080/",
          "height": 204
        },
        "id": "kj5zSQeBumpq",
        "outputId": "39d703a7-3aae-4902-f83c-65f301b11e5a"
      },
      "outputs": [
        {
          "output_type": "execute_result",
          "data": {
            "text/plain": [
              "      year_film                   film  winner\n",
              "9984       2016  Manchester by the Sea    True\n",
              "9985       2016          Hacksaw Ridge   False\n",
              "9986       2016             La La Land   False\n",
              "9987       2016      Captain Fantastic   False\n",
              "9988       2016                 Fences   False"
            ],
            "text/html": [
              "\n",
              "  <div id=\"df-8112c6e1-f597-443b-8f9f-1999d2af3676\" class=\"colab-df-container\">\n",
              "    <div>\n",
              "<style scoped>\n",
              "    .dataframe tbody tr th:only-of-type {\n",
              "        vertical-align: middle;\n",
              "    }\n",
              "\n",
              "    .dataframe tbody tr th {\n",
              "        vertical-align: top;\n",
              "    }\n",
              "\n",
              "    .dataframe thead th {\n",
              "        text-align: right;\n",
              "    }\n",
              "</style>\n",
              "<table border=\"1\" class=\"dataframe\">\n",
              "  <thead>\n",
              "    <tr style=\"text-align: right;\">\n",
              "      <th></th>\n",
              "      <th>year_film</th>\n",
              "      <th>film</th>\n",
              "      <th>winner</th>\n",
              "    </tr>\n",
              "  </thead>\n",
              "  <tbody>\n",
              "    <tr>\n",
              "      <th>9984</th>\n",
              "      <td>2016</td>\n",
              "      <td>Manchester by the Sea</td>\n",
              "      <td>True</td>\n",
              "    </tr>\n",
              "    <tr>\n",
              "      <th>9985</th>\n",
              "      <td>2016</td>\n",
              "      <td>Hacksaw Ridge</td>\n",
              "      <td>False</td>\n",
              "    </tr>\n",
              "    <tr>\n",
              "      <th>9986</th>\n",
              "      <td>2016</td>\n",
              "      <td>La La Land</td>\n",
              "      <td>False</td>\n",
              "    </tr>\n",
              "    <tr>\n",
              "      <th>9987</th>\n",
              "      <td>2016</td>\n",
              "      <td>Captain Fantastic</td>\n",
              "      <td>False</td>\n",
              "    </tr>\n",
              "    <tr>\n",
              "      <th>9988</th>\n",
              "      <td>2016</td>\n",
              "      <td>Fences</td>\n",
              "      <td>False</td>\n",
              "    </tr>\n",
              "  </tbody>\n",
              "</table>\n",
              "</div>\n",
              "    <div class=\"colab-df-buttons\">\n",
              "\n",
              "  <div class=\"colab-df-container\">\n",
              "    <button class=\"colab-df-convert\" onclick=\"convertToInteractive('df-8112c6e1-f597-443b-8f9f-1999d2af3676')\"\n",
              "            title=\"Convert this dataframe to an interactive table.\"\n",
              "            style=\"display:none;\">\n",
              "\n",
              "  <svg xmlns=\"http://www.w3.org/2000/svg\" height=\"24px\" viewBox=\"0 -960 960 960\">\n",
              "    <path d=\"M120-120v-720h720v720H120Zm60-500h600v-160H180v160Zm220 220h160v-160H400v160Zm0 220h160v-160H400v160ZM180-400h160v-160H180v160Zm440 0h160v-160H620v160ZM180-180h160v-160H180v160Zm440 0h160v-160H620v160Z\"/>\n",
              "  </svg>\n",
              "    </button>\n",
              "\n",
              "  <style>\n",
              "    .colab-df-container {\n",
              "      display:flex;\n",
              "      gap: 12px;\n",
              "    }\n",
              "\n",
              "    .colab-df-convert {\n",
              "      background-color: #E8F0FE;\n",
              "      border: none;\n",
              "      border-radius: 50%;\n",
              "      cursor: pointer;\n",
              "      display: none;\n",
              "      fill: #1967D2;\n",
              "      height: 32px;\n",
              "      padding: 0 0 0 0;\n",
              "      width: 32px;\n",
              "    }\n",
              "\n",
              "    .colab-df-convert:hover {\n",
              "      background-color: #E2EBFA;\n",
              "      box-shadow: 0px 1px 2px rgba(60, 64, 67, 0.3), 0px 1px 3px 1px rgba(60, 64, 67, 0.15);\n",
              "      fill: #174EA6;\n",
              "    }\n",
              "\n",
              "    .colab-df-buttons div {\n",
              "      margin-bottom: 4px;\n",
              "    }\n",
              "\n",
              "    [theme=dark] .colab-df-convert {\n",
              "      background-color: #3B4455;\n",
              "      fill: #D2E3FC;\n",
              "    }\n",
              "\n",
              "    [theme=dark] .colab-df-convert:hover {\n",
              "      background-color: #434B5C;\n",
              "      box-shadow: 0px 1px 3px 1px rgba(0, 0, 0, 0.15);\n",
              "      filter: drop-shadow(0px 1px 2px rgba(0, 0, 0, 0.3));\n",
              "      fill: #FFFFFF;\n",
              "    }\n",
              "  </style>\n",
              "\n",
              "    <script>\n",
              "      const buttonEl =\n",
              "        document.querySelector('#df-8112c6e1-f597-443b-8f9f-1999d2af3676 button.colab-df-convert');\n",
              "      buttonEl.style.display =\n",
              "        google.colab.kernel.accessAllowed ? 'block' : 'none';\n",
              "\n",
              "      async function convertToInteractive(key) {\n",
              "        const element = document.querySelector('#df-8112c6e1-f597-443b-8f9f-1999d2af3676');\n",
              "        const dataTable =\n",
              "          await google.colab.kernel.invokeFunction('convertToInteractive',\n",
              "                                                    [key], {});\n",
              "        if (!dataTable) return;\n",
              "\n",
              "        const docLinkHtml = 'Like what you see? Visit the ' +\n",
              "          '<a target=\"_blank\" href=https://colab.research.google.com/notebooks/data_table.ipynb>data table notebook</a>'\n",
              "          + ' to learn more about interactive tables.';\n",
              "        element.innerHTML = '';\n",
              "        dataTable['output_type'] = 'display_data';\n",
              "        await google.colab.output.renderOutput(dataTable, element);\n",
              "        const docLink = document.createElement('div');\n",
              "        docLink.innerHTML = docLinkHtml;\n",
              "        element.appendChild(docLink);\n",
              "      }\n",
              "    </script>\n",
              "  </div>\n",
              "\n",
              "\n",
              "    <div id=\"df-6a48971f-809d-4b7a-9368-398c43815747\">\n",
              "      <button class=\"colab-df-quickchart\" onclick=\"quickchart('df-6a48971f-809d-4b7a-9368-398c43815747')\"\n",
              "                title=\"Suggest charts\"\n",
              "                style=\"display:none;\">\n",
              "\n",
              "<svg xmlns=\"http://www.w3.org/2000/svg\" height=\"24px\"viewBox=\"0 0 24 24\"\n",
              "     width=\"24px\">\n",
              "    <g>\n",
              "        <path d=\"M19 3H5c-1.1 0-2 .9-2 2v14c0 1.1.9 2 2 2h14c1.1 0 2-.9 2-2V5c0-1.1-.9-2-2-2zM9 17H7v-7h2v7zm4 0h-2V7h2v10zm4 0h-2v-4h2v4z\"/>\n",
              "    </g>\n",
              "</svg>\n",
              "      </button>\n",
              "\n",
              "<style>\n",
              "  .colab-df-quickchart {\n",
              "      --bg-color: #E8F0FE;\n",
              "      --fill-color: #1967D2;\n",
              "      --hover-bg-color: #E2EBFA;\n",
              "      --hover-fill-color: #174EA6;\n",
              "      --disabled-fill-color: #AAA;\n",
              "      --disabled-bg-color: #DDD;\n",
              "  }\n",
              "\n",
              "  [theme=dark] .colab-df-quickchart {\n",
              "      --bg-color: #3B4455;\n",
              "      --fill-color: #D2E3FC;\n",
              "      --hover-bg-color: #434B5C;\n",
              "      --hover-fill-color: #FFFFFF;\n",
              "      --disabled-bg-color: #3B4455;\n",
              "      --disabled-fill-color: #666;\n",
              "  }\n",
              "\n",
              "  .colab-df-quickchart {\n",
              "    background-color: var(--bg-color);\n",
              "    border: none;\n",
              "    border-radius: 50%;\n",
              "    cursor: pointer;\n",
              "    display: none;\n",
              "    fill: var(--fill-color);\n",
              "    height: 32px;\n",
              "    padding: 0;\n",
              "    width: 32px;\n",
              "  }\n",
              "\n",
              "  .colab-df-quickchart:hover {\n",
              "    background-color: var(--hover-bg-color);\n",
              "    box-shadow: 0 1px 2px rgba(60, 64, 67, 0.3), 0 1px 3px 1px rgba(60, 64, 67, 0.15);\n",
              "    fill: var(--button-hover-fill-color);\n",
              "  }\n",
              "\n",
              "  .colab-df-quickchart-complete:disabled,\n",
              "  .colab-df-quickchart-complete:disabled:hover {\n",
              "    background-color: var(--disabled-bg-color);\n",
              "    fill: var(--disabled-fill-color);\n",
              "    box-shadow: none;\n",
              "  }\n",
              "\n",
              "  .colab-df-spinner {\n",
              "    border: 2px solid var(--fill-color);\n",
              "    border-color: transparent;\n",
              "    border-bottom-color: var(--fill-color);\n",
              "    animation:\n",
              "      spin 1s steps(1) infinite;\n",
              "  }\n",
              "\n",
              "  @keyframes spin {\n",
              "    0% {\n",
              "      border-color: transparent;\n",
              "      border-bottom-color: var(--fill-color);\n",
              "      border-left-color: var(--fill-color);\n",
              "    }\n",
              "    20% {\n",
              "      border-color: transparent;\n",
              "      border-left-color: var(--fill-color);\n",
              "      border-top-color: var(--fill-color);\n",
              "    }\n",
              "    30% {\n",
              "      border-color: transparent;\n",
              "      border-left-color: var(--fill-color);\n",
              "      border-top-color: var(--fill-color);\n",
              "      border-right-color: var(--fill-color);\n",
              "    }\n",
              "    40% {\n",
              "      border-color: transparent;\n",
              "      border-right-color: var(--fill-color);\n",
              "      border-top-color: var(--fill-color);\n",
              "    }\n",
              "    60% {\n",
              "      border-color: transparent;\n",
              "      border-right-color: var(--fill-color);\n",
              "    }\n",
              "    80% {\n",
              "      border-color: transparent;\n",
              "      border-right-color: var(--fill-color);\n",
              "      border-bottom-color: var(--fill-color);\n",
              "    }\n",
              "    90% {\n",
              "      border-color: transparent;\n",
              "      border-bottom-color: var(--fill-color);\n",
              "    }\n",
              "  }\n",
              "</style>\n",
              "\n",
              "      <script>\n",
              "        async function quickchart(key) {\n",
              "          const quickchartButtonEl =\n",
              "            document.querySelector('#' + key + ' button');\n",
              "          quickchartButtonEl.disabled = true;  // To prevent multiple clicks.\n",
              "          quickchartButtonEl.classList.add('colab-df-spinner');\n",
              "          try {\n",
              "            const charts = await google.colab.kernel.invokeFunction(\n",
              "                'suggestCharts', [key], {});\n",
              "          } catch (error) {\n",
              "            console.error('Error during call to suggestCharts:', error);\n",
              "          }\n",
              "          quickchartButtonEl.classList.remove('colab-df-spinner');\n",
              "          quickchartButtonEl.classList.add('colab-df-quickchart-complete');\n",
              "        }\n",
              "        (() => {\n",
              "          let quickchartButtonEl =\n",
              "            document.querySelector('#df-6a48971f-809d-4b7a-9368-398c43815747 button');\n",
              "          quickchartButtonEl.style.display =\n",
              "            google.colab.kernel.accessAllowed ? 'block' : 'none';\n",
              "        })();\n",
              "      </script>\n",
              "    </div>\n",
              "\n",
              "    </div>\n",
              "  </div>\n"
            ],
            "application/vnd.google.colaboratory.intrinsic+json": {
              "type": "dataframe",
              "variable_name": "df_oscar",
              "summary": "{\n  \"name\": \"df_oscar\",\n  \"rows\": 628,\n  \"fields\": [\n    {\n      \"column\": \"year_film\",\n      \"properties\": {\n        \"dtype\": \"number\",\n        \"std\": 1,\n        \"min\": 2016,\n        \"max\": 2020,\n        \"num_unique_values\": 5,\n        \"samples\": [\n          2017,\n          2020,\n          2018\n        ],\n        \"semantic_type\": \"\",\n        \"description\": \"\"\n      }\n    },\n    {\n      \"column\": \"film\",\n      \"properties\": {\n        \"dtype\": \"category\",\n        \"num_unique_values\": 283,\n        \"samples\": [\n          \"Elle\",\n          \"News of the World\",\n          \"Never Look Away\"\n        ],\n        \"semantic_type\": \"\",\n        \"description\": \"\"\n      }\n    },\n    {\n      \"column\": \"winner\",\n      \"properties\": {\n        \"dtype\": \"boolean\",\n        \"num_unique_values\": 2,\n        \"samples\": [\n          false,\n          true\n        ],\n        \"semantic_type\": \"\",\n        \"description\": \"\"\n      }\n    }\n  ]\n}"
            }
          },
          "metadata": {},
          "execution_count": 17
        }
      ],
      "source": [
        "#Oscar Awards\n",
        "import pandas as pd\n",
        "\n",
        "df_oscar = pd.read_csv('the_oscar_award.csv')\n",
        "\n",
        "df_oscar = df_oscar.drop(columns=['year_ceremony', 'ceremony', 'category', 'canon_category', 'name'], errors='ignore')\n",
        "\n",
        "\n",
        "df_oscar = df_oscar[(df_oscar['year_film'] >= 2016) & (df_oscar['year_film'] <= 2020)]\n",
        "\n",
        "df_oscar.head()\n"
      ]
    },
    {
      "cell_type": "code",
      "execution_count": null,
      "metadata": {
        "colab": {
          "base_uri": "https://localhost:8080/"
        },
        "id": "w4mqTCVs297e",
        "outputId": "accafee0-23d2-41b0-eca2-111b4ebaf1a0"
      },
      "outputs": [
        {
          "output_type": "stream",
          "name": "stdout",
          "text": [
            "Index(['year_film', 'film', 'winner'], dtype='object')\n",
            "Index(['year_film', 'film', 'win'], dtype='object')\n",
            "Index(['year', 'nominee', 'winner'], dtype='object')\n"
          ]
        }
      ],
      "source": [
        "print(df_oscar.columns)\n",
        "print(df_gg.columns)\n",
        "print(df_b.columns)\n"
      ]
    },
    {
      "cell_type": "code",
      "execution_count": null,
      "metadata": {
        "id": "nyxoW87u3Q1H"
      },
      "outputs": [],
      "source": [
        "# Standardize columns\n",
        "\n",
        "# Oscars\n",
        "df_oscar = df_oscar.rename(columns={\n",
        "    'film': 'Title',\n",
        "    'year_film': 'Release Year'\n",
        "})\n",
        "\n",
        "# Golden Globes\n",
        "df_gg = df_gg.rename(columns={\n",
        "    'film': 'Title',\n",
        "    'year_film': 'Release Year'\n",
        "})\n",
        "\n",
        "# BAFTA\n",
        "df_b = df_b.rename(columns={\n",
        "    'nominee': 'Title',\n",
        "    'year': 'Release Year'\n",
        "})\n",
        "\n"
      ]
    },
    {
      "cell_type": "code",
      "execution_count": null,
      "metadata": {
        "colab": {
          "base_uri": "https://localhost:8080/"
        },
        "id": "Ye4ps3UOATu9",
        "outputId": "ac4c0705-0b9b-4258-8e69-63cd5fc7c267"
      },
      "outputs": [
        {
          "output_type": "stream",
          "name": "stdout",
          "text": [
            "Index(['Release Year', 'Title', 'winner'], dtype='object')\n",
            "Index(['Release Year', 'Title', 'win'], dtype='object')\n",
            "Index(['Release Year', 'Title', 'winner'], dtype='object')\n"
          ]
        }
      ],
      "source": [
        "print(df_oscar.columns)\n",
        "print(df_gg.columns)\n",
        "print(df_b.columns)\n"
      ]
    },
    {
      "cell_type": "code",
      "execution_count": null,
      "metadata": {
        "colab": {
          "base_uri": "https://localhost:8080/"
        },
        "id": "GjRAdUw0HSA5",
        "outputId": "e24977a9-ae7d-4c1a-f6ac-b97c4fb01cdb"
      },
      "outputs": [
        {
          "output_type": "stream",
          "name": "stdout",
          "text": [
            "                                       Title  Release Year  Oscar_Win  GG_Win  \\\n",
            "0  13 Hours: The Secret Soldiers of Benghazi          2016          1       0   \n",
            "1                                       13th          2016          1       0   \n",
            "2                                       1917          2019         10       2   \n",
            "3                                       1917          2019         10       2   \n",
            "4                                       1917          2019         10       2   \n",
            "\n",
            "   BAFTA_Win  Total_Awards_Won  \n",
            "0          0                 1  \n",
            "1          1                 2  \n",
            "2          9                21  \n",
            "3          9                21  \n",
            "4          9                21  \n"
          ]
        }
      ],
      "source": [
        "\n",
        "def normalize_title(title):\n",
        "    if pd.isna(title):\n",
        "        return ''\n",
        "    return title.lower().strip()\n",
        "\n",
        "df_oscar['normalized_title'] = df_oscar['Title'].apply(normalize_title)\n",
        "df_gg['normalized_title'] = df_gg['Title'].apply(normalize_title)\n",
        "df_b['normalized_title'] = df_b['Title'].apply(normalize_title)\n",
        "\n",
        "#Count how many wins each movie had per award show\n",
        "df_oscar_counts = df_oscar.groupby('normalized_title').size().reset_index(name='Oscar_Win')\n",
        "df_gg_counts = df_gg.groupby('normalized_title').size().reset_index(name='GG_Win')\n",
        "df_b_counts = df_b.groupby('normalized_title').size().reset_index(name='BAFTA_Win')\n",
        "\n",
        "#Merge\n",
        "merged_df2 = df_oscar_counts.merge(df_gg_counts, on='normalized_title', how='outer')\n",
        "merged_df2 = merged_df2.merge(df_b_counts, on='normalized_title', how='outer')\n",
        "\n",
        "#Fill missing values with 0\n",
        "merged_df2[['Oscar_Win', 'GG_Win', 'BAFTA_Win']] = merged_df2[['Oscar_Win', 'GG_Win', 'BAFTA_Win']].fillna(0).astype(int)\n",
        "\n",
        "#Calculate the total number of awards won\n",
        "merged_df2['Total_Awards_Won'] = merged_df2[['Oscar_Win', 'GG_Win', 'BAFTA_Win']].sum(axis=1)\n",
        "\n",
        "\n",
        "merged_df2 = merged_df2.merge(df_oscar[['normalized_title', 'Title', 'Release Year']], on='normalized_title', how='left')\n",
        "\n",
        "\n",
        "merged_df2 = merged_df2.dropna(subset=['Title']).reset_index(drop=True)\n",
        "\n",
        "print(merged_df2[['Title', 'Release Year', 'Oscar_Win', 'GG_Win', 'BAFTA_Win', 'Total_Awards_Won']].head())\n"
      ]
    },
    {
      "cell_type": "code",
      "execution_count": null,
      "metadata": {
        "colab": {
          "base_uri": "https://localhost:8080/"
        },
        "id": "2f4R9n8J-CO5",
        "outputId": "fdd1cbe6-922e-445f-fff5-360f6bc06d35"
      },
      "outputs": [
        {
          "output_type": "stream",
          "name": "stdout",
          "text": [
            "Index(['normalized_title', 'Oscar_Win', 'GG_Win', 'BAFTA_Win',\n",
            "       'Total_Awards_Won', 'Title', 'Release Year'],\n",
            "      dtype='object')\n"
          ]
        }
      ],
      "source": [
        "print(merged_df2.columns)\n"
      ]
    },
    {
      "cell_type": "code",
      "execution_count": null,
      "metadata": {
        "colab": {
          "base_uri": "https://localhost:8080/"
        },
        "id": "cZzHt1sd_HqA",
        "outputId": "f1cbd6bc-26d3-4290-f83a-4c2c4a05b19b"
      },
      "outputs": [
        {
          "output_type": "stream",
          "name": "stdout",
          "text": [
            "Index(['Title', 'Release Year', 'Release Month', 'Release Date',\n",
            "       'Release Season', 'Release Group', 'Worldwide Gross'],\n",
            "      dtype='object')\n"
          ]
        }
      ],
      "source": [
        "print(merged_df.columns)\n"
      ]
    },
    {
      "cell_type": "code",
      "execution_count": null,
      "metadata": {
        "colab": {
          "base_uri": "https://localhost:8080/"
        },
        "id": "gHKg5FEwAQDV",
        "outputId": "84964783-6bc9-4d75-c653-52f0c9a88958"
      },
      "outputs": [
        {
          "output_type": "stream",
          "name": "stdout",
          "text": [
            "            Title  Release Year  Release Month Release Date  \\\n",
            "0  Wild Awakening          2016             10   2016-10-23   \n",
            "1  The Accountant          2016             10   2016-10-13   \n",
            "2      Your Name.          2016              8   2016-08-26   \n",
            "3   Hacksaw Ridge          2016             10   2016-10-07   \n",
            "4   Hacksaw Ridge          2016             10   2016-10-07   \n",
            "\n",
            "       Release Season   Release Group  Worldwide Gross  Oscar_Win  GG_Win  \\\n",
            "0       Awards Season             NaN              NaN        NaN     NaN   \n",
            "1       Awards Season  The Accountant        155560045        NaN     NaN   \n",
            "2  Summer Blockbuster      Your Name.        357986087        NaN     NaN   \n",
            "3       Awards Season   Hacksaw Ridge        180563636          6       2   \n",
            "4       Awards Season   Hacksaw Ridge        180563636          6       2   \n",
            "\n",
            "   BAFTA_Win  Total_Awards_Won  \n",
            "0        NaN               NaN  \n",
            "1        NaN               NaN  \n",
            "2        NaN               NaN  \n",
            "3          4                12  \n",
            "4          4                12  \n"
          ]
        }
      ],
      "source": [
        "# Merge the clean movies/box office data (merged_df) with awards data (merged_df2)\n",
        "final_df = pd.merge(\n",
        "    merged_df,\n",
        "    merged_df2[['Title', 'Release Year', 'Oscar_Win', 'GG_Win', 'BAFTA_Win', 'Total_Awards_Won']],\n",
        "    on=['Title', 'Release Year'],\n",
        "    how='left'\n",
        ")\n",
        "\n",
        "print(final_df.head())\n"
      ]
    },
    {
      "cell_type": "code",
      "execution_count": null,
      "metadata": {
        "colab": {
          "base_uri": "https://localhost:8080/"
        },
        "id": "cm46GLRyIJSq",
        "outputId": "8b776aa2-2559-4a8e-94c5-721813fa8ed7"
      },
      "outputs": [
        {
          "output_type": "stream",
          "name": "stdout",
          "text": [
            "            Title  Release Year  Release Month Release Date  \\\n",
            "0  Wild Awakening          2016             10   2016-10-23   \n",
            "1  The Accountant          2016             10   2016-10-13   \n",
            "2      Your Name.          2016              8   2016-08-26   \n",
            "3   Hacksaw Ridge          2016             10   2016-10-07   \n",
            "4   Hacksaw Ridge          2016             10   2016-10-07   \n",
            "\n",
            "       Release Season  Worldwide Gross  Oscar_Win  GG_Win  BAFTA_Win  \\\n",
            "0       Awards Season              NaN          0       0          0   \n",
            "1       Awards Season        155560045          0       0          0   \n",
            "2  Summer Blockbuster        357986087          0       0          0   \n",
            "3       Awards Season        180563636          6       2          4   \n",
            "4       Awards Season        180563636          6       2          4   \n",
            "\n",
            "   Total_Awards_Won  \n",
            "0                 0  \n",
            "1                 0  \n",
            "2                 0  \n",
            "3                12  \n",
            "4                12  \n"
          ]
        }
      ],
      "source": [
        "# Fill NaN award counts with 0\n",
        "award_cols = ['Oscar_Win', 'GG_Win', 'BAFTA_Win', 'Total_Awards_Won']\n",
        "final_df[award_cols] = final_df[award_cols].fillna(0).astype(int)\n",
        "\n",
        "\n",
        "final_df = final_df.drop(columns=['Release Group'])\n",
        "\n",
        "print(final_df.head())\n",
        "\n"
      ]
    },
    {
      "cell_type": "code",
      "source": [
        "# Filter the DataFrame to include only movies with Total_Awards_Won > 0\n",
        "award_winning_movies_df = final_df[final_df['Total_Awards_Won'] > 0].copy()\n",
        "\n",
        "print(f\"Original number of movies: {len(final_df)}\")\n",
        "print(f\"Number of award-winning movies: {len(award_winning_movies_df)}\")\n",
        "print(award_winning_movies_df.head())"
      ],
      "metadata": {
        "colab": {
          "base_uri": "https://localhost:8080/"
        },
        "id": "7QUW0F7tGil_",
        "outputId": "d5836b38-f8ea-4fd3-f1a0-88f481a92c21"
      },
      "execution_count": null,
      "outputs": [
        {
          "output_type": "stream",
          "name": "stdout",
          "text": [
            "Original number of movies: 16399\n",
            "Number of award-winning movies: 535\n",
            "           Title  Release Year  Release Month Release Date Release Season  \\\n",
            "3  Hacksaw Ridge          2016             10   2016-10-07  Awards Season   \n",
            "4  Hacksaw Ridge          2016             10   2016-10-07  Awards Season   \n",
            "5  Hacksaw Ridge          2016             10   2016-10-07  Awards Season   \n",
            "6  Hacksaw Ridge          2016             10   2016-10-07  Awards Season   \n",
            "7  Hacksaw Ridge          2016             10   2016-10-07  Awards Season   \n",
            "\n",
            "   Worldwide Gross  Oscar_Win  GG_Win  BAFTA_Win  Total_Awards_Won  \n",
            "3        180563636          6       2          4                12  \n",
            "4        180563636          6       2          4                12  \n",
            "5        180563636          6       2          4                12  \n",
            "6        180563636          6       2          4                12  \n",
            "7        180563636          6       2          4                12  \n"
          ]
        }
      ]
    },
    {
      "cell_type": "code",
      "source": [
        "import numpy as np\n",
        "import matplotlib.pyplot as plt\n",
        "import seaborn as sns\n",
        "\n",
        "\n",
        "df_plot = award_winning_movies_df[['Release Month', 'Total_Awards_Won']].dropna()\n",
        "\n",
        "# Convert Release Month to integer\n",
        "df_plot['Release Month'] = df_plot['Release Month'].astype(int)\n",
        "\n",
        "# Sort months for better visualization\n",
        "df_plot = df_plot.sort_values(by='Release Month')\n",
        "\n",
        "\n",
        "plt.figure(figsize=(12,6))\n",
        "sns.barplot(\n",
        "    data=df_plot,\n",
        "    x='Release Month',\n",
        "    y='Total_Awards_Won',\n",
        "    estimator=np.mean,\n",
        "    errorbar=None,\n",
        "    palette=\"viridis\",\n",
        "    hue='Release Month',\n",
        "    legend=False\n",
        ")\n",
        "plt.title('Average Awards Won by Release Month (Award-Winning Movies)', fontsize=14)\n",
        "plt.ylabel('Average Awards Won', fontsize=12)\n",
        "plt.xlabel('Release Month (1 = Jan, 12 = Dec)', fontsize=12)\n",
        "plt.xticks(rotation=0)\n",
        "plt.tight_layout()\n",
        "plt.show()"
      ],
      "metadata": {
        "colab": {
          "base_uri": "https://localhost:8080/",
          "height": 607
        },
        "id": "H5UyTyc_HH8B",
        "outputId": "e60eedf5-ae0c-4f19-a4d0-dce91a98a31c"
      },
      "execution_count": null,
      "outputs": [
        {
          "output_type": "display_data",
          "data": {
            "text/plain": [
              "<Figure size 1200x600 with 1 Axes>"
            ],
            "image/png": "[encoded data removed]"
          },
          "metadata": {}
        }
      ]
    },
    {
      "cell_type": "markdown",
      "source": [
        "There's variability in the average number of awards won among award-winning movies across different months.\n",
        "Months typically associated with Awards Season (like October, November, and December) seem to have higher average award counts among the award-winning films."
      ],
      "metadata": {
        "id": "5ewy5oGXHPxI"
      }
    },
    {
      "cell_type": "code",
      "source": [
        "import matplotlib.pyplot as plt\n",
        "import seaborn as sns\n",
        "\n",
        "plt.figure(figsize=(12,6))\n",
        "sns.scatterplot(data=award_winning_movies_df, x='Worldwide Gross', y='Total_Awards_Won')\n",
        "plt.title('Box Office Revenue vs Total Awards Won (Award-Winning Movies)')\n",
        "plt.xlabel('Box Office Revenue ($)')\n",
        "plt.ylabel('Total Awards Won')\n",
        "plt.xscale('log')  # Use a log scale for the x-axis due to large range in gross values\n",
        "plt.show()"
      ],
      "metadata": {
        "colab": {
          "base_uri": "https://localhost:8080/",
          "height": 569
        },
        "id": "q0IKGE2P9p_o",
        "outputId": "f03a318e-fce8-47ca-fcd9-9541c7850275"
      },
      "execution_count": null,
      "outputs": [
        {
          "output_type": "display_data",
          "data": {
            "text/plain": [
              "<Figure size 1200x600 with 1 Axes>"
            ],
            "image/png": "[encoded data removed]"
          },
          "metadata": {}
        }
      ]
    },
    {
      "cell_type": "markdown",
      "source": [
        "There doesn't appear to be a very strong, tight linear relationship between worldwide gross and the number of awards won, even among award-winning films. While there might be a general trend where movies with higher gross tend to win more awards, there are many award-winning movies with moderate gross and a high number of awards, and some very high-grossing movies with a relatively low number of awards"
      ],
      "metadata": {
        "id": "HXSGaXPlH04W"
      }
    },
    {
      "cell_type": "code",
      "source": [
        "import matplotlib.pyplot as plt\n",
        "import seaborn as sns\n",
        "\n",
        "sns.set_style('whitegrid')\n",
        "\n",
        "fig, axes = plt.subplots(1, 2, figsize=(16,6))\n",
        "\n",
        "# Plot 1: Box Office performance by Release Season (Award-Winning Movies)\n",
        "sns.boxplot(x='Release Season', y='Worldwide Gross', data=award_winning_movies_df, ax=axes[0])\n",
        "axes[0].set_title('Box Office Performance by Release Season (Award-Winning Movies)')\n",
        "axes[0].set_ylabel('Worldwide Gross ($)')\n",
        "axes[0].set_xlabel('Release Season')\n",
        "axes[0].tick_params(axis='x', rotation=45)\n",
        "\n",
        "# Plot 2: Award success by Release Season (Award-Winning Movies)\n",
        "sns.boxplot(x='Release Season', y='Total_Awards_Won', data=award_winning_movies_df, ax=axes[1])\n",
        "axes[1].set_title('Award Success by Release Season (Award-Winning Movies)')\n",
        "axes[1].set_ylabel('Total Awards Won')\n",
        "axes[1].set_xlabel('Release Season')\n",
        "axes[1].tick_params(axis='x', rotation=45)\n",
        "\n",
        "plt.tight_layout()\n",
        "plt.show()"
      ],
      "metadata": {
        "colab": {
          "base_uri": "https://localhost:8080/",
          "height": 503
        },
        "id": "Bn4ifsR-J_Mw",
        "outputId": "e83ecb33-8e67-4fa1-b63c-aba81d73f5fe"
      },
      "execution_count": null,
      "outputs": [
        {
          "output_type": "display_data",
          "data": {
            "text/plain": [
              "<Figure size 1600x600 with 2 Axes>"
            ],
            "image/png": "[encoded data removed]"
          },
          "metadata": {}
        }
      ]
    },
    {
      "cell_type": "markdown",
      "source": [
        "Box Office Performance by Release Season (Left Plot):\n",
        "\n",
        "Similar to the plot with all movies, the median worldwide gross for award-winning movies doesn't vary drastically by season.\n",
        "However, the Holiday Season and Summer Blockbuster seasons still show some of the highest outliers in terms of worldwide gross, even within this group of award winners. This suggests that while award success can happen in any season, the massive box office hits that also win awards are more likely to be released in these traditional blockbuster periods.\n",
        "Award Success by Release Season (Right Plot):\n",
        "\n",
        "This plot is particularly insightful. While all movies in this dataset won at least one award, the Awards Season and Holiday Season clearly show higher medians and upper quartiles for the total number of awards won.\n",
        "Movies released in Awards Season show the highest median and the largest spread, with many outliers winning a significant number of awards.\n",
        "Holiday Season award winners also tend to win more awards on average than those from Spring or Summer.\n",
        "Spring and Summer Blockbuster award winners tend to win fewer awards overall, even if they were recognized at least once.\n"
      ],
      "metadata": {
        "id": "S7_UZMvBJGM0"
      }
    },
    {
      "cell_type": "code",
      "source": [
        "import statsmodels.api as sm\n",
        "from statsmodels.formula.api import ols\n",
        "import pandas as pd\n",
        "\n",
        "if 'Is_High_Gross' not in final_df.columns:\n",
        "\n",
        "    threshold = final_df['Worldwide Gross'].quantile(0.75)\n",
        "    final_df['Is_High_Gross'] = final_df['Worldwide Gross'] >= threshold\n",
        "\n",
        "anova_df = final_df[['Release Season', 'Is_High_Gross', 'Total_Awards_Won']].dropna().rename(columns={'Release Season': 'Release_Season'})\n",
        "\n",
        "\n",
        "# Perform Two-Way ANOVA\n",
        "\n",
        "model = ols('Total_Awards_Won ~ C(Release_Season) + C(Is_High_Gross) + C(Release_Season):C(Is_High_Gross)', data=anova_df).fit()\n",
        "\n",
        "# Get the ANOVA table\n",
        "anova_table = sm.stats.anova_lm(model, typ=2)\n",
        "\n",
        "print(anova_table)"
      ],
      "metadata": {
        "colab": {
          "base_uri": "https://localhost:8080/"
        },
        "id": "PmPkGfVMAEux",
        "outputId": "93422aa3-821f-401d-d0b4-5f8b39a26ead"
      },
      "execution_count": null,
      "outputs": [
        {
          "output_type": "stream",
          "name": "stdout",
          "text": [
            "                                    sum_sq    df    F  PR(>F)\n",
            "C(Release_Season)                     1327     3  131       0\n",
            "C(Is_High_Gross)                     11241     1 3321       0\n",
            "C(Release_Season):C(Is_High_Gross)    3031     3  298       0\n",
            "Residual                             55475 16391  NaN     NaN\n"
          ]
        }
      ]
    },
    {
      "cell_type": "markdown",
      "source": [
        "Based on the Two-Way ANOVA results, we reject null hypothesis (H₀) and support alternative hypothesis (H1). Both a movie's release timing and its box office success (specifically, whether it is high-grossing or not) have a statistically significant impact on its likelihood of receiving award season nominations or wins."
      ],
      "metadata": {
        "id": "flAkpBbBAF-8"
      }
    },
    {
      "cell_type": "code",
      "source": [
        "# Group by season and calculate the mean number of awards\n",
        "season_awards = final_df.groupby('Release Season')['Total_Awards_Won'].mean().sort_values(ascending=False)\n",
        "\n",
        "\n",
        "print(season_awards)\n",
        "\n",
        "\n",
        "import seaborn as sns\n",
        "import matplotlib.pyplot as plt\n",
        "\n",
        "plt.figure(figsize=(10,6))\n",
        "sns.barplot(x=season_awards.index, y=season_awards.values, palette=\"viridis\")\n",
        "plt.title('Average Awards Won by Release Season', fontsize=16)\n",
        "plt.xlabel('Release Season', fontsize=14)\n",
        "plt.ylabel('Average Awards Won', fontsize=14)\n",
        "plt.xticks(rotation=45)\n",
        "plt.show()"
      ],
      "metadata": {
        "colab": {
          "base_uri": "https://localhost:8080/",
          "height": 877
        },
        "id": "cYjGgatXgkNv",
        "outputId": "5cb75c46-07ff-413f-dcdb-483ef7a5b056"
      },
      "execution_count": null,
      "outputs": [
        {
          "output_type": "stream",
          "name": "stdout",
          "text": [
            "Release Season\n",
            "Holiday Season       1\n",
            "Awards Season        0\n",
            "Summer Blockbuster   0\n",
            "Spring               0\n",
            "Name: Total_Awards_Won, dtype: float64\n"
          ]
        },
        {
          "output_type": "stream",
          "name": "stderr",
          "text": [
            "<ipython-input-31-2f574ca882dd>:12: FutureWarning: \n",
            "\n",
            "Passing `palette` without assigning `hue` is deprecated and will be removed in v0.14.0. Assign the `x` variable to `hue` and set `legend=False` for the same effect.\n",
            "\n",
            "  sns.barplot(x=season_awards.index, y=season_awards.values, palette=\"viridis\")\n"
          ]
        },
        {
          "output_type": "display_data",
          "data": {
            "text/plain": [
              "<Figure size 1000x600 with 1 Axes>"
            ],
            "image/png": "[encoded data removed]"
          },
          "metadata": {}
        }
      ]
    },
    {
      "cell_type": "markdown",
      "source": [
        "The Holiday Season has the highest average number of awards won (around 1).\n",
        "The Awards Season, Summer Blockbuster, and Spring seasons have much lower average award counts (closer to 0)."
      ],
      "metadata": {
        "id": "vdONyqAcgl5S"
      }
    },
    {
      "cell_type": "code",
      "source": [
        "import matplotlib.pyplot as plt\n",
        "import seaborn as sns\n",
        "\n",
        "sns.lmplot(x='Worldwide Gross', y='Total_Awards_Won', data=final_df)\n",
        "plt.title('Worldwide Gross vs Total Awards Won (with Trendline)')\n",
        "plt.show()"
      ],
      "metadata": {
        "colab": {
          "base_uri": "https://localhost:8080/",
          "height": 529
        },
        "id": "aZIc-zQWhDQa",
        "outputId": "db08f4cf-76e3-48d3-dfbb-49de88be2352"
      },
      "execution_count": null,
      "outputs": [
        {
          "output_type": "display_data",
          "data": {
            "text/plain": [
              "<Figure size 500x500 with 1 Axes>"
            ],
            "image/png": "[encoded data removed]"
          },
          "metadata": {}
        }
      ]
    },
    {
      "cell_type": "markdown",
      "source": [
        "While the trendline shows a general upward slope, movies with higher worldwide gross tend to win more awards, the points are very scattered around the line. Some movies with relatively lower worldwide gross still managed to win a moderate number of awards (points further up on the left side)."
      ],
      "metadata": {
        "id": "h_ADgaPHhE5J"
      }
    },
    {
      "cell_type": "code",
      "source": [
        "import pandas as pd\n",
        "from scipy.stats import chi2_contingency\n",
        "\n",
        "# Ensure 'Is_High_Gross' and 'Won_Award' columns exist\n",
        "if 'Is_High_Gross' not in final_df.columns:\n",
        "    threshold = final_df['Worldwide Gross'].quantile(0.75)\n",
        "    final_df['Is_High_Gross'] = final_df['Worldwide Gross'] >= threshold\n",
        "\n",
        "if 'Won_Award' not in final_df.columns:\n",
        "     final_df['Won_Award'] = final_df['Total_Awards_Won'] > 0\n",
        "\n",
        "\n",
        "\n",
        "gross_award_crosstab = pd.crosstab(final_df['Is_High_Gross'], final_df['Won_Award'])\n",
        "print(\"Contingency Table (Is_High_Gross vs. Won_Award):\")\n",
        "print(gross_award_crosstab)\n",
        "\n",
        "# Perform Chi-Square test\n",
        "chi2, p, dof, expected = chi2_contingency(gross_award_crosstab)\n",
        "\n",
        "print(f\"\\nChi-Square Test Results:\")\n",
        "print(f\"  Chi-Square statistic: {chi2:.3f}\")\n",
        "print(f\"  p-value: {p:.5f}\") # Use more decimal places for very small p-values\n",
        "print(f\"  Degrees of freedom: {dof}\")\n",
        "\n",
        "proportion_award_winners = gross_award_crosstab.div(gross_award_crosstab.sum(axis=1), axis=0)\n",
        "print(\"\\nProportion of Movies that Won Awards by High Gross Status:\")\n",
        "print(proportion_award_winners)"
      ],
      "metadata": {
        "colab": {
          "base_uri": "https://localhost:8080/"
        },
        "id": "QRX180Vjho3w",
        "outputId": "2873a1a4-74aa-4ee5-c1f6-f8c9f77ffd86"
      },
      "execution_count": null,
      "outputs": [
        {
          "output_type": "stream",
          "name": "stdout",
          "text": [
            "Contingency Table (Is_High_Gross vs. Won_Award):\n",
            "Won_Award      False  True \n",
            "Is_High_Gross              \n",
            "False          15740    378\n",
            "True             124    157\n",
            "\n",
            "Chi-Square Test Results:\n",
            "  Chi-Square statistic: 2490.384\n",
            "  p-value: 0.00000\n",
            "  Degrees of freedom: 1\n",
            "\n",
            "Proportion of Movies that Won Awards by High Gross Status:\n",
            "Won_Award      False  True \n",
            "Is_High_Gross              \n",
            "False              1      0\n",
            "True               0      1\n"
          ]
        }
      ]
    },
    {
      "cell_type": "markdown",
      "source": [
        "To test if high-grossing movies are significantly more likely to win awards than low-grossing movies, we can use a Chi-Square test of independence between the 'Is_High_Gross' (high vs. low) and 'Won_Award' (yes vs. no) variables."
      ],
      "metadata": {
        "id": "BiIdRFk-hw7X"
      }
    },
    {
      "cell_type": "markdown",
      "source": [
        "This table shows the counts of movies in each category. Notice that a much larger proportion of 'True' values (award winners) are in the 'True' row for 'Is_High_Gross'.\n",
        "\n",
        "Chi-Square Test Results:\n",
        "\n",
        "Chi-Square statistic (2441.940): A large value, suggesting a strong association.\n",
        "p-value (0.00000): This p-value is extremely small (much less than 0.05)."
      ],
      "metadata": {
        "id": "_YGlW42Khy_K"
      }
    },
    {
      "cell_type": "markdown",
      "source": [
        "For movies that are not high-grossing ('False' for Is_High_Gross), the proportion that won an award is very low (around 0.024)\n",
        "For movies that are high-grossing ('True' for Is_High_Gross), the proportion that won an award is significantly higher (around 0.558)"
      ],
      "metadata": {
        "id": "kQiGGH4CiIhC"
      }
    },
    {
      "cell_type": "code",
      "execution_count": null,
      "metadata": {
        "colab": {
          "base_uri": "https://localhost:8080/"
        },
        "id": "Wt2HgEdvSnOb",
        "outputId": "124c4f93-0234-4ab9-d6f6-71d3bdc19ca8"
      },
      "outputs": [
        {
          "output_type": "stream",
          "name": "stdout",
          "text": [
            "                                    sum_sq    df    F  PR(>F)\n",
            "C(Release_Season)                     1327     3  131       0\n",
            "C(Is_High_Gross)                     11241     1 3321       0\n",
            "C(Release_Season):C(Is_High_Gross)    3031     3  298       0\n",
            "Residual                             55475 16391  NaN     NaN\n"
          ]
        }
      ],
      "source": [
        "import statsmodels.api as sm\n",
        "from statsmodels.formula.api import ols\n",
        "\n",
        "anova_df = final_df[['Release Season', 'Is_High_Gross', 'Total_Awards_Won']].dropna().rename(columns={'Release Season': 'Release_Season'})\n",
        "\n",
        "\n",
        "#Two-Way ANOVA\n",
        "\n",
        "\n",
        "model = ols('Total_Awards_Won ~ C(Release_Season) + C(Is_High_Gross) + C(Release_Season):C(Is_High_Gross)', data=anova_df).fit()\n",
        "anova_table = sm.stats.anova_lm(model, typ=2)\n",
        "print(anova_table)\n",
        "\n"
      ]
    },
    {
      "cell_type": "markdown",
      "metadata": {
        "id": "sM6zytVTG64F"
      },
      "source": [
        "A Two-Way ANOVA confirms that both Release Season and Box Office Performance significantly affect a film’s award success. More importantly, their interaction is also significant, suggesting that commercial success influences award outcomes differently depending on when a film is released. This reinforces the hypothesis that both strategic timing and financial success play critical roles in maximizing award potential."
      ]
    },
    {
      "cell_type": "markdown",
      "source": [
        "Is there a significant linear relationship between 'Worldwide Gross' and 'Total_Awards_Won' for award-winning movies?"
      ],
      "metadata": {
        "id": "4TnnIrymI_u9"
      }
    },
    {
      "cell_type": "markdown",
      "source": [],
      "metadata": {
        "id": "2WIaGc09P4qy"
      }
    },
    {
      "cell_type": "code",
      "metadata": {
        "colab": {
          "base_uri": "https://localhost:8080/"
        },
        "id": "4adc995f",
        "outputId": "554d41c7-acbb-4539-bc0a-ebf609f2bc72"
      },
      "source": [
        "import statsmodels.api as sm\n",
        "import pandas as pd\n",
        "\n",
        "# Prepare data for regression - ensure no NaNs in the columns used\n",
        "regression_df = award_winning_movies_df[['Worldwide Gross', 'Total_Awards_Won']].dropna()\n",
        "\n",
        "y = regression_df['Total_Awards_Won']\n",
        "x = regression_df['Worldwide Gross']\n",
        "\n",
        "x = sm.add_constant(x)\n",
        "\n",
        "model = sm.OLS(y, x).fit()\n",
        "\n",
        "# Print just the R-squared value\n",
        "print(f\"R-squared: {model.rsquared:.3f}\")"
      ],
      "execution_count": null,
      "outputs": [
        {
          "output_type": "stream",
          "name": "stdout",
          "text": [
            "R-squared: 0.004\n"
          ]
        }
      ]
    },
    {
      "cell_type": "markdown",
      "source": [
        "This confirms the very weak linear relationship between Worldwide Gross and the total number of awards won among award-winning movies in this dataset."
      ],
      "metadata": {
        "id": "B5xwhgIkfTFN"
      }
    },
    {
      "cell_type": "code",
      "metadata": {
        "colab": {
          "base_uri": "https://localhost:8080/"
        },
        "id": "2bb00ee5",
        "outputId": "39bb14db-5377-453a-ab2f-68b3b3604536"
      },
      "source": [
        "import pandas as pd\n",
        "from sklearn.model_selection import train_test_split\n",
        "from sklearn.preprocessing import OneHotEncoder\n",
        "from sklearn.compose import ColumnTransformer\n",
        "from sklearn.pipeline import Pipeline\n",
        "import numpy as np\n",
        "\n",
        "# Define 'High Award' as winning at least one award (Total_Awards_Won > 0)\n",
        "final_df['Is_High_Award'] = (final_df['Total_Awards_Won'] > 0).astype(int) # Changed threshold to > 0\n",
        "\n",
        "print(\"Distribution of 'Is_High_Award':\")\n",
        "print(final_df['Is_High_Award'].value_counts())\n",
        "\n",
        "\n",
        "features = ['Release Season', 'Worldwide Gross']\n",
        "target = 'Is_High_Award'\n",
        "\n",
        "X = final_df[features].copy()\n",
        "y = final_df[target].copy()\n",
        "\n",
        "# Handle missing values in 'Worldwide Gross' - fill with median or mean\n",
        "# Using median to be less sensitive to outliers\n",
        "X['Worldwide Gross'].fillna(X['Worldwide Gross'].median(), inplace=True)\n",
        "\n",
        "\n",
        "# Handle Categorical Features (One-Hot Encoding for 'Release Season')\n",
        "\n",
        "preprocessor = ColumnTransformer(\n",
        "    transformers=[\n",
        "        ('onehot', OneHotEncoder(handle_unknown='ignore'), ['Release Season'])\n",
        "    ],\n",
        "    remainder='passthrough' # Keep other columns ('Worldwide Gross')\n",
        ")\n",
        "\n",
        "\n",
        "# Split the data into training and testing sets\n",
        "X_train, X_test, y_train, y_test = train_test_split(X, y, test_size=0.25, random_state=42, stratify=y)\n",
        "\n",
        "print(f\"\\nTraining data shape: {X_train.shape}\")\n",
        "print(f\"Testing data shape: {X_test.shape}\")\n",
        "print(f\"Target distribution in training set:\\n{y_train.value_counts(normalize=True)}\")\n",
        "print(f\"Target distribution in testing set:\\n{y_test.value_counts(normalize=True)}\")"
      ],
      "execution_count": null,
      "outputs": [
        {
          "output_type": "stream",
          "name": "stdout",
          "text": [
            "Distribution of 'Is_High_Award':\n",
            "Is_High_Award\n",
            "0    15864\n",
            "1      535\n",
            "Name: count, dtype: int64\n",
            "\n",
            "Training data shape: (12299, 2)\n",
            "Testing data shape: (4100, 2)\n",
            "Target distribution in training set:\n",
            "Is_High_Award\n",
            "0   1\n",
            "1   0\n",
            "Name: proportion, dtype: float64\n",
            "Target distribution in testing set:\n",
            "Is_High_Award\n",
            "0   1\n",
            "1   0\n",
            "Name: proportion, dtype: float64\n"
          ]
        },
        {
          "output_type": "stream",
          "name": "stderr",
          "text": [
            "<ipython-input-36-38776767c505>:26: FutureWarning: A value is trying to be set on a copy of a DataFrame or Series through chained assignment using an inplace method.\n",
            "The behavior will change in pandas 3.0. This inplace method will never work because the intermediate object on which we are setting values always behaves as a copy.\n",
            "\n",
            "For example, when doing 'df[col].method(value, inplace=True)', try using 'df.method({col: value}, inplace=True)' or df[col] = df[col].method(value) instead, to perform the operation inplace on the original object.\n",
            "\n",
            "\n",
            "  X['Worldwide Gross'].fillna(X['Worldwide Gross'].median(), inplace=True)\n"
          ]
        }
      ]
    },
    {
      "cell_type": "code",
      "metadata": {
        "colab": {
          "base_uri": "https://localhost:8080/"
        },
        "id": "1753d589",
        "outputId": "b8fcdd95-9ab2-4e7f-aa4b-d5de84d3a8c0"
      },
      "source": [
        "from sklearn.neighbors import KNeighborsClassifier\n",
        "from sklearn.pipeline import Pipeline\n",
        "from sklearn.preprocessing import StandardScaler\n",
        "from sklearn.compose import ColumnTransformer\n",
        "from sklearn.model_selection import train_test_split\n",
        "import pandas as pd\n",
        "import numpy as np\n",
        "\n",
        "# Re-define preprocessor to include scaling for numerical features\n",
        "# Identify numerical and categorical features\n",
        "categorical_features = ['Release Season']\n",
        "numerical_features = ['Worldwide Gross'] # Add Worldwide Gross as a numerical feature\n",
        "\n",
        "preprocessor = ColumnTransformer(\n",
        "    transformers=[\n",
        "        ('onehot', OneHotEncoder(handle_unknown='ignore'), categorical_features),\n",
        "        ('scaler', StandardScaler(), numerical_features) # Add StandardScaler for numerical features\n",
        "    ],\n",
        "    remainder='passthrough'\n",
        ")\n",
        "\n",
        "knn_model = KNeighborsClassifier(n_neighbors=5)\n",
        "\n",
        "pipeline = Pipeline(steps=[('preprocessor', preprocessor),\n",
        "                           ('classifier', knn_model)])\n",
        "\n",
        "# Train the model\n",
        "pipeline.fit(X_train, y_train)\n",
        "\n",
        "print(\"k-Nearest Neighbors model trained successfully!\")"
      ],
      "execution_count": null,
      "outputs": [
        {
          "output_type": "stream",
          "name": "stdout",
          "text": [
            "k-Nearest Neighbors model trained successfully!\n"
          ]
        }
      ]
    },
    {
      "cell_type": "code",
      "metadata": {
        "colab": {
          "base_uri": "https://localhost:8080/"
        },
        "id": "8078296d",
        "outputId": "9f7f8c06-fe1d-48b9-f4d2-40145ddbfde9"
      },
      "source": [
        "from sklearn.metrics import classification_report, confusion_matrix, accuracy_score\n",
        "\n",
        "# Make predictions on the test set\n",
        "y_pred = pipeline.predict(X_test)\n",
        "\n",
        "# Evaluate the model\n",
        "print(\"k-Nearest Neighbors Model Evaluation:\")\n",
        "print(\"\\nAccuracy:\", accuracy_score(y_test, y_pred))\n",
        "print(\"\\nConfusion Matrix:\\n\", confusion_matrix(y_test, y_pred))\n",
        "print(\"\\nClassification Report:\\n\", classification_report(y_test, y_pred))"
      ],
      "execution_count": null,
      "outputs": [
        {
          "output_type": "stream",
          "name": "stdout",
          "text": [
            "k-Nearest Neighbors Model Evaluation:\n",
            "\n",
            "Accuracy: 0.9748780487804878\n",
            "\n",
            "Confusion Matrix:\n",
            " [[3928   38]\n",
            " [  65   69]]\n",
            "\n",
            "Classification Report:\n",
            "               precision    recall  f1-score   support\n",
            "\n",
            "           0       0.98      0.99      0.99      3966\n",
            "           1       0.64      0.51      0.57       134\n",
            "\n",
            "    accuracy                           0.97      4100\n",
            "   macro avg       0.81      0.75      0.78      4100\n",
            "weighted avg       0.97      0.97      0.97      4100\n",
            "\n"
          ]
        }
      ]
    },
    {
      "cell_type": "markdown",
      "source": [
        "The model performs very well at identifying movies that are not High Award (class 0), which is expected given the large number of movies in this category.\n",
        "\n",
        "However, its performance on the minority class ('High Award', class 1) is less strong. It correctly identifies about 52% of the actual High Award movies (Recall), and when it predicts a movie is High Award, it's correct about 67% of the time (Precision). The F1-score of 0.59 provides a balanced view of its performance on the 'High Award' class.\n",
        "\n",
        "This suggests that while the model has some ability to identify movies likely to win a high number of awards based on release season and worldwide gross, there is room for improvement, especially in correctly identifying all the actual High Award movies."
      ],
      "metadata": {
        "id": "jDD2uYkXmX4K"
      }
    },
    {
      "cell_type": "code",
      "metadata": {
        "colab": {
          "base_uri": "https://localhost:8080/"
        },
        "id": "d0d34b41",
        "outputId": "cd6edc09-e5e6-42fd-db0b-3dfe3c66a455"
      },
      "source": [
        "from sklearn.tree import DecisionTreeClassifier\n",
        "from sklearn.pipeline import Pipeline\n",
        "from sklearn.preprocessing import StandardScaler, OneHotEncoder\n",
        "from sklearn.compose import ColumnTransformer\n",
        "from sklearn.model_selection import train_test_split\n",
        "from sklearn.metrics import classification_report, confusion_matrix, accuracy_score\n",
        "import pandas as pd\n",
        "import numpy as np\n",
        "\n",
        "categorical_features = ['Release Season']\n",
        "numerical_features = ['Worldwide Gross']\n",
        "\n",
        "preprocessor = ColumnTransformer(\n",
        "    transformers=[\n",
        "        ('onehot', OneHotEncoder(handle_unknown='ignore'), categorical_features),\n",
        "        ('scaler', StandardScaler(), numerical_features)\n",
        "    ],\n",
        "    remainder='passthrough'\n",
        ")\n",
        "\n",
        "\n",
        "# Define the Decision Tree model\n",
        "\n",
        "dt_model = DecisionTreeClassifier(random_state=42)\n",
        "\n",
        "pipeline_dt = Pipeline(steps=[('preprocessor', preprocessor),\n",
        "                              ('classifier', dt_model)])\n",
        "\n",
        "\n",
        "pipeline_dt.fit(X_train, y_train)\n",
        "\n",
        "print(\"Decision Tree Classifier model trained successfully!\")\n",
        "\n",
        "y_pred_dt = pipeline_dt.predict(X_test)\n",
        "\n",
        "print(\"\\nDecision Tree Classifier Model Evaluation:\")\n",
        "print(\"\\nAccuracy:\", accuracy_score(y_test, y_pred_dt))\n",
        "print(\"\\nConfusion Matrix:\\n\", confusion_matrix(y_test, y_pred_dt))\n",
        "print(\"\\nClassification Report:\\n\", classification_report(y_test, y_pred_dt))"
      ],
      "execution_count": null,
      "outputs": [
        {
          "output_type": "stream",
          "name": "stdout",
          "text": [
            "Decision Tree Classifier model trained successfully!\n",
            "\n",
            "Decision Tree Classifier Model Evaluation:\n",
            "\n",
            "Accuracy: 0.9809756097560975\n",
            "\n",
            "Confusion Matrix:\n",
            " [[3944   22]\n",
            " [  56   78]]\n",
            "\n",
            "Classification Report:\n",
            "               precision    recall  f1-score   support\n",
            "\n",
            "           0       0.99      0.99      0.99      3966\n",
            "           1       0.78      0.58      0.67       134\n",
            "\n",
            "    accuracy                           0.98      4100\n",
            "   macro avg       0.88      0.79      0.83      4100\n",
            "weighted avg       0.98      0.98      0.98      4100\n",
            "\n"
          ]
        }
      ]
    },
    {
      "cell_type": "markdown",
      "source": [
        "The Decision Tree Classifier shows slightly better performance on the minority class ('High Award') compared to the k-Nearest Neighbors model. It has higher precision, recall, and F1-score for class 1. This means it's better at identifying actual High Award movies and is more accurate when it predicts a movie will be High Award.\n",
        "\n",
        "While the performance on the minority class is improved, there are still a significant number of false negatives (movies that were High Award but predicted as Low Award - 52)."
      ],
      "metadata": {
        "id": "qIjXGalrmrN5"
      }
    },
    {
      "cell_type": "code",
      "metadata": {
        "colab": {
          "base_uri": "https://localhost:8080/"
        },
        "id": "31edc22f",
        "outputId": "7f34d1de-1738-4470-e2d4-bcde9b996b84"
      },
      "source": [
        "from sklearn.ensemble import RandomForestClassifier\n",
        "from sklearn.pipeline import Pipeline\n",
        "from sklearn.preprocessing import StandardScaler, OneHotEncoder\n",
        "from sklearn.compose import ColumnTransformer\n",
        "from sklearn.model_selection import train_test_split\n",
        "from sklearn.metrics import classification_report, confusion_matrix, accuracy_score\n",
        "import pandas as pd\n",
        "import numpy as np\n",
        "\n",
        "\n",
        "\n",
        "categorical_features = ['Release Season']\n",
        "numerical_features = ['Worldwide Gross']\n",
        "\n",
        "preprocessor = ColumnTransformer(\n",
        "    transformers=[\n",
        "        ('onehot', OneHotEncoder(handle_unknown='ignore'), categorical_features),\n",
        "        ('scaler', StandardScaler(), numerical_features)\n",
        "    ],\n",
        "    remainder='passthrough'\n",
        "\n",
        "rf_model = RandomForestClassifier(random_state=42, class_weight='balanced')\n",
        "\n",
        "\n",
        "pipeline_rf = Pipeline(steps=[('preprocessor', preprocessor),\n",
        "                               ('classifier', rf_model)])\n",
        "\n",
        "\n",
        "pipeline_rf.fit(X_train, y_train)\n",
        "\n",
        "print(\"Random Forest Classifier model (with class_weight='balanced') trained successfully!\")\n",
        "\n",
        "\n",
        "y_pred_rf = pipeline_rf.predict(X_test)\n",
        "\n",
        "\n",
        "print(\"\\nRandom Forest Classifier Model Evaluation (with class_weight='balanced'):\")\n",
        "print(\"\\nAccuracy:\", accuracy_score(y_test, y_pred_rf))\n",
        "print(\"\\nConfusion Matrix:\\n\", confusion_matrix(y_test, y_pred_rf))\n",
        "print(\"\\nClassification Report:\\n\", classification_report(y_test, y_pred_rf))"
      ],
      "execution_count": null,
      "outputs": [
        {
          "output_type": "stream",
          "name": "stdout",
          "text": [
            "Random Forest Classifier model (with class_weight='balanced') trained successfully!\n",
            "\n",
            "Random Forest Classifier Model Evaluation (with class_weight='balanced'):\n",
            "\n",
            "Accuracy: 0.9812195121951219\n",
            "\n",
            "Confusion Matrix:\n",
            " [[3946   20]\n",
            " [  57   77]]\n",
            "\n",
            "Classification Report:\n",
            "               precision    recall  f1-score   support\n",
            "\n",
            "           0       0.99      0.99      0.99      3966\n",
            "           1       0.79      0.57      0.67       134\n",
            "\n",
            "    accuracy                           0.98      4100\n",
            "   macro avg       0.89      0.78      0.83      4100\n",
            "weighted avg       0.98      0.98      0.98      4100\n",
            "\n"
          ]
        }
      ]
    },
    {
      "cell_type": "markdown",
      "source": [
        "The Random Forest Classifier performs quite similarly to the Decision Tree on the minority class ('High Award'), with slightly different trade-offs between precision and recall. Both the Decision Tree and Random Forest models show better performance on the minority class compared to the k-NN model, as indicated by their higher precision, recall, and F1-scores for class 1."
      ],
      "metadata": {
        "id": "nRYTaC4SnZZa"
      }
    }
  ],
  "metadata": {
    "colab": {
      "provenance": [],
      "include_colab_link": true
    },
    "kernelspec": {
      "display_name": "Python 3",
      "name": "python3"
    },
    "language_info": {
      "name": "python"
    }
  },
  "nbformat": 4,
  "nbformat_minor": 0
}